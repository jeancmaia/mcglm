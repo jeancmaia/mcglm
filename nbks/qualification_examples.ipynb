{
 "cells": [
  {
   "cell_type": "markdown",
   "metadata": {},
   "source": [
    "This notebook presents the MCGLM usage in two examples, both used for my Master's qualification."
   ]
  },
  {
   "cell_type": "markdown",
   "metadata": {},
   "source": [
    "The cell below describes a simple usage of mcglm, only for instilling sake."
   ]
  },
  {
   "cell_type": "markdown",
   "metadata": {},
   "source": [
    "```\n",
    "from mcglm import MCGLM, mc_id\n",
    "\n",
    "mcglm = MCGLM(   \n",
    "    endog=y,   \n",
    "    exog=X,   \n",
    "    z=[mc_id(X)],   \n",
    "    link='log',   \n",
    "    variance='tweedie'\n",
    "    power=2\n",
    ")   \n",
    "\n",
    "mcglmresults = mcglm.fit()\n",
    "mcglmresults.summary()\n",
    "\n",
    "# residual analysis\n",
    "plt.scatter(mcglmresults.mu, mcglmresults.pearson_residue)\n",
    "plt.xlabel('mu')\n",
    "plt.ylabel('pearson residue')\n",
    "```"
   ]
  },
  {
   "cell_type": "markdown",
   "metadata": {},
   "source": [
    "### First Example\n",
    " \n",
    "`Sleepstudy` is a study of sleep deprivation.\n",
    "https://www.rdocumentation.org/packages/lme4/versions/1.1-26/topics/sleepstudy\n",
    "\n",
    "The average reaction time per day for subjects in a sleep deprivation study. On day 0 the subjects had their normal amount of sleep. Starting that night they were restricted to 3 hours of sleep per night. The observations represent the average reaction time on a series of tests given each day to each subject.\n",
    "\n",
    "\n",
    "Gaussian Mixed Model is a good model for fitting this longitudinal data. MCGLM can mimic Gaussian Mixed Model, yet another specification."
   ]
  },
  {
   "cell_type": "code",
   "execution_count": 1,
   "metadata": {},
   "outputs": [],
   "source": [
    "import pandas as pd\n",
    "import matplotlib.pyplot as plt\n",
    "import seaborn as sns\n",
    "\n",
    "from mcglm import MCGLM, mc_mixed, mc_id\n",
    "from patsy import dmatrix\n",
    "\n",
    "\n",
    "plt.style.use('fivethirtyeight')"
   ]
  },
  {
   "cell_type": "code",
   "execution_count": 2,
   "metadata": {},
   "outputs": [
    {
     "data": {
      "text/html": [
       "<div>\n",
       "<style scoped>\n",
       "    .dataframe tbody tr th:only-of-type {\n",
       "        vertical-align: middle;\n",
       "    }\n",
       "\n",
       "    .dataframe tbody tr th {\n",
       "        vertical-align: top;\n",
       "    }\n",
       "\n",
       "    .dataframe thead th {\n",
       "        text-align: right;\n",
       "    }\n",
       "</style>\n",
       "<table border=\"1\" class=\"dataframe\">\n",
       "  <thead>\n",
       "    <tr style=\"text-align: right;\">\n",
       "      <th></th>\n",
       "      <th>Reaction</th>\n",
       "      <th>Days</th>\n",
       "      <th>Subject</th>\n",
       "    </tr>\n",
       "  </thead>\n",
       "  <tbody>\n",
       "    <tr>\n",
       "      <th>0</th>\n",
       "      <td>249.5600</td>\n",
       "      <td>0</td>\n",
       "      <td>308</td>\n",
       "    </tr>\n",
       "    <tr>\n",
       "      <th>1</th>\n",
       "      <td>258.7047</td>\n",
       "      <td>1</td>\n",
       "      <td>308</td>\n",
       "    </tr>\n",
       "    <tr>\n",
       "      <th>2</th>\n",
       "      <td>250.8006</td>\n",
       "      <td>2</td>\n",
       "      <td>308</td>\n",
       "    </tr>\n",
       "    <tr>\n",
       "      <th>3</th>\n",
       "      <td>321.4398</td>\n",
       "      <td>3</td>\n",
       "      <td>308</td>\n",
       "    </tr>\n",
       "    <tr>\n",
       "      <th>4</th>\n",
       "      <td>356.8519</td>\n",
       "      <td>4</td>\n",
       "      <td>308</td>\n",
       "    </tr>\n",
       "    <tr>\n",
       "      <th>5</th>\n",
       "      <td>414.6901</td>\n",
       "      <td>5</td>\n",
       "      <td>308</td>\n",
       "    </tr>\n",
       "    <tr>\n",
       "      <th>6</th>\n",
       "      <td>382.2038</td>\n",
       "      <td>6</td>\n",
       "      <td>308</td>\n",
       "    </tr>\n",
       "    <tr>\n",
       "      <th>7</th>\n",
       "      <td>290.1486</td>\n",
       "      <td>7</td>\n",
       "      <td>308</td>\n",
       "    </tr>\n",
       "    <tr>\n",
       "      <th>8</th>\n",
       "      <td>430.5853</td>\n",
       "      <td>8</td>\n",
       "      <td>308</td>\n",
       "    </tr>\n",
       "    <tr>\n",
       "      <th>9</th>\n",
       "      <td>466.3535</td>\n",
       "      <td>9</td>\n",
       "      <td>308</td>\n",
       "    </tr>\n",
       "  </tbody>\n",
       "</table>\n",
       "</div>"
      ],
      "text/plain": [
       "   Reaction  Days Subject\n",
       "0  249.5600     0     308\n",
       "1  258.7047     1     308\n",
       "2  250.8006     2     308\n",
       "3  321.4398     3     308\n",
       "4  356.8519     4     308\n",
       "5  414.6901     5     308\n",
       "6  382.2038     6     308\n",
       "7  290.1486     7     308\n",
       "8  430.5853     8     308\n",
       "9  466.3535     9     308"
      ]
     },
     "execution_count": 2,
     "metadata": {},
     "output_type": "execute_result"
    }
   ],
   "source": [
    "# Pulling the dataset\n",
    "sleepstudy = pd.read_csv('first_simulation/sleepstudy.csv', dtype={'Subject': 'str'})\n",
    "\n",
    "sleepstudy.head(10)"
   ]
  },
  {
   "cell_type": "code",
   "execution_count": 3,
   "metadata": {},
   "outputs": [
    {
     "data": {
      "text/html": [
       "<div>\n",
       "<style scoped>\n",
       "    .dataframe tbody tr th:only-of-type {\n",
       "        vertical-align: middle;\n",
       "    }\n",
       "\n",
       "    .dataframe tbody tr th {\n",
       "        vertical-align: top;\n",
       "    }\n",
       "\n",
       "    .dataframe thead th {\n",
       "        text-align: right;\n",
       "    }\n",
       "</style>\n",
       "<table border=\"1\" class=\"dataframe\">\n",
       "  <thead>\n",
       "    <tr style=\"text-align: right;\">\n",
       "      <th></th>\n",
       "      <th>Reaction</th>\n",
       "      <th>Days</th>\n",
       "    </tr>\n",
       "  </thead>\n",
       "  <tbody>\n",
       "    <tr>\n",
       "      <th>count</th>\n",
       "      <td>180.000000</td>\n",
       "      <td>180.000000</td>\n",
       "    </tr>\n",
       "    <tr>\n",
       "      <th>mean</th>\n",
       "      <td>298.507892</td>\n",
       "      <td>4.500000</td>\n",
       "    </tr>\n",
       "    <tr>\n",
       "      <th>std</th>\n",
       "      <td>56.328757</td>\n",
       "      <td>2.880293</td>\n",
       "    </tr>\n",
       "    <tr>\n",
       "      <th>min</th>\n",
       "      <td>194.332200</td>\n",
       "      <td>0.000000</td>\n",
       "    </tr>\n",
       "    <tr>\n",
       "      <th>25%</th>\n",
       "      <td>255.375825</td>\n",
       "      <td>2.000000</td>\n",
       "    </tr>\n",
       "    <tr>\n",
       "      <th>50%</th>\n",
       "      <td>288.650800</td>\n",
       "      <td>4.500000</td>\n",
       "    </tr>\n",
       "    <tr>\n",
       "      <th>75%</th>\n",
       "      <td>336.752075</td>\n",
       "      <td>7.000000</td>\n",
       "    </tr>\n",
       "    <tr>\n",
       "      <th>max</th>\n",
       "      <td>466.353500</td>\n",
       "      <td>9.000000</td>\n",
       "    </tr>\n",
       "  </tbody>\n",
       "</table>\n",
       "</div>"
      ],
      "text/plain": [
       "         Reaction        Days\n",
       "count  180.000000  180.000000\n",
       "mean   298.507892    4.500000\n",
       "std     56.328757    2.880293\n",
       "min    194.332200    0.000000\n",
       "25%    255.375825    2.000000\n",
       "50%    288.650800    4.500000\n",
       "75%    336.752075    7.000000\n",
       "max    466.353500    9.000000"
      ]
     },
     "execution_count": 3,
     "metadata": {},
     "output_type": "execute_result"
    }
   ],
   "source": [
    "sleepstudy.describe()"
   ]
  },
  {
   "cell_type": "code",
   "execution_count": 4,
   "metadata": {},
   "outputs": [
    {
     "data": {
      "text/plain": [
       "<matplotlib.legend.Legend at 0x7fdc486addc0>"
      ]
     },
     "execution_count": 4,
     "metadata": {},
     "output_type": "execute_result"
    },
    {
     "data": {
      "image/png": "[encoded data removed]",
      "text/plain": [
       "<Figure size 432x288 with 1 Axes>"
      ]
     },
     "metadata": {
      "needs_background": "light"
     },
     "output_type": "display_data"
    }
   ],
   "source": [
    "_ = sns.lineplot(x='Days', y='Reaction', hue='Subject', data=sleepstudy)\n",
    "plt.legend(bbox_to_anchor=(1.05, 1), loc=2, borderaxespad=0.)"
   ]
  },
  {
   "cell_type": "code",
   "execution_count": 5,
   "metadata": {},
   "outputs": [],
   "source": [
    "X = dmatrix('~ Days', sleepstudy, return_type=\"dataframe\")"
   ]
  },
  {
   "cell_type": "code",
   "execution_count": 6,
   "metadata": {},
   "outputs": [],
   "source": [
    "# Z specification\n",
    "Z = [mc_id(sleepstudy)] + mc_mixed(formula='~ 0 + Subject / Days', data = sleepstudy)"
   ]
  },
  {
   "cell_type": "code",
   "execution_count": 7,
   "metadata": {},
   "outputs": [],
   "source": [
    "# Model fitting\n",
    "mcglm = MCGLM(\n",
    "    endog=sleepstudy['Reaction'],\n",
    "    exog=X,\n",
    "    z=Z\n",
    ")\n",
    "\n",
    "mcglmresults = mcglm.fit()"
   ]
  },
  {
   "cell_type": "code",
   "execution_count": 8,
   "metadata": {},
   "outputs": [
    {
     "data": {
      "text/html": [
       "<table class=\"simpletable\">\n",
       "<caption>Multivariate Covariance Generalized Linear Model</caption>\n",
       "<tr>\n",
       "  <th>Dep. Variable:</th>     <td>Reaction</td>     <th>  No. Iterations:    </th>    <td>20</td>    \n",
       "</tr>\n",
       "<tr>\n",
       "  <th>Model:</th>               <td>MCGLM</td>      <th>  No. Observations:  </th>  <td>   180</td>  \n",
       "</tr>\n",
       "<tr>\n",
       "  <th>link:</th>              <td>identity</td>     <th>  Df Residuals:      </th>  <td>   178</td>  \n",
       "</tr>\n",
       "<tr>\n",
       "  <th>variance:</th>          <td>constant</td>     <th>  Df Model:          </th>  <td>     6</td>  \n",
       "</tr>\n",
       "<tr>\n",
       "  <th>Method:</th>        <td>Quasi-Likelihood</td> <th>  Power-fixed:       </th>   <td>True</td>   \n",
       "</tr>\n",
       "<tr>\n",
       "  <th>Date:</th>          <td>Sun, 26 Jun 2022</td> <th>  pAIC               </th>  <td>1583.94</td> \n",
       "</tr>\n",
       "<tr>\n",
       "  <th>Time:</th>              <td>18:44:37</td>     <th>  pBIC               </th>  <td>1603.1</td>  \n",
       "</tr>\n",
       "<tr>\n",
       "  <th> </th>                      <td> </td>        <th>  pLogLik            </th> <td>-785.9704</td>\n",
       "</tr>\n",
       "</table>\n",
       "<table class=\"simpletable\">\n",
       "<tr>\n",
       "      <td></td>         <th>coef</th>     <th>std err</th>      <th>z</th>      <th>P>|z|</th>  <th>[0.025</th>    <th>0.975]</th>  \n",
       "</tr>\n",
       "<tr>\n",
       "  <th>Intercept</th> <td>  251.4051</td> <td>    6.632</td> <td>   37.906</td> <td> 0.000</td> <td>  238.406</td> <td>  264.404</td>\n",
       "</tr>\n",
       "<tr>\n",
       "  <th>Days</th>      <td>   10.4673</td> <td>    1.502</td> <td>    6.968</td> <td> 0.000</td> <td>    7.523</td> <td>   13.412</td>\n",
       "</tr>\n",
       "</table>\n",
       "<table class=\"simpletable\">\n",
       "<tr>\n",
       "        <td></td>          <th>coef</th>     <th>std err</th>      <th>z</th>      <th>P>|z|</th>  <th>[0.025</th>    <th>0.975]</th>  \n",
       "</tr>\n",
       "<tr>\n",
       "  <th>dispersion_1</th> <td>  654.9420</td> <td>   70.624</td> <td>    9.274</td> <td> 0.000</td> <td>  516.521</td> <td>  793.363</td>\n",
       "</tr>\n",
       "<tr>\n",
       "  <th>dispersion_2</th> <td>  565.5150</td> <td>  264.679</td> <td>    2.137</td> <td> 0.033</td> <td>   46.753</td> <td> 1084.277</td>\n",
       "</tr>\n",
       "<tr>\n",
       "  <th>dispersion_3</th> <td>   32.6820</td> <td>   13.560</td> <td>    2.410</td> <td> 0.016</td> <td>    6.105</td> <td>   59.259</td>\n",
       "</tr>\n",
       "<tr>\n",
       "  <th>dispersion_4</th> <td>   11.0550</td> <td>   42.948</td> <td>    0.257</td> <td> 0.797</td> <td>  -73.121</td> <td>   95.231</td>\n",
       "</tr>\n",
       "</table>\n",
       "<table class=\"simpletable\">\n",
       "<tr>\n",
       "     <td></td>       <th>coef</th>     <th>std err</th>      <th>z</th>      <th>P>|z|</th>  <th>[0.025</th>    <th>0.975]</th>  \n",
       "</tr>\n",
       "<tr>\n",
       "  <th>power_</th> <td>    1.0000</td> <td>      nan</td> <td>      nan</td> <td>   nan</td> <td>      nan</td> <td>      nan</td>\n",
       "</tr>\n",
       "</table>"
      ],
      "text/plain": [
       "<class 'statsmodels.iolib.summary.Summary'>\n",
       "\"\"\"\n",
       "               Multivariate Covariance Generalized Linear Model               \n",
       "==============================================================================\n",
       "Dep. Variable:               Reaction   No. Iterations:                     20\n",
       "Model:                          MCGLM   No. Observations:                  180\n",
       "link:                        identity   Df Residuals:                      178\n",
       "variance:                    constant   Df Model:                            6\n",
       "Method:              Quasi-Likelihood   Power-fixed:                      True\n",
       "Date:                Sun, 26 Jun 2022   pAIC                           1583.94\n",
       "Time:                        18:44:37   pBIC                            1603.1\n",
       "                                        pLogLik                      -785.9704\n",
       "==============================================================================\n",
       "                 coef    std err          z      P>|z|      [0.025      0.975]\n",
       "------------------------------------------------------------------------------\n",
       "Intercept    251.4051      6.632     37.906      0.000     238.406     264.404\n",
       "Days          10.4673      1.502      6.968      0.000       7.523      13.412\n",
       "================================================================================\n",
       "                   coef    std err          z      P>|z|      [0.025      0.975]\n",
       "--------------------------------------------------------------------------------\n",
       "dispersion_1   654.9420     70.624      9.274      0.000     516.521     793.363\n",
       "dispersion_2   565.5150    264.679      2.137      0.033      46.753    1084.277\n",
       "dispersion_3    32.6820     13.560      2.410      0.016       6.105      59.259\n",
       "dispersion_4    11.0550     42.948      0.257      0.797     -73.121      95.231\n",
       "==============================================================================\n",
       "                 coef    std err          z      P>|z|      [0.025      0.975]\n",
       "------------------------------------------------------------------------------\n",
       "power_         1.0000        nan        nan        nan         nan         nan\n",
       "==============================================================================\n",
       "\"\"\""
      ]
     },
     "execution_count": 8,
     "metadata": {},
     "output_type": "execute_result"
    }
   ],
   "source": [
    "mcglmresults.summary()"
   ]
  },
  {
   "cell_type": "markdown",
   "metadata": {},
   "source": [
    "Report Analysis\n",
    "\n",
    "Straight off the bat with beta coefficients. Intercept set in 251.40 indicates the average response time at day 0. In addition, Days at 10.46 allude to total change to response time by unit changes on Days for subjects with random effects set to 0. Furthermore, by the results of wald test on Days, we might conclude a significant effect on response time throughout the days.  \n",
    "\n",
    "Dispersion parameters hold valuable information. The first dispersion parameter shows the random variance, meaning the whole variance, the second dispersion parameter is the variance of random intercept, the third is the variance of slope and the fourth is the correlation among the lines, that can be calculated through the formula = dispersion_4/(sqrt(dispersion_2) + sqrt(dispersion_3)). Cell below shows the pearson correlation result. "
   ]
  },
  {
   "cell_type": "code",
   "execution_count": 9,
   "metadata": {},
   "outputs": [
    {
     "data": {
      "text/plain": [
       "0.3746131416276374"
      ]
     },
     "execution_count": 9,
     "metadata": {},
     "output_type": "execute_result"
    }
   ],
   "source": [
    "import math \n",
    "\n",
    "11.05/(math.sqrt(565.51) + math.sqrt(32.68))"
   ]
  },
  {
   "cell_type": "code",
   "execution_count": 10,
   "metadata": {},
   "outputs": [
    {
     "data": {
      "text/plain": [
       "Text(0, 0.5, 'pearson residue')"
      ]
     },
     "execution_count": 10,
     "metadata": {},
     "output_type": "execute_result"
    },
    {
     "data": {
      "image/png": "[encoded data removed]",
      "text/plain": [
       "<Figure size 432x288 with 1 Axes>"
      ]
     },
     "metadata": {
      "needs_background": "light"
     },
     "output_type": "display_data"
    }
   ],
   "source": [
    "plt.scatter(mcglmresults.mu, mcglmresults.pearson_residue)\n",
    "plt.xlabel('mu')\n",
    "plt.ylabel('pearson residue')"
   ]
  },
  {
   "cell_type": "code",
   "execution_count": 20,
   "metadata": {},
   "outputs": [
    {
     "ename": "ValueError",
     "evalue": "shapes (75,75) and (180,180) not aligned: 75 (dim 1) != 180 (dim 0)",
     "output_type": "error",
     "traceback": [
      "\u001b[0;31m---------------------------------------------------------------------------\u001b[0m",
      "\u001b[0;31mValueError\u001b[0m                                Traceback (most recent call last)",
      "Input \u001b[0;32mIn [20]\u001b[0m, in \u001b[0;36m<cell line: 11>\u001b[0;34m()\u001b[0m\n\u001b[1;32m      1\u001b[0m \u001b[38;5;66;03m# Model fitting\u001b[39;00m\n\u001b[1;32m      2\u001b[0m mcglm \u001b[38;5;241m=\u001b[39m MCGLM(\n\u001b[1;32m      3\u001b[0m     endog\u001b[38;5;241m=\u001b[39msleepstudy[\u001b[38;5;124m\"\u001b[39m\u001b[38;5;124mReaction\u001b[39m\u001b[38;5;124m\"\u001b[39m],\n\u001b[1;32m      4\u001b[0m     exog\u001b[38;5;241m=\u001b[39mX,\n\u001b[0;32m   (...)\u001b[0m\n\u001b[1;32m      8\u001b[0m     power\u001b[38;5;241m=\u001b[39m\u001b[38;5;241m1.3\u001b[39m\n\u001b[1;32m      9\u001b[0m )\n\u001b[0;32m---> 11\u001b[0m mcglmresults \u001b[38;5;241m=\u001b[39m \u001b[43mmcglm\u001b[49m\u001b[38;5;241;43m.\u001b[39;49m\u001b[43mfit\u001b[49m\u001b[43m(\u001b[49m\u001b[43m)\u001b[49m\n",
      "File \u001b[0;32m~/dev/Github/mcglm/mcglm/mcglm.py:243\u001b[0m, in \u001b[0;36mMCGLM.fit\u001b[0;34m(self)\u001b[0m\n\u001b[1;32m    226\u001b[0m \u001b[38;5;28;01mdef\u001b[39;00m \u001b[38;5;21mfit\u001b[39m(\u001b[38;5;28mself\u001b[39m):\n\u001b[1;32m    227\u001b[0m     \u001b[38;5;124;03m\"\"\"The interface to run the inference for MCGLM statistical model.\"\"\"\u001b[39;00m\n\u001b[1;32m    228\u001b[0m     (\n\u001b[1;32m    229\u001b[0m         regression_historical,\n\u001b[1;32m    230\u001b[0m         dispersion_historical,\n\u001b[1;32m    231\u001b[0m         residue,\n\u001b[1;32m    232\u001b[0m         varcov,\n\u001b[1;32m    233\u001b[0m         joint_inv_sensitivity,\n\u001b[1;32m    234\u001b[0m         joint_variability,\n\u001b[1;32m    235\u001b[0m         n_iter,\n\u001b[1;32m    236\u001b[0m         mu,\n\u001b[1;32m    237\u001b[0m         rho,\n\u001b[1;32m    238\u001b[0m         tau,\n\u001b[1;32m    239\u001b[0m         power,\n\u001b[1;32m    240\u001b[0m         parameters_target,\n\u001b[1;32m    241\u001b[0m         c_inverse,\n\u001b[1;32m    242\u001b[0m         c_values,\n\u001b[0;32m--> 243\u001b[0m     ) \u001b[38;5;241m=\u001b[39m \u001b[38;5;28;43mself\u001b[39;49m\u001b[38;5;241;43m.\u001b[39;49m\u001b[43m_fit\u001b[49m\u001b[43m(\u001b[49m\u001b[43m)\u001b[49m\n\u001b[1;32m    245\u001b[0m     regression_parameters \u001b[38;5;241m=\u001b[39m regression_historical[\u001b[38;5;241m-\u001b[39m\u001b[38;5;241m1\u001b[39m]\n\u001b[1;32m    246\u001b[0m     dispersion_parameters \u001b[38;5;241m=\u001b[39m dispersion_historical[\u001b[38;5;241m-\u001b[39m\u001b[38;5;241m1\u001b[39m]\n",
      "File \u001b[0;32m~/dev/Github/mcglm/mcglm/mcglm.py:348\u001b[0m, in \u001b[0;36mMCGLM._fit\u001b[0;34m(self)\u001b[0m\n\u001b[1;32m    340\u001b[0m dispersion_historical\u001b[38;5;241m.\u001b[39mappend(dispersion)\n\u001b[1;32m    341\u001b[0m \u001b[38;5;28;01mfor\u001b[39;00m \u001b[38;5;28miter\u001b[39m \u001b[38;5;129;01min\u001b[39;00m \u001b[38;5;28mrange\u001b[39m(\u001b[38;5;28mself\u001b[39m\u001b[38;5;241m.\u001b[39m_max_iter):\n\u001b[1;32m    342\u001b[0m     \u001b[38;5;66;03m# First moment\u001b[39;00m\n\u001b[1;32m    343\u001b[0m     (\n\u001b[1;32m    344\u001b[0m         new_regression,\n\u001b[1;32m    345\u001b[0m         quasi_score,\n\u001b[1;32m    346\u001b[0m         mean_sensitivity,\n\u001b[1;32m    347\u001b[0m         mean_variability,\n\u001b[0;32m--> 348\u001b[0m     ) \u001b[38;5;241m=\u001b[39m \u001b[38;5;28;43mself\u001b[39;49m\u001b[38;5;241;43m.\u001b[39;49m\u001b[43mupdate_beta\u001b[49m\u001b[43m(\u001b[49m\u001b[43mregression\u001b[49m\u001b[43m,\u001b[49m\u001b[43m \u001b[49m\u001b[43mW\u001b[49m\u001b[43m,\u001b[49m\u001b[43m \u001b[49m\u001b[43mpower\u001b[49m\u001b[43m,\u001b[49m\u001b[43m \u001b[49m\u001b[43mrho\u001b[49m\u001b[43m,\u001b[49m\u001b[43m \u001b[49m\u001b[43mtau\u001b[49m\u001b[43m)\u001b[49m\n\u001b[1;32m    349\u001b[0m     regression_historical\u001b[38;5;241m.\u001b[39mappend(new_regression)\n\u001b[1;32m    351\u001b[0m     \u001b[38;5;66;03m# Second moment\u001b[39;00m\n",
      "File \u001b[0;32m~/dev/Github/mcglm/mcglm/mcglmmean.py:93\u001b[0m, in \u001b[0;36mMCGLMMean.update_beta\u001b[0;34m(self, beta, W, power, rho, tau)\u001b[0m\n\u001b[1;32m     87\u001b[0m \u001b[38;5;124;03m\"\"\"\u001b[39;00m\n\u001b[1;32m     88\u001b[0m \u001b[38;5;124;03mupdate_beta takes current beta, calculates quasi-likelihood estimation and returns the next beta.\u001b[39;00m\n\u001b[1;32m     89\u001b[0m \u001b[38;5;124;03m\"\"\"\u001b[39;00m\n\u001b[1;32m     90\u001b[0m mu_attributes, mu, derivative_mu \u001b[38;5;241m=\u001b[39m \u001b[38;5;28mself\u001b[39m\u001b[38;5;241m.\u001b[39mcalculate_mean_features(\n\u001b[1;32m     91\u001b[0m     \u001b[38;5;28mself\u001b[39m\u001b[38;5;241m.\u001b[39m_link, beta, \u001b[38;5;28mself\u001b[39m\u001b[38;5;241m.\u001b[39m_X, \u001b[38;5;28mself\u001b[39m\u001b[38;5;241m.\u001b[39m_offset\n\u001b[1;32m     92\u001b[0m )\n\u001b[0;32m---> 93\u001b[0m c_inverse \u001b[38;5;241m=\u001b[39m \u001b[38;5;28;43mself\u001b[39;49m\u001b[38;5;241;43m.\u001b[39;49m\u001b[43mc_inverse\u001b[49m\u001b[43m(\u001b[49m\u001b[43mmu_attributes\u001b[49m\u001b[43m,\u001b[49m\u001b[43m \u001b[49m\u001b[43mpower\u001b[49m\u001b[43m,\u001b[49m\u001b[43m \u001b[49m\u001b[43mrho\u001b[49m\u001b[43m,\u001b[49m\u001b[43m \u001b[49m\u001b[43mtau\u001b[49m\u001b[43m)\u001b[49m\n\u001b[1;32m     95\u001b[0m score, sensitivity, variability \u001b[38;5;241m=\u001b[39m \u001b[38;5;28mself\u001b[39m\u001b[38;5;241m.\u001b[39m__quasi_score(\n\u001b[1;32m     96\u001b[0m     derivative_mu, c_inverse, \u001b[38;5;28mself\u001b[39m\u001b[38;5;241m.\u001b[39m_y_values, mu, W\n\u001b[1;32m     97\u001b[0m )\n\u001b[1;32m     98\u001b[0m new_beta \u001b[38;5;241m=\u001b[39m \u001b[38;5;28mself\u001b[39m\u001b[38;5;241m.\u001b[39m__update_fisher_score(sensitivity, score, beta)\n",
      "File \u001b[0;32m~/dev/Github/mcglm/mcglm/mcglmcattr.py:36\u001b[0m, in \u001b[0;36mMCGLMCAttributes.c_inverse\u001b[0;34m(self, mu, power, rho, tau, full_response)\u001b[0m\n\u001b[1;32m     26\u001b[0m \u001b[38;5;28;01mdef\u001b[39;00m \u001b[38;5;21mc_inverse\u001b[39m(\u001b[38;5;28mself\u001b[39m, mu, power, rho, tau, full_response\u001b[38;5;241m=\u001b[39m\u001b[38;5;28;01mFalse\u001b[39;00m):\n\u001b[1;32m     27\u001b[0m     \u001b[38;5;124;03m\"\"\"\u001b[39;00m\n\u001b[1;32m     28\u001b[0m \u001b[38;5;124;03m    A protected method to calculate inverse of C matrix, made specifically for quasi likelihood step. This method interacts with sigma and omega methods, passing the list of each parameter.\u001b[39;00m\n\u001b[1;32m     29\u001b[0m \n\u001b[0;32m   (...)\u001b[0m\n\u001b[1;32m     34\u001b[0m \n\u001b[1;32m     35\u001b[0m \u001b[38;5;124;03m    \"\"\"\u001b[39;00m\n\u001b[0;32m---> 36\u001b[0m     c_inverse \u001b[38;5;241m=\u001b[39m \u001b[38;5;28;43mself\u001b[39;49m\u001b[38;5;241;43m.\u001b[39;49m\u001b[43m__generate_c_inverse\u001b[49m\u001b[43m(\u001b[49m\u001b[43mmu\u001b[49m\u001b[43m,\u001b[49m\u001b[43m \u001b[49m\u001b[43mpower\u001b[49m\u001b[43m,\u001b[49m\u001b[43m \u001b[49m\u001b[43mrho\u001b[49m\u001b[43m,\u001b[49m\u001b[43m \u001b[49m\u001b[43mtau\u001b[49m\u001b[43m,\u001b[49m\u001b[43m \u001b[49m\u001b[43mfull_response\u001b[49m\u001b[43m)\u001b[49m\n\u001b[1;32m     37\u001b[0m     \u001b[38;5;28;01mreturn\u001b[39;00m c_inverse\n",
      "File \u001b[0;32m~/dev/Github/mcglm/mcglm/mcglmcattr.py:95\u001b[0m, in \u001b[0;36mMCGLMCAttributes.__generate_c_inverse\u001b[0;34m(self, mu, power, rho, tau, full_response)\u001b[0m\n\u001b[1;32m     86\u001b[0m omega \u001b[38;5;241m=\u001b[39m \u001b[38;5;28mself\u001b[39m\u001b[38;5;241m.\u001b[39m_generate_omega(tau)\n\u001b[1;32m     87\u001b[0m build_sigma \u001b[38;5;241m=\u001b[39m \u001b[38;5;28mmap\u001b[39m(\n\u001b[1;32m     88\u001b[0m     \u001b[38;5;28mself\u001b[39m\u001b[38;5;241m.\u001b[39m_calculate_sigma,\n\u001b[1;32m     89\u001b[0m     mu,\n\u001b[0;32m   (...)\u001b[0m\n\u001b[1;32m     93\u001b[0m     \u001b[38;5;28mself\u001b[39m\u001b[38;5;241m.\u001b[39m_ntrial,\n\u001b[1;32m     94\u001b[0m )\n\u001b[0;32m---> 95\u001b[0m sigma_raw, sigma_chol, sigma_chol_inv \u001b[38;5;241m=\u001b[39m \u001b[38;5;28;43mself\u001b[39;49m\u001b[38;5;241;43m.\u001b[39;49m\u001b[43m__parser_sigma\u001b[49m\u001b[43m(\u001b[49m\u001b[43mbuild_sigma\u001b[49m\u001b[43m)\u001b[49m\n\u001b[1;32m     96\u001b[0m sigma_between, sigma_between_derivative \u001b[38;5;241m=\u001b[39m \u001b[38;5;28mself\u001b[39m\u001b[38;5;241m.\u001b[39m_sigma_between_values(\n\u001b[1;32m     97\u001b[0m     rho\u001b[38;5;241m=\u001b[39mrho, n_resp\u001b[38;5;241m=\u001b[39m\u001b[38;5;28mself\u001b[39m\u001b[38;5;241m.\u001b[39m_n_targets\n\u001b[1;32m     98\u001b[0m )\n\u001b[1;32m     99\u001b[0m raw_c_components \u001b[38;5;241m=\u001b[39m \u001b[38;5;28mself\u001b[39m\u001b[38;5;241m.\u001b[39m__generate_c_inverse_and_blocks(\n\u001b[1;32m    100\u001b[0m     sigma_chol, sigma_chol_inv, sigma_between, diagonal_matrix\n\u001b[1;32m    101\u001b[0m )\n",
      "File \u001b[0;32m~/dev/Github/mcglm/mcglm/mcglmcattr.py:628\u001b[0m, in \u001b[0;36mMCGLMCAttributes.__parser_sigma\u001b[0;34m(self, build_sigma_map)\u001b[0m\n\u001b[1;32m    623\u001b[0m \u001b[38;5;28;01mdef\u001b[39;00m \u001b[38;5;21m__parser_sigma\u001b[39m(\u001b[38;5;28mself\u001b[39m, build_sigma_map):\n\u001b[1;32m    624\u001b[0m     \u001b[38;5;124;03m\"\"\"parser method for _calculate_sigma output attributes\u001b[39;00m\n\u001b[1;32m    625\u001b[0m \u001b[38;5;124;03m    Args:\u001b[39;00m\n\u001b[1;32m    626\u001b[0m \u001b[38;5;124;03m        build_sigma_map (list): a list with dicts, with sigmas\u001b[39;00m\n\u001b[1;32m    627\u001b[0m \u001b[38;5;124;03m    \"\"\"\u001b[39;00m\n\u001b[0;32m--> 628\u001b[0m     list_sigmas \u001b[38;5;241m=\u001b[39m [\n\u001b[1;32m    629\u001b[0m         [\n\u001b[1;32m    630\u001b[0m             build_sigma_iteration\u001b[38;5;241m.\u001b[39mget(\u001b[38;5;124m\"\u001b[39m\u001b[38;5;124msigma_raw\u001b[39m\u001b[38;5;124m\"\u001b[39m),\n\u001b[1;32m    631\u001b[0m             build_sigma_iteration\u001b[38;5;241m.\u001b[39mget(\u001b[38;5;124m\"\u001b[39m\u001b[38;5;124msigma_chol\u001b[39m\u001b[38;5;124m\"\u001b[39m),\n\u001b[1;32m    632\u001b[0m             build_sigma_iteration\u001b[38;5;241m.\u001b[39mget(\u001b[38;5;124m\"\u001b[39m\u001b[38;5;124msigma_chol_inv\u001b[39m\u001b[38;5;124m\"\u001b[39m),\n\u001b[1;32m    633\u001b[0m         ]\n\u001b[1;32m    634\u001b[0m         \u001b[38;5;28;01mfor\u001b[39;00m build_sigma_iteration \u001b[38;5;129;01min\u001b[39;00m build_sigma_map\n\u001b[1;32m    635\u001b[0m     ]\n\u001b[1;32m    637\u001b[0m     sigma_raw \u001b[38;5;241m=\u001b[39m [sigmas[\u001b[38;5;241m0\u001b[39m] \u001b[38;5;28;01mfor\u001b[39;00m sigmas \u001b[38;5;129;01min\u001b[39;00m list_sigmas]\n\u001b[1;32m    638\u001b[0m     sigma_chol \u001b[38;5;241m=\u001b[39m [sigmas[\u001b[38;5;241m1\u001b[39m] \u001b[38;5;28;01mfor\u001b[39;00m sigmas \u001b[38;5;129;01min\u001b[39;00m list_sigmas]\n",
      "File \u001b[0;32m~/dev/Github/mcglm/mcglm/mcglmcattr.py:628\u001b[0m, in \u001b[0;36m<listcomp>\u001b[0;34m(.0)\u001b[0m\n\u001b[1;32m    623\u001b[0m \u001b[38;5;28;01mdef\u001b[39;00m \u001b[38;5;21m__parser_sigma\u001b[39m(\u001b[38;5;28mself\u001b[39m, build_sigma_map):\n\u001b[1;32m    624\u001b[0m     \u001b[38;5;124;03m\"\"\"parser method for _calculate_sigma output attributes\u001b[39;00m\n\u001b[1;32m    625\u001b[0m \u001b[38;5;124;03m    Args:\u001b[39;00m\n\u001b[1;32m    626\u001b[0m \u001b[38;5;124;03m        build_sigma_map (list): a list with dicts, with sigmas\u001b[39;00m\n\u001b[1;32m    627\u001b[0m \u001b[38;5;124;03m    \"\"\"\u001b[39;00m\n\u001b[0;32m--> 628\u001b[0m     list_sigmas \u001b[38;5;241m=\u001b[39m [\n\u001b[1;32m    629\u001b[0m         [\n\u001b[1;32m    630\u001b[0m             build_sigma_iteration\u001b[38;5;241m.\u001b[39mget(\u001b[38;5;124m\"\u001b[39m\u001b[38;5;124msigma_raw\u001b[39m\u001b[38;5;124m\"\u001b[39m),\n\u001b[1;32m    631\u001b[0m             build_sigma_iteration\u001b[38;5;241m.\u001b[39mget(\u001b[38;5;124m\"\u001b[39m\u001b[38;5;124msigma_chol\u001b[39m\u001b[38;5;124m\"\u001b[39m),\n\u001b[1;32m    632\u001b[0m             build_sigma_iteration\u001b[38;5;241m.\u001b[39mget(\u001b[38;5;124m\"\u001b[39m\u001b[38;5;124msigma_chol_inv\u001b[39m\u001b[38;5;124m\"\u001b[39m),\n\u001b[1;32m    633\u001b[0m         ]\n\u001b[1;32m    634\u001b[0m         \u001b[38;5;28;01mfor\u001b[39;00m build_sigma_iteration \u001b[38;5;129;01min\u001b[39;00m build_sigma_map\n\u001b[1;32m    635\u001b[0m     ]\n\u001b[1;32m    637\u001b[0m     sigma_raw \u001b[38;5;241m=\u001b[39m [sigmas[\u001b[38;5;241m0\u001b[39m] \u001b[38;5;28;01mfor\u001b[39;00m sigmas \u001b[38;5;129;01min\u001b[39;00m list_sigmas]\n\u001b[1;32m    638\u001b[0m     sigma_chol \u001b[38;5;241m=\u001b[39m [sigmas[\u001b[38;5;241m1\u001b[39m] \u001b[38;5;28;01mfor\u001b[39;00m sigmas \u001b[38;5;129;01min\u001b[39;00m list_sigmas]\n",
      "File \u001b[0;32m~/dev/Github/mcglm/mcglm/mcglmcattr.py:331\u001b[0m, in \u001b[0;36mMCGLMCAttributes._calculate_sigma\u001b[0;34m(self, mu, power, omega, variance, Ntrial, covariance)\u001b[0m\n\u001b[1;32m    326\u001b[0m     variance \u001b[38;5;241m=\u001b[39m \u001b[38;5;124m\"\u001b[39m\u001b[38;5;124mpower\u001b[39m\u001b[38;5;124m\"\u001b[39m\n\u001b[1;32m    328\u001b[0m variance_components \u001b[38;5;241m=\u001b[39m \u001b[38;5;28mself\u001b[39m\u001b[38;5;241m.\u001b[39m__generate_variance(\n\u001b[1;32m    329\u001b[0m     variance_type\u001b[38;5;241m=\u001b[39mvariance, mu\u001b[38;5;241m=\u001b[39mmu\u001b[38;5;241m.\u001b[39mget(\u001b[38;5;124m\"\u001b[39m\u001b[38;5;124mmu\u001b[39m\u001b[38;5;124m\"\u001b[39m), power\u001b[38;5;241m=\u001b[39mpower, Ntrial\u001b[38;5;241m=\u001b[39mNtrial\n\u001b[1;32m    330\u001b[0m )\n\u001b[0;32m--> 331\u001b[0m sigma_raw \u001b[38;5;241m=\u001b[39m \u001b[43mmc_sandwich\u001b[49m\u001b[43m(\u001b[49m\n\u001b[1;32m    332\u001b[0m \u001b[43m    \u001b[49m\u001b[43momega\u001b[49m\u001b[43m,\u001b[49m\n\u001b[1;32m    333\u001b[0m \u001b[43m    \u001b[49m\u001b[43mvariance_components\u001b[49m\u001b[38;5;241;43m.\u001b[39;49m\u001b[43mget\u001b[49m\u001b[43m(\u001b[49m\u001b[38;5;124;43m\"\u001b[39;49m\u001b[38;5;124;43mvariance_sqrt_output\u001b[39;49m\u001b[38;5;124;43m\"\u001b[39;49m\u001b[43m)\u001b[49m\u001b[43m,\u001b[49m\n\u001b[1;32m    334\u001b[0m \u001b[43m    \u001b[49m\u001b[43mvariance_components\u001b[49m\u001b[38;5;241;43m.\u001b[39;49m\u001b[43mget\u001b[49m\u001b[43m(\u001b[49m\u001b[38;5;124;43m\"\u001b[39;49m\u001b[38;5;124;43mvariance_sqrt_output\u001b[39;49m\u001b[38;5;124;43m\"\u001b[39;49m\u001b[43m)\u001b[49m\u001b[43m,\u001b[49m\n\u001b[1;32m    335\u001b[0m \u001b[43m\u001b[49m\u001b[43m)\u001b[49m\n\u001b[1;32m    336\u001b[0m sigma_chol \u001b[38;5;241m=\u001b[39m cholesky(sigma_raw)\u001b[38;5;241m.\u001b[39mT\n\u001b[1;32m    337\u001b[0m sigma_chol_inv \u001b[38;5;241m=\u001b[39m inv(sigma_chol)\n",
      "File \u001b[0;32m~/dev/Github/mcglm/mcglm/utils.py:12\u001b[0m, in \u001b[0;36mmc_sandwich\u001b[0;34m(central_matrix, left_matrix, right_matrix)\u001b[0m\n\u001b[1;32m     11\u001b[0m \u001b[38;5;28;01mdef\u001b[39;00m \u001b[38;5;21mmc_sandwich\u001b[39m(central_matrix, left_matrix, right_matrix):\n\u001b[0;32m---> 12\u001b[0m     \u001b[38;5;28;01mreturn\u001b[39;00m np\u001b[38;5;241m.\u001b[39mdot(\u001b[43mnp\u001b[49m\u001b[38;5;241;43m.\u001b[39;49m\u001b[43mdot\u001b[49m\u001b[43m(\u001b[49m\u001b[43mleft_matrix\u001b[49m\u001b[43m,\u001b[49m\u001b[43m \u001b[49m\u001b[43mcentral_matrix\u001b[49m\u001b[43m)\u001b[49m, right_matrix)\n",
      "File \u001b[0;32m<__array_function__ internals>:5\u001b[0m, in \u001b[0;36mdot\u001b[0;34m(*args, **kwargs)\u001b[0m\n",
      "\u001b[0;31mValueError\u001b[0m: shapes (75,75) and (180,180) not aligned: 75 (dim 1) != 180 (dim 0)"
     ]
    }
   ],
   "source": [
    "# Model fitting\n",
    "mcglm = MCGLM(\n",
    "    endog=sleepstudy[\"Reaction\"],\n",
    "    exog=X,\n",
    "    z=Z,\n",
    "    link=\"log\",\n",
    "    variance=\"tweedie\",\n",
    "    power=1.3\n",
    ")\n",
    "\n",
    "mcglmresults = mcglm.fit()"
   ]
  },
  {
   "cell_type": "code",
   "execution_count": 12,
   "metadata": {},
   "outputs": [
    {
     "data": {
      "text/html": [
       "<table class=\"simpletable\">\n",
       "<caption>Multivariate Covariance Generalized Linear Model</caption>\n",
       "<tr>\n",
       "  <th>Dep. Variable:</th>     <td>Reaction</td>     <th>  No. Iterations:    </th>    <td>12</td>    \n",
       "</tr>\n",
       "<tr>\n",
       "  <th>Model:</th>               <td>MCGLM</td>      <th>  No. Observations:  </th>  <td>   180</td>  \n",
       "</tr>\n",
       "<tr>\n",
       "  <th>link:</th>                 <td>log</td>       <th>  Df Residuals:      </th>  <td>   178</td>  \n",
       "</tr>\n",
       "<tr>\n",
       "  <th>variance:</th>           <td>tweedie</td>     <th>  Df Model:          </th>  <td>     6</td>  \n",
       "</tr>\n",
       "<tr>\n",
       "  <th>Method:</th>        <td>Quasi-Likelihood</td> <th>  Power-fixed:       </th>   <td>True</td>   \n",
       "</tr>\n",
       "<tr>\n",
       "  <th>Date:</th>          <td>Sun, 26 Jun 2022</td> <th>  pAIC               </th>  <td>1578.32</td> \n",
       "</tr>\n",
       "<tr>\n",
       "  <th>Time:</th>              <td>18:44:42</td>     <th>  pBIC               </th>  <td>1597.48</td> \n",
       "</tr>\n",
       "<tr>\n",
       "  <th> </th>                      <td> </td>        <th>  pLogLik            </th> <td>-783.1592</td>\n",
       "</tr>\n",
       "</table>\n",
       "<table class=\"simpletable\">\n",
       "<tr>\n",
       "      <td></td>         <th>coef</th>     <th>std err</th>      <th>z</th>      <th>P>|z|</th>  <th>[0.025</th>    <th>0.975]</th>  \n",
       "</tr>\n",
       "<tr>\n",
       "  <th>Intercept</th> <td>    5.5357</td> <td>    0.026</td> <td>  215.664</td> <td> 0.000</td> <td>    5.485</td> <td>    5.586</td>\n",
       "</tr>\n",
       "<tr>\n",
       "  <th>Days</th>      <td>    0.0353</td> <td>    0.004</td> <td>    7.926</td> <td> 0.000</td> <td>    0.027</td> <td>    0.044</td>\n",
       "</tr>\n",
       "</table>\n",
       "<table class=\"simpletable\">\n",
       "<tr>\n",
       "        <td></td>          <th>coef</th>     <th>std err</th>      <th>z</th>      <th>P>|z|</th>  <th>[0.025</th>    <th>0.975]</th>  \n",
       "</tr>\n",
       "<tr>\n",
       "  <th>dispersion_1</th> <td>    0.6780</td> <td>    0.071</td> <td>    9.497</td> <td> 0.000</td> <td>    0.538</td> <td>    0.818</td>\n",
       "</tr>\n",
       "<tr>\n",
       "  <th>dispersion_2</th> <td>    0.7730</td> <td>    0.336</td> <td>    2.298</td> <td> 0.022</td> <td>    0.114</td> <td>    1.432</td>\n",
       "</tr>\n",
       "<tr>\n",
       "  <th>dispersion_3</th> <td>    0.0290</td> <td>    0.013</td> <td>    2.317</td> <td> 0.021</td> <td>    0.004</td> <td>    0.054</td>\n",
       "</tr>\n",
       "<tr>\n",
       "  <th>dispersion_4</th> <td>    0.0010</td> <td>    0.047</td> <td>    0.021</td> <td> 0.983</td> <td>   -0.091</td> <td>    0.093</td>\n",
       "</tr>\n",
       "</table>\n",
       "<table class=\"simpletable\">\n",
       "<tr>\n",
       "     <td></td>       <th>coef</th>     <th>std err</th>      <th>z</th>      <th>P>|z|</th>  <th>[0.025</th>    <th>0.975]</th>  \n",
       "</tr>\n",
       "<tr>\n",
       "  <th>power_</th> <td>    1.2000</td> <td>      nan</td> <td>      nan</td> <td>   nan</td> <td>      nan</td> <td>      nan</td>\n",
       "</tr>\n",
       "</table>"
      ],
      "text/plain": [
       "<class 'statsmodels.iolib.summary.Summary'>\n",
       "\"\"\"\n",
       "               Multivariate Covariance Generalized Linear Model               \n",
       "==============================================================================\n",
       "Dep. Variable:               Reaction   No. Iterations:                     12\n",
       "Model:                          MCGLM   No. Observations:                  180\n",
       "link:                             log   Df Residuals:                      178\n",
       "variance:                     tweedie   Df Model:                            6\n",
       "Method:              Quasi-Likelihood   Power-fixed:                      True\n",
       "Date:                Sun, 26 Jun 2022   pAIC                           1578.32\n",
       "Time:                        18:44:42   pBIC                           1597.48\n",
       "                                        pLogLik                      -783.1592\n",
       "==============================================================================\n",
       "                 coef    std err          z      P>|z|      [0.025      0.975]\n",
       "------------------------------------------------------------------------------\n",
       "Intercept      5.5357      0.026    215.664      0.000       5.485       5.586\n",
       "Days           0.0353      0.004      7.926      0.000       0.027       0.044\n",
       "================================================================================\n",
       "                   coef    std err          z      P>|z|      [0.025      0.975]\n",
       "--------------------------------------------------------------------------------\n",
       "dispersion_1     0.6780      0.071      9.497      0.000       0.538       0.818\n",
       "dispersion_2     0.7730      0.336      2.298      0.022       0.114       1.432\n",
       "dispersion_3     0.0290      0.013      2.317      0.021       0.004       0.054\n",
       "dispersion_4     0.0010      0.047      0.021      0.983      -0.091       0.093\n",
       "==============================================================================\n",
       "                 coef    std err          z      P>|z|      [0.025      0.975]\n",
       "------------------------------------------------------------------------------\n",
       "power_         1.2000        nan        nan        nan         nan         nan\n",
       "==============================================================================\n",
       "\"\"\""
      ]
     },
     "execution_count": 12,
     "metadata": {},
     "output_type": "execute_result"
    }
   ],
   "source": [
    "mcglmresults.summary()"
   ]
  },
  {
   "cell_type": "code",
   "execution_count": 13,
   "metadata": {},
   "outputs": [
    {
     "data": {
      "text/plain": [
       "Text(0, 0.5, 'pearson residual')"
      ]
     },
     "execution_count": 13,
     "metadata": {},
     "output_type": "execute_result"
    },
    {
     "data": {
      "image/png": "[encoded data removed]",
      "text/plain": [
       "<Figure size 432x288 with 1 Axes>"
      ]
     },
     "metadata": {
      "needs_background": "light"
     },
     "output_type": "display_data"
    }
   ],
   "source": [
    "plt.scatter(mcglmresults.mu, mcglmresults.pearson_residue)\n",
    "plt.xlabel('mu')\n",
    "plt.ylabel('pearson residual')"
   ]
  },
  {
   "cell_type": "markdown",
   "metadata": {},
   "source": [
    "### Second Example\n",
    " \n",
    "`Soya` is a dataset that stores an experiment of Universidade Federal da Grande Dourados in Dourados, Mato Grosso do Sul, Brazil. Description:    \n",
    "https://github.com/walmes/wzRfun/blob/master/R/wzRfun.R#L10   \n",
    "http://ccarevista.ufc.br/seer/index.php/ccarevista/article/view/1454  \n",
    "\n",
    "The experiment collected data about different treatments of potassium, water and blocks for soil farming. The pivotal traits to be studied are: grain size, total seeds and viable peas. In the following, MCGLM was used to fit into this data that has three unique kinds of answers: continuous, count and binomial."
   ]
  },
  {
   "cell_type": "code",
   "execution_count": 14,
   "metadata": {},
   "outputs": [],
   "source": [
    "soya = pd.read_csv('fourth_simulation/soya.csv', dtype={'block': 'str', 'water':'str', 'pot':'str'})\n",
    "\n",
    "soya['viablepeasP'] = soya['viablepeas'] / soya['totalpeas']"
   ]
  },
  {
   "cell_type": "code",
   "execution_count": 15,
   "metadata": {},
   "outputs": [
    {
     "data": {
      "text/html": [
       "<div>\n",
       "<style scoped>\n",
       "    .dataframe tbody tr th:only-of-type {\n",
       "        vertical-align: middle;\n",
       "    }\n",
       "\n",
       "    .dataframe tbody tr th {\n",
       "        vertical-align: top;\n",
       "    }\n",
       "\n",
       "    .dataframe thead th {\n",
       "        text-align: right;\n",
       "    }\n",
       "</style>\n",
       "<table border=\"1\" class=\"dataframe\">\n",
       "  <thead>\n",
       "    <tr style=\"text-align: right;\">\n",
       "      <th></th>\n",
       "      <th>pot</th>\n",
       "      <th>water</th>\n",
       "      <th>block</th>\n",
       "      <th>grain</th>\n",
       "      <th>seeds</th>\n",
       "      <th>viablepeas</th>\n",
       "      <th>totalpeas</th>\n",
       "      <th>viablepeasP</th>\n",
       "    </tr>\n",
       "  </thead>\n",
       "  <tbody>\n",
       "    <tr>\n",
       "      <th>0</th>\n",
       "      <td>0</td>\n",
       "      <td>37.5</td>\n",
       "      <td>I</td>\n",
       "      <td>14.55</td>\n",
       "      <td>136</td>\n",
       "      <td>22</td>\n",
       "      <td>56</td>\n",
       "      <td>0.392857</td>\n",
       "    </tr>\n",
       "    <tr>\n",
       "      <th>1</th>\n",
       "      <td>30</td>\n",
       "      <td>37.5</td>\n",
       "      <td>I</td>\n",
       "      <td>21.51</td>\n",
       "      <td>159</td>\n",
       "      <td>2</td>\n",
       "      <td>62</td>\n",
       "      <td>0.032258</td>\n",
       "    </tr>\n",
       "    <tr>\n",
       "      <th>2</th>\n",
       "      <td>60</td>\n",
       "      <td>37.5</td>\n",
       "      <td>I</td>\n",
       "      <td>24.62</td>\n",
       "      <td>156</td>\n",
       "      <td>0</td>\n",
       "      <td>66</td>\n",
       "      <td>0.000000</td>\n",
       "    </tr>\n",
       "    <tr>\n",
       "      <th>3</th>\n",
       "      <td>120</td>\n",
       "      <td>37.5</td>\n",
       "      <td>I</td>\n",
       "      <td>21.88</td>\n",
       "      <td>171</td>\n",
       "      <td>2</td>\n",
       "      <td>68</td>\n",
       "      <td>0.029412</td>\n",
       "    </tr>\n",
       "    <tr>\n",
       "      <th>4</th>\n",
       "      <td>180</td>\n",
       "      <td>37.5</td>\n",
       "      <td>I</td>\n",
       "      <td>28.11</td>\n",
       "      <td>190</td>\n",
       "      <td>0</td>\n",
       "      <td>82</td>\n",
       "      <td>0.000000</td>\n",
       "    </tr>\n",
       "    <tr>\n",
       "      <th>5</th>\n",
       "      <td>0</td>\n",
       "      <td>50</td>\n",
       "      <td>I</td>\n",
       "      <td>17.16</td>\n",
       "      <td>140</td>\n",
       "      <td>20</td>\n",
       "      <td>63</td>\n",
       "      <td>0.317460</td>\n",
       "    </tr>\n",
       "    <tr>\n",
       "      <th>6</th>\n",
       "      <td>30</td>\n",
       "      <td>50</td>\n",
       "      <td>I</td>\n",
       "      <td>24.44</td>\n",
       "      <td>193</td>\n",
       "      <td>6</td>\n",
       "      <td>86</td>\n",
       "      <td>0.069767</td>\n",
       "    </tr>\n",
       "    <tr>\n",
       "      <th>7</th>\n",
       "      <td>60</td>\n",
       "      <td>50</td>\n",
       "      <td>I</td>\n",
       "      <td>28.50</td>\n",
       "      <td>200</td>\n",
       "      <td>6</td>\n",
       "      <td>94</td>\n",
       "      <td>0.063830</td>\n",
       "    </tr>\n",
       "    <tr>\n",
       "      <th>8</th>\n",
       "      <td>120</td>\n",
       "      <td>50</td>\n",
       "      <td>I</td>\n",
       "      <td>32.94</td>\n",
       "      <td>208</td>\n",
       "      <td>7</td>\n",
       "      <td>86</td>\n",
       "      <td>0.081395</td>\n",
       "    </tr>\n",
       "    <tr>\n",
       "      <th>9</th>\n",
       "      <td>180</td>\n",
       "      <td>50</td>\n",
       "      <td>I</td>\n",
       "      <td>28.76</td>\n",
       "      <td>237</td>\n",
       "      <td>10</td>\n",
       "      <td>97</td>\n",
       "      <td>0.103093</td>\n",
       "    </tr>\n",
       "  </tbody>\n",
       "</table>\n",
       "</div>"
      ],
      "text/plain": [
       "   pot water block  grain  seeds  viablepeas  totalpeas  viablepeasP\n",
       "0    0  37.5     I  14.55    136          22         56     0.392857\n",
       "1   30  37.5     I  21.51    159           2         62     0.032258\n",
       "2   60  37.5     I  24.62    156           0         66     0.000000\n",
       "3  120  37.5     I  21.88    171           2         68     0.029412\n",
       "4  180  37.5     I  28.11    190           0         82     0.000000\n",
       "5    0    50     I  17.16    140          20         63     0.317460\n",
       "6   30    50     I  24.44    193           6         86     0.069767\n",
       "7   60    50     I  28.50    200           6         94     0.063830\n",
       "8  120    50     I  32.94    208           7         86     0.081395\n",
       "9  180    50     I  28.76    237          10         97     0.103093"
      ]
     },
     "execution_count": 15,
     "metadata": {},
     "output_type": "execute_result"
    }
   ],
   "source": [
    "soya.head(10)"
   ]
  },
  {
   "cell_type": "code",
   "execution_count": 16,
   "metadata": {},
   "outputs": [],
   "source": [
    "soya['viablepeasP'] = soya['viablepeas'] / soya['totalpeas']\n",
    "\n",
    "X = dmatrix('~ block + water * pot', soya, return_type=\"dataframe\")"
   ]
  },
  {
   "cell_type": "code",
   "execution_count": 56,
   "metadata": {},
   "outputs": [
    {
     "data": {
      "image/png": "[encoded data removed]",
      "text/plain": [
       "<Figure size 576x432 with 4 Axes>"
      ]
     },
     "metadata": {
      "needs_background": "light"
     },
     "output_type": "display_data"
    }
   ],
   "source": [
    "# histogram of target variables.\n",
    "\n",
    "_ = soya[['grain', 'seeds', 'viablepeasP']].hist(bins=40, figsize=(8, 6))"
   ]
  },
  {
   "cell_type": "code",
   "execution_count": 57,
   "metadata": {},
   "outputs": [],
   "source": [
    "# Model fitting\n",
    "mcglm = MCGLM(\n",
    "    endog=[soya['grain'], soya['seeds'], soya['viablepeasP']],\n",
    "    exog=[X, X, X],\n",
    "    z=[[mc_id(soya)], [mc_id(soya)], [mc_id(soya)]],\n",
    "    link=['identity', 'log', 'logit'],\n",
    "    variance=['constant', 'tweedie', 'binomialP'],\n",
    "    power_fixed=[True, True, True],\n",
    "    ntrial=[None, None, soya['totalpeas'].values],\n",
    "    power=[1,1,0]\n",
    ")\n",
    "\n",
    "\n",
    "mcglmresults = mcglm.fit()"
   ]
  },
  {
   "cell_type": "code",
   "execution_count": 58,
   "metadata": {},
   "outputs": [
    {
     "data": {
      "text/html": [
       "<table class=\"simpletable\">\n",
       "<caption>Multivariate Covariance Generalized Linear Model</caption>\n",
       "<tr>\n",
       "  <th>Dep. Variable:</th>       <td>grain</td>      <th>  No. Iterations:    </th>    <td>10</td>    \n",
       "</tr>\n",
       "<tr>\n",
       "  <th>Model:</th>               <td>MCGLM</td>      <th>  No. Observations:  </th>  <td>    75</td>  \n",
       "</tr>\n",
       "<tr>\n",
       "  <th>link:</th>              <td>identity</td>     <th>  Df Residuals:      </th>  <td>    56</td>  \n",
       "</tr>\n",
       "<tr>\n",
       "  <th>variance:</th>          <td>constant</td>     <th>  Df Model:          </th>  <td>    20</td>  \n",
       "</tr>\n",
       "<tr>\n",
       "  <th>Method:</th>        <td>Quasi-Likelihood</td> <th>  Power-fixed:       </th>   <td>True</td>   \n",
       "</tr>\n",
       "<tr>\n",
       "  <th>Date:</th>          <td>Sun, 26 Jun 2022</td> <th>  pAIC               </th>  <td>527.82</td>  \n",
       "</tr>\n",
       "<tr>\n",
       "  <th>Time:</th>              <td>18:59:44</td>     <th>  pBIC               </th>  <td>596.14</td>  \n",
       "</tr>\n",
       "<tr>\n",
       "  <th> </th>                      <td> </td>        <th>  pLogLik            </th> <td>-243.9082</td>\n",
       "</tr>\n",
       "</table>\n",
       "<table class=\"simpletable\">\n",
       "<tr>\n",
       "              <td></td>                <th>coef</th>     <th>std err</th>      <th>z</th>      <th>P>|z|</th>  <th>[0.025</th>    <th>0.975]</th>  \n",
       "</tr>\n",
       "<tr>\n",
       "  <th>Intercept</th>                <td>   14.2280</td> <td>    1.217</td> <td>   11.687</td> <td> 0.000</td> <td>   11.842</td> <td>   16.614</td>\n",
       "</tr>\n",
       "<tr>\n",
       "  <th>block[T.II]</th>              <td>    1.1345</td> <td>    0.880</td> <td>    1.290</td> <td> 0.197</td> <td>   -0.590</td> <td>    2.859</td>\n",
       "</tr>\n",
       "<tr>\n",
       "  <th>block[T.III]</th>             <td>   -0.7545</td> <td>    0.880</td> <td>   -0.858</td> <td> 0.391</td> <td>   -2.479</td> <td>    0.970</td>\n",
       "</tr>\n",
       "<tr>\n",
       "  <th>block[T.IV]</th>              <td>   -1.5317</td> <td>    0.880</td> <td>   -1.741</td> <td> 0.082</td> <td>   -3.256</td> <td>    0.192</td>\n",
       "</tr>\n",
       "<tr>\n",
       "  <th>block[T.V]</th>               <td>   -2.3650</td> <td>    0.880</td> <td>   -2.688</td> <td> 0.007</td> <td>   -4.089</td> <td>   -0.641</td>\n",
       "</tr>\n",
       "<tr>\n",
       "  <th>water[T.50]</th>              <td>    2.1707</td> <td>    1.531</td> <td>    1.418</td> <td> 0.156</td> <td>   -0.830</td> <td>    5.172</td>\n",
       "</tr>\n",
       "<tr>\n",
       "  <th>water[T.62.5]</th>            <td>    2.5430</td> <td>    1.531</td> <td>    1.661</td> <td> 0.097</td> <td>   -0.458</td> <td>    5.544</td>\n",
       "</tr>\n",
       "<tr>\n",
       "  <th>pot[T.120]</th>               <td>   11.7897</td> <td>    1.531</td> <td>    7.701</td> <td> 0.000</td> <td>    8.789</td> <td>   14.790</td>\n",
       "</tr>\n",
       "<tr>\n",
       "  <th>pot[T.180]</th>               <td>   11.8714</td> <td>    1.531</td> <td>    7.754</td> <td> 0.000</td> <td>    8.871</td> <td>   14.872</td>\n",
       "</tr>\n",
       "<tr>\n",
       "  <th>pot[T.30]</th>                <td>    6.7924</td> <td>    1.531</td> <td>    4.436</td> <td> 0.000</td> <td>    3.792</td> <td>    9.793</td>\n",
       "</tr>\n",
       "<tr>\n",
       "  <th>pot[T.60]</th>                <td>   10.4074</td> <td>    1.531</td> <td>    6.798</td> <td> 0.000</td> <td>    7.407</td> <td>   13.408</td>\n",
       "</tr>\n",
       "<tr>\n",
       "  <th>water[T.50]:pot[T.120]</th>   <td>    2.2552</td> <td>    2.165</td> <td>    1.042</td> <td> 0.298</td> <td>   -1.989</td> <td>    6.499</td>\n",
       "</tr>\n",
       "<tr>\n",
       "  <th>water[T.62.5]:pot[T.120]</th> <td>    5.5843</td> <td>    2.165</td> <td>    2.579</td> <td> 0.010</td> <td>    1.341</td> <td>    9.828</td>\n",
       "</tr>\n",
       "<tr>\n",
       "  <th>water[T.50]:pot[T.180]</th>   <td>    1.2048</td> <td>    2.165</td> <td>    0.556</td> <td> 0.578</td> <td>   -3.039</td> <td>    5.449</td>\n",
       "</tr>\n",
       "<tr>\n",
       "  <th>water[T.62.5]:pot[T.180]</th> <td>    9.2331</td> <td>    2.165</td> <td>    4.264</td> <td> 0.000</td> <td>    4.989</td> <td>   13.477</td>\n",
       "</tr>\n",
       "<tr>\n",
       "  <th>water[T.50]:pot[T.30]</th>    <td>    0.1000</td> <td>    2.165</td> <td>    0.046</td> <td> 0.963</td> <td>   -4.144</td> <td>    4.344</td>\n",
       "</tr>\n",
       "<tr>\n",
       "  <th>water[T.62.5]:pot[T.30]</th>  <td>   -1.8709</td> <td>    2.165</td> <td>   -0.864</td> <td> 0.388</td> <td>   -6.115</td> <td>    2.373</td>\n",
       "</tr>\n",
       "<tr>\n",
       "  <th>water[T.50]:pot[T.60]</th>    <td>    2.5928</td> <td>    2.165</td> <td>    1.197</td> <td> 0.231</td> <td>   -1.651</td> <td>    6.837</td>\n",
       "</tr>\n",
       "<tr>\n",
       "  <th>water[T.62.5]:pot[T.60]</th>  <td>    3.3509</td> <td>    2.165</td> <td>    1.548</td> <td> 0.122</td> <td>   -0.893</td> <td>    7.595</td>\n",
       "</tr>\n",
       "</table>\n",
       "<table class=\"simpletable\">\n",
       "<tr>\n",
       "        <td></td>          <th>coef</th>     <th>std err</th>      <th>z</th>      <th>P>|z|</th>  <th>[0.025</th>    <th>0.975]</th>  \n",
       "</tr>\n",
       "<tr>\n",
       "  <th>dispersion_1</th> <td>    5.8620</td> <td>    1.673</td> <td>    3.503</td> <td> 0.000</td> <td>    2.583</td> <td>    9.141</td>\n",
       "</tr>\n",
       "</table>\n",
       "<table class=\"simpletable\">\n",
       "<tr>\n",
       "     <td></td>       <th>coef</th>     <th>std err</th>      <th>z</th>      <th>P>|z|</th>  <th>[0.025</th>    <th>0.975]</th>  \n",
       "</tr>\n",
       "<tr>\n",
       "  <th>power_</th> <td>    1.0000</td> <td>      nan</td> <td>      nan</td> <td>   nan</td> <td>      nan</td> <td>      nan</td>\n",
       "</tr>\n",
       "</table>\n",
       "<table class=\"simpletable\">\n",
       "<caption>Multivariate Covariance Generalized Linear Model</caption>\n",
       "<tr>\n",
       "  <th>Dep. Variable:</th>       <td>seeds</td>      <th>  No. Iterations:    </th>    <td>10</td>    \n",
       "</tr>\n",
       "<tr>\n",
       "  <th>Model:</th>               <td>MCGLM</td>      <th>  No. Observations:  </th>  <td>    75</td>  \n",
       "</tr>\n",
       "<tr>\n",
       "  <th>link:</th>                 <td>log</td>       <th>  Df Residuals:      </th>  <td>    56</td>  \n",
       "</tr>\n",
       "<tr>\n",
       "  <th>variance:</th>           <td>tweedie</td>     <th>  Df Model:          </th>  <td>    20</td>  \n",
       "</tr>\n",
       "<tr>\n",
       "  <th>Method:</th>        <td>Quasi-Likelihood</td> <th>  Power-fixed:       </th>   <td>True</td>   \n",
       "</tr>\n",
       "<tr>\n",
       "  <th>Date:</th>          <td>Sun, 26 Jun 2022</td> <th>  pAIC               </th>  <td>527.82</td>  \n",
       "</tr>\n",
       "<tr>\n",
       "  <th>Time:</th>              <td>18:59:44</td>     <th>  pBIC               </th>  <td>596.14</td>  \n",
       "</tr>\n",
       "<tr>\n",
       "  <th> </th>                      <td> </td>        <th>  pLogLik            </th> <td>-243.9082</td>\n",
       "</tr>\n",
       "</table>\n",
       "<table class=\"simpletable\">\n",
       "<tr>\n",
       "              <td></td>                <th>coef</th>     <th>std err</th>      <th>z</th>      <th>P>|z|</th>  <th>[0.025</th>    <th>0.975]</th>  \n",
       "</tr>\n",
       "<tr>\n",
       "  <th>Intercept</th>                <td>    4.8064</td> <td>    0.066</td> <td>   73.081</td> <td> 0.000</td> <td>    4.678</td> <td>    4.935</td>\n",
       "</tr>\n",
       "<tr>\n",
       "  <th>block[T.II]</th>              <td>   -0.0181</td> <td>    0.039</td> <td>   -0.467</td> <td> 0.641</td> <td>   -0.094</td> <td>    0.058</td>\n",
       "</tr>\n",
       "<tr>\n",
       "  <th>block[T.III]</th>             <td>   -0.0316</td> <td>    0.039</td> <td>   -0.810</td> <td> 0.418</td> <td>   -0.108</td> <td>    0.045</td>\n",
       "</tr>\n",
       "<tr>\n",
       "  <th>block[T.IV]</th>              <td>   -0.1056</td> <td>    0.040</td> <td>   -2.658</td> <td> 0.008</td> <td>   -0.184</td> <td>   -0.028</td>\n",
       "</tr>\n",
       "<tr>\n",
       "  <th>block[T.V]</th>               <td>   -0.1249</td> <td>    0.040</td> <td>   -3.128</td> <td> 0.002</td> <td>   -0.203</td> <td>   -0.047</td>\n",
       "</tr>\n",
       "<tr>\n",
       "  <th>water[T.50]</th>              <td>    0.1325</td> <td>    0.084</td> <td>    1.584</td> <td> 0.113</td> <td>   -0.032</td> <td>    0.297</td>\n",
       "</tr>\n",
       "<tr>\n",
       "  <th>water[T.62.5]</th>            <td>    0.1866</td> <td>    0.083</td> <td>    2.257</td> <td> 0.024</td> <td>    0.025</td> <td>    0.349</td>\n",
       "</tr>\n",
       "<tr>\n",
       "  <th>pot[T.120]</th>               <td>    0.3672</td> <td>    0.079</td> <td>    4.619</td> <td> 0.000</td> <td>    0.211</td> <td>    0.523</td>\n",
       "</tr>\n",
       "<tr>\n",
       "  <th>pot[T.180]</th>               <td>    0.2950</td> <td>    0.081</td> <td>    3.655</td> <td> 0.000</td> <td>    0.137</td> <td>    0.453</td>\n",
       "</tr>\n",
       "<tr>\n",
       "  <th>pot[T.30]</th>                <td>    0.2982</td> <td>    0.081</td> <td>    3.697</td> <td> 0.000</td> <td>    0.140</td> <td>    0.456</td>\n",
       "</tr>\n",
       "<tr>\n",
       "  <th>pot[T.60]</th>                <td>    0.3450</td> <td>    0.080</td> <td>    4.320</td> <td> 0.000</td> <td>    0.188</td> <td>    0.502</td>\n",
       "</tr>\n",
       "<tr>\n",
       "  <th>water[T.50]:pot[T.120]</th>   <td>    0.1159</td> <td>    0.108</td> <td>    1.075</td> <td> 0.282</td> <td>   -0.095</td> <td>    0.327</td>\n",
       "</tr>\n",
       "<tr>\n",
       "  <th>water[T.62.5]:pot[T.120]</th> <td>    0.0699</td> <td>    0.107</td> <td>    0.654</td> <td> 0.513</td> <td>   -0.140</td> <td>    0.279</td>\n",
       "</tr>\n",
       "<tr>\n",
       "  <th>water[T.50]:pot[T.180]</th>   <td>    0.2901</td> <td>    0.108</td> <td>    2.693</td> <td> 0.007</td> <td>    0.079</td> <td>    0.501</td>\n",
       "</tr>\n",
       "<tr>\n",
       "  <th>water[T.62.5]:pot[T.180]</th> <td>    0.2162</td> <td>    0.107</td> <td>    2.018</td> <td> 0.044</td> <td>    0.006</td> <td>    0.426</td>\n",
       "</tr>\n",
       "<tr>\n",
       "  <th>water[T.50]:pot[T.30]</th>    <td>    0.0421</td> <td>    0.110</td> <td>    0.382</td> <td> 0.702</td> <td>   -0.174</td> <td>    0.258</td>\n",
       "</tr>\n",
       "<tr>\n",
       "  <th>water[T.62.5]:pot[T.30]</th>  <td>   -0.1374</td> <td>    0.111</td> <td>   -1.242</td> <td> 0.214</td> <td>   -0.354</td> <td>    0.079</td>\n",
       "</tr>\n",
       "<tr>\n",
       "  <th>water[T.50]:pot[T.60]</th>    <td>    0.1154</td> <td>    0.108</td> <td>    1.067</td> <td> 0.286</td> <td>   -0.097</td> <td>    0.328</td>\n",
       "</tr>\n",
       "<tr>\n",
       "  <th>water[T.62.5]:pot[T.60]</th>  <td>    0.0897</td> <td>    0.107</td> <td>    0.837</td> <td> 0.402</td> <td>   -0.120</td> <td>    0.300</td>\n",
       "</tr>\n",
       "</table>\n",
       "<table class=\"simpletable\">\n",
       "<tr>\n",
       "        <td></td>          <th>coef</th>     <th>std err</th>      <th>z</th>      <th>P>|z|</th>  <th>[0.025</th>    <th>0.975]</th>  \n",
       "</tr>\n",
       "<tr>\n",
       "  <th>dispersion_1</th> <td>    2.1620</td> <td>    0.430</td> <td>    5.026</td> <td> 0.000</td> <td>    1.319</td> <td>    3.005</td>\n",
       "</tr>\n",
       "</table>\n",
       "<table class=\"simpletable\">\n",
       "<tr>\n",
       "     <td></td>       <th>coef</th>     <th>std err</th>      <th>z</th>      <th>P>|z|</th>  <th>[0.025</th>    <th>0.975]</th>  \n",
       "</tr>\n",
       "<tr>\n",
       "  <th>power_</th> <td>    1.0000</td> <td>      nan</td> <td>      nan</td> <td>   nan</td> <td>      nan</td> <td>      nan</td>\n",
       "</tr>\n",
       "</table>\n",
       "<table class=\"simpletable\">\n",
       "<caption>Multivariate Covariance Generalized Linear Model</caption>\n",
       "<tr>\n",
       "  <th>Dep. Variable:</th>    <td>viablepeasP</td>   <th>  No. Iterations:    </th>    <td>10</td>    \n",
       "</tr>\n",
       "<tr>\n",
       "  <th>Model:</th>               <td>MCGLM</td>      <th>  No. Observations:  </th>  <td>    75</td>  \n",
       "</tr>\n",
       "<tr>\n",
       "  <th>link:</th>                <td>logit</td>      <th>  Df Residuals:      </th>  <td>    56</td>  \n",
       "</tr>\n",
       "<tr>\n",
       "  <th>variance:</th>          <td>binomialP</td>    <th>  Df Model:          </th>  <td>    20</td>  \n",
       "</tr>\n",
       "<tr>\n",
       "  <th>Method:</th>        <td>Quasi-Likelihood</td> <th>  Power-fixed:       </th>   <td>True</td>   \n",
       "</tr>\n",
       "<tr>\n",
       "  <th>Date:</th>          <td>Sun, 26 Jun 2022</td> <th>  pAIC               </th>  <td>527.82</td>  \n",
       "</tr>\n",
       "<tr>\n",
       "  <th>Time:</th>              <td>18:59:44</td>     <th>  pBIC               </th>  <td>596.14</td>  \n",
       "</tr>\n",
       "<tr>\n",
       "  <th> </th>                      <td> </td>        <th>  pLogLik            </th> <td>-243.9082</td>\n",
       "</tr>\n",
       "</table>\n",
       "<table class=\"simpletable\">\n",
       "<tr>\n",
       "              <td></td>                <th>coef</th>     <th>std err</th>      <th>z</th>      <th>P>|z|</th>  <th>[0.025</th>    <th>0.975]</th>  \n",
       "</tr>\n",
       "<tr>\n",
       "  <th>Intercept</th>                <td>   -0.8801</td> <td>    0.159</td> <td>   -5.520</td> <td> 0.000</td> <td>   -1.193</td> <td>   -0.568</td>\n",
       "</tr>\n",
       "<tr>\n",
       "  <th>block[T.II]</th>              <td>   -0.3929</td> <td>    0.175</td> <td>   -2.249</td> <td> 0.025</td> <td>   -0.735</td> <td>   -0.050</td>\n",
       "</tr>\n",
       "<tr>\n",
       "  <th>block[T.III]</th>             <td>   -0.1789</td> <td>    0.168</td> <td>   -1.065</td> <td> 0.287</td> <td>   -0.508</td> <td>    0.150</td>\n",
       "</tr>\n",
       "<tr>\n",
       "  <th>block[T.IV]</th>              <td>   -0.1213</td> <td>    0.163</td> <td>   -0.745</td> <td> 0.456</td> <td>   -0.440</td> <td>    0.198</td>\n",
       "</tr>\n",
       "<tr>\n",
       "  <th>block[T.V]</th>               <td>   -0.2535</td> <td>    0.169</td> <td>   -1.497</td> <td> 0.134</td> <td>   -0.586</td> <td>    0.078</td>\n",
       "</tr>\n",
       "<tr>\n",
       "  <th>water[T.50]</th>              <td>    0.5870</td> <td>    0.163</td> <td>    3.607</td> <td> 0.000</td> <td>    0.268</td> <td>    0.906</td>\n",
       "</tr>\n",
       "<tr>\n",
       "  <th>water[T.62.5]</th>            <td>    0.2640</td> <td>    0.167</td> <td>    1.584</td> <td> 0.113</td> <td>   -0.063</td> <td>    0.591</td>\n",
       "</tr>\n",
       "<tr>\n",
       "  <th>pot[T.120]</th>               <td>   -3.2787</td> <td>    1.636</td> <td>   -2.004</td> <td> 0.045</td> <td>   -6.486</td> <td>   -0.072</td>\n",
       "</tr>\n",
       "<tr>\n",
       "  <th>pot[T.180]</th>               <td>   -3.6947</td> <td>    2.518</td> <td>   -1.467</td> <td> 0.142</td> <td>   -8.630</td> <td>    1.241</td>\n",
       "</tr>\n",
       "<tr>\n",
       "  <th>pot[T.30]</th>                <td>   -1.8246</td> <td>    0.447</td> <td>   -4.083</td> <td> 0.000</td> <td>   -2.700</td> <td>   -0.949</td>\n",
       "</tr>\n",
       "<tr>\n",
       "  <th>pot[T.60]</th>                <td>   -3.2160</td> <td>    1.557</td> <td>   -2.066</td> <td> 0.039</td> <td>   -6.267</td> <td>   -0.165</td>\n",
       "</tr>\n",
       "<tr>\n",
       "  <th>water[T.50]:pot[T.120]</th>   <td>    0.6215</td> <td>    1.701</td> <td>    0.365</td> <td> 0.715</td> <td>   -2.711</td> <td>    3.954</td>\n",
       "</tr>\n",
       "<tr>\n",
       "  <th>water[T.62.5]:pot[T.120]</th> <td>   -1.2422</td> <td>    4.064</td> <td>   -0.306</td> <td> 0.760</td> <td>   -9.208</td> <td>    6.723</td>\n",
       "</tr>\n",
       "<tr>\n",
       "  <th>water[T.50]:pot[T.180]</th>   <td>    1.3683</td> <td>    2.541</td> <td>    0.539</td> <td> 0.590</td> <td>   -3.611</td> <td>    6.348</td>\n",
       "</tr>\n",
       "<tr>\n",
       "  <th>water[T.62.5]:pot[T.180]</th> <td>    0.1301</td> <td>    2.888</td> <td>    0.045</td> <td> 0.964</td> <td>   -5.531</td> <td>    5.791</td>\n",
       "</tr>\n",
       "<tr>\n",
       "  <th>water[T.50]:pot[T.30]</th>    <td>   -0.3181</td> <td>    0.552</td> <td>   -0.576</td> <td> 0.564</td> <td>   -1.400</td> <td>    0.764</td>\n",
       "</tr>\n",
       "<tr>\n",
       "  <th>water[T.62.5]:pot[T.30]</th>  <td>    0.7716</td> <td>    0.491</td> <td>    1.572</td> <td> 0.116</td> <td>   -0.190</td> <td>    1.733</td>\n",
       "</tr>\n",
       "<tr>\n",
       "  <th>water[T.50]:pot[T.60]</th>    <td>    0.5308</td> <td>    1.628</td> <td>    0.326</td> <td> 0.744</td> <td>   -2.661</td> <td>    3.722</td>\n",
       "</tr>\n",
       "<tr>\n",
       "  <th>water[T.62.5]:pot[T.60]</th>  <td>    0.6993</td> <td>    1.648</td> <td>    0.424</td> <td> 0.671</td> <td>   -2.530</td> <td>    3.929</td>\n",
       "</tr>\n",
       "</table>\n",
       "<table class=\"simpletable\">\n",
       "<tr>\n",
       "        <td></td>          <th>coef</th>     <th>std err</th>      <th>z</th>      <th>P>|z|</th>  <th>[0.025</th>    <th>0.975]</th>  \n",
       "</tr>\n",
       "<tr>\n",
       "  <th>dispersion_1</th> <td>    0.1490</td> <td>    0.044</td> <td>    3.425</td> <td> 0.001</td> <td>    0.064</td> <td>    0.234</td>\n",
       "</tr>\n",
       "</table>\n",
       "<table class=\"simpletable\">\n",
       "<tr>\n",
       "     <td></td>       <th>coef</th>     <th>std err</th>      <th>z</th>      <th>P>|z|</th>  <th>[0.025</th>    <th>0.975]</th>  \n",
       "</tr>\n",
       "<tr>\n",
       "  <th>power_</th> <td>         0</td> <td>      nan</td> <td>      nan</td> <td>   nan</td> <td>      nan</td> <td>      nan</td>\n",
       "</tr>\n",
       "</table>\n",
       "<table class=\"simpletable\">\n",
       "<tr>\n",
       "    <td></td>       <th>coef</th>     <th>std err</th>      <th>z</th>      <th>P>|z|</th>  <th>[0.025</th>    <th>0.975]</th>  \n",
       "</tr>\n",
       "<tr>\n",
       "  <th>rho_1</th> <td>    0.6369</td> <td>    0.108</td> <td>    5.920</td> <td> 0.000</td> <td>    0.426</td> <td>    0.848</td>\n",
       "</tr>\n",
       "<tr>\n",
       "  <th>rho_2</th> <td>    0.0748</td> <td>    0.116</td> <td>    0.648</td> <td> 0.517</td> <td>   -0.152</td> <td>    0.301</td>\n",
       "</tr>\n",
       "<tr>\n",
       "  <th>rho_3</th> <td>    0.0915</td> <td>    0.115</td> <td>    0.795</td> <td> 0.427</td> <td>   -0.134</td> <td>    0.317</td>\n",
       "</tr>\n",
       "</table>"
      ],
      "text/plain": [
       "<class 'statsmodels.iolib.summary.Summary'>\n",
       "\"\"\"\n",
       "               Multivariate Covariance Generalized Linear Model               \n",
       "==============================================================================\n",
       "Dep. Variable:                  grain   No. Iterations:                     10\n",
       "Model:                          MCGLM   No. Observations:                   75\n",
       "link:                        identity   Df Residuals:                       56\n",
       "variance:                    constant   Df Model:                           20\n",
       "Method:              Quasi-Likelihood   Power-fixed:                      True\n",
       "Date:                Sun, 26 Jun 2022   pAIC                            527.82\n",
       "Time:                        18:59:44   pBIC                            596.14\n",
       "                                        pLogLik                      -243.9082\n",
       "============================================================================================\n",
       "                               coef    std err          z      P>|z|      [0.025      0.975]\n",
       "--------------------------------------------------------------------------------------------\n",
       "Intercept                   14.2280      1.217     11.687      0.000      11.842      16.614\n",
       "block[T.II]                  1.1345      0.880      1.290      0.197      -0.590       2.859\n",
       "block[T.III]                -0.7545      0.880     -0.858      0.391      -2.479       0.970\n",
       "block[T.IV]                 -1.5317      0.880     -1.741      0.082      -3.256       0.192\n",
       "block[T.V]                  -2.3650      0.880     -2.688      0.007      -4.089      -0.641\n",
       "water[T.50]                  2.1707      1.531      1.418      0.156      -0.830       5.172\n",
       "water[T.62.5]                2.5430      1.531      1.661      0.097      -0.458       5.544\n",
       "pot[T.120]                  11.7897      1.531      7.701      0.000       8.789      14.790\n",
       "pot[T.180]                  11.8714      1.531      7.754      0.000       8.871      14.872\n",
       "pot[T.30]                    6.7924      1.531      4.436      0.000       3.792       9.793\n",
       "pot[T.60]                   10.4074      1.531      6.798      0.000       7.407      13.408\n",
       "water[T.50]:pot[T.120]       2.2552      2.165      1.042      0.298      -1.989       6.499\n",
       "water[T.62.5]:pot[T.120]     5.5843      2.165      2.579      0.010       1.341       9.828\n",
       "water[T.50]:pot[T.180]       1.2048      2.165      0.556      0.578      -3.039       5.449\n",
       "water[T.62.5]:pot[T.180]     9.2331      2.165      4.264      0.000       4.989      13.477\n",
       "water[T.50]:pot[T.30]        0.1000      2.165      0.046      0.963      -4.144       4.344\n",
       "water[T.62.5]:pot[T.30]     -1.8709      2.165     -0.864      0.388      -6.115       2.373\n",
       "water[T.50]:pot[T.60]        2.5928      2.165      1.197      0.231      -1.651       6.837\n",
       "water[T.62.5]:pot[T.60]      3.3509      2.165      1.548      0.122      -0.893       7.595\n",
       "================================================================================\n",
       "                   coef    std err          z      P>|z|      [0.025      0.975]\n",
       "--------------------------------------------------------------------------------\n",
       "dispersion_1     5.8620      1.673      3.503      0.000       2.583       9.141\n",
       "==============================================================================\n",
       "                 coef    std err          z      P>|z|      [0.025      0.975]\n",
       "------------------------------------------------------------------------------\n",
       "power_         1.0000        nan        nan        nan         nan         nan\n",
       "               Multivariate Covariance Generalized Linear Model               \n",
       "==============================================================================\n",
       "Dep. Variable:                  seeds   No. Iterations:                     10\n",
       "Model:                          MCGLM   No. Observations:                   75\n",
       "link:                             log   Df Residuals:                       56\n",
       "variance:                     tweedie   Df Model:                           20\n",
       "Method:              Quasi-Likelihood   Power-fixed:                      True\n",
       "Date:                Sun, 26 Jun 2022   pAIC                            527.82\n",
       "Time:                        18:59:44   pBIC                            596.14\n",
       "                                        pLogLik                      -243.9082\n",
       "============================================================================================\n",
       "                               coef    std err          z      P>|z|      [0.025      0.975]\n",
       "--------------------------------------------------------------------------------------------\n",
       "Intercept                    4.8064      0.066     73.081      0.000       4.678       4.935\n",
       "block[T.II]                 -0.0181      0.039     -0.467      0.641      -0.094       0.058\n",
       "block[T.III]                -0.0316      0.039     -0.810      0.418      -0.108       0.045\n",
       "block[T.IV]                 -0.1056      0.040     -2.658      0.008      -0.184      -0.028\n",
       "block[T.V]                  -0.1249      0.040     -3.128      0.002      -0.203      -0.047\n",
       "water[T.50]                  0.1325      0.084      1.584      0.113      -0.032       0.297\n",
       "water[T.62.5]                0.1866      0.083      2.257      0.024       0.025       0.349\n",
       "pot[T.120]                   0.3672      0.079      4.619      0.000       0.211       0.523\n",
       "pot[T.180]                   0.2950      0.081      3.655      0.000       0.137       0.453\n",
       "pot[T.30]                    0.2982      0.081      3.697      0.000       0.140       0.456\n",
       "pot[T.60]                    0.3450      0.080      4.320      0.000       0.188       0.502\n",
       "water[T.50]:pot[T.120]       0.1159      0.108      1.075      0.282      -0.095       0.327\n",
       "water[T.62.5]:pot[T.120]     0.0699      0.107      0.654      0.513      -0.140       0.279\n",
       "water[T.50]:pot[T.180]       0.2901      0.108      2.693      0.007       0.079       0.501\n",
       "water[T.62.5]:pot[T.180]     0.2162      0.107      2.018      0.044       0.006       0.426\n",
       "water[T.50]:pot[T.30]        0.0421      0.110      0.382      0.702      -0.174       0.258\n",
       "water[T.62.5]:pot[T.30]     -0.1374      0.111     -1.242      0.214      -0.354       0.079\n",
       "water[T.50]:pot[T.60]        0.1154      0.108      1.067      0.286      -0.097       0.328\n",
       "water[T.62.5]:pot[T.60]      0.0897      0.107      0.837      0.402      -0.120       0.300\n",
       "================================================================================\n",
       "                   coef    std err          z      P>|z|      [0.025      0.975]\n",
       "--------------------------------------------------------------------------------\n",
       "dispersion_1     2.1620      0.430      5.026      0.000       1.319       3.005\n",
       "==============================================================================\n",
       "                 coef    std err          z      P>|z|      [0.025      0.975]\n",
       "------------------------------------------------------------------------------\n",
       "power_         1.0000        nan        nan        nan         nan         nan\n",
       "               Multivariate Covariance Generalized Linear Model               \n",
       "==============================================================================\n",
       "Dep. Variable:            viablepeasP   No. Iterations:                     10\n",
       "Model:                          MCGLM   No. Observations:                   75\n",
       "link:                           logit   Df Residuals:                       56\n",
       "variance:                   binomialP   Df Model:                           20\n",
       "Method:              Quasi-Likelihood   Power-fixed:                      True\n",
       "Date:                Sun, 26 Jun 2022   pAIC                            527.82\n",
       "Time:                        18:59:44   pBIC                            596.14\n",
       "                                        pLogLik                      -243.9082\n",
       "============================================================================================\n",
       "                               coef    std err          z      P>|z|      [0.025      0.975]\n",
       "--------------------------------------------------------------------------------------------\n",
       "Intercept                   -0.8801      0.159     -5.520      0.000      -1.193      -0.568\n",
       "block[T.II]                 -0.3929      0.175     -2.249      0.025      -0.735      -0.050\n",
       "block[T.III]                -0.1789      0.168     -1.065      0.287      -0.508       0.150\n",
       "block[T.IV]                 -0.1213      0.163     -0.745      0.456      -0.440       0.198\n",
       "block[T.V]                  -0.2535      0.169     -1.497      0.134      -0.586       0.078\n",
       "water[T.50]                  0.5870      0.163      3.607      0.000       0.268       0.906\n",
       "water[T.62.5]                0.2640      0.167      1.584      0.113      -0.063       0.591\n",
       "pot[T.120]                  -3.2787      1.636     -2.004      0.045      -6.486      -0.072\n",
       "pot[T.180]                  -3.6947      2.518     -1.467      0.142      -8.630       1.241\n",
       "pot[T.30]                   -1.8246      0.447     -4.083      0.000      -2.700      -0.949\n",
       "pot[T.60]                   -3.2160      1.557     -2.066      0.039      -6.267      -0.165\n",
       "water[T.50]:pot[T.120]       0.6215      1.701      0.365      0.715      -2.711       3.954\n",
       "water[T.62.5]:pot[T.120]    -1.2422      4.064     -0.306      0.760      -9.208       6.723\n",
       "water[T.50]:pot[T.180]       1.3683      2.541      0.539      0.590      -3.611       6.348\n",
       "water[T.62.5]:pot[T.180]     0.1301      2.888      0.045      0.964      -5.531       5.791\n",
       "water[T.50]:pot[T.30]       -0.3181      0.552     -0.576      0.564      -1.400       0.764\n",
       "water[T.62.5]:pot[T.30]      0.7716      0.491      1.572      0.116      -0.190       1.733\n",
       "water[T.50]:pot[T.60]        0.5308      1.628      0.326      0.744      -2.661       3.722\n",
       "water[T.62.5]:pot[T.60]      0.6993      1.648      0.424      0.671      -2.530       3.929\n",
       "================================================================================\n",
       "                   coef    std err          z      P>|z|      [0.025      0.975]\n",
       "--------------------------------------------------------------------------------\n",
       "dispersion_1     0.1490      0.044      3.425      0.001       0.064       0.234\n",
       "==============================================================================\n",
       "                 coef    std err          z      P>|z|      [0.025      0.975]\n",
       "------------------------------------------------------------------------------\n",
       "power_              0        nan        nan        nan         nan         nan\n",
       "==============================================================================\n",
       "                 coef    std err          z      P>|z|      [0.025      0.975]\n",
       "------------------------------------------------------------------------------\n",
       "rho_1          0.6369      0.108      5.920      0.000       0.426       0.848\n",
       "rho_2          0.0748      0.116      0.648      0.517      -0.152       0.301\n",
       "rho_3          0.0915      0.115      0.795      0.427      -0.134       0.317\n",
       "==============================================================================\n",
       "\"\"\""
      ]
     },
     "execution_count": 58,
     "metadata": {},
     "output_type": "execute_result"
    }
   ],
   "source": [
    "mcglmresults.summary()"
   ]
  },
  {
   "cell_type": "markdown",
   "metadata": {},
   "source": [
    "------------------\n",
    "Analysis of grain size.\n",
    "\n",
    "To recap, the goal is analyzing how covariates block, water and potassium act on response grain. I've moduled as a OLS, and the variance adjusted for the Normal response is 5.86. By the Wald test, potassium levels are significant to grain size; the higher the level, bigger grain size. Residual analysis:"
   ]
  },
  {
   "cell_type": "code",
   "execution_count": 59,
   "metadata": {},
   "outputs": [
    {
     "data": {
      "text/plain": [
       "Text(0, 0.5, 'pearson residual')"
      ]
     },
     "execution_count": 59,
     "metadata": {},
     "output_type": "execute_result"
    },
    {
     "data": {
      "image/png": "[encoded data removed]",
      "text/plain": [
       "<Figure size 432x288 with 1 Axes>"
      ]
     },
     "metadata": {
      "needs_background": "light"
     },
     "output_type": "display_data"
    }
   ],
   "source": [
    "#grain\n",
    "plt.scatter(mcglmresults.mu[0], mcglmresults.pearson_residue[0])\n",
    "plt.xlabel('mu')\n",
    "plt.ylabel('pearson residual')"
   ]
  },
  {
   "cell_type": "markdown",
   "metadata": {},
   "source": [
    "Despite the outlier, the fit seems pretty good."
   ]
  },
  {
   "cell_type": "markdown",
   "metadata": {},
   "source": [
    "------------------\n",
    "Analysis of seed count.\n",
    "\n",
    "I've moduled as a model close to Poisson GLM. By the Wald test, potassium levels are significant to grain size; the higher the level, higher count. Also, level V for block is significant. Residual analysis:"
   ]
  },
  {
   "cell_type": "code",
   "execution_count": 60,
   "metadata": {},
   "outputs": [
    {
     "data": {
      "text/plain": [
       "Text(0, 0.5, 'pearson residual')"
      ]
     },
     "execution_count": 60,
     "metadata": {},
     "output_type": "execute_result"
    },
    {
     "data": {
      "image/png": "[encoded data removed]",
      "text/plain": [
       "<Figure size 432x288 with 1 Axes>"
      ]
     },
     "metadata": {
      "needs_background": "light"
     },
     "output_type": "display_data"
    }
   ],
   "source": [
    "#seeds\n",
    "plt.scatter(mcglmresults.mu[1], mcglmresults.pearson_residue[1])\n",
    "plt.xlabel('mu')\n",
    "plt.ylabel('pearson residual')"
   ]
  },
  {
   "cell_type": "markdown",
   "metadata": {},
   "source": [
    "Despite the outlier, the fit seems pretty good."
   ]
  },
  {
   "cell_type": "markdown",
   "metadata": {},
   "source": [
    "------------------\n",
    "Analysis of seed count.\n",
    "\n",
    "I've moduled as a model close to Logistic GLM. By the Wald test, only potassium 'level 30' and water 'level 50' seem significant to the task. Residual Analysis:"
   ]
  },
  {
   "cell_type": "code",
   "execution_count": 31,
   "metadata": {},
   "outputs": [
    {
     "data": {
      "text/plain": [
       "Text(0, 0.5, 'pearson residual')"
      ]
     },
     "execution_count": 31,
     "metadata": {},
     "output_type": "execute_result"
    },
    {
     "data": {
      "image/png": "[encoded data removed]",
      "text/plain": [
       "<Figure size 432x288 with 1 Axes>"
      ]
     },
     "metadata": {
      "needs_background": "light"
     },
     "output_type": "display_data"
    }
   ],
   "source": [
    "#viablepeasP\n",
    "plt.scatter(mcglmresults.mu[2], mcglmresults.pearson_residue[2])\n",
    "plt.xlabel('mu')\n",
    "plt.ylabel('pearson residual')"
   ]
  },
  {
   "cell_type": "markdown",
   "metadata": {},
   "source": [
    "The model adjustment does not look good. It is possible to try out different values for link and variance functions. If it does not improve the model fit, it will let us conclude a non-assessment for the percentage of viable peas from current covariates."
   ]
  }
 ],
 "metadata": {
  "interpreter": {
   "hash": "292a92f942c44310edbaf6ce4db4e4ccb458e054a9c180d41d409955ea285efe"
  },
  "kernelspec": {
   "display_name": "Python 3 (ipykernel)",
   "language": "python",
   "name": "python3"
  },
  "language_info": {
   "codemirror_mode": {
    "name": "ipython",
    "version": 3
   },
   "file_extension": ".py",
   "mimetype": "text/x-python",
   "name": "python",
   "nbconvert_exporter": "python",
   "pygments_lexer": "ipython3",
   "version": "3.9.5"
  }
 },
 "nbformat": 4,
 "nbformat_minor": 4
}
