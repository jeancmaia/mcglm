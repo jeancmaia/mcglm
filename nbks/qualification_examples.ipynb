{
 "cells": [
  {
   "cell_type": "markdown",
   "metadata": {},
   "source": [
    "The cell below describes a simple usage of mcglm, only for instilling sake."
   ]
  },
  {
   "cell_type": "markdown",
   "metadata": {},
   "source": [
    "```\n",
    "from mcglm import MCGLM, mc_id\n",
    "\n",
    "mcglm = MCGLM(   \n",
    "    endog=y,   \n",
    "    exog=X,   \n",
    "    z=[mc_id(X)],   \n",
    "    link='log',   \n",
    "    variance='power'\n",
    "    power=2\n",
    ")   \n",
    "\n",
    "mcglmresults = mcglm.fit()\n",
    "mcglmresults.summary()\n",
    "\n",
    "# residual analysis\n",
    "plt.scatter(mcglmresults.mu, mcglmresults.pearson_residuals)\n",
    "plt.xlabel('mu')\n",
    "plt.ylabel('pearson residuals')\n",
    "```"
   ]
  },
  {
   "cell_type": "markdown",
   "metadata": {},
   "source": [
    "This notebook presents the MCGLM usage in two examples, both used for my Master's qualification."
   ]
  },
  {
   "cell_type": "markdown",
   "metadata": {},
   "source": [
    "### First Example\n",
    " \n",
    "`Sleepstudy` is a study of sleep deprivation.\n",
    "https://www.rdocumentation.org/packages/lme4/versions/1.1-26/topics/sleepstudy.\n",
    "\n",
    "The study aims to study the influence of sleep deprivation on reaction time. On day 0, subjects had their usual amount of sleep. From day 0 on, they were restricted to 3 hours of sleep per night. The observations represent the average reaction time on a series of tests given each day to each subject.\n",
    "\n",
    "One promising approach is fitting through two-level effecting models, such as mixed models. The `mcglm` library is a perfect framework to apply this statistical learning."
   ]
  },
  {
   "cell_type": "code",
   "execution_count": 27,
   "metadata": {},
   "outputs": [],
   "source": [
    "import pandas as pd\n",
    "import matplotlib.pyplot as plt\n",
    "import seaborn as sns\n",
    "\n",
    "from mcglm import MCGLM, mc_mixed, mc_id\n",
    "from patsy import dmatrix"
   ]
  },
  {
   "cell_type": "code",
   "execution_count": 28,
   "metadata": {},
   "outputs": [
    {
     "data": {
      "text/html": [
       "<div>\n",
       "<style scoped>\n",
       "    .dataframe tbody tr th:only-of-type {\n",
       "        vertical-align: middle;\n",
       "    }\n",
       "\n",
       "    .dataframe tbody tr th {\n",
       "        vertical-align: top;\n",
       "    }\n",
       "\n",
       "    .dataframe thead th {\n",
       "        text-align: right;\n",
       "    }\n",
       "</style>\n",
       "<table border=\"1\" class=\"dataframe\">\n",
       "  <thead>\n",
       "    <tr style=\"text-align: right;\">\n",
       "      <th></th>\n",
       "      <th>Reaction</th>\n",
       "      <th>Days</th>\n",
       "      <th>Subject</th>\n",
       "    </tr>\n",
       "  </thead>\n",
       "  <tbody>\n",
       "    <tr>\n",
       "      <th>0</th>\n",
       "      <td>249.5600</td>\n",
       "      <td>0</td>\n",
       "      <td>308</td>\n",
       "    </tr>\n",
       "    <tr>\n",
       "      <th>1</th>\n",
       "      <td>258.7047</td>\n",
       "      <td>1</td>\n",
       "      <td>308</td>\n",
       "    </tr>\n",
       "    <tr>\n",
       "      <th>2</th>\n",
       "      <td>250.8006</td>\n",
       "      <td>2</td>\n",
       "      <td>308</td>\n",
       "    </tr>\n",
       "    <tr>\n",
       "      <th>3</th>\n",
       "      <td>321.4398</td>\n",
       "      <td>3</td>\n",
       "      <td>308</td>\n",
       "    </tr>\n",
       "    <tr>\n",
       "      <th>4</th>\n",
       "      <td>356.8519</td>\n",
       "      <td>4</td>\n",
       "      <td>308</td>\n",
       "    </tr>\n",
       "    <tr>\n",
       "      <th>5</th>\n",
       "      <td>414.6901</td>\n",
       "      <td>5</td>\n",
       "      <td>308</td>\n",
       "    </tr>\n",
       "    <tr>\n",
       "      <th>6</th>\n",
       "      <td>382.2038</td>\n",
       "      <td>6</td>\n",
       "      <td>308</td>\n",
       "    </tr>\n",
       "    <tr>\n",
       "      <th>7</th>\n",
       "      <td>290.1486</td>\n",
       "      <td>7</td>\n",
       "      <td>308</td>\n",
       "    </tr>\n",
       "    <tr>\n",
       "      <th>8</th>\n",
       "      <td>430.5853</td>\n",
       "      <td>8</td>\n",
       "      <td>308</td>\n",
       "    </tr>\n",
       "    <tr>\n",
       "      <th>9</th>\n",
       "      <td>466.3535</td>\n",
       "      <td>9</td>\n",
       "      <td>308</td>\n",
       "    </tr>\n",
       "  </tbody>\n",
       "</table>\n",
       "</div>"
      ],
      "text/plain": [
       "   Reaction  Days Subject\n",
       "0  249.5600     0     308\n",
       "1  258.7047     1     308\n",
       "2  250.8006     2     308\n",
       "3  321.4398     3     308\n",
       "4  356.8519     4     308\n",
       "5  414.6901     5     308\n",
       "6  382.2038     6     308\n",
       "7  290.1486     7     308\n",
       "8  430.5853     8     308\n",
       "9  466.3535     9     308"
      ]
     },
     "execution_count": 28,
     "metadata": {},
     "output_type": "execute_result"
    }
   ],
   "source": [
    "# Top 10 cells to get an intuition about data.\n",
    "sleepstudy = pd.read_csv(\n",
    "    \"data/first_simulation/sleepstudy.csv\", dtype={\"Subject\": \"str\"}\n",
    ")\n",
    "\n",
    "sleepstudy.head(10)"
   ]
  },
  {
   "cell_type": "code",
   "execution_count": 29,
   "metadata": {},
   "outputs": [
    {
     "data": {
      "text/html": [
       "<div>\n",
       "<style scoped>\n",
       "    .dataframe tbody tr th:only-of-type {\n",
       "        vertical-align: middle;\n",
       "    }\n",
       "\n",
       "    .dataframe tbody tr th {\n",
       "        vertical-align: top;\n",
       "    }\n",
       "\n",
       "    .dataframe thead th {\n",
       "        text-align: right;\n",
       "    }\n",
       "</style>\n",
       "<table border=\"1\" class=\"dataframe\">\n",
       "  <thead>\n",
       "    <tr style=\"text-align: right;\">\n",
       "      <th></th>\n",
       "      <th>Reaction</th>\n",
       "      <th>Days</th>\n",
       "    </tr>\n",
       "  </thead>\n",
       "  <tbody>\n",
       "    <tr>\n",
       "      <th>count</th>\n",
       "      <td>180.000000</td>\n",
       "      <td>180.000000</td>\n",
       "    </tr>\n",
       "    <tr>\n",
       "      <th>mean</th>\n",
       "      <td>298.507892</td>\n",
       "      <td>4.500000</td>\n",
       "    </tr>\n",
       "    <tr>\n",
       "      <th>std</th>\n",
       "      <td>56.328757</td>\n",
       "      <td>2.880293</td>\n",
       "    </tr>\n",
       "    <tr>\n",
       "      <th>min</th>\n",
       "      <td>194.332200</td>\n",
       "      <td>0.000000</td>\n",
       "    </tr>\n",
       "    <tr>\n",
       "      <th>25%</th>\n",
       "      <td>255.375825</td>\n",
       "      <td>2.000000</td>\n",
       "    </tr>\n",
       "    <tr>\n",
       "      <th>50%</th>\n",
       "      <td>288.650800</td>\n",
       "      <td>4.500000</td>\n",
       "    </tr>\n",
       "    <tr>\n",
       "      <th>75%</th>\n",
       "      <td>336.752075</td>\n",
       "      <td>7.000000</td>\n",
       "    </tr>\n",
       "    <tr>\n",
       "      <th>max</th>\n",
       "      <td>466.353500</td>\n",
       "      <td>9.000000</td>\n",
       "    </tr>\n",
       "  </tbody>\n",
       "</table>\n",
       "</div>"
      ],
      "text/plain": [
       "         Reaction        Days\n",
       "count  180.000000  180.000000\n",
       "mean   298.507892    4.500000\n",
       "std     56.328757    2.880293\n",
       "min    194.332200    0.000000\n",
       "25%    255.375825    2.000000\n",
       "50%    288.650800    4.500000\n",
       "75%    336.752075    7.000000\n",
       "max    466.353500    9.000000"
      ]
     },
     "execution_count": 29,
     "metadata": {},
     "output_type": "execute_result"
    }
   ],
   "source": [
    "# General statistics about the data.\n",
    "sleepstudy.describe()"
   ]
  },
  {
   "cell_type": "code",
   "execution_count": 30,
   "metadata": {},
   "outputs": [
    {
     "data": {
      "text/plain": [
       "<matplotlib.legend.Legend at 0x7f62274b69d0>"
      ]
     },
     "execution_count": 30,
     "metadata": {},
     "output_type": "execute_result"
    },
    {
     "data": {
      "image/png": "[encoded data removed]",
      "text/plain": [
       "<Figure size 432x288 with 1 Axes>"
      ]
     },
     "metadata": {
      "needs_background": "light"
     },
     "output_type": "display_data"
    }
   ],
   "source": [
    "## Plotting curve of 18 subjects\n",
    "_ = sns.lineplot(x=\"Days\", y=\"Reaction\", hue=\"Subject\", data=sleepstudy)\n",
    "plt.legend(bbox_to_anchor=(1.05, 1), loc=2, borderaxespad=0.0)"
   ]
  },
  {
   "cell_type": "markdown",
   "metadata": {},
   "source": [
    "It is plain to see that users behave differently. Some users feel the effect of sleep deprivation, and some don't. Broadly speaking, deprivation days seem influential on reaction time."
   ]
  },
  {
   "cell_type": "code",
   "execution_count": 31,
   "metadata": {},
   "outputs": [],
   "source": [
    "# Design Matrix\n",
    "X = dmatrix(\"~ Days\", sleepstudy, return_type=\"dataframe\")\n",
    "\n",
    "# Z specification\n",
    "Z = [mc_id(sleepstudy)] + mc_mixed(formula=\"~ 0 + Subject / Days\", data=sleepstudy)"
   ]
  },
  {
   "cell_type": "code",
   "execution_count": 32,
   "metadata": {},
   "outputs": [],
   "source": [
    "# Model fitting\n",
    "mcglm = MCGLM(endog=sleepstudy[\"Reaction\"], exog=X, z=Z)\n",
    "\n",
    "mcglmresults = mcglm.fit()"
   ]
  },
  {
   "cell_type": "code",
   "execution_count": 33,
   "metadata": {},
   "outputs": [
    {
     "data": {
      "text/html": [
       "<table class=\"simpletable\">\n",
       "<caption>Multivariate Covariance Generalized Linear Model</caption>\n",
       "<tr>\n",
       "  <th>Dep. Variable:</th>     <td>Reaction</td>     <th>  No. Iterations:    </th>    <td>20</td>    \n",
       "</tr>\n",
       "<tr>\n",
       "  <th>Model:</th>               <td>MCGLM</td>      <th>  No. Observations:  </th>    <td>180</td>   \n",
       "</tr>\n",
       "<tr>\n",
       "  <th>link:</th>              <td>identity</td>     <th>  Df Residuals:      </th>    <td>174</td>   \n",
       "</tr>\n",
       "<tr>\n",
       "  <th>variance:</th>          <td>constant</td>     <th>  Df Model:          </th>     <td>6</td>    \n",
       "</tr>\n",
       "<tr>\n",
       "  <th>Method:</th>        <td>Quasi-Likelihood</td> <th>  Power-fixed:       </th>   <td>True</td>   \n",
       "</tr>\n",
       "<tr>\n",
       "  <th>Date:</th>          <td>Mon, 17 Oct 2022</td> <th>  pAIC               </th>  <td>1583.94</td> \n",
       "</tr>\n",
       "<tr>\n",
       "  <th>Time:</th>              <td>07:30:50</td>     <th>  pBIC               </th>  <td>1603.1</td>  \n",
       "</tr>\n",
       "<tr>\n",
       "  <th> </th>                      <td> </td>        <th>  pLogLik            </th> <td>-785.9704</td>\n",
       "</tr>\n",
       "</table>\n",
       "<table class=\"simpletable\">\n",
       "<tr>\n",
       "      <td></td>         <th>coef</th>     <th>std err</th>      <th>z</th>      <th>P>|z|</th>  <th>[0.025</th>    <th>0.975]</th>  \n",
       "</tr>\n",
       "<tr>\n",
       "  <th>Intercept</th> <td>  251.4051</td> <td>    6.632</td> <td>   37.906</td> <td> 0.000</td> <td>  238.406</td> <td>  264.404</td>\n",
       "</tr>\n",
       "<tr>\n",
       "  <th>Days</th>      <td>   10.4673</td> <td>    1.502</td> <td>    6.968</td> <td> 0.000</td> <td>    7.523</td> <td>   13.412</td>\n",
       "</tr>\n",
       "</table>\n",
       "<table class=\"simpletable\">\n",
       "<tr>\n",
       "        <td></td>          <th>coef</th>     <th>std err</th>      <th>z</th>      <th>P>|z|</th>  <th>[0.025</th>    <th>0.975]</th>  \n",
       "</tr>\n",
       "<tr>\n",
       "  <th>dispersion_1</th> <td>  654.9420</td> <td>   70.624</td> <td>    9.274</td> <td> 0.000</td> <td>  516.521</td> <td>  793.363</td>\n",
       "</tr>\n",
       "<tr>\n",
       "  <th>dispersion_2</th> <td>  565.5150</td> <td>  264.679</td> <td>    2.137</td> <td> 0.033</td> <td>   46.753</td> <td> 1084.277</td>\n",
       "</tr>\n",
       "<tr>\n",
       "  <th>dispersion_3</th> <td>   32.6820</td> <td>   13.560</td> <td>    2.410</td> <td> 0.016</td> <td>    6.105</td> <td>   59.259</td>\n",
       "</tr>\n",
       "<tr>\n",
       "  <th>dispersion_4</th> <td>   11.0550</td> <td>   42.948</td> <td>    0.257</td> <td> 0.797</td> <td>  -73.121</td> <td>   95.231</td>\n",
       "</tr>\n",
       "</table>\n",
       "<table class=\"simpletable\">\n",
       "<tr>\n",
       "     <td></td>       <th>coef</th>     <th>std err</th>      <th>z</th>      <th>P>|z|</th>  <th>[0.025</th>    <th>0.975]</th>  \n",
       "</tr>\n",
       "<tr>\n",
       "  <th>power_</th> <td>    1.0000</td> <td>      nan</td> <td>      nan</td> <td>   nan</td> <td>      nan</td> <td>      nan</td>\n",
       "</tr>\n",
       "</table>"
      ],
      "text/plain": [
       "<class 'statsmodels.iolib.summary.Summary'>\n",
       "\"\"\"\n",
       "               Multivariate Covariance Generalized Linear Model               \n",
       "==============================================================================\n",
       "Dep. Variable:               Reaction   No. Iterations:                     20\n",
       "Model:                          MCGLM   No. Observations:                  180\n",
       "link:                        identity   Df Residuals:                      174\n",
       "variance:                    constant   Df Model:                            6\n",
       "Method:              Quasi-Likelihood   Power-fixed:                      True\n",
       "Date:                Mon, 17 Oct 2022   pAIC                           1583.94\n",
       "Time:                        07:30:50   pBIC                            1603.1\n",
       "                                        pLogLik                      -785.9704\n",
       "==============================================================================\n",
       "                 coef    std err          z      P>|z|      [0.025      0.975]\n",
       "------------------------------------------------------------------------------\n",
       "Intercept    251.4051      6.632     37.906      0.000     238.406     264.404\n",
       "Days          10.4673      1.502      6.968      0.000       7.523      13.412\n",
       "================================================================================\n",
       "                   coef    std err          z      P>|z|      [0.025      0.975]\n",
       "--------------------------------------------------------------------------------\n",
       "dispersion_1   654.9420     70.624      9.274      0.000     516.521     793.363\n",
       "dispersion_2   565.5150    264.679      2.137      0.033      46.753    1084.277\n",
       "dispersion_3    32.6820     13.560      2.410      0.016       6.105      59.259\n",
       "dispersion_4    11.0550     42.948      0.257      0.797     -73.121      95.231\n",
       "==============================================================================\n",
       "                 coef    std err          z      P>|z|      [0.025      0.975]\n",
       "------------------------------------------------------------------------------\n",
       "power_         1.0000        nan        nan        nan         nan         nan\n",
       "==============================================================================\n",
       "\"\"\""
      ]
     },
     "execution_count": 33,
     "metadata": {},
     "output_type": "execute_result"
    }
   ],
   "source": [
    "mcglmresults.summary()"
   ]
  },
  {
   "cell_type": "markdown",
   "metadata": {},
   "source": [
    "`Report Analysis`\n",
    "\n",
    "#### Header\n",
    "The report header brings information about parameters of mcglm, model's trait, and goodness-of-fit measurements. The default values for link and variance are `identity` and `constant`, which in this case, makes the algorithm behaves as Gaussian Mixed Models. Moreover, the goodness-of-fit measures pAIC, pBIC, and pLogLik are good information to retain: `1583.94`, `1603.1`, and `-785.97`.   \n",
    "\n",
    "   \n",
    "     \n",
    "---\n",
    "#### Beta coefficients  \n",
    "The Beta section diagnose the fixed-effects parameters, that is to say, the conclusion overall subjects.  \n",
    "\n",
    "    Intercept set at value 251.40. The straightforward takeaway is: At day 0, the average response time is roughly 251 seconds.\n",
    "    In addition, Days at 10.46 allude to total change to response time by unit changes on Days, for subjects with random effects set to 0.\n",
    "    Furthermore, by the results of the wald test on Days, we might conclude that days are statistically significant in the statistical model.\n",
    "---\n",
    "#### Dispersion parameters   \n",
    "The Dispersion parameters allude to random effects within individuals throughout the days.  \n",
    "\n",
    "    The first dispersion parameter is the variance across all data points. Calculated in 654.94.\n",
    "    The second dispersion parameter is the variance across all intercepts, which is 565.51.\n",
    "    The third dispersion parameter is the variance across all slopes. Calculated in 32.68. \n",
    "    The fourth dispersion parameter is the variance across intercepts and slopes. Calculated in 11.05.\n",
    "\n",
    "* Moreover, the correlation might be calculated through the formula = dispersion_4/(sqrt(dispersion_2 * dispersion_3)). Cell below shows the pearson correlation result, 0.0812.   "
   ]
  },
  {
   "cell_type": "code",
   "execution_count": 1,
   "metadata": {},
   "outputs": [
    {
     "data": {
      "text/plain": [
       "0.08128325928662013"
      ]
     },
     "execution_count": 1,
     "metadata": {},
     "output_type": "execute_result"
    }
   ],
   "source": [
    "import math\n",
    "\n",
    "11.05 / (math.sqrt(565.51 * 32.68))"
   ]
  },
  {
   "cell_type": "code",
   "execution_count": 35,
   "metadata": {},
   "outputs": [
    {
     "data": {
      "text/plain": [
       "Text(0, 0.5, 'pearson residuals')"
      ]
     },
     "execution_count": 35,
     "metadata": {},
     "output_type": "execute_result"
    },
    {
     "data": {
      "image/png": "[encoded data removed]",
      "text/plain": [
       "<Figure size 432x288 with 1 Axes>"
      ]
     },
     "metadata": {
      "needs_background": "light"
     },
     "output_type": "display_data"
    }
   ],
   "source": [
    "# Residual Analysis\n",
    "plt.scatter(mcglmresults.mu, mcglmresults.pearson_residuals)\n",
    "plt.xlabel(\"mu\")\n",
    "plt.ylabel(\"pearson residuals\")"
   ]
  },
  {
   "cell_type": "markdown",
   "metadata": {},
   "source": [
    "Residual analysis is easy through attributes `mu` and `pearson_residue`. The model fitting looks nearly adequate since the residues aren't distributed homogeneously.   \n",
    "The simple interface of `mcglm` allows to easily try different link and variance functions. As it follows, a `log`, `tweedie` model."
   ]
  },
  {
   "cell_type": "code",
   "execution_count": 36,
   "metadata": {},
   "outputs": [],
   "source": [
    "# Log and Tweedie with power 1.15\n",
    "mcglm = MCGLM(\n",
    "    endog=sleepstudy[\"Reaction\"],\n",
    "    exog=X,\n",
    "    z=Z,\n",
    "    link=\"log\",\n",
    "    variance=\"tweedie\",\n",
    "    power_fixed=True,\n",
    "    power=1.5,\n",
    ")\n",
    "\n",
    "mcglmresults = mcglm.fit()"
   ]
  },
  {
   "cell_type": "code",
   "execution_count": 37,
   "metadata": {},
   "outputs": [
    {
     "data": {
      "text/plain": [
       "(1579.29, 1598.45, -783.6453382374592)"
      ]
     },
     "execution_count": 37,
     "metadata": {},
     "output_type": "execute_result"
    }
   ],
   "source": [
    "mcglmresults.aic, mcglmresults.bic, mcglmresults.loglikelihood"
   ]
  },
  {
   "cell_type": "markdown",
   "metadata": {},
   "source": [
    "By the measures, these new parameters show the model is better."
   ]
  },
  {
   "cell_type": "code",
   "execution_count": 38,
   "metadata": {},
   "outputs": [
    {
     "data": {
      "text/plain": [
       "Text(0, 0.5, 'pearson residual')"
      ]
     },
     "execution_count": 38,
     "metadata": {},
     "output_type": "execute_result"
    },
    {
     "data": {
      "image/png": "[encoded data removed]",
      "text/plain": [
       "<Figure size 432x288 with 1 Axes>"
      ]
     },
     "metadata": {
      "needs_background": "light"
     },
     "output_type": "display_data"
    }
   ],
   "source": [
    "plt.scatter(mcglmresults.mu, mcglmresults.pearson_residuals)\n",
    "plt.xlabel(\"mu\")\n",
    "plt.ylabel(\"pearson residual\")"
   ]
  },
  {
   "cell_type": "markdown",
   "metadata": {},
   "source": [
    "The residual is slightly more homogenous than the first one."
   ]
  },
  {
   "cell_type": "markdown",
   "metadata": {},
   "source": [
    "### Second Example\n",
    " \n",
    "`Soya` is a dataset that stores an experiment of Universidade Federal da Grande Dourados in Dourados, Mato Grosso do Sul, Brazil. Description:    \n",
    "https://github.com/walmes/wzRfun/blob/master/R/wzRfun.R#L10   \n",
    "http://ccarevista.ufc.br/seer/index.php/ccarevista/article/view/1454  \n",
    "\n",
    "The experiment collected data about different treatments of `potassium`, `water`, and `blocks` for soil farming on buckets. All of those covariates are categorical. The response traits to be analyzed are: `grain size`, `total seeds`, and `viable peas`, which stands for the weight of hundred grains, total grain per bucket, and percentage of viable peas(green beans). In the following, MCGLM fits onto this data with three unique kinds of answers: continuous, count, and binomial."
   ]
  },
  {
   "cell_type": "code",
   "execution_count": 39,
   "metadata": {},
   "outputs": [],
   "source": [
    "soya = pd.read_csv(\n",
    "    \"data/fourth_simulation/soya.csv\",\n",
    "    dtype={\"block\": \"str\", \"water\": \"str\", \"pot\": \"str\"},\n",
    ")\n",
    "\n",
    "soya[\"viablegrain\"] = soya[\"viablepeas\"] / soya[\"totalpeas\"]"
   ]
  },
  {
   "cell_type": "code",
   "execution_count": 40,
   "metadata": {},
   "outputs": [
    {
     "data": {
      "text/html": [
       "<div>\n",
       "<style scoped>\n",
       "    .dataframe tbody tr th:only-of-type {\n",
       "        vertical-align: middle;\n",
       "    }\n",
       "\n",
       "    .dataframe tbody tr th {\n",
       "        vertical-align: top;\n",
       "    }\n",
       "\n",
       "    .dataframe thead th {\n",
       "        text-align: right;\n",
       "    }\n",
       "</style>\n",
       "<table border=\"1\" class=\"dataframe\">\n",
       "  <thead>\n",
       "    <tr style=\"text-align: right;\">\n",
       "      <th></th>\n",
       "      <th>pot</th>\n",
       "      <th>water</th>\n",
       "      <th>block</th>\n",
       "      <th>grain</th>\n",
       "      <th>seeds</th>\n",
       "      <th>viablepeas</th>\n",
       "      <th>totalpeas</th>\n",
       "      <th>viablegrain</th>\n",
       "    </tr>\n",
       "  </thead>\n",
       "  <tbody>\n",
       "    <tr>\n",
       "      <th>0</th>\n",
       "      <td>0</td>\n",
       "      <td>37.5</td>\n",
       "      <td>I</td>\n",
       "      <td>14.55</td>\n",
       "      <td>136</td>\n",
       "      <td>22</td>\n",
       "      <td>56</td>\n",
       "      <td>0.392857</td>\n",
       "    </tr>\n",
       "    <tr>\n",
       "      <th>1</th>\n",
       "      <td>30</td>\n",
       "      <td>37.5</td>\n",
       "      <td>I</td>\n",
       "      <td>21.51</td>\n",
       "      <td>159</td>\n",
       "      <td>2</td>\n",
       "      <td>62</td>\n",
       "      <td>0.032258</td>\n",
       "    </tr>\n",
       "    <tr>\n",
       "      <th>2</th>\n",
       "      <td>60</td>\n",
       "      <td>37.5</td>\n",
       "      <td>I</td>\n",
       "      <td>24.62</td>\n",
       "      <td>156</td>\n",
       "      <td>0</td>\n",
       "      <td>66</td>\n",
       "      <td>0.000000</td>\n",
       "    </tr>\n",
       "    <tr>\n",
       "      <th>3</th>\n",
       "      <td>120</td>\n",
       "      <td>37.5</td>\n",
       "      <td>I</td>\n",
       "      <td>21.88</td>\n",
       "      <td>171</td>\n",
       "      <td>2</td>\n",
       "      <td>68</td>\n",
       "      <td>0.029412</td>\n",
       "    </tr>\n",
       "    <tr>\n",
       "      <th>4</th>\n",
       "      <td>180</td>\n",
       "      <td>37.5</td>\n",
       "      <td>I</td>\n",
       "      <td>28.11</td>\n",
       "      <td>190</td>\n",
       "      <td>0</td>\n",
       "      <td>82</td>\n",
       "      <td>0.000000</td>\n",
       "    </tr>\n",
       "    <tr>\n",
       "      <th>5</th>\n",
       "      <td>0</td>\n",
       "      <td>50</td>\n",
       "      <td>I</td>\n",
       "      <td>17.16</td>\n",
       "      <td>140</td>\n",
       "      <td>20</td>\n",
       "      <td>63</td>\n",
       "      <td>0.317460</td>\n",
       "    </tr>\n",
       "    <tr>\n",
       "      <th>6</th>\n",
       "      <td>30</td>\n",
       "      <td>50</td>\n",
       "      <td>I</td>\n",
       "      <td>24.44</td>\n",
       "      <td>193</td>\n",
       "      <td>6</td>\n",
       "      <td>86</td>\n",
       "      <td>0.069767</td>\n",
       "    </tr>\n",
       "    <tr>\n",
       "      <th>7</th>\n",
       "      <td>60</td>\n",
       "      <td>50</td>\n",
       "      <td>I</td>\n",
       "      <td>28.50</td>\n",
       "      <td>200</td>\n",
       "      <td>6</td>\n",
       "      <td>94</td>\n",
       "      <td>0.063830</td>\n",
       "    </tr>\n",
       "    <tr>\n",
       "      <th>8</th>\n",
       "      <td>120</td>\n",
       "      <td>50</td>\n",
       "      <td>I</td>\n",
       "      <td>32.94</td>\n",
       "      <td>208</td>\n",
       "      <td>7</td>\n",
       "      <td>86</td>\n",
       "      <td>0.081395</td>\n",
       "    </tr>\n",
       "    <tr>\n",
       "      <th>9</th>\n",
       "      <td>180</td>\n",
       "      <td>50</td>\n",
       "      <td>I</td>\n",
       "      <td>28.76</td>\n",
       "      <td>237</td>\n",
       "      <td>10</td>\n",
       "      <td>97</td>\n",
       "      <td>0.103093</td>\n",
       "    </tr>\n",
       "  </tbody>\n",
       "</table>\n",
       "</div>"
      ],
      "text/plain": [
       "   pot water block  grain  seeds  viablepeas  totalpeas  viablegrain\n",
       "0    0  37.5     I  14.55    136          22         56     0.392857\n",
       "1   30  37.5     I  21.51    159           2         62     0.032258\n",
       "2   60  37.5     I  24.62    156           0         66     0.000000\n",
       "3  120  37.5     I  21.88    171           2         68     0.029412\n",
       "4  180  37.5     I  28.11    190           0         82     0.000000\n",
       "5    0    50     I  17.16    140          20         63     0.317460\n",
       "6   30    50     I  24.44    193           6         86     0.069767\n",
       "7   60    50     I  28.50    200           6         94     0.063830\n",
       "8  120    50     I  32.94    208           7         86     0.081395\n",
       "9  180    50     I  28.76    237          10         97     0.103093"
      ]
     },
     "execution_count": 40,
     "metadata": {},
     "output_type": "execute_result"
    }
   ],
   "source": [
    "# Top 10 rows of dataset\n",
    "soya.head(10)"
   ]
  },
  {
   "cell_type": "code",
   "execution_count": 41,
   "metadata": {},
   "outputs": [],
   "source": [
    "# percentual of peas.\n",
    "soya[\"viablePeas\"] = soya[\"viablepeas\"] / soya[\"totalpeas\"]\n",
    "\n",
    "# Design matrix.\n",
    "X = dmatrix(\"~ block + water * pot\", soya, return_type=\"dataframe\")"
   ]
  },
  {
   "cell_type": "code",
   "execution_count": 42,
   "metadata": {},
   "outputs": [
    {
     "data": {
      "image/png": "[encoded data removed]",
      "text/plain": [
       "<Figure size 576x432 with 4 Axes>"
      ]
     },
     "metadata": {
      "needs_background": "light"
     },
     "output_type": "display_data"
    }
   ],
   "source": [
    "# histogram of target variables.\n",
    "_ = soya[[\"grain\", \"seeds\", \"viablePeas\"]].hist(bins=35, figsize=(8, 6))"
   ]
  },
  {
   "cell_type": "markdown",
   "metadata": {},
   "source": [
    "Target variables `grain`, `seeds`, and `viablePeas` are continuous, count, and bounded/binomial, respectively. Three straightforward probability models for three responses are Gaussian, Poisson, and Binomial, as follows the specification for the model.  "
   ]
  },
  {
   "cell_type": "code",
   "execution_count": 43,
   "metadata": {},
   "outputs": [],
   "source": [
    "# Model Specification\n",
    "mcglm = MCGLM(\n",
    "    endog=[soya[\"grain\"], soya[\"seeds\"], soya[\"viablePeas\"]],\n",
    "    exog=[X, X, X],\n",
    "    z=[[mc_id(soya)], [mc_id(soya)], [mc_id(soya)]],\n",
    "    link=[\"identity\", \"log\", \"logit\"],\n",
    "    variance=[\"constant\", \"tweedie\", \"binomialP\"],\n",
    "    ntrial=[None, None, soya[\"totalpeas\"].values],\n",
    ")\n",
    "\n",
    "\n",
    "mcglmresults = mcglm.fit()"
   ]
  },
  {
   "cell_type": "code",
   "execution_count": 44,
   "metadata": {},
   "outputs": [
    {
     "data": {
      "text/html": [
       "<table class=\"simpletable\">\n",
       "<caption>Multivariate Covariance Generalized Linear Model</caption>\n",
       "<tr>\n",
       "  <th>Dep. Variable:</th>       <td>grain</td>      <th>  No. Iterations:    </th>    <td>10</td>    \n",
       "</tr>\n",
       "<tr>\n",
       "  <th>Model:</th>               <td>MCGLM</td>      <th>  No. Observations:  </th>    <td>75</td>    \n",
       "</tr>\n",
       "<tr>\n",
       "  <th>link:</th>              <td>identity</td>     <th>  Df Residuals:      </th>    <td>55</td>    \n",
       "</tr>\n",
       "<tr>\n",
       "  <th>variance:</th>          <td>constant</td>     <th>  Df Model:          </th>    <td>20</td>    \n",
       "</tr>\n",
       "<tr>\n",
       "  <th>Method:</th>        <td>Quasi-Likelihood</td> <th>  Power-fixed:       </th>   <td>True</td>   \n",
       "</tr>\n",
       "<tr>\n",
       "  <th>Date:</th>          <td>Mon, 17 Oct 2022</td> <th>  pAIC               </th>  <td>448.21</td>  \n",
       "</tr>\n",
       "<tr>\n",
       "  <th>Time:</th>              <td>07:30:58</td>     <th>  pBIC               </th>  <td>516.53</td>  \n",
       "</tr>\n",
       "<tr>\n",
       "  <th> </th>                      <td> </td>        <th>  pLogLik            </th> <td>-204.1064</td>\n",
       "</tr>\n",
       "</table>\n",
       "<table class=\"simpletable\">\n",
       "<tr>\n",
       "              <td></td>                <th>coef</th>     <th>std err</th>      <th>z</th>      <th>P>|z|</th>  <th>[0.025</th>    <th>0.975]</th>  \n",
       "</tr>\n",
       "<tr>\n",
       "  <th>Intercept</th>                <td>   14.2456</td> <td>    1.218</td> <td>   11.699</td> <td> 0.000</td> <td>   11.859</td> <td>   16.632</td>\n",
       "</tr>\n",
       "<tr>\n",
       "  <th>block[T.II]</th>              <td>    1.1324</td> <td>    0.880</td> <td>    1.286</td> <td> 0.198</td> <td>   -0.593</td> <td>    2.858</td>\n",
       "</tr>\n",
       "<tr>\n",
       "  <th>block[T.III]</th>             <td>   -0.7801</td> <td>    0.880</td> <td>   -0.886</td> <td> 0.376</td> <td>   -2.506</td> <td>    0.946</td>\n",
       "</tr>\n",
       "<tr>\n",
       "  <th>block[T.IV]</th>              <td>   -1.5492</td> <td>    0.880</td> <td>   -1.760</td> <td> 0.078</td> <td>   -3.275</td> <td>    0.176</td>\n",
       "</tr>\n",
       "<tr>\n",
       "  <th>block[T.V]</th>               <td>   -2.3871</td> <td>    0.880</td> <td>   -2.711</td> <td> 0.007</td> <td>   -4.113</td> <td>   -0.661</td>\n",
       "</tr>\n",
       "<tr>\n",
       "  <th>water[T.50]</th>              <td>    2.1661</td> <td>    1.531</td> <td>    1.415</td> <td> 0.157</td> <td>   -0.835</td> <td>    5.167</td>\n",
       "</tr>\n",
       "<tr>\n",
       "  <th>water[T.62.5]</th>            <td>    2.5404</td> <td>    1.531</td> <td>    1.659</td> <td> 0.097</td> <td>   -0.460</td> <td>    5.541</td>\n",
       "</tr>\n",
       "<tr>\n",
       "  <th>pot[T.120]</th>               <td>   11.7898</td> <td>    1.531</td> <td>    7.701</td> <td> 0.000</td> <td>    8.789</td> <td>   14.790</td>\n",
       "</tr>\n",
       "<tr>\n",
       "  <th>pot[T.180]</th>               <td>   11.8633</td> <td>    1.531</td> <td>    7.749</td> <td> 0.000</td> <td>    8.863</td> <td>   14.864</td>\n",
       "</tr>\n",
       "<tr>\n",
       "  <th>pot[T.30]</th>                <td>    6.7895</td> <td>    1.531</td> <td>    4.435</td> <td> 0.000</td> <td>    3.789</td> <td>    9.790</td>\n",
       "</tr>\n",
       "<tr>\n",
       "  <th>pot[T.60]</th>                <td>   10.3978</td> <td>    1.531</td> <td>    6.792</td> <td> 0.000</td> <td>    7.397</td> <td>   13.399</td>\n",
       "</tr>\n",
       "<tr>\n",
       "  <th>water[T.50]:pot[T.120]</th>   <td>    2.2543</td> <td>    2.165</td> <td>    1.041</td> <td> 0.298</td> <td>   -1.989</td> <td>    6.498</td>\n",
       "</tr>\n",
       "<tr>\n",
       "  <th>water[T.62.5]:pot[T.120]</th> <td>    5.5828</td> <td>    2.165</td> <td>    2.578</td> <td> 0.010</td> <td>    1.339</td> <td>    9.826</td>\n",
       "</tr>\n",
       "<tr>\n",
       "  <th>water[T.50]:pot[T.180]</th>   <td>    1.2096</td> <td>    2.165</td> <td>    0.559</td> <td> 0.576</td> <td>   -3.034</td> <td>    5.453</td>\n",
       "</tr>\n",
       "<tr>\n",
       "  <th>water[T.62.5]:pot[T.180]</th> <td>    9.2389</td> <td>    2.165</td> <td>    4.267</td> <td> 0.000</td> <td>    4.995</td> <td>   13.483</td>\n",
       "</tr>\n",
       "<tr>\n",
       "  <th>water[T.50]:pot[T.30]</th>    <td>    0.1067</td> <td>    2.165</td> <td>    0.049</td> <td> 0.961</td> <td>   -4.137</td> <td>    4.350</td>\n",
       "</tr>\n",
       "<tr>\n",
       "  <th>water[T.62.5]:pot[T.30]</th>  <td>   -1.8678</td> <td>    2.165</td> <td>   -0.863</td> <td> 0.388</td> <td>   -6.112</td> <td>    2.376</td>\n",
       "</tr>\n",
       "<tr>\n",
       "  <th>water[T.50]:pot[T.60]</th>    <td>    2.6034</td> <td>    2.165</td> <td>    1.202</td> <td> 0.229</td> <td>   -1.640</td> <td>    6.847</td>\n",
       "</tr>\n",
       "<tr>\n",
       "  <th>water[T.62.5]:pot[T.60]</th>  <td>    3.3586</td> <td>    2.165</td> <td>    1.551</td> <td> 0.121</td> <td>   -0.885</td> <td>    7.602</td>\n",
       "</tr>\n",
       "</table>\n",
       "<table class=\"simpletable\">\n",
       "<tr>\n",
       "        <td></td>          <th>coef</th>     <th>std err</th>      <th>z</th>      <th>P>|z|</th>  <th>[0.025</th>    <th>0.975]</th>  \n",
       "</tr>\n",
       "<tr>\n",
       "  <th>dispersion_1</th> <td>    5.8620</td> <td>    1.671</td> <td>    3.508</td> <td> 0.000</td> <td>    2.587</td> <td>    9.137</td>\n",
       "</tr>\n",
       "</table>\n",
       "<table class=\"simpletable\">\n",
       "<tr>\n",
       "     <td></td>       <th>coef</th>     <th>std err</th>      <th>z</th>      <th>P>|z|</th>  <th>[0.025</th>    <th>0.975]</th>  \n",
       "</tr>\n",
       "<tr>\n",
       "  <th>power_</th> <td>    1.0000</td> <td>      nan</td> <td>      nan</td> <td>   nan</td> <td>      nan</td> <td>      nan</td>\n",
       "</tr>\n",
       "</table>\n",
       "<table class=\"simpletable\">\n",
       "<caption>Multivariate Covariance Generalized Linear Model</caption>\n",
       "<tr>\n",
       "  <th>Dep. Variable:</th>       <td>seeds</td>      <th>  No. Iterations:    </th>    <td>10</td>    \n",
       "</tr>\n",
       "<tr>\n",
       "  <th>Model:</th>               <td>MCGLM</td>      <th>  No. Observations:  </th>    <td>75</td>    \n",
       "</tr>\n",
       "<tr>\n",
       "  <th>link:</th>                 <td>log</td>       <th>  Df Residuals:      </th>    <td>55</td>    \n",
       "</tr>\n",
       "<tr>\n",
       "  <th>variance:</th>           <td>tweedie</td>     <th>  Df Model:          </th>    <td>20</td>    \n",
       "</tr>\n",
       "<tr>\n",
       "  <th>Method:</th>        <td>Quasi-Likelihood</td> <th>  Power-fixed:       </th>   <td>True</td>   \n",
       "</tr>\n",
       "<tr>\n",
       "  <th>Date:</th>          <td>Mon, 17 Oct 2022</td> <th>  pAIC               </th>  <td>448.21</td>  \n",
       "</tr>\n",
       "<tr>\n",
       "  <th>Time:</th>              <td>07:30:58</td>     <th>  pBIC               </th>  <td>516.53</td>  \n",
       "</tr>\n",
       "<tr>\n",
       "  <th> </th>                      <td> </td>        <th>  pLogLik            </th> <td>-204.1064</td>\n",
       "</tr>\n",
       "</table>\n",
       "<table class=\"simpletable\">\n",
       "<tr>\n",
       "              <td></td>                <th>coef</th>     <th>std err</th>      <th>z</th>      <th>P>|z|</th>  <th>[0.025</th>    <th>0.975]</th>  \n",
       "</tr>\n",
       "<tr>\n",
       "  <th>Intercept</th>                <td>    4.8074</td> <td>    0.066</td> <td>   73.099</td> <td> 0.000</td> <td>    4.679</td> <td>    4.936</td>\n",
       "</tr>\n",
       "<tr>\n",
       "  <th>block[T.II]</th>              <td>   -0.0182</td> <td>    0.039</td> <td>   -0.469</td> <td> 0.639</td> <td>   -0.094</td> <td>    0.058</td>\n",
       "</tr>\n",
       "<tr>\n",
       "  <th>block[T.III]</th>             <td>   -0.0330</td> <td>    0.039</td> <td>   -0.845</td> <td> 0.398</td> <td>   -0.110</td> <td>    0.044</td>\n",
       "</tr>\n",
       "<tr>\n",
       "  <th>block[T.IV]</th>              <td>   -0.1066</td> <td>    0.040</td> <td>   -2.678</td> <td> 0.007</td> <td>   -0.185</td> <td>   -0.029</td>\n",
       "</tr>\n",
       "<tr>\n",
       "  <th>block[T.V]</th>               <td>   -0.1262</td> <td>    0.040</td> <td>   -3.154</td> <td> 0.002</td> <td>   -0.205</td> <td>   -0.048</td>\n",
       "</tr>\n",
       "<tr>\n",
       "  <th>water[T.50]</th>              <td>    0.1322</td> <td>    0.084</td> <td>    1.579</td> <td> 0.114</td> <td>   -0.032</td> <td>    0.296</td>\n",
       "</tr>\n",
       "<tr>\n",
       "  <th>water[T.62.5]</th>            <td>    0.1864</td> <td>    0.083</td> <td>    2.255</td> <td> 0.024</td> <td>    0.024</td> <td>    0.348</td>\n",
       "</tr>\n",
       "<tr>\n",
       "  <th>pot[T.120]</th>               <td>    0.3672</td> <td>    0.079</td> <td>    4.620</td> <td> 0.000</td> <td>    0.211</td> <td>    0.523</td>\n",
       "</tr>\n",
       "<tr>\n",
       "  <th>pot[T.180]</th>               <td>    0.2945</td> <td>    0.081</td> <td>    3.649</td> <td> 0.000</td> <td>    0.136</td> <td>    0.453</td>\n",
       "</tr>\n",
       "<tr>\n",
       "  <th>pot[T.30]</th>                <td>    0.2980</td> <td>    0.081</td> <td>    3.695</td> <td> 0.000</td> <td>    0.140</td> <td>    0.456</td>\n",
       "</tr>\n",
       "<tr>\n",
       "  <th>pot[T.60]</th>                <td>    0.3444</td> <td>    0.080</td> <td>    4.312</td> <td> 0.000</td> <td>    0.188</td> <td>    0.501</td>\n",
       "</tr>\n",
       "<tr>\n",
       "  <th>water[T.50]:pot[T.120]</th>   <td>    0.1159</td> <td>    0.108</td> <td>    1.076</td> <td> 0.282</td> <td>   -0.095</td> <td>    0.327</td>\n",
       "</tr>\n",
       "<tr>\n",
       "  <th>water[T.62.5]:pot[T.120]</th> <td>    0.0698</td> <td>    0.107</td> <td>    0.653</td> <td> 0.514</td> <td>   -0.140</td> <td>    0.279</td>\n",
       "</tr>\n",
       "<tr>\n",
       "  <th>water[T.50]:pot[T.180]</th>   <td>    0.2905</td> <td>    0.108</td> <td>    2.697</td> <td> 0.007</td> <td>    0.079</td> <td>    0.502</td>\n",
       "</tr>\n",
       "<tr>\n",
       "  <th>water[T.62.5]:pot[T.180]</th> <td>    0.2166</td> <td>    0.107</td> <td>    2.022</td> <td> 0.043</td> <td>    0.007</td> <td>    0.426</td>\n",
       "</tr>\n",
       "<tr>\n",
       "  <th>water[T.50]:pot[T.30]</th>    <td>    0.0425</td> <td>    0.110</td> <td>    0.386</td> <td> 0.699</td> <td>   -0.173</td> <td>    0.258</td>\n",
       "</tr>\n",
       "<tr>\n",
       "  <th>water[T.62.5]:pot[T.30]</th>  <td>   -0.1372</td> <td>    0.111</td> <td>   -1.241</td> <td> 0.215</td> <td>   -0.354</td> <td>    0.080</td>\n",
       "</tr>\n",
       "<tr>\n",
       "  <th>water[T.50]:pot[T.60]</th>    <td>    0.1161</td> <td>    0.108</td> <td>    1.073</td> <td> 0.283</td> <td>   -0.096</td> <td>    0.328</td>\n",
       "</tr>\n",
       "<tr>\n",
       "  <th>water[T.62.5]:pot[T.60]</th>  <td>    0.0902</td> <td>    0.107</td> <td>    0.842</td> <td> 0.400</td> <td>   -0.120</td> <td>    0.300</td>\n",
       "</tr>\n",
       "</table>\n",
       "<table class=\"simpletable\">\n",
       "<tr>\n",
       "        <td></td>          <th>coef</th>     <th>std err</th>      <th>z</th>      <th>P>|z|</th>  <th>[0.025</th>    <th>0.975]</th>  \n",
       "</tr>\n",
       "<tr>\n",
       "  <th>dispersion_1</th> <td>    2.1620</td> <td>    0.429</td> <td>    5.035</td> <td> 0.000</td> <td>    1.320</td> <td>    3.004</td>\n",
       "</tr>\n",
       "</table>\n",
       "<table class=\"simpletable\">\n",
       "<tr>\n",
       "     <td></td>       <th>coef</th>     <th>std err</th>      <th>z</th>      <th>P>|z|</th>  <th>[0.025</th>    <th>0.975]</th>  \n",
       "</tr>\n",
       "<tr>\n",
       "  <th>power_</th> <td>    1.0000</td> <td>      nan</td> <td>      nan</td> <td>   nan</td> <td>      nan</td> <td>      nan</td>\n",
       "</tr>\n",
       "</table>\n",
       "<table class=\"simpletable\">\n",
       "<caption>Multivariate Covariance Generalized Linear Model</caption>\n",
       "<tr>\n",
       "  <th>Dep. Variable:</th>    <td>viablePeas</td>    <th>  No. Iterations:    </th>    <td>10</td>    \n",
       "</tr>\n",
       "<tr>\n",
       "  <th>Model:</th>               <td>MCGLM</td>      <th>  No. Observations:  </th>    <td>75</td>    \n",
       "</tr>\n",
       "<tr>\n",
       "  <th>link:</th>                <td>logit</td>      <th>  Df Residuals:      </th>    <td>55</td>    \n",
       "</tr>\n",
       "<tr>\n",
       "  <th>variance:</th>          <td>binomialP</td>    <th>  Df Model:          </th>    <td>20</td>    \n",
       "</tr>\n",
       "<tr>\n",
       "  <th>Method:</th>        <td>Quasi-Likelihood</td> <th>  Power-fixed:       </th>   <td>True</td>   \n",
       "</tr>\n",
       "<tr>\n",
       "  <th>Date:</th>          <td>Mon, 17 Oct 2022</td> <th>  pAIC               </th>  <td>448.21</td>  \n",
       "</tr>\n",
       "<tr>\n",
       "  <th>Time:</th>              <td>07:30:58</td>     <th>  pBIC               </th>  <td>516.53</td>  \n",
       "</tr>\n",
       "<tr>\n",
       "  <th> </th>                      <td> </td>        <th>  pLogLik            </th> <td>-204.1064</td>\n",
       "</tr>\n",
       "</table>\n",
       "<table class=\"simpletable\">\n",
       "<tr>\n",
       "              <td></td>                <th>coef</th>     <th>std err</th>      <th>z</th>      <th>P>|z|</th>  <th>[0.025</th>    <th>0.975]</th>  \n",
       "</tr>\n",
       "<tr>\n",
       "  <th>Intercept</th>                <td>   -0.8360</td> <td>    0.197</td> <td>   -4.242</td> <td> 0.000</td> <td>   -1.222</td> <td>   -0.450</td>\n",
       "</tr>\n",
       "<tr>\n",
       "  <th>block[T.II]</th>              <td>   -0.4383</td> <td>    0.188</td> <td>   -2.329</td> <td> 0.020</td> <td>   -0.807</td> <td>   -0.070</td>\n",
       "</tr>\n",
       "<tr>\n",
       "  <th>block[T.III]</th>             <td>   -0.1671</td> <td>    0.183</td> <td>   -0.914</td> <td> 0.361</td> <td>   -0.525</td> <td>    0.191</td>\n",
       "</tr>\n",
       "<tr>\n",
       "  <th>block[T.IV]</th>              <td>   -0.1877</td> <td>    0.183</td> <td>   -1.023</td> <td> 0.306</td> <td>   -0.547</td> <td>    0.172</td>\n",
       "</tr>\n",
       "<tr>\n",
       "  <th>block[T.V]</th>               <td>   -0.2926</td> <td>    0.187</td> <td>   -1.564</td> <td> 0.118</td> <td>   -0.659</td> <td>    0.074</td>\n",
       "</tr>\n",
       "<tr>\n",
       "  <th>water[T.50]</th>              <td>    0.5675</td> <td>    0.218</td> <td>    2.604</td> <td> 0.009</td> <td>    0.140</td> <td>    0.995</td>\n",
       "</tr>\n",
       "<tr>\n",
       "  <th>water[T.62.5]</th>            <td>    0.2414</td> <td>    0.219</td> <td>    1.102</td> <td> 0.271</td> <td>   -0.188</td> <td>    0.671</td>\n",
       "</tr>\n",
       "<tr>\n",
       "  <th>pot[T.120]</th>               <td>   -3.3915</td> <td>    0.597</td> <td>   -5.682</td> <td> 0.000</td> <td>   -4.561</td> <td>   -2.222</td>\n",
       "</tr>\n",
       "<tr>\n",
       "  <th>pot[T.180]</th>               <td>   -3.6309</td> <td>    0.685</td> <td>   -5.300</td> <td> 0.000</td> <td>   -4.974</td> <td>   -2.288</td>\n",
       "</tr>\n",
       "<tr>\n",
       "  <th>pot[T.30]</th>                <td>   -1.8455</td> <td>    0.329</td> <td>   -5.601</td> <td> 0.000</td> <td>   -2.491</td> <td>   -1.200</td>\n",
       "</tr>\n",
       "<tr>\n",
       "  <th>pot[T.60]</th>                <td>   -3.1518</td> <td>    0.541</td> <td>   -5.826</td> <td> 0.000</td> <td>   -4.212</td> <td>   -2.091</td>\n",
       "</tr>\n",
       "<tr>\n",
       "  <th>water[T.50]:pot[T.120]</th>   <td>    0.6881</td> <td>    0.672</td> <td>    1.024</td> <td> 0.306</td> <td>   -0.629</td> <td>    2.005</td>\n",
       "</tr>\n",
       "<tr>\n",
       "  <th>water[T.62.5]:pot[T.120]</th> <td>   -0.8358</td> <td>    0.910</td> <td>   -0.918</td> <td> 0.358</td> <td>   -2.620</td> <td>    0.948</td>\n",
       "</tr>\n",
       "<tr>\n",
       "  <th>water[T.50]:pot[T.180]</th>   <td>    1.2730</td> <td>    0.735</td> <td>    1.732</td> <td> 0.083</td> <td>   -0.167</td> <td>    2.713</td>\n",
       "</tr>\n",
       "<tr>\n",
       "  <th>water[T.62.5]:pot[T.180]</th> <td>    0.0683</td> <td>    0.842</td> <td>    0.081</td> <td> 0.935</td> <td>   -1.581</td> <td>    1.718</td>\n",
       "</tr>\n",
       "<tr>\n",
       "  <th>water[T.50]:pot[T.30]</th>    <td>   -0.2773</td> <td>    0.425</td> <td>   -0.653</td> <td> 0.514</td> <td>   -1.110</td> <td>    0.555</td>\n",
       "</tr>\n",
       "<tr>\n",
       "  <th>water[T.62.5]:pot[T.30]</th>  <td>    0.8046</td> <td>    0.400</td> <td>    2.013</td> <td> 0.044</td> <td>    0.021</td> <td>    1.588</td>\n",
       "</tr>\n",
       "<tr>\n",
       "  <th>water[T.50]:pot[T.60]</th>    <td>    0.4598</td> <td>    0.622</td> <td>    0.739</td> <td> 0.460</td> <td>   -0.760</td> <td>    1.680</td>\n",
       "</tr>\n",
       "<tr>\n",
       "  <th>water[T.62.5]:pot[T.60]</th>  <td>    0.6312</td> <td>    0.630</td> <td>    1.002</td> <td> 0.316</td> <td>   -0.604</td> <td>    1.866</td>\n",
       "</tr>\n",
       "</table>\n",
       "<table class=\"simpletable\">\n",
       "<tr>\n",
       "        <td></td>          <th>coef</th>     <th>std err</th>      <th>z</th>      <th>P>|z|</th>  <th>[0.025</th>    <th>0.975]</th>  \n",
       "</tr>\n",
       "<tr>\n",
       "  <th>dispersion_1</th> <td>    1.2970</td> <td>    0.245</td> <td>    5.293</td> <td> 0.000</td> <td>    0.817</td> <td>    1.777</td>\n",
       "</tr>\n",
       "</table>\n",
       "<table class=\"simpletable\">\n",
       "<tr>\n",
       "     <td></td>       <th>coef</th>     <th>std err</th>      <th>z</th>      <th>P>|z|</th>  <th>[0.025</th>    <th>0.975]</th>  \n",
       "</tr>\n",
       "<tr>\n",
       "  <th>power_</th> <td>    1.0000</td> <td>      nan</td> <td>      nan</td> <td>   nan</td> <td>      nan</td> <td>      nan</td>\n",
       "</tr>\n",
       "</table>\n",
       "<table class=\"simpletable\">\n",
       "<tr>\n",
       "    <td></td>       <th>coef</th>     <th>std err</th>      <th>z</th>      <th>P>|z|</th>  <th>[0.025</th>    <th>0.975]</th>  \n",
       "</tr>\n",
       "<tr>\n",
       "  <th>rho_1</th> <td>    0.6368</td> <td>    0.107</td> <td>    5.928</td> <td> 0.000</td> <td>    0.426</td> <td>    0.847</td>\n",
       "</tr>\n",
       "<tr>\n",
       "  <th>rho_2</th> <td>    0.0695</td> <td>    0.115</td> <td>    0.603</td> <td> 0.546</td> <td>   -0.156</td> <td>    0.295</td>\n",
       "</tr>\n",
       "<tr>\n",
       "  <th>rho_3</th> <td>    0.0878</td> <td>    0.115</td> <td>    0.765</td> <td> 0.444</td> <td>   -0.137</td> <td>    0.313</td>\n",
       "</tr>\n",
       "</table>"
      ],
      "text/plain": [
       "<class 'statsmodels.iolib.summary.Summary'>\n",
       "\"\"\"\n",
       "               Multivariate Covariance Generalized Linear Model               \n",
       "==============================================================================\n",
       "Dep. Variable:                  grain   No. Iterations:                     10\n",
       "Model:                          MCGLM   No. Observations:                   75\n",
       "link:                        identity   Df Residuals:                       55\n",
       "variance:                    constant   Df Model:                           20\n",
       "Method:              Quasi-Likelihood   Power-fixed:                      True\n",
       "Date:                Mon, 17 Oct 2022   pAIC                            448.21\n",
       "Time:                        07:30:58   pBIC                            516.53\n",
       "                                        pLogLik                      -204.1064\n",
       "============================================================================================\n",
       "                               coef    std err          z      P>|z|      [0.025      0.975]\n",
       "--------------------------------------------------------------------------------------------\n",
       "Intercept                   14.2456      1.218     11.699      0.000      11.859      16.632\n",
       "block[T.II]                  1.1324      0.880      1.286      0.198      -0.593       2.858\n",
       "block[T.III]                -0.7801      0.880     -0.886      0.376      -2.506       0.946\n",
       "block[T.IV]                 -1.5492      0.880     -1.760      0.078      -3.275       0.176\n",
       "block[T.V]                  -2.3871      0.880     -2.711      0.007      -4.113      -0.661\n",
       "water[T.50]                  2.1661      1.531      1.415      0.157      -0.835       5.167\n",
       "water[T.62.5]                2.5404      1.531      1.659      0.097      -0.460       5.541\n",
       "pot[T.120]                  11.7898      1.531      7.701      0.000       8.789      14.790\n",
       "pot[T.180]                  11.8633      1.531      7.749      0.000       8.863      14.864\n",
       "pot[T.30]                    6.7895      1.531      4.435      0.000       3.789       9.790\n",
       "pot[T.60]                   10.3978      1.531      6.792      0.000       7.397      13.399\n",
       "water[T.50]:pot[T.120]       2.2543      2.165      1.041      0.298      -1.989       6.498\n",
       "water[T.62.5]:pot[T.120]     5.5828      2.165      2.578      0.010       1.339       9.826\n",
       "water[T.50]:pot[T.180]       1.2096      2.165      0.559      0.576      -3.034       5.453\n",
       "water[T.62.5]:pot[T.180]     9.2389      2.165      4.267      0.000       4.995      13.483\n",
       "water[T.50]:pot[T.30]        0.1067      2.165      0.049      0.961      -4.137       4.350\n",
       "water[T.62.5]:pot[T.30]     -1.8678      2.165     -0.863      0.388      -6.112       2.376\n",
       "water[T.50]:pot[T.60]        2.6034      2.165      1.202      0.229      -1.640       6.847\n",
       "water[T.62.5]:pot[T.60]      3.3586      2.165      1.551      0.121      -0.885       7.602\n",
       "================================================================================\n",
       "                   coef    std err          z      P>|z|      [0.025      0.975]\n",
       "--------------------------------------------------------------------------------\n",
       "dispersion_1     5.8620      1.671      3.508      0.000       2.587       9.137\n",
       "==============================================================================\n",
       "                 coef    std err          z      P>|z|      [0.025      0.975]\n",
       "------------------------------------------------------------------------------\n",
       "power_         1.0000        nan        nan        nan         nan         nan\n",
       "               Multivariate Covariance Generalized Linear Model               \n",
       "==============================================================================\n",
       "Dep. Variable:                  seeds   No. Iterations:                     10\n",
       "Model:                          MCGLM   No. Observations:                   75\n",
       "link:                             log   Df Residuals:                       55\n",
       "variance:                     tweedie   Df Model:                           20\n",
       "Method:              Quasi-Likelihood   Power-fixed:                      True\n",
       "Date:                Mon, 17 Oct 2022   pAIC                            448.21\n",
       "Time:                        07:30:58   pBIC                            516.53\n",
       "                                        pLogLik                      -204.1064\n",
       "============================================================================================\n",
       "                               coef    std err          z      P>|z|      [0.025      0.975]\n",
       "--------------------------------------------------------------------------------------------\n",
       "Intercept                    4.8074      0.066     73.099      0.000       4.679       4.936\n",
       "block[T.II]                 -0.0182      0.039     -0.469      0.639      -0.094       0.058\n",
       "block[T.III]                -0.0330      0.039     -0.845      0.398      -0.110       0.044\n",
       "block[T.IV]                 -0.1066      0.040     -2.678      0.007      -0.185      -0.029\n",
       "block[T.V]                  -0.1262      0.040     -3.154      0.002      -0.205      -0.048\n",
       "water[T.50]                  0.1322      0.084      1.579      0.114      -0.032       0.296\n",
       "water[T.62.5]                0.1864      0.083      2.255      0.024       0.024       0.348\n",
       "pot[T.120]                   0.3672      0.079      4.620      0.000       0.211       0.523\n",
       "pot[T.180]                   0.2945      0.081      3.649      0.000       0.136       0.453\n",
       "pot[T.30]                    0.2980      0.081      3.695      0.000       0.140       0.456\n",
       "pot[T.60]                    0.3444      0.080      4.312      0.000       0.188       0.501\n",
       "water[T.50]:pot[T.120]       0.1159      0.108      1.076      0.282      -0.095       0.327\n",
       "water[T.62.5]:pot[T.120]     0.0698      0.107      0.653      0.514      -0.140       0.279\n",
       "water[T.50]:pot[T.180]       0.2905      0.108      2.697      0.007       0.079       0.502\n",
       "water[T.62.5]:pot[T.180]     0.2166      0.107      2.022      0.043       0.007       0.426\n",
       "water[T.50]:pot[T.30]        0.0425      0.110      0.386      0.699      -0.173       0.258\n",
       "water[T.62.5]:pot[T.30]     -0.1372      0.111     -1.241      0.215      -0.354       0.080\n",
       "water[T.50]:pot[T.60]        0.1161      0.108      1.073      0.283      -0.096       0.328\n",
       "water[T.62.5]:pot[T.60]      0.0902      0.107      0.842      0.400      -0.120       0.300\n",
       "================================================================================\n",
       "                   coef    std err          z      P>|z|      [0.025      0.975]\n",
       "--------------------------------------------------------------------------------\n",
       "dispersion_1     2.1620      0.429      5.035      0.000       1.320       3.004\n",
       "==============================================================================\n",
       "                 coef    std err          z      P>|z|      [0.025      0.975]\n",
       "------------------------------------------------------------------------------\n",
       "power_         1.0000        nan        nan        nan         nan         nan\n",
       "               Multivariate Covariance Generalized Linear Model               \n",
       "==============================================================================\n",
       "Dep. Variable:             viablePeas   No. Iterations:                     10\n",
       "Model:                          MCGLM   No. Observations:                   75\n",
       "link:                           logit   Df Residuals:                       55\n",
       "variance:                   binomialP   Df Model:                           20\n",
       "Method:              Quasi-Likelihood   Power-fixed:                      True\n",
       "Date:                Mon, 17 Oct 2022   pAIC                            448.21\n",
       "Time:                        07:30:58   pBIC                            516.53\n",
       "                                        pLogLik                      -204.1064\n",
       "============================================================================================\n",
       "                               coef    std err          z      P>|z|      [0.025      0.975]\n",
       "--------------------------------------------------------------------------------------------\n",
       "Intercept                   -0.8360      0.197     -4.242      0.000      -1.222      -0.450\n",
       "block[T.II]                 -0.4383      0.188     -2.329      0.020      -0.807      -0.070\n",
       "block[T.III]                -0.1671      0.183     -0.914      0.361      -0.525       0.191\n",
       "block[T.IV]                 -0.1877      0.183     -1.023      0.306      -0.547       0.172\n",
       "block[T.V]                  -0.2926      0.187     -1.564      0.118      -0.659       0.074\n",
       "water[T.50]                  0.5675      0.218      2.604      0.009       0.140       0.995\n",
       "water[T.62.5]                0.2414      0.219      1.102      0.271      -0.188       0.671\n",
       "pot[T.120]                  -3.3915      0.597     -5.682      0.000      -4.561      -2.222\n",
       "pot[T.180]                  -3.6309      0.685     -5.300      0.000      -4.974      -2.288\n",
       "pot[T.30]                   -1.8455      0.329     -5.601      0.000      -2.491      -1.200\n",
       "pot[T.60]                   -3.1518      0.541     -5.826      0.000      -4.212      -2.091\n",
       "water[T.50]:pot[T.120]       0.6881      0.672      1.024      0.306      -0.629       2.005\n",
       "water[T.62.5]:pot[T.120]    -0.8358      0.910     -0.918      0.358      -2.620       0.948\n",
       "water[T.50]:pot[T.180]       1.2730      0.735      1.732      0.083      -0.167       2.713\n",
       "water[T.62.5]:pot[T.180]     0.0683      0.842      0.081      0.935      -1.581       1.718\n",
       "water[T.50]:pot[T.30]       -0.2773      0.425     -0.653      0.514      -1.110       0.555\n",
       "water[T.62.5]:pot[T.30]      0.8046      0.400      2.013      0.044       0.021       1.588\n",
       "water[T.50]:pot[T.60]        0.4598      0.622      0.739      0.460      -0.760       1.680\n",
       "water[T.62.5]:pot[T.60]      0.6312      0.630      1.002      0.316      -0.604       1.866\n",
       "================================================================================\n",
       "                   coef    std err          z      P>|z|      [0.025      0.975]\n",
       "--------------------------------------------------------------------------------\n",
       "dispersion_1     1.2970      0.245      5.293      0.000       0.817       1.777\n",
       "==============================================================================\n",
       "                 coef    std err          z      P>|z|      [0.025      0.975]\n",
       "------------------------------------------------------------------------------\n",
       "power_         1.0000        nan        nan        nan         nan         nan\n",
       "==============================================================================\n",
       "                 coef    std err          z      P>|z|      [0.025      0.975]\n",
       "------------------------------------------------------------------------------\n",
       "rho_1          0.6368      0.107      5.928      0.000       0.426       0.847\n",
       "rho_2          0.0695      0.115      0.603      0.546      -0.156       0.295\n",
       "rho_3          0.0878      0.115      0.765      0.444      -0.137       0.313\n",
       "==============================================================================\n",
       "\"\"\""
      ]
     },
     "execution_count": 44,
     "metadata": {},
     "output_type": "execute_result"
    }
   ],
   "source": [
    "mcglmresults.summary()"
   ]
  },
  {
   "cell_type": "markdown",
   "metadata": {},
   "source": [
    "The three responses have generated a three-section report. As it follows, a analysis per response.\n",
    "\n",
    "---\n",
    "`grain` size.\n",
    "\n",
    "The grain response was fitted with default parameters, `identity` and `constant`, generating a near homoscedastic linear model. Among covariates `block`, `water` and `potassium`, by Wald test, potassium levels are statistically significant for the model; the higher potassium level, bigger grain size. Variance constant on 5.862.   \n",
    "\n",
    "Residual analysis:"
   ]
  },
  {
   "cell_type": "code",
   "execution_count": 45,
   "metadata": {},
   "outputs": [
    {
     "data": {
      "text/plain": [
       "Text(0, 0.5, 'pearson residual')"
      ]
     },
     "execution_count": 45,
     "metadata": {},
     "output_type": "execute_result"
    },
    {
     "data": {
      "image/png": "[encoded data removed]",
      "text/plain": [
       "<Figure size 432x288 with 1 Axes>"
      ]
     },
     "metadata": {
      "needs_background": "light"
     },
     "output_type": "display_data"
    }
   ],
   "source": [
    "# grain. residual analysis\n",
    "plt.scatter(mcglmresults.mu[0], mcglmresults.pearson_residuals[0])\n",
    "plt.xlabel(\"mu\")\n",
    "plt.ylabel(\"pearson residual\")"
   ]
  },
  {
   "cell_type": "markdown",
   "metadata": {},
   "source": [
    "Despite the outlier, the fit seems pretty good."
   ]
  },
  {
   "cell_type": "markdown",
   "metadata": {},
   "source": [
    "---\n",
    "`seed` count.\n",
    "\n",
    "As long as seed is a count variable, a straightforward and canonical way to model it is Poisson. Two out of three covariates are statistically significant on `seed`: potassium, for every level; and black for level V.\n",
    "\n",
    "Residual analysis:"
   ]
  },
  {
   "cell_type": "code",
   "execution_count": 46,
   "metadata": {},
   "outputs": [
    {
     "data": {
      "text/plain": [
       "Text(0, 0.5, 'pearson residual')"
      ]
     },
     "execution_count": 46,
     "metadata": {},
     "output_type": "execute_result"
    },
    {
     "data": {
      "image/png": "[encoded data removed]",
      "text/plain": [
       "<Figure size 432x288 with 1 Axes>"
      ]
     },
     "metadata": {
      "needs_background": "light"
     },
     "output_type": "display_data"
    }
   ],
   "source": [
    "# seeds. residual analysis\n",
    "plt.scatter(mcglmresults.mu[1], mcglmresults.pearson_residuals[1])\n",
    "plt.xlabel(\"mu\")\n",
    "plt.ylabel(\"pearson residual\")"
   ]
  },
  {
   "cell_type": "markdown",
   "metadata": {},
   "source": [
    "Notwithstanding the outlier, the fit seems pretty good."
   ]
  },
  {
   "cell_type": "markdown",
   "metadata": {},
   "source": [
    "---\n",
    "Percentage of `viable peas`.\n",
    "\n",
    "Binomial N trials is the adequate model for bounded data. Perhaps, the most popular solution to fit is the `Logit` link, the one used. Among covariates, only potassium level 30, and water level 50 are statistically significant with Viable Peas.\n",
    "\n",
    "Residual Analysis:"
   ]
  },
  {
   "cell_type": "code",
   "execution_count": 47,
   "metadata": {},
   "outputs": [
    {
     "data": {
      "text/plain": [
       "Text(0, 0.5, 'pearson residual')"
      ]
     },
     "execution_count": 47,
     "metadata": {},
     "output_type": "execute_result"
    },
    {
     "data": {
      "image/png": "[encoded data removed]",
      "text/plain": [
       "<Figure size 432x288 with 1 Axes>"
      ]
     },
     "metadata": {
      "needs_background": "light"
     },
     "output_type": "display_data"
    }
   ],
   "source": [
    "# viablepeasP. residual analysis\n",
    "plt.scatter(mcglmresults.mu[2], mcglmresults.pearson_residuals[2])\n",
    "plt.xlabel(\"mu\")\n",
    "plt.ylabel(\"pearson residual\")"
   ]
  },
  {
   "cell_type": "markdown",
   "metadata": {},
   "source": [
    "The model has not fitted well. It is possible to try out different values for link and variance functions. Suppose it does not improve the model fit. In that case, it will let us conclude a non-assessment for the percentage of viable peas from current covariates.   \n",
    "\n",
    "The last three components rhos allude to the correlation coefficient among responses. \n",
    " * rho_1 stands for grain size and whole seeds, with a considerable Pearson correlation of 0.63.\n",
    " * rho_2 and rho_3 stand for correlation between grain size and viable peas, seed count, and viable peas, respectively. Both correlations are low. "
   ]
  }
 ],
 "metadata": {
  "interpreter": {
   "hash": "292a92f942c44310edbaf6ce4db4e4ccb458e054a9c180d41d409955ea285efe"
  },
  "kernelspec": {
   "display_name": "Python 3 (ipykernel)",
   "language": "python",
   "name": "python3"
  },
  "language_info": {
   "codemirror_mode": {
    "name": "ipython",
    "version": 3
   },
   "file_extension": ".py",
   "mimetype": "text/x-python",
   "name": "python",
   "nbconvert_exporter": "python",
   "pygments_lexer": "ipython3",
   "version": "3.9.5"
  }
 },
 "nbformat": 4,
 "nbformat_minor": 4
}
