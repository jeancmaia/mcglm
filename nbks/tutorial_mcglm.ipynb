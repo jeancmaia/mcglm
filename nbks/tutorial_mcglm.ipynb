{
 "cells": [
  {
   "cell_type": "markdown",
   "metadata": {},
   "source": [
    "This notebook aims to instill the flexibility of MCGLM alongside its comprehensive list of viable analyses."
   ]
  },
  {
   "cell_type": "code",
   "execution_count": 1,
   "metadata": {},
   "outputs": [],
   "source": [
    "import sys, os\n",
    "\n",
    "import statsmodels.api as sm\n",
    "import pandas as pd\n",
    "import matplotlib.pyplot as plt\n",
    "import seaborn as sns\n",
    "\n",
    "from mcglm import MCGLM, mc_mixed, mc_id, mc_ma\n",
    "from patsy import dmatrix\n",
    "from statsmodels.tools.tools import add_constant\n",
    "from statsmodels.tsa.seasonal import seasonal_decompose\n",
    "from statsmodels.tsa.stattools import adfuller\n",
    "from statsmodels.tsa.arima_process import ArmaProcess\n",
    "\n",
    "import warnings\n",
    "\n",
    "warnings.simplefilter(\"ignore\")"
   ]
  },
  {
   "cell_type": "markdown",
   "metadata": {},
   "source": [
    "MCGLM is a one-stop for statistical analysis.   \n",
    "\n",
    "The statistical framework Multivariate Covariance Generalized Linear Model (MCGLM) provides a unified model for adjusting a wide variety of data such as gaussian or non-gaussian, univariate or multivariate, dependent or independent. This pliability comes from the second-moment assumptions and the straightforward yet thorough specification of pivotal model components. The model relies on the specification of five components: linear predictor/design matrix, link function, variance function, covariance function, and dependencies matrices Z. To instill seamlessly in the model, let's get started with a short review of some milestones of statistical models over the last 2 centuries.\n",
    "\n",
    "\n",
    "The statistical model `Linear Regression` is dated to the early nineteenth century. Legendre and Gauss played an essential role in the postulation of this model. According to (McCullagh, P and Nelder, J.A, 1989) in their fantastic book \"Generalized Linear Models\", yet rephrased by myself, an enthusiast disciple, Linear Regression can be dissected into two components: The Systematic and Random parts.\n",
    "\n",
    "\n",
    "Assuming an outcome variable $\\boldsymbol{y}$ with $n$ components considered independent realizations of a random variable $\\boldsymbol{Y}$. There is a vector $\\boldsymbol{\\mu}$ which holds the mean parameters of those realizations. The systematic part of the model specifies the vector $\\boldsymbol{\\mu}$ by employing a linear operation between regression parameters $\\beta_1,...,\\beta_p$ and the covariates. The mathematical notation for the systematic part:  \n",
    " \n",
    "  \\begin{equation*}\n",
    "    \\mathrm{E}(Y_i) =  \n",
    "    \\mathrm{\\mu_i} = \n",
    "    \\beta_0 + \n",
    "    \\sum_{j=1}^{p} x_{ij}\\beta_j;\\qquad i = 1,...,n.\n",
    "    %\\mathrm{V}(\\boldsymbol{\\mu}_r;p_r)^{\\frac{1}{2}} (\\boldsymbol{\\Omega}(\\boldsymbol{\\tau}_r))\n",
    "    %\\mathrm{V}(\\boldsymbol{\\mu}_r;p_r)^{\\frac{1}{2}}.\n",
    "  \\end{equation*}\n",
    "\n",
    "where $x_{ij}$ is the value of the jth covariate for observation $i$.\n",
    "\n",
    "Moreover, as the random part, we assume independence and constant variance of errors. These errors follow a Gaussian distribution with mean 0 and constant variance $\\sigma^2$. It sets to the Linear Regression the known adjective `Homoscedasticity`.\n",
    "\n",
    "For a simple Linear Regression, with the first regression parameter, the $\\beta_0$, set as 0, the model graphically shapes as the image below:\n",
    "\n",
    "![title](linear_regression.png)\n",
    "\n",
    "-------------"
   ]
  },
  {
   "cell_type": "markdown",
   "metadata": {},
   "source": [
    "In 1972, Nelder and Wedderburn went a step further in unifying the theory of statistical modeling and, in particular, regression models, publishing their article on generalized linear models (GLM). \n",
    "\n",
    "In the context of GLM, each component of the random variable $Y$ assumes a distribution in the `exponential family`, in which the density function takes the form.\n",
    "\n",
    "\\begin{equation*}\n",
    "    \\mathrm{f}_y(y;\\theta,\\phi) = \n",
    "    \\mathrm{exp\\{(y\\theta - b(\\theta))/a(\\phi) + c(y,\\phi)\\}}\n",
    "\\end{equation*}\n",
    "\n",
    "\n",
    "for some specific functions $a(\\phi)$, $b(\\theta)$ and $c(y,\\phi)$. Mean and Variance can be specified as:   \n",
    "  \n",
    "\\begin{equation*}\n",
    "    \\mathrm{E}(Y) = b'(\\theta).\\qquad\n",
    "    \\mathrm{Var}(Y) = b''(\\theta)a(\\phi). \n",
    "\\end{equation*}\n",
    "\n",
    "A couple of possible models in this framework:\n",
    "\n",
    "\\begin{array}{lll} \\hline\n",
    "    \\text{Distribution}  & \\text{Support} & \\text{Cases} \\\\ \\hline\n",
    "    \\text{Gaussian}  & \\text{Real Numbers} & \\text{General Symmetric Distributions.} \\\\\n",
    "    \\text{Binomial(Bernoulli)}  & \\text{Bounded Data} & \\text{Probability/Odds of an event.} \\\\\n",
    "    \\text{Poisson}  & \\text{Integer Positive} & \\text{Positive Count Distributions.} \\\\ \n",
    "    \\text{Gamma}  & \\text{Real Positive Numbers} & \\text{Positive Asymmetric Distributions.} \\\\ \n",
    "    \\text{Inverse Gaussian} & \\text{Real Positive Numbers} & \\text{Positive Asymmetric Distributions.} \\\\ \\hline\n",
    "\\end{array}\n",
    "\n",
    "\n",
    "\n",
    "GLM relies on three components: A design matrix with covariates; A Link Function that transforms the $\\boldsymbol{\\eta}$, the result of a linear operation between covariates and regression parameters, into $\\boldsymbol{\\mu}$; A exponential distribution model or a Variance function. The usual choices for the link and variance functions.\n",
    "\n",
    "\n",
    "\\begin{array}{lll} \\hline\n",
    "    \\text{Distribution}  & \\text{Canonical link function} & \\text{Variance function} \\\\ \\hline\n",
    "    \\text{Poisson}     & \\text{Log} & \\text{$\\mu$} \\\\\n",
    "    \\text{Binomial}    & \\text{Logit} & \\text{$\\mu(\\mu - 1)$} \\\\\n",
    "    \\text{Normal}  & \\text{Identity} & \\text{1} \\\\ \n",
    "    \\text{Gamma}  & \\text{Reciprocal} & \\text{$\\mu^2$} \\\\ \n",
    "    \\text{Inverse Gaussian}  & \\text{Reciprocal²} & \\text{$\\mu^3$} \\\\ \\hline\n",
    "\\end{array}\n",
    "\n",
    "\n",
    "The `maximum-likelihood` estimator leverages the underlying distribution to find regression and dispersion parameters that maximize the product of likelihood. Therefore, the two assumptions of GLM are: Linearity upon the link function; The random variable $Y$ is independently distributed as some exponential family distribution. As follows, two simple linear estimating Poisson and Binomial models. \n",
    "\n",
    "![title](regressao_binomial.png)\n",
    "\n",
    "--\n",
    "![title](regressao_poisson.png)\n",
    "\n",
    "-------------"
   ]
  },
  {
   "cell_type": "markdown",
   "metadata": {},
   "source": [
    "Wedderburn, one of the authors of GLM, published 1974 one of the most iconic papers of history. \"Quasi-Likelihood Functions, Generalized Linear Models, and the Gauss-Newton Method\". He proposed a near likelihood estimator, the `quasi-likelihood`, which does not rely on a distribution model, yet asymptotically the convergence is guaranteed. As long as statisticians cannot know the distribution upfront, the `quasi-likelihood` play an essential role in statistical models. The `quasi-score` is an Estimating Equation for Quasi-likelihood functions. "
   ]
  },
  {
   "cell_type": "markdown",
   "metadata": {},
   "source": [
    "-----------------------------\n",
    "\n",
    "In 1986, Liang and Zeger published the paper \"Longitudinal data analysis using generalized linear models\", which establishes an extension of Generalized Linear Models (GLM) to longitudinal data analysis. The paper epitomizes that data scenario.\n",
    "\n",
    "```\n",
    "The severity of respiratory disease, along with the nutritional status, age, and family income of children, might be observed once every three months for 18 months. The dependence of the outcome variable, severity of disease, on the covariates is of interest.\n",
    "```\n",
    "\n",
    "The paper introduces estimating equations that give consistent estimates of the regression parameters and of their variances under weak assumptions about the joint distribution, the model GEE. The dispersion parameters remain a nuisance. The model harnesses the correlation matrix to define the dependence between components of the response variable. Furthermore, the paper suggests some depedences structures for GEE: `independent`, `autoregressive`, `exchangeable`, `unstructured`, `stationary-M`, `M-dependent` or `non-stationary`. The GEE relies on the specification of four components: Design Matrix with covariates; Link function; Variance function; Correlation Matrix."
   ]
  },
  {
   "cell_type": "markdown",
   "metadata": {},
   "source": [
    "---------------------------\n",
    "\n",
    "Finally, in 2015, Bonat and Jørgensen published the MCGLM, A brand new family of Statistical Models: Multivariate Covariance Generalized Linear Models. This model can fit many kinds of dependence, such as longitudinal and spatial dependence. This dependence is specified by means of dependence matrices and covariance link functions. Moreover, the model can fit multi-responses at once. The MCGLM, on the two-moment specification, is described as:  \n",
    "\n",
    "\n",
    " Let $X_r$ denote an $N$ x $k_r$ a design matrix and $\\beta_r$ a $k_r$ x 1 regression parameter vector for the response $r$. The mean and variance for MCGLM are: \n",
    "\n",
    "  \\begin{equation*}\n",
    "    \\mathrm{E}(\\mathbf{Y}) = \\mathbf{M} = \\{g_1^{-1}(\\boldsymbol{X}_1 \\boldsymbol{\\beta}_1), \\ldots, g_R^{-1}(\\boldsymbol{X}_R \\boldsymbol{\\beta}_R)\\},  \n",
    "  \\end{equation*}\n",
    "  \n",
    "  \\begin{equation*}\n",
    "    \\mathrm{Var}(\\mathbf{Y}) = \\boldsymbol{C} = \\boldsymbol{\\Sigma}_R \\overset{G} \\otimes \\boldsymbol{\\Sigma}_b. \n",
    "  \\end{equation*}\n",
    "  \n",
    "\n",
    "  The component $C$ is calculated by means of generalized product Kronecker $\\boldsymbol{\\Sigma}_R \\overset{G} \\otimes \\boldsymbol{\\Sigma}_b = \n",
    "  \\mathrm{Bdiag}(\\tilde{\\boldsymbol{\\Sigma}}_1, \\ldots, \n",
    "  \\tilde{\\boldsymbol{\\Sigma}}_R)(\\boldsymbol{\\Sigma}_b \\otimes \n",
    "  \\boldsymbol{I})\\mathrm{Bdiag}(\\tilde{\\boldsymbol{\\Sigma}}_1^T, \\ldots, \n",
    "  \\tilde{\\boldsymbol{\\Sigma}}_R^T)$. The matrix $\\tilde{\\boldsymbol{\\Sigma}}_r$ denotes a lower triangular matrix, resulting of a Cholesky decomposition from $\\boldsymbol{\\Sigma}_r$. The operator $\\mathrm{Bdiag}$ itemize a block diagonal matriz e $\\boldsymbol{I}$ denotes $N \\times N$ an identity matrix.\n",
    "  \n",
    "The matrix $\\boldsymbol{\\Sigma}_r$, a.k.a covariance matrix of the outcome r, is defined by: \n",
    "\n",
    "  \\begin{equation*}\n",
    "  \\boldsymbol{\\Sigma}_r = \n",
    "  \\mathrm{V}(\\boldsymbol{\\mu}_r;p_r)^{\\frac{1}{2}} (\\boldsymbol{\\Omega}(\\boldsymbol{\\tau}_r))\n",
    "  \\mathrm{V}(\\boldsymbol{\\mu}_r;p_r)^{\\frac{1}{2}}.\n",
    "  \\end{equation*}\n",
    "\n",
    "Where $\\mathrm{V}(\\boldsymbol{\\mu}_r;p_r) = \\mathrm{diag}(\\vartheta(\\boldsymbol{\\mu}_r;p_r))$ is a diagonal matrix, whose entries are defined by means of variance functions. Each function distinguishes marginal distribution. The operation omega $\\boldsymbol{\\Omega}(\\boldsymbol{\\tau}_r)$, the matrix linear matricial, describes the covariance inhrently to the mean structure. \n",
    "\n",
    "\\begin{equation*}\n",
    "  \\boldsymbol{\\Omega}(\\boldsymbol{\\tau}_r) = h_r^{-1}(\\tau_{r0} Z_{r0} + \\cdots + \\tau_{rD} Z_{rD}).\n",
    "\\end{equation*}\n",
    "    \n",
    "Where $\\mathrm{h}$ is a covariance link function specified. The matrices Z specifies the data dependencies. Finally, $\\Sigma_b$ the $R$ x $R$ correlation matrix between outcomes, calculated by the Pearson estimator. Therefore, MCGLM rely on specification of five components: Design matrix with covariates; Link function; Variance function; Z matrices for the dependence specification; Covariance link function."
   ]
  },
  {
   "cell_type": "markdown",
   "metadata": {},
   "source": [
    "Please check out the original article of MCGLM for deeper details regarding the optimization method, goodness-of-fit measurements, and estimates properties."
   ]
  },
  {
   "cell_type": "markdown",
   "metadata": {},
   "source": [
    "------------------------\n",
    "The brand new library `mcglm`.\n",
    "\n",
    "The Python library `mcglm` provides an easy interface for fitting the MCGLM model, similar to the library statsmodels, providing auxiliary methods to lead a proper specification of each MCGLM component. The library provides a comprehensive report for the model fitting analysis with regression parameters, dispersion parameters, confidence intervals, hypothesis testing, and Pearson residue. As yet, only users of R users have access to the MCGLM algorithm by the package mcglm. \n",
    "\n",
    "Finally, this notebook presents some statistical analysis with the support of Python mcglm.\n",
    "\n",
    "Refs: \n",
    "\n",
    "https://www.jstor.org/stable/44681850    \n",
    "https://www.researchgate.net/publication/324579147_Multiple_Response_Variables_Regression_Models_in_R_The_mcglm_Package    "
   ]
  },
  {
   "cell_type": "markdown",
   "metadata": {},
   "source": [
    "This new implementation is available on PyPI and can be installed with `pip` tool.\n",
    "\n",
    "https://pypi.org/project/mcglm/  "
   ]
  },
  {
   "cell_type": "code",
   "execution_count": 2,
   "metadata": {},
   "outputs": [
    {
     "name": "stdout",
     "output_type": "stream",
     "text": [
      "\n",
      "    MCGLM class that implements MCGLM stastical models. (Bonat, Jørgensen 2015)\n",
      "        \n",
      "    It extends GLM for multi-responses and dependent components by fitting second-moment assumptions.\n",
      "\n",
      "    Parameters\n",
      "    ----------\n",
      "    endog : array_like\n",
      "        1d array of endogenous response variable. In case of multiple responses, the user must pass the responses on a list.  \n",
      "    exog : array_like\n",
      "        A dataset with the endogenous matrix in a Numpy fashion. Since the library doesn't set an intercept by default, the user must add it. In the case of multiple responses, the user must pass the design matrices as a python list. \n",
      "    z : array_like\n",
      "        List with matrices components of the linear covariance matrix.\n",
      "    link : array_like, string or None\n",
      "        Specification for the link function. The MCGLM library implements the following options: identity, logit, power, log, probit, cauchy, cloglog, loglog, negativebinomial. In the case of None, the library chooses the identity link. In multiple responses, user must pass values as list.  \n",
      "    variance : array_like, string or None\n",
      "        Specification for the variance function. The MCGLM library implements the following options: constant, tweedie, binomialP, binomialPQ, geom_tweedie, poisson_tweedie. In the case of None, the library chooses the constant link. In multiple responses, user must pass values as list.   \n",
      "    offset : array_like or None\n",
      "        Offset for continuous or count. In multiple responses, user must pass values as list.   \n",
      "    Ntrial : array_like or None\n",
      "        Ntrial for binomial responses. In multiple responses, user must pass values as list.\n",
      "    power_fixed : array_like or None\n",
      "        Parameter that allows estimation of power when variance functions is either tweedie, geom_tweedie or poisson_tweedie. In multiple responses, user must pass values as list. \n",
      "    maxiter : float or None\n",
      "        Number max of iterations. Defaults to 200.\n",
      "    tol : float or None\n",
      "        Threshold of minimum absolute change on paramaters. Defaults to 0.0001.\n",
      "    tuning : float or None\n",
      "        Step size parameter. Defaults to 0.5.\n",
      "    weights : array_like or None\n",
      "        Weight matrix. Defaults to None.\n",
      "        \n",
      "    Examples\n",
      "    ----------\n",
      "    >>> import statsmodels.api as sm\n",
      "    >>> data = sm.datasets.scotland.load()\n",
      "    >>> data.exog = sm.add_constant(data.exog)\n",
      "    \n",
      "    >>> model = sm.GLM(data.endog, data.exog, z=[mc_id(data.exog)],\n",
      "    ...                      link=\"log\", variance=\"tweedie\",\n",
      "    ...                      power=2, power_fixed=False)\n",
      "    \n",
      "    >>> model_results = model.fit()\n",
      "    >>> model_results.mu\n",
      "    >>> model_results.pearson_residuals\n",
      "    >>> model_results.aic\n",
      "    >>> model_results.bic\n",
      "    >>> model_results.loglikelihood\n",
      "    \n",
      "    Notes\n",
      "    -----\n",
      "    MCGLM is a brand new model, which provides a solid statistical model for fitting multi-responses non-gaussian, dependent, or independent data based on second-moment assumptions. When a user instantiates an mcglm object, she must specify attributes such as link, variance, and z matrices; it will drive the overall behavior of the model.\n",
      "    For more details, check articles and documentation provided.\n",
      "    \n"
     ]
    }
   ],
   "source": [
    "print(MCGLM.__doc__)"
   ]
  },
  {
   "cell_type": "markdown",
   "metadata": {},
   "source": [
    "The MCGLM framework behaves conditioned by the link and variance function, as this doc aims to demonstrate some of them. Let's get started with the first one: the homoscedasticity least squares linear regression."
   ]
  },
  {
   "cell_type": "markdown",
   "metadata": {},
   "source": [
    "#### Linear Regression   \n",
    "\n",
    "-------------\n",
    "\n",
    "Perhaps the most popular statistical model, Linear Regression is a great choice when data meets the three assumptions:   \n",
    "\n",
    "1. Linearity.   \n",
    "2. Independence of components Y. a.k.a iid.   \n",
    "3. The distribution of error following a Gaussian with tuple (0, dispersion).    \n",
    "\n",
    "\n",
    "\n",
    "A statistical analysis on the classical Boston dataset."
   ]
  },
  {
   "cell_type": "code",
   "execution_count": 3,
   "metadata": {},
   "outputs": [],
   "source": [
    "from sklearn.datasets import load_boston\n",
    "\n",
    "X, y = load_boston(return_X_y=True)\n",
    "X = pd.DataFrame(X)\n",
    "y = pd.Series(y, name=\"output\")"
   ]
  },
  {
   "cell_type": "code",
   "execution_count": 4,
   "metadata": {},
   "outputs": [
    {
     "data": {
      "text/plain": [
       "Text(0.5, 1.0, 'Histogram of Boston Dataset')"
      ]
     },
     "execution_count": 4,
     "metadata": {},
     "output_type": "execute_result"
    },
    {
     "data": {
      "image/png": "[encoded data removed]",
      "text/plain": [
       "<Figure size 432x288 with 1 Axes>"
      ]
     },
     "metadata": {
      "needs_background": "light"
     },
     "output_type": "display_data"
    }
   ],
   "source": [
    "_ = plt.hist(y)\n",
    "plt.title(\"Histogram of Boston Dataset\")"
   ]
  },
  {
   "cell_type": "markdown",
   "metadata": {},
   "source": [
    "MCGLM can adjust a similar ordinary linear regression as long as link and variance functions are settled with `identity` and `constant`, on top of independent components of $Y$.   "
   ]
  },
  {
   "cell_type": "code",
   "execution_count": 5,
   "metadata": {},
   "outputs": [
    {
     "data": {
      "text/html": [
       "<table class=\"simpletable\">\n",
       "<caption>Multivariate Covariance Generalized Linear Model</caption>\n",
       "<tr>\n",
       "  <th>Dep. Variable:</th>      <td>output</td>      <th>  No. Iterations:    </th>      <td>1</td>    \n",
       "</tr>\n",
       "<tr>\n",
       "  <th>Model:</th>               <td>MCGLM</td>      <th>  No. Observations:  </th>     <td>506</td>   \n",
       "</tr>\n",
       "<tr>\n",
       "  <th>link:</th>              <td>identity</td>     <th>  Df Residuals:      </th>     <td>492</td>   \n",
       "</tr>\n",
       "<tr>\n",
       "  <th>variance:</th>          <td>constant</td>     <th>  Df Model:          </th>     <td>14</td>    \n",
       "</tr>\n",
       "<tr>\n",
       "  <th>Method:</th>        <td>Quasi-Likelihood</td> <th>  Power-fixed:       </th>    <td>True</td>   \n",
       "</tr>\n",
       "<tr>\n",
       "  <th>Date:</th>          <td>Sun, 27 Nov 2022</td> <th>  pAIC               </th>   <td>2569.55</td> \n",
       "</tr>\n",
       "<tr>\n",
       "  <th>Time:</th>              <td>19:03:04</td>     <th>  pBIC               </th>   <td>2628.73</td> \n",
       "</tr>\n",
       "<tr>\n",
       "  <th> </th>                      <td> </td>        <th>  pLogLik            </th> <td>-1270.7774</td>\n",
       "</tr>\n",
       "</table>\n",
       "<table class=\"simpletable\">\n",
       "<tr>\n",
       "   <td></td>     <th>coef</th>     <th>std err</th>      <th>z</th>      <th>P>|z|</th>  <th>[0.025</th>    <th>0.975]</th>  \n",
       "</tr>\n",
       "<tr>\n",
       "  <th>0</th>  <td>   -0.0929</td> <td>    0.034</td> <td>   -2.734</td> <td> 0.006</td> <td>   -0.159</td> <td>   -0.026</td>\n",
       "</tr>\n",
       "<tr>\n",
       "  <th>1</th>  <td>    0.0487</td> <td>    0.014</td> <td>    3.427</td> <td> 0.001</td> <td>    0.021</td> <td>    0.077</td>\n",
       "</tr>\n",
       "<tr>\n",
       "  <th>2</th>  <td>   -0.0041</td> <td>    0.064</td> <td>   -0.064</td> <td> 0.949</td> <td>   -0.129</td> <td>    0.121</td>\n",
       "</tr>\n",
       "<tr>\n",
       "  <th>3</th>  <td>    2.8540</td> <td>    0.892</td> <td>    3.199</td> <td> 0.001</td> <td>    1.105</td> <td>    4.603</td>\n",
       "</tr>\n",
       "<tr>\n",
       "  <th>4</th>  <td>   -2.8684</td> <td>    3.315</td> <td>   -0.865</td> <td> 0.387</td> <td>   -9.366</td> <td>    3.629</td>\n",
       "</tr>\n",
       "<tr>\n",
       "  <th>5</th>  <td>    5.9281</td> <td>    0.305</td> <td>   19.429</td> <td> 0.000</td> <td>    5.330</td> <td>    6.526</td>\n",
       "</tr>\n",
       "<tr>\n",
       "  <th>6</th>  <td>   -0.0073</td> <td>    0.014</td> <td>   -0.533</td> <td> 0.594</td> <td>   -0.034</td> <td>    0.019</td>\n",
       "</tr>\n",
       "<tr>\n",
       "  <th>7</th>  <td>   -0.9685</td> <td>    0.193</td> <td>   -5.016</td> <td> 0.000</td> <td>   -1.347</td> <td>   -0.590</td>\n",
       "</tr>\n",
       "<tr>\n",
       "  <th>8</th>  <td>    0.1712</td> <td>    0.066</td> <td>    2.598</td> <td> 0.009</td> <td>    0.042</td> <td>    0.300</td>\n",
       "</tr>\n",
       "<tr>\n",
       "  <th>9</th>  <td>   -0.0094</td> <td>    0.004</td> <td>   -2.426</td> <td> 0.015</td> <td>   -0.017</td> <td>   -0.002</td>\n",
       "</tr>\n",
       "<tr>\n",
       "  <th>10</th> <td>   -0.3922</td> <td>    0.108</td> <td>   -3.616</td> <td> 0.000</td> <td>   -0.605</td> <td>   -0.180</td>\n",
       "</tr>\n",
       "<tr>\n",
       "  <th>11</th> <td>    0.0149</td> <td>    0.003</td> <td>    5.600</td> <td> 0.000</td> <td>    0.010</td> <td>    0.020</td>\n",
       "</tr>\n",
       "<tr>\n",
       "  <th>12</th> <td>   -0.4163</td> <td>    0.050</td> <td>   -8.305</td> <td> 0.000</td> <td>   -0.515</td> <td>   -0.318</td>\n",
       "</tr>\n",
       "</table>\n",
       "<table class=\"simpletable\">\n",
       "<tr>\n",
       "        <td></td>          <th>coef</th>     <th>std err</th>      <th>z</th>      <th>P>|z|</th>  <th>[0.025</th>    <th>0.975]</th>  \n",
       "</tr>\n",
       "<tr>\n",
       "  <th>dispersion_1</th> <td>   24.1660</td> <td>    3.308</td> <td>    7.305</td> <td> 0.000</td> <td>   17.682</td> <td>   30.650</td>\n",
       "</tr>\n",
       "</table>\n",
       "<table class=\"simpletable\">\n",
       "<tr>\n",
       "     <td></td>       <th>coef</th>     <th>std err</th>      <th>z</th>      <th>P>|z|</th>  <th>[0.025</th>    <th>0.975]</th>  \n",
       "</tr>\n",
       "<tr>\n",
       "  <th>power_</th> <td>    1.0000</td> <td>      nan</td> <td>      nan</td> <td>   nan</td> <td>      nan</td> <td>      nan</td>\n",
       "</tr>\n",
       "</table>"
      ],
      "text/plain": [
       "<class 'statsmodels.iolib.summary.Summary'>\n",
       "\"\"\"\n",
       "               Multivariate Covariance Generalized Linear Model               \n",
       "==============================================================================\n",
       "Dep. Variable:                 output   No. Iterations:                      1\n",
       "Model:                          MCGLM   No. Observations:                  506\n",
       "link:                        identity   Df Residuals:                      492\n",
       "variance:                    constant   Df Model:                           14\n",
       "Method:              Quasi-Likelihood   Power-fixed:                      True\n",
       "Date:                Sun, 27 Nov 2022   pAIC                           2569.55\n",
       "Time:                        19:03:04   pBIC                           2628.73\n",
       "                                        pLogLik                     -1270.7774\n",
       "==============================================================================\n",
       "                 coef    std err          z      P>|z|      [0.025      0.975]\n",
       "------------------------------------------------------------------------------\n",
       "0             -0.0929      0.034     -2.734      0.006      -0.159      -0.026\n",
       "1              0.0487      0.014      3.427      0.001       0.021       0.077\n",
       "2             -0.0041      0.064     -0.064      0.949      -0.129       0.121\n",
       "3              2.8540      0.892      3.199      0.001       1.105       4.603\n",
       "4             -2.8684      3.315     -0.865      0.387      -9.366       3.629\n",
       "5              5.9281      0.305     19.429      0.000       5.330       6.526\n",
       "6             -0.0073      0.014     -0.533      0.594      -0.034       0.019\n",
       "7             -0.9685      0.193     -5.016      0.000      -1.347      -0.590\n",
       "8              0.1712      0.066      2.598      0.009       0.042       0.300\n",
       "9             -0.0094      0.004     -2.426      0.015      -0.017      -0.002\n",
       "10            -0.3922      0.108     -3.616      0.000      -0.605      -0.180\n",
       "11             0.0149      0.003      5.600      0.000       0.010       0.020\n",
       "12            -0.4163      0.050     -8.305      0.000      -0.515      -0.318\n",
       "================================================================================\n",
       "                   coef    std err          z      P>|z|      [0.025      0.975]\n",
       "--------------------------------------------------------------------------------\n",
       "dispersion_1    24.1660      3.308      7.305      0.000      17.682      30.650\n",
       "==============================================================================\n",
       "                 coef    std err          z      P>|z|      [0.025      0.975]\n",
       "------------------------------------------------------------------------------\n",
       "power_         1.0000        nan        nan        nan         nan         nan\n",
       "==============================================================================\n",
       "\"\"\""
      ]
     },
     "execution_count": 5,
     "metadata": {},
     "output_type": "execute_result"
    }
   ],
   "source": [
    "modelresults = MCGLM(endog=y, exog=X, z=[mc_id(X)]).fit()\n",
    "modelresults.summary()"
   ]
  },
  {
   "cell_type": "markdown",
   "metadata": {},
   "source": [
    "The residual analysis is key for assessing the fulfillment of the assumptions. For more details, check out (Montgomery. D.C and Runger. G.C, 2013)"
   ]
  },
  {
   "cell_type": "code",
   "execution_count": 6,
   "metadata": {},
   "outputs": [
    {
     "data": {
      "text/plain": [
       "Text(0, 0.5, 'pearson residuals')"
      ]
     },
     "execution_count": 6,
     "metadata": {},
     "output_type": "execute_result"
    },
    {
     "data": {
      "image/png": "[encoded data removed]",
      "text/plain": [
       "<Figure size 432x288 with 1 Axes>"
      ]
     },
     "metadata": {
      "needs_background": "light"
     },
     "output_type": "display_data"
    }
   ],
   "source": [
    "# Residual Analysis\n",
    "plt.scatter(modelresults.mu, modelresults.pearson_residuals)\n",
    "plt.xlabel(\"mu\")\n",
    "plt.ylabel(\"pearson residuals\")"
   ]
  },
  {
   "cell_type": "markdown",
   "metadata": {},
   "source": [
    "##### A Count Model  \n",
    "\n",
    "-------------\n",
    "This dataset has information from a Canadian study of mortality by age and smoking status.  https://data.princeton.edu/wws509/datasets/#smoking. The four-column dataset establishes features: `age`, `smoking status`, `population`, and the outcome `deaths`.  "
   ]
  },
  {
   "cell_type": "code",
   "execution_count": 17,
   "metadata": {},
   "outputs": [],
   "source": [
    "smoking_data = pd.read_csv(\"data/smoking_data.csv\")\n",
    "\n",
    "## exog and endog\n",
    "X = dmatrix(\"~ pop + age + smoke\", smoking_data, return_type=\"dataframe\")\n",
    "y = smoking_data[\"dead\"]"
   ]
  },
  {
   "cell_type": "code",
   "execution_count": 18,
   "metadata": {},
   "outputs": [
    {
     "data": {
      "text/plain": [
       "Text(0.5, 1.0, 'Histogram of absolute count of deads')"
      ]
     },
     "execution_count": 18,
     "metadata": {},
     "output_type": "execute_result"
    },
    {
     "data": {
      "image/png": "[encoded data removed]",
      "text/plain": [
       "<Figure size 432x288 with 1 Axes>"
      ]
     },
     "metadata": {
      "needs_background": "light"
     },
     "output_type": "display_data"
    }
   ],
   "source": [
    "_ = plt.hist(y, bins=30)\n",
    "plt.title(\"Histogram of absolute count of deads\")"
   ]
  },
  {
   "cell_type": "markdown",
   "metadata": {},
   "source": [
    "That is a long-tail distribution.   \n",
    "\n",
    "Straight off the bat, we adjust by means of link and variance as `identity` and `constant`.  "
   ]
  },
  {
   "cell_type": "code",
   "execution_count": 19,
   "metadata": {},
   "outputs": [
    {
     "data": {
      "text/html": [
       "<table class=\"simpletable\">\n",
       "<caption>Multivariate Covariance Generalized Linear Model</caption>\n",
       "<tr>\n",
       "  <th>Dep. Variable:</th>       <td>dead</td>       <th>  No. Iterations:    </th>     <td>1</td>   \n",
       "</tr>\n",
       "<tr>\n",
       "  <th>Model:</th>               <td>MCGLM</td>      <th>  No. Observations:  </th>    <td>36</td>   \n",
       "</tr>\n",
       "<tr>\n",
       "  <th>link:</th>              <td>identity</td>     <th>  Df Residuals:      </th>    <td>22</td>   \n",
       "</tr>\n",
       "<tr>\n",
       "  <th>variance:</th>          <td>constant</td>     <th>  Df Model:          </th>    <td>14</td>   \n",
       "</tr>\n",
       "<tr>\n",
       "  <th>Method:</th>        <td>Quasi-Likelihood</td> <th>  Power-fixed:       </th>   <td>True</td>  \n",
       "</tr>\n",
       "<tr>\n",
       "  <th>Date:</th>          <td>Sun, 27 Nov 2022</td> <th>  pAIC               </th>  <td>429.44</td> \n",
       "</tr>\n",
       "<tr>\n",
       "  <th>Time:</th>              <td>19:16:18</td>     <th>  pBIC               </th>  <td>451.61</td> \n",
       "</tr>\n",
       "<tr>\n",
       "  <th> </th>                      <td> </td>        <th>  pLogLik            </th> <td>-200.719</td>\n",
       "</tr>\n",
       "</table>\n",
       "<table class=\"simpletable\">\n",
       "<tr>\n",
       "              <td></td>                 <th>coef</th>     <th>std err</th>      <th>z</th>      <th>P>|z|</th>  <th>[0.025</th>    <th>0.975]</th>  \n",
       "</tr>\n",
       "<tr>\n",
       "  <th>Intercept</th>                 <td> -224.6373</td> <td>   66.931</td> <td>   -3.356</td> <td> 0.001</td> <td> -355.820</td> <td>  -93.455</td>\n",
       "</tr>\n",
       "<tr>\n",
       "  <th>age[T.45-59]</th>              <td>   95.3834</td> <td>   76.446</td> <td>    1.248</td> <td> 0.212</td> <td>  -54.448</td> <td>  245.215</td>\n",
       "</tr>\n",
       "<tr>\n",
       "  <th>age[T.50-54]</th>              <td>  147.8634</td> <td>   78.491</td> <td>    1.884</td> <td> 0.060</td> <td>   -5.977</td> <td>  301.703</td>\n",
       "</tr>\n",
       "<tr>\n",
       "  <th>age[T.55-59]</th>              <td>  216.4651</td> <td>   74.395</td> <td>    2.910</td> <td> 0.004</td> <td>   70.654</td> <td>  362.276</td>\n",
       "</tr>\n",
       "<tr>\n",
       "  <th>age[T.60-64]</th>              <td>  344.0038</td> <td>   76.451</td> <td>    4.500</td> <td> 0.000</td> <td>  194.162</td> <td>  493.846</td>\n",
       "</tr>\n",
       "<tr>\n",
       "  <th>age[T.65-69]</th>              <td>  426.7793</td> <td>   74.466</td> <td>    5.731</td> <td> 0.000</td> <td>  280.829</td> <td>  572.730</td>\n",
       "</tr>\n",
       "<tr>\n",
       "  <th>age[T.70-74]</th>              <td>  399.1722</td> <td>   78.027</td> <td>    5.116</td> <td> 0.000</td> <td>  246.242</td> <td>  552.103</td>\n",
       "</tr>\n",
       "<tr>\n",
       "  <th>age[T.75-79]</th>              <td>  335.9303</td> <td>   83.318</td> <td>    4.032</td> <td> 0.000</td> <td>  172.629</td> <td>  499.231</td>\n",
       "</tr>\n",
       "<tr>\n",
       "  <th>age[T.80+]</th>                <td>  293.7420</td> <td>   86.312</td> <td>    3.403</td> <td> 0.001</td> <td>  124.573</td> <td>  462.911</td>\n",
       "</tr>\n",
       "<tr>\n",
       "  <th>smoke[T.2.cigarPipeOnly]</th>  <td>   32.3389</td> <td>   49.616</td> <td>    0.652</td> <td> 0.515</td> <td>  -64.906</td> <td>  129.584</td>\n",
       "</tr>\n",
       "<tr>\n",
       "  <th>smoke[T.3.cigarrettePlus]</th> <td>   85.2001</td> <td>   76.811</td> <td>    1.109</td> <td> 0.267</td> <td>  -65.347</td> <td>  235.747</td>\n",
       "</tr>\n",
       "<tr>\n",
       "  <th>smoke[T.4.cigarretteOnly]</th> <td>   87.8965</td> <td>   60.879</td> <td>    1.444</td> <td> 0.149</td> <td>  -31.425</td> <td>  207.218</td>\n",
       "</tr>\n",
       "<tr>\n",
       "  <th>pop</th>                       <td>    0.1128</td> <td>    0.023</td> <td>    4.814</td> <td> 0.000</td> <td>    0.067</td> <td>    0.159</td>\n",
       "</tr>\n",
       "</table>\n",
       "<table class=\"simpletable\">\n",
       "<tr>\n",
       "        <td></td>          <th>coef</th>     <th>std err</th>      <th>z</th>      <th>P>|z|</th>  <th>[0.025</th>    <th>0.975]</th>  \n",
       "</tr>\n",
       "<tr>\n",
       "  <th>dispersion_1</th> <td> 1.107e+04</td> <td> 1899.730</td> <td>    5.825</td> <td> 0.000</td> <td> 7342.638</td> <td> 1.48e+04</td>\n",
       "</tr>\n",
       "</table>\n",
       "<table class=\"simpletable\">\n",
       "<tr>\n",
       "     <td></td>       <th>coef</th>     <th>std err</th>      <th>z</th>      <th>P>|z|</th>  <th>[0.025</th>    <th>0.975]</th>  \n",
       "</tr>\n",
       "<tr>\n",
       "  <th>power_</th> <td>    1.0000</td> <td>      nan</td> <td>      nan</td> <td>   nan</td> <td>      nan</td> <td>      nan</td>\n",
       "</tr>\n",
       "</table>"
      ],
      "text/plain": [
       "<class 'statsmodels.iolib.summary.Summary'>\n",
       "\"\"\"\n",
       "               Multivariate Covariance Generalized Linear Model               \n",
       "==============================================================================\n",
       "Dep. Variable:                   dead   No. Iterations:                      1\n",
       "Model:                          MCGLM   No. Observations:                   36\n",
       "link:                        identity   Df Residuals:                       22\n",
       "variance:                    constant   Df Model:                           14\n",
       "Method:              Quasi-Likelihood   Power-fixed:                      True\n",
       "Date:                Sun, 27 Nov 2022   pAIC                            429.44\n",
       "Time:                        19:16:18   pBIC                            451.61\n",
       "                                        pLogLik                       -200.719\n",
       "=============================================================================================\n",
       "                                coef    std err          z      P>|z|      [0.025      0.975]\n",
       "---------------------------------------------------------------------------------------------\n",
       "Intercept                  -224.6373     66.931     -3.356      0.001    -355.820     -93.455\n",
       "age[T.45-59]                 95.3834     76.446      1.248      0.212     -54.448     245.215\n",
       "age[T.50-54]                147.8634     78.491      1.884      0.060      -5.977     301.703\n",
       "age[T.55-59]                216.4651     74.395      2.910      0.004      70.654     362.276\n",
       "age[T.60-64]                344.0038     76.451      4.500      0.000     194.162     493.846\n",
       "age[T.65-69]                426.7793     74.466      5.731      0.000     280.829     572.730\n",
       "age[T.70-74]                399.1722     78.027      5.116      0.000     246.242     552.103\n",
       "age[T.75-79]                335.9303     83.318      4.032      0.000     172.629     499.231\n",
       "age[T.80+]                  293.7420     86.312      3.403      0.001     124.573     462.911\n",
       "smoke[T.2.cigarPipeOnly]     32.3389     49.616      0.652      0.515     -64.906     129.584\n",
       "smoke[T.3.cigarrettePlus]    85.2001     76.811      1.109      0.267     -65.347     235.747\n",
       "smoke[T.4.cigarretteOnly]    87.8965     60.879      1.444      0.149     -31.425     207.218\n",
       "pop                           0.1128      0.023      4.814      0.000       0.067       0.159\n",
       "================================================================================\n",
       "                   coef    std err          z      P>|z|      [0.025      0.975]\n",
       "--------------------------------------------------------------------------------\n",
       "dispersion_1  1.107e+04   1899.730      5.825      0.000    7342.638    1.48e+04\n",
       "==============================================================================\n",
       "                 coef    std err          z      P>|z|      [0.025      0.975]\n",
       "------------------------------------------------------------------------------\n",
       "power_         1.0000        nan        nan        nan         nan         nan\n",
       "==============================================================================\n",
       "\"\"\""
      ]
     },
     "execution_count": 19,
     "metadata": {},
     "output_type": "execute_result"
    }
   ],
   "source": [
    "modelresults = MCGLM(\n",
    "    y,\n",
    "    X,\n",
    "    [mc_id(X)],\n",
    ").fit()\n",
    "\n",
    "modelresults.summary()"
   ]
  },
  {
   "cell_type": "markdown",
   "metadata": {},
   "source": [
    "Let's try a `tweedie adjustment` with power set as one, as a Poisson one."
   ]
  },
  {
   "cell_type": "code",
   "execution_count": 20,
   "metadata": {},
   "outputs": [
    {
     "data": {
      "text/html": [
       "<table class=\"simpletable\">\n",
       "<caption>Multivariate Covariance Generalized Linear Model</caption>\n",
       "<tr>\n",
       "  <th>Dep. Variable:</th>       <td>dead</td>       <th>  No. Iterations:    </th>     <td>1</td>    \n",
       "</tr>\n",
       "<tr>\n",
       "  <th>Model:</th>               <td>MCGLM</td>      <th>  No. Observations:  </th>    <td>36</td>    \n",
       "</tr>\n",
       "<tr>\n",
       "  <th>link:</th>                 <td>log</td>       <th>  Df Residuals:      </th>    <td>22</td>    \n",
       "</tr>\n",
       "<tr>\n",
       "  <th>variance:</th>           <td>tweedie</td>     <th>  Df Model:          </th>    <td>14</td>    \n",
       "</tr>\n",
       "<tr>\n",
       "  <th>Method:</th>        <td>Quasi-Likelihood</td> <th>  Power-fixed:       </th>   <td>True</td>   \n",
       "</tr>\n",
       "<tr>\n",
       "  <th>Date:</th>          <td>Sun, 27 Nov 2022</td> <th>  pAIC               </th>  <td>371.22</td>  \n",
       "</tr>\n",
       "<tr>\n",
       "  <th>Time:</th>              <td>19:16:30</td>     <th>  pBIC               </th>  <td>393.39</td>  \n",
       "</tr>\n",
       "<tr>\n",
       "  <th> </th>                      <td> </td>        <th>  pLogLik            </th> <td>-171.6087</td>\n",
       "</tr>\n",
       "</table>\n",
       "<table class=\"simpletable\">\n",
       "<tr>\n",
       "              <td></td>                 <th>coef</th>     <th>std err</th>      <th>z</th>      <th>P>|z|</th>  <th>[0.025</th>    <th>0.975]</th>  \n",
       "</tr>\n",
       "<tr>\n",
       "  <th>Intercept</th>                 <td>    2.5604</td> <td>    0.283</td> <td>    9.056</td> <td> 0.000</td> <td>    2.006</td> <td>    3.115</td>\n",
       "</tr>\n",
       "<tr>\n",
       "  <th>age[T.45-59]</th>              <td>    0.6242</td> <td>    0.310</td> <td>    2.011</td> <td> 0.044</td> <td>    0.016</td> <td>    1.233</td>\n",
       "</tr>\n",
       "<tr>\n",
       "  <th>age[T.50-54]</th>              <td>    1.0038</td> <td>    0.308</td> <td>    3.261</td> <td> 0.001</td> <td>    0.401</td> <td>    1.607</td>\n",
       "</tr>\n",
       "<tr>\n",
       "  <th>age[T.55-59]</th>              <td>    1.3818</td> <td>    0.245</td> <td>    5.635</td> <td> 0.000</td> <td>    0.901</td> <td>    1.862</td>\n",
       "</tr>\n",
       "<tr>\n",
       "  <th>age[T.60-64]</th>              <td>    1.5012</td> <td>    0.245</td> <td>    6.133</td> <td> 0.000</td> <td>    1.021</td> <td>    1.981</td>\n",
       "</tr>\n",
       "<tr>\n",
       "  <th>age[T.65-69]</th>              <td>    2.1366</td> <td>    0.240</td> <td>    8.920</td> <td> 0.000</td> <td>    1.667</td> <td>    2.606</td>\n",
       "</tr>\n",
       "<tr>\n",
       "  <th>age[T.70-74]</th>              <td>    2.3557</td> <td>    0.269</td> <td>    8.766</td> <td> 0.000</td> <td>    1.829</td> <td>    2.882</td>\n",
       "</tr>\n",
       "<tr>\n",
       "  <th>age[T.75-79]</th>              <td>    2.2041</td> <td>    0.298</td> <td>    7.403</td> <td> 0.000</td> <td>    1.621</td> <td>    2.788</td>\n",
       "</tr>\n",
       "<tr>\n",
       "  <th>age[T.80+]</th>                <td>    1.9506</td> <td>    0.318</td> <td>    6.143</td> <td> 0.000</td> <td>    1.328</td> <td>    2.573</td>\n",
       "</tr>\n",
       "<tr>\n",
       "  <th>smoke[T.2.cigarPipeOnly]</th>  <td>    0.2114</td> <td>    0.176</td> <td>    1.203</td> <td> 0.229</td> <td>   -0.133</td> <td>    0.556</td>\n",
       "</tr>\n",
       "<tr>\n",
       "  <th>smoke[T.3.cigarrettePlus]</th> <td>    0.5030</td> <td>    0.214</td> <td>    2.347</td> <td> 0.019</td> <td>    0.083</td> <td>    0.923</td>\n",
       "</tr>\n",
       "<tr>\n",
       "  <th>smoke[T.4.cigarretteOnly]</th> <td>    0.7818</td> <td>    0.164</td> <td>    4.755</td> <td> 0.000</td> <td>    0.460</td> <td>    1.104</td>\n",
       "</tr>\n",
       "<tr>\n",
       "  <th>pop</th>                       <td>    0.0004</td> <td> 6.25e-05</td> <td>    6.679</td> <td> 0.000</td> <td>    0.000</td> <td>    0.001</td>\n",
       "</tr>\n",
       "</table>\n",
       "<table class=\"simpletable\">\n",
       "<tr>\n",
       "        <td></td>          <th>coef</th>     <th>std err</th>      <th>z</th>      <th>P>|z|</th>  <th>[0.025</th>    <th>0.975]</th>  \n",
       "</tr>\n",
       "<tr>\n",
       "  <th>dispersion_1</th> <td>   14.1200</td> <td>    3.786</td> <td>    3.729</td> <td> 0.000</td> <td>    6.699</td> <td>   21.541</td>\n",
       "</tr>\n",
       "</table>\n",
       "<table class=\"simpletable\">\n",
       "<tr>\n",
       "     <td></td>       <th>coef</th>     <th>std err</th>      <th>z</th>      <th>P>|z|</th>  <th>[0.025</th>    <th>0.975]</th>  \n",
       "</tr>\n",
       "<tr>\n",
       "  <th>power_</th> <td>    1.0000</td> <td>      nan</td> <td>      nan</td> <td>   nan</td> <td>      nan</td> <td>      nan</td>\n",
       "</tr>\n",
       "</table>"
      ],
      "text/plain": [
       "<class 'statsmodels.iolib.summary.Summary'>\n",
       "\"\"\"\n",
       "               Multivariate Covariance Generalized Linear Model               \n",
       "==============================================================================\n",
       "Dep. Variable:                   dead   No. Iterations:                      1\n",
       "Model:                          MCGLM   No. Observations:                   36\n",
       "link:                             log   Df Residuals:                       22\n",
       "variance:                     tweedie   Df Model:                           14\n",
       "Method:              Quasi-Likelihood   Power-fixed:                      True\n",
       "Date:                Sun, 27 Nov 2022   pAIC                            371.22\n",
       "Time:                        19:16:30   pBIC                            393.39\n",
       "                                        pLogLik                      -171.6087\n",
       "=============================================================================================\n",
       "                                coef    std err          z      P>|z|      [0.025      0.975]\n",
       "---------------------------------------------------------------------------------------------\n",
       "Intercept                     2.5604      0.283      9.056      0.000       2.006       3.115\n",
       "age[T.45-59]                  0.6242      0.310      2.011      0.044       0.016       1.233\n",
       "age[T.50-54]                  1.0038      0.308      3.261      0.001       0.401       1.607\n",
       "age[T.55-59]                  1.3818      0.245      5.635      0.000       0.901       1.862\n",
       "age[T.60-64]                  1.5012      0.245      6.133      0.000       1.021       1.981\n",
       "age[T.65-69]                  2.1366      0.240      8.920      0.000       1.667       2.606\n",
       "age[T.70-74]                  2.3557      0.269      8.766      0.000       1.829       2.882\n",
       "age[T.75-79]                  2.2041      0.298      7.403      0.000       1.621       2.788\n",
       "age[T.80+]                    1.9506      0.318      6.143      0.000       1.328       2.573\n",
       "smoke[T.2.cigarPipeOnly]      0.2114      0.176      1.203      0.229      -0.133       0.556\n",
       "smoke[T.3.cigarrettePlus]     0.5030      0.214      2.347      0.019       0.083       0.923\n",
       "smoke[T.4.cigarretteOnly]     0.7818      0.164      4.755      0.000       0.460       1.104\n",
       "pop                           0.0004   6.25e-05      6.679      0.000       0.000       0.001\n",
       "================================================================================\n",
       "                   coef    std err          z      P>|z|      [0.025      0.975]\n",
       "--------------------------------------------------------------------------------\n",
       "dispersion_1    14.1200      3.786      3.729      0.000       6.699      21.541\n",
       "==============================================================================\n",
       "                 coef    std err          z      P>|z|      [0.025      0.975]\n",
       "------------------------------------------------------------------------------\n",
       "power_         1.0000        nan        nan        nan         nan         nan\n",
       "==============================================================================\n",
       "\"\"\""
      ]
     },
     "execution_count": 20,
     "metadata": {},
     "output_type": "execute_result"
    }
   ],
   "source": [
    "modelresults = MCGLM(\n",
    "    y,\n",
    "    X,\n",
    "    [mc_id(X)],\n",
    "    link=\"log\",\n",
    "    variance=\"tweedie\",\n",
    "    power=1,\n",
    "    power_fixed=True,\n",
    ").fit()\n",
    "\n",
    "modelresults.summary()"
   ]
  },
  {
   "cell_type": "code",
   "execution_count": 21,
   "metadata": {},
   "outputs": [
    {
     "data": {
      "text/plain": [
       "Text(0, 0.5, 'pearson residuals')"
      ]
     },
     "execution_count": 21,
     "metadata": {},
     "output_type": "execute_result"
    },
    {
     "data": {
      "image/png": "[encoded data removed]",
      "text/plain": [
       "<Figure size 432x288 with 1 Axes>"
      ]
     },
     "metadata": {
      "needs_background": "light"
     },
     "output_type": "display_data"
    }
   ],
   "source": [
    "# Residual Analysis\n",
    "plt.scatter(modelresults.mu, modelresults.pearson_residuals)\n",
    "plt.xlabel(\"mu\")\n",
    "plt.ylabel(\"pearson residuals\")"
   ]
  },
  {
   "cell_type": "markdown",
   "metadata": {},
   "source": [
    "By the `pAIC` metric, the usual `Tweedie` variance function is a suitable pick.\n",
    "\n",
    "\n",
    "------\n",
    "\n",
    "It is plain to harness an important trait of `mcglm` library, the power estimation for `Tweedie`. We have got to set the parameter power_fixed as `False`. "
   ]
  },
  {
   "cell_type": "code",
   "execution_count": 24,
   "metadata": {},
   "outputs": [
    {
     "data": {
      "text/html": [
       "<table class=\"simpletable\">\n",
       "<caption>Multivariate Covariance Generalized Linear Model</caption>\n",
       "<tr>\n",
       "  <th>Dep. Variable:</th>       <td>dead</td>       <th>  No. Iterations:    </th>    <td>12</td>    \n",
       "</tr>\n",
       "<tr>\n",
       "  <th>Model:</th>               <td>MCGLM</td>      <th>  No. Observations:  </th>    <td>36</td>    \n",
       "</tr>\n",
       "<tr>\n",
       "  <th>link:</th>                 <td>log</td>       <th>  Df Residuals:      </th>    <td>22</td>    \n",
       "</tr>\n",
       "<tr>\n",
       "  <th>variance:</th>           <td>tweedie</td>     <th>  Df Model:          </th>    <td>14</td>    \n",
       "</tr>\n",
       "<tr>\n",
       "  <th>Method:</th>        <td>Quasi-Likelihood</td> <th>  Power-fixed:       </th>   <td>False</td>  \n",
       "</tr>\n",
       "<tr>\n",
       "  <th>Date:</th>          <td>Sun, 27 Nov 2022</td> <th>  pAIC               </th>  <td>370.19</td>  \n",
       "</tr>\n",
       "<tr>\n",
       "  <th>Time:</th>              <td>19:17:46</td>     <th>  pBIC               </th>  <td>392.36</td>  \n",
       "</tr>\n",
       "<tr>\n",
       "  <th> </th>                      <td> </td>        <th>  pLogLik            </th> <td>-171.0955</td>\n",
       "</tr>\n",
       "</table>\n",
       "<table class=\"simpletable\">\n",
       "<tr>\n",
       "              <td></td>                 <th>coef</th>     <th>std err</th>      <th>z</th>      <th>P>|z|</th>  <th>[0.025</th>    <th>0.975]</th>  \n",
       "</tr>\n",
       "<tr>\n",
       "  <th>Intercept</th>                 <td>    2.4484</td> <td>    0.269</td> <td>    9.089</td> <td> 0.000</td> <td>    1.920</td> <td>    2.976</td>\n",
       "</tr>\n",
       "<tr>\n",
       "  <th>age[T.45-59]</th>              <td>    0.6564</td> <td>    0.298</td> <td>    2.202</td> <td> 0.028</td> <td>    0.072</td> <td>    1.241</td>\n",
       "</tr>\n",
       "<tr>\n",
       "  <th>age[T.50-54]</th>              <td>    1.0409</td> <td>    0.298</td> <td>    3.489</td> <td> 0.000</td> <td>    0.456</td> <td>    1.626</td>\n",
       "</tr>\n",
       "<tr>\n",
       "  <th>age[T.55-59]</th>              <td>    1.3908</td> <td>    0.244</td> <td>    5.702</td> <td> 0.000</td> <td>    0.913</td> <td>    1.869</td>\n",
       "</tr>\n",
       "<tr>\n",
       "  <th>age[T.60-64]</th>              <td>    1.5248</td> <td>    0.242</td> <td>    6.290</td> <td> 0.000</td> <td>    1.050</td> <td>    2.000</td>\n",
       "</tr>\n",
       "<tr>\n",
       "  <th>age[T.65-69]</th>              <td>    2.1931</td> <td>    0.236</td> <td>    9.276</td> <td> 0.000</td> <td>    1.730</td> <td>    2.656</td>\n",
       "</tr>\n",
       "<tr>\n",
       "  <th>age[T.70-74]</th>              <td>    2.4557</td> <td>    0.263</td> <td>    9.336</td> <td> 0.000</td> <td>    1.940</td> <td>    2.971</td>\n",
       "</tr>\n",
       "<tr>\n",
       "  <th>age[T.75-79]</th>              <td>    2.3393</td> <td>    0.290</td> <td>    8.065</td> <td> 0.000</td> <td>    1.771</td> <td>    2.908</td>\n",
       "</tr>\n",
       "<tr>\n",
       "  <th>age[T.80+]</th>                <td>    2.1147</td> <td>    0.307</td> <td>    6.887</td> <td> 0.000</td> <td>    1.513</td> <td>    2.717</td>\n",
       "</tr>\n",
       "<tr>\n",
       "  <th>smoke[T.2.cigarPipeOnly]</th>  <td>    0.1688</td> <td>    0.172</td> <td>    0.980</td> <td> 0.327</td> <td>   -0.169</td> <td>    0.506</td>\n",
       "</tr>\n",
       "<tr>\n",
       "  <th>smoke[T.3.cigarrettePlus]</th> <td>    0.4441</td> <td>    0.217</td> <td>    2.045</td> <td> 0.041</td> <td>    0.018</td> <td>    0.870</td>\n",
       "</tr>\n",
       "<tr>\n",
       "  <th>smoke[T.4.cigarretteOnly]</th> <td>    0.7363</td> <td>    0.167</td> <td>    4.406</td> <td> 0.000</td> <td>    0.409</td> <td>    1.064</td>\n",
       "</tr>\n",
       "<tr>\n",
       "  <th>pop</th>                       <td>    0.0005</td> <td> 6.41e-05</td> <td>    7.091</td> <td> 0.000</td> <td>    0.000</td> <td>    0.001</td>\n",
       "</tr>\n",
       "</table>\n",
       "<table class=\"simpletable\">\n",
       "<tr>\n",
       "        <td></td>          <th>coef</th>     <th>std err</th>      <th>z</th>      <th>P>|z|</th>  <th>[0.025</th>    <th>0.975]</th>  \n",
       "</tr>\n",
       "<tr>\n",
       "  <th>dispersion_1</th> <td>    3.7750</td> <td>    3.430</td> <td>    1.101</td> <td> 0.271</td> <td>   -2.947</td> <td>   10.497</td>\n",
       "</tr>\n",
       "</table>\n",
       "<table class=\"simpletable\">\n",
       "<tr>\n",
       "     <td></td>       <th>coef</th>     <th>std err</th>      <th>z</th>      <th>P>|z|</th>  <th>[0.025</th>    <th>0.975]</th>  \n",
       "</tr>\n",
       "<tr>\n",
       "  <th>power_</th> <td>    1.2630</td> <td>    0.179</td> <td>    7.063</td> <td> 0.000</td> <td>    0.913</td> <td>    1.613</td>\n",
       "</tr>\n",
       "</table>"
      ],
      "text/plain": [
       "<class 'statsmodels.iolib.summary.Summary'>\n",
       "\"\"\"\n",
       "               Multivariate Covariance Generalized Linear Model               \n",
       "==============================================================================\n",
       "Dep. Variable:                   dead   No. Iterations:                     12\n",
       "Model:                          MCGLM   No. Observations:                   36\n",
       "link:                             log   Df Residuals:                       22\n",
       "variance:                     tweedie   Df Model:                           14\n",
       "Method:              Quasi-Likelihood   Power-fixed:                     False\n",
       "Date:                Sun, 27 Nov 2022   pAIC                            370.19\n",
       "Time:                        19:17:46   pBIC                            392.36\n",
       "                                        pLogLik                      -171.0955\n",
       "=============================================================================================\n",
       "                                coef    std err          z      P>|z|      [0.025      0.975]\n",
       "---------------------------------------------------------------------------------------------\n",
       "Intercept                     2.4484      0.269      9.089      0.000       1.920       2.976\n",
       "age[T.45-59]                  0.6564      0.298      2.202      0.028       0.072       1.241\n",
       "age[T.50-54]                  1.0409      0.298      3.489      0.000       0.456       1.626\n",
       "age[T.55-59]                  1.3908      0.244      5.702      0.000       0.913       1.869\n",
       "age[T.60-64]                  1.5248      0.242      6.290      0.000       1.050       2.000\n",
       "age[T.65-69]                  2.1931      0.236      9.276      0.000       1.730       2.656\n",
       "age[T.70-74]                  2.4557      0.263      9.336      0.000       1.940       2.971\n",
       "age[T.75-79]                  2.3393      0.290      8.065      0.000       1.771       2.908\n",
       "age[T.80+]                    2.1147      0.307      6.887      0.000       1.513       2.717\n",
       "smoke[T.2.cigarPipeOnly]      0.1688      0.172      0.980      0.327      -0.169       0.506\n",
       "smoke[T.3.cigarrettePlus]     0.4441      0.217      2.045      0.041       0.018       0.870\n",
       "smoke[T.4.cigarretteOnly]     0.7363      0.167      4.406      0.000       0.409       1.064\n",
       "pop                           0.0005   6.41e-05      7.091      0.000       0.000       0.001\n",
       "================================================================================\n",
       "                   coef    std err          z      P>|z|      [0.025      0.975]\n",
       "--------------------------------------------------------------------------------\n",
       "dispersion_1     3.7750      3.430      1.101      0.271      -2.947      10.497\n",
       "==============================================================================\n",
       "                 coef    std err          z      P>|z|      [0.025      0.975]\n",
       "------------------------------------------------------------------------------\n",
       "power_         1.2630      0.179      7.063      0.000       0.913       1.613\n",
       "==============================================================================\n",
       "\"\"\""
      ]
     },
     "execution_count": 24,
     "metadata": {},
     "output_type": "execute_result"
    }
   ],
   "source": [
    "modelresults = MCGLM(\n",
    "    y,\n",
    "    X,\n",
    "    [mc_id(X)],\n",
    "    link=\"log\",\n",
    "    variance=\"tweedie\",\n",
    "    power=1,\n",
    "    power_fixed=False,\n",
    ").fit()\n",
    "\n",
    "modelresults.summary()"
   ]
  },
  {
   "cell_type": "markdown",
   "metadata": {},
   "source": [
    "By the `pAIC`, the adjustment with power set 1.263 is lightly better than 1. It points out that the distribution `Compound Poisson/Gamma` is the best option for this data learning."
   ]
  },
  {
   "cell_type": "markdown",
   "metadata": {},
   "source": [
    "##### Bounded data\n",
    "-------------\n",
    "\n",
    "For a bound analysis, let's leverage the iconic titanic dataset."
   ]
  },
  {
   "cell_type": "code",
   "execution_count": 124,
   "metadata": {},
   "outputs": [],
   "source": [
    "titanic = pd.read_csv(\"data/titanic.csv\")"
   ]
  },
  {
   "cell_type": "code",
   "execution_count": 125,
   "metadata": {},
   "outputs": [],
   "source": [
    "y = titanic[\"Survived\"]\n",
    "\n",
    "X = titanic[[\"Fare\", \"SibSp\", \"Embarked\", \"Parch\", \"Pclass\"]]\n",
    "X = X.fillna(\"S\")\n",
    "\n",
    "X = dmatrix(\"~ Fare + SibSp + Embarked + Parch + Pclass\", X, return_type=\"dataframe\")"
   ]
  },
  {
   "cell_type": "code",
   "execution_count": 126,
   "metadata": {},
   "outputs": [
    {
     "data": {
      "text/html": [
       "<table class=\"simpletable\">\n",
       "<caption>Multivariate Covariance Generalized Linear Model</caption>\n",
       "<tr>\n",
       "  <th>Dep. Variable:</th>     <td>Survived</td>     <th>  No. Iterations:    </th>     <td>0</td>   \n",
       "</tr>\n",
       "<tr>\n",
       "  <th>Model:</th>               <td>MCGLM</td>      <th>  No. Observations:  </th>    <td>891</td>  \n",
       "</tr>\n",
       "<tr>\n",
       "  <th>link:</th>                <td>logit</td>      <th>  Df Residuals:      </th>    <td>883</td>  \n",
       "</tr>\n",
       "<tr>\n",
       "  <th>variance:</th>          <td>binomialP</td>    <th>  Df Model:          </th>     <td>8</td>   \n",
       "</tr>\n",
       "<tr>\n",
       "  <th>Method:</th>        <td>Quasi-Likelihood</td> <th>  Power-fixed:       </th>   <td>True</td>  \n",
       "</tr>\n",
       "<tr>\n",
       "  <th>Date:</th>          <td>Fri, 28 Oct 2022</td> <th>  pAIC               </th>   <td>213.8</td> \n",
       "</tr>\n",
       "<tr>\n",
       "  <th>Time:</th>              <td>07:41:47</td>     <th>  pBIC               </th>  <td>252.14</td> \n",
       "</tr>\n",
       "<tr>\n",
       "  <th> </th>                      <td> </td>        <th>  pLogLik            </th> <td>-98.9013</td>\n",
       "</tr>\n",
       "</table>\n",
       "<table class=\"simpletable\">\n",
       "<tr>\n",
       "        <td></td>           <th>coef</th>     <th>std err</th>      <th>z</th>      <th>P>|z|</th>  <th>[0.025</th>    <th>0.975]</th>  \n",
       "</tr>\n",
       "<tr>\n",
       "  <th>Intercept</th>     <td>    1.4120</td> <td>    0.343</td> <td>    4.119</td> <td> 0.000</td> <td>    0.740</td> <td>    2.084</td>\n",
       "</tr>\n",
       "<tr>\n",
       "  <th>Embarked[T.Q]</th> <td>    0.2911</td> <td>    0.307</td> <td>    0.948</td> <td> 0.343</td> <td>   -0.311</td> <td>    0.893</td>\n",
       "</tr>\n",
       "<tr>\n",
       "  <th>Embarked[T.S]</th> <td>   -0.5179</td> <td>    0.197</td> <td>   -2.635</td> <td> 0.008</td> <td>   -0.903</td> <td>   -0.133</td>\n",
       "</tr>\n",
       "<tr>\n",
       "  <th>Fare</th>          <td>    0.0037</td> <td>    0.002</td> <td>    1.553</td> <td> 0.120</td> <td>   -0.001</td> <td>    0.008</td>\n",
       "</tr>\n",
       "<tr>\n",
       "  <th>SibSp</th>         <td>   -0.1274</td> <td>    0.082</td> <td>   -1.560</td> <td> 0.119</td> <td>   -0.288</td> <td>    0.033</td>\n",
       "</tr>\n",
       "<tr>\n",
       "  <th>Parch</th>         <td>    0.2920</td> <td>    0.101</td> <td>    2.904</td> <td> 0.004</td> <td>    0.095</td> <td>    0.489</td>\n",
       "</tr>\n",
       "<tr>\n",
       "  <th>Pclass</th>        <td>   -0.7556</td> <td>    0.116</td> <td>   -6.503</td> <td> 0.000</td> <td>   -0.983</td> <td>   -0.528</td>\n",
       "</tr>\n",
       "</table>\n",
       "<table class=\"simpletable\">\n",
       "<tr>\n",
       "        <td></td>          <th>coef</th>     <th>std err</th>      <th>z</th>      <th>P>|z|</th>  <th>[0.025</th>    <th>0.975]</th>  \n",
       "</tr>\n",
       "<tr>\n",
       "  <th>dispersion_1</th> <td>    0.9990</td> <td>    0.036</td> <td>   27.996</td> <td> 0.000</td> <td>    0.929</td> <td>    1.069</td>\n",
       "</tr>\n",
       "</table>\n",
       "<table class=\"simpletable\">\n",
       "<tr>\n",
       "     <td></td>       <th>coef</th>     <th>std err</th>      <th>z</th>      <th>P>|z|</th>  <th>[0.025</th>    <th>0.975]</th>  \n",
       "</tr>\n",
       "<tr>\n",
       "  <th>power_</th> <td>    1.0000</td> <td>      nan</td> <td>      nan</td> <td>   nan</td> <td>      nan</td> <td>      nan</td>\n",
       "</tr>\n",
       "</table>"
      ],
      "text/plain": [
       "<class 'statsmodels.iolib.summary.Summary'>\n",
       "\"\"\"\n",
       "               Multivariate Covariance Generalized Linear Model               \n",
       "==============================================================================\n",
       "Dep. Variable:               Survived   No. Iterations:                      0\n",
       "Model:                          MCGLM   No. Observations:                  891\n",
       "link:                           logit   Df Residuals:                      883\n",
       "variance:                   binomialP   Df Model:                            8\n",
       "Method:              Quasi-Likelihood   Power-fixed:                      True\n",
       "Date:                Fri, 28 Oct 2022   pAIC                             213.8\n",
       "Time:                        07:41:47   pBIC                            252.14\n",
       "                                        pLogLik                       -98.9013\n",
       "=================================================================================\n",
       "                    coef    std err          z      P>|z|      [0.025      0.975]\n",
       "---------------------------------------------------------------------------------\n",
       "Intercept         1.4120      0.343      4.119      0.000       0.740       2.084\n",
       "Embarked[T.Q]     0.2911      0.307      0.948      0.343      -0.311       0.893\n",
       "Embarked[T.S]    -0.5179      0.197     -2.635      0.008      -0.903      -0.133\n",
       "Fare              0.0037      0.002      1.553      0.120      -0.001       0.008\n",
       "SibSp            -0.1274      0.082     -1.560      0.119      -0.288       0.033\n",
       "Parch             0.2920      0.101      2.904      0.004       0.095       0.489\n",
       "Pclass           -0.7556      0.116     -6.503      0.000      -0.983      -0.528\n",
       "================================================================================\n",
       "                   coef    std err          z      P>|z|      [0.025      0.975]\n",
       "--------------------------------------------------------------------------------\n",
       "dispersion_1     0.9990      0.036     27.996      0.000       0.929       1.069\n",
       "==============================================================================\n",
       "                 coef    std err          z      P>|z|      [0.025      0.975]\n",
       "------------------------------------------------------------------------------\n",
       "power_         1.0000        nan        nan        nan         nan         nan\n",
       "==============================================================================\n",
       "\"\"\""
      ]
     },
     "execution_count": 126,
     "metadata": {},
     "output_type": "execute_result"
    }
   ],
   "source": [
    "modelresults = MCGLM(\n",
    "    y,\n",
    "    X,\n",
    "    [mc_id(X)],\n",
    "    link=\"logit\",\n",
    "    variance=\"binomialP\",\n",
    "    ntrial=1,\n",
    ").fit()\n",
    "modelresults.summary()"
   ]
  },
  {
   "cell_type": "markdown",
   "metadata": {},
   "source": [
    "For a bounded scenario, we have four different link functions on the mcglm library."
   ]
  },
  {
   "cell_type": "code",
   "execution_count": 50,
   "metadata": {},
   "outputs": [],
   "source": [
    "## Evaluating multiple links\n",
    "modelresults_logit = MCGLM(\n",
    "    y, X, [mc_id(X)], link=\"logit\", variance=\"binomialP\", ntrial=1\n",
    ").fit()\n",
    "\n",
    "modelresults_loglog = MCGLM(\n",
    "    y, X, [mc_id(X)], link=\"loglog\", variance=\"binomialP\", ntrial=1\n",
    ").fit()\n",
    "\n",
    "modelresults_cloglog = MCGLM(\n",
    "    y, X, [mc_id(X)], link=\"cloglog\", variance=\"binomialP\", ntrial=1\n",
    ").fit()\n",
    "\n",
    "modelresults_cauchy = MCGLM(\n",
    "    y, X, [mc_id(X)], link=\"cauchy\", variance=\"binomialP\", ntrial=1\n",
    ").fit()"
   ]
  },
  {
   "cell_type": "code",
   "execution_count": 51,
   "metadata": {},
   "outputs": [
    {
     "name": "stdout",
     "output_type": "stream",
     "text": [
      "logit_aic:  213.8 , loglog_aic:  200.75 , cloglog_aic:  223.56 , cauchy_aic:  218.02\n"
     ]
    }
   ],
   "source": [
    "print(\n",
    "    \"logit_aic: \",\n",
    "    modelresults_logit.aic,\n",
    "    \", loglog_aic: \",\n",
    "    modelresults_loglog.aic,\n",
    "    \", cloglog_aic: \",\n",
    "    modelresults_cloglog.aic,\n",
    "    \", cauchy_aic: \",\n",
    "    modelresults_cauchy.aic,\n",
    ")"
   ]
  },
  {
   "cell_type": "markdown",
   "metadata": {},
   "source": [
    "The loglog link is the best pick for this analysis."
   ]
  },
  {
   "cell_type": "markdown",
   "metadata": {},
   "source": [
    "In addition to it, the `mcglm` can fit data when components are not independent.\n",
    "\n",
    "------------------\n",
    "\n",
    "### Dependence section"
   ]
  },
  {
   "cell_type": "markdown",
   "metadata": {},
   "source": [
    "Moving Average model. \n",
    "\n",
    "The library `statmodels` has an amazing API to craft Arma process. Let's use it to generate data, and then adjust a model."
   ]
  },
  {
   "cell_type": "code",
   "execution_count": 27,
   "metadata": {},
   "outputs": [],
   "source": [
    "arma_obj = ArmaProcess(ar=[1], ma=[1, 2])\n",
    "arma_sample = arma_obj.generate_sample(nsample=300)\n",
    "\n",
    "data = pd.DataFrame()\n",
    "data[\"arma_sample\"] = arma_sample\n",
    "data[\"index\"] = list(range(0, 300))\n",
    "data = add_constant(data)\n",
    "\n",
    "X = data[[\"const\"]]\n",
    "y = data[\"arma_sample\"]"
   ]
  },
  {
   "cell_type": "code",
   "execution_count": 28,
   "metadata": {},
   "outputs": [
    {
     "data": {
      "text/plain": [
       "<AxesSubplot:xlabel='index', ylabel='arma_sample'>"
      ]
     },
     "execution_count": 28,
     "metadata": {},
     "output_type": "execute_result"
    },
    {
     "data": {
      "image/png": "[encoded data removed]",
      "text/plain": [
       "<Figure size 432x288 with 1 Axes>"
      ]
     },
     "metadata": {
      "needs_background": "light"
     },
     "output_type": "display_data"
    }
   ],
   "source": [
    "sns.lineplot(data[\"index\"], data[\"arma_sample\"])"
   ]
  },
  {
   "cell_type": "markdown",
   "metadata": {},
   "source": [
    "By default, time-series analysis starts with the usual decomposition on trend, seasonal and residual(shock). In this analysis, as long as we have crafted from ARMA process, we can adjust a model MA straight off the bat."
   ]
  },
  {
   "cell_type": "markdown",
   "metadata": {},
   "source": [
    "The measure of goodness-of-fit `pAIC` is crucial to point the best pick."
   ]
  },
  {
   "cell_type": "code",
   "execution_count": 29,
   "metadata": {},
   "outputs": [],
   "source": [
    "one_order = [mc_id(X), mc_ma(id=\"const\", time=\"index\", data=data, order=1)]\n",
    "two_order = [*one_order, mc_ma(id=\"const\", time=\"index\", data=data, order=2)]\n",
    "three_order = [*two_order, mc_ma(id=\"const\", time=\"index\", data=data, order=3)]\n",
    "four_order = [*three_order, mc_ma(id=\"const\", time=\"index\", data=data, order=4)]\n",
    "five_order = [*four_order, mc_ma(id=\"const\", time=\"index\", data=data, order=5)]\n",
    "six_order = [*five_order, mc_ma(id=\"const\", time=\"index\", data=data, order=6)]\n",
    "seven_order = [*six_order, mc_ma(id=\"const\", time=\"index\", data=data, order=7)]"
   ]
  },
  {
   "cell_type": "code",
   "execution_count": 30,
   "metadata": {},
   "outputs": [
    {
     "name": "stdout",
     "output_type": "stream",
     "text": [
      "q value:  1 , paic:  963.79\n",
      "q value:  2 , paic:  965.7\n",
      "q value:  3 , paic:  966.51\n",
      "q value:  4 , paic:  968.51\n",
      "q value:  5 , paic:  970.36\n",
      "q value:  6 , paic:  972.35\n",
      "q value:  7 , paic:  973.41\n"
     ]
    }
   ],
   "source": [
    "for index, order in enumerate(\n",
    "    [one_order, two_order, three_order, four_order, five_order, six_order, seven_order]\n",
    "):\n",
    "    modelresults = MCGLM(y, X, order).fit()\n",
    "\n",
    "    print(\"q value: \", str(index + 1), \", paic: \", modelresults.aic)"
   ]
  },
  {
   "cell_type": "markdown",
   "metadata": {},
   "source": [
    "Lag size q as 1 as the best fit."
   ]
  },
  {
   "cell_type": "code",
   "execution_count": 117,
   "metadata": {},
   "outputs": [
    {
     "data": {
      "text/html": [
       "<table class=\"simpletable\">\n",
       "<caption>Multivariate Covariance Generalized Linear Model</caption>\n",
       "<tr>\n",
       "  <th>Dep. Variable:</th>    <td>arma_sample</td>   <th>  No. Iterations:    </th>    <td>10</td>    \n",
       "</tr>\n",
       "<tr>\n",
       "  <th>Model:</th>               <td>MCGLM</td>      <th>  No. Observations:  </th>    <td>300</td>   \n",
       "</tr>\n",
       "<tr>\n",
       "  <th>link:</th>              <td>identity</td>     <th>  Df Residuals:      </th>    <td>297</td>   \n",
       "</tr>\n",
       "<tr>\n",
       "  <th>variance:</th>          <td>constant</td>     <th>  Df Model:          </th>     <td>3</td>    \n",
       "</tr>\n",
       "<tr>\n",
       "  <th>Method:</th>        <td>Quasi-Likelihood</td> <th>  Power-fixed:       </th>   <td>True</td>   \n",
       "</tr>\n",
       "<tr>\n",
       "  <th>Date:</th>          <td>Mon, 24 Oct 2022</td> <th>  pAIC               </th>  <td>998.91</td>  \n",
       "</tr>\n",
       "<tr>\n",
       "  <th>Time:</th>              <td>20:46:32</td>     <th>  pBIC               </th>  <td>1010.02</td> \n",
       "</tr>\n",
       "<tr>\n",
       "  <th> </th>                      <td> </td>        <th>  pLogLik            </th> <td>-496.4536</td>\n",
       "</tr>\n",
       "</table>\n",
       "<table class=\"simpletable\">\n",
       "<tr>\n",
       "    <td></td>       <th>coef</th>     <th>std err</th>      <th>z</th>      <th>P>|z|</th>  <th>[0.025</th>    <th>0.975]</th>  \n",
       "</tr>\n",
       "<tr>\n",
       "  <th>const</th> <td>   -0.0119</td> <td>    0.178</td> <td>   -0.067</td> <td> 0.947</td> <td>   -0.361</td> <td>    0.337</td>\n",
       "</tr>\n",
       "</table>\n",
       "<table class=\"simpletable\">\n",
       "<tr>\n",
       "        <td></td>          <th>coef</th>     <th>std err</th>      <th>z</th>      <th>P>|z|</th>  <th>[0.025</th>    <th>0.975]</th>  \n",
       "</tr>\n",
       "<tr>\n",
       "  <th>dispersion_1</th> <td>    5.3560</td> <td>    0.514</td> <td>   10.411</td> <td> 0.000</td> <td>    4.348</td> <td>    6.364</td>\n",
       "</tr>\n",
       "<tr>\n",
       "  <th>dispersion_2</th> <td>    2.0900</td> <td>    0.278</td> <td>    7.508</td> <td> 0.000</td> <td>    1.544</td> <td>    2.636</td>\n",
       "</tr>\n",
       "</table>\n",
       "<table class=\"simpletable\">\n",
       "<tr>\n",
       "     <td></td>       <th>coef</th>     <th>std err</th>      <th>z</th>      <th>P>|z|</th>  <th>[0.025</th>    <th>0.975]</th>  \n",
       "</tr>\n",
       "<tr>\n",
       "  <th>power_</th> <td>    1.0000</td> <td>      nan</td> <td>      nan</td> <td>   nan</td> <td>      nan</td> <td>      nan</td>\n",
       "</tr>\n",
       "</table>"
      ],
      "text/plain": [
       "<class 'statsmodels.iolib.summary.Summary'>\n",
       "\"\"\"\n",
       "               Multivariate Covariance Generalized Linear Model               \n",
       "==============================================================================\n",
       "Dep. Variable:            arma_sample   No. Iterations:                     10\n",
       "Model:                          MCGLM   No. Observations:                  300\n",
       "link:                        identity   Df Residuals:                      297\n",
       "variance:                    constant   Df Model:                            3\n",
       "Method:              Quasi-Likelihood   Power-fixed:                      True\n",
       "Date:                Mon, 24 Oct 2022   pAIC                            998.91\n",
       "Time:                        20:46:32   pBIC                           1010.02\n",
       "                                        pLogLik                      -496.4536\n",
       "==============================================================================\n",
       "                 coef    std err          z      P>|z|      [0.025      0.975]\n",
       "------------------------------------------------------------------------------\n",
       "const         -0.0119      0.178     -0.067      0.947      -0.361       0.337\n",
       "================================================================================\n",
       "                   coef    std err          z      P>|z|      [0.025      0.975]\n",
       "--------------------------------------------------------------------------------\n",
       "dispersion_1     5.3560      0.514     10.411      0.000       4.348       6.364\n",
       "dispersion_2     2.0900      0.278      7.508      0.000       1.544       2.636\n",
       "==============================================================================\n",
       "                 coef    std err          z      P>|z|      [0.025      0.975]\n",
       "------------------------------------------------------------------------------\n",
       "power_         1.0000        nan        nan        nan         nan         nan\n",
       "==============================================================================\n",
       "\"\"\""
      ]
     },
     "execution_count": 117,
     "metadata": {},
     "output_type": "execute_result"
    }
   ],
   "source": [
    "modelresults = MCGLM(y, X, one_order).fit()\n",
    "modelresults.summary()"
   ]
  },
  {
   "cell_type": "markdown",
   "metadata": {},
   "source": [
    "The summary report drills down the $\\theta$ parameters that linearly operates the Gaussian White Noise."
   ]
  },
  {
   "cell_type": "markdown",
   "metadata": {},
   "source": [
    "##### Random Effect models.\n",
    "-------------\n",
    "\n",
    "MCGLM can also approach the notorious random effect models, with random slope and intercept."
   ]
  },
  {
   "cell_type": "code",
   "execution_count": 37,
   "metadata": {},
   "outputs": [
    {
     "data": {
      "text/html": [
       "<div>\n",
       "<style scoped>\n",
       "    .dataframe tbody tr th:only-of-type {\n",
       "        vertical-align: middle;\n",
       "    }\n",
       "\n",
       "    .dataframe tbody tr th {\n",
       "        vertical-align: top;\n",
       "    }\n",
       "\n",
       "    .dataframe thead th {\n",
       "        text-align: right;\n",
       "    }\n",
       "</style>\n",
       "<table border=\"1\" class=\"dataframe\">\n",
       "  <thead>\n",
       "    <tr style=\"text-align: right;\">\n",
       "      <th></th>\n",
       "      <th>Reaction</th>\n",
       "      <th>Days</th>\n",
       "      <th>Subject</th>\n",
       "    </tr>\n",
       "  </thead>\n",
       "  <tbody>\n",
       "    <tr>\n",
       "      <th>0</th>\n",
       "      <td>249.5600</td>\n",
       "      <td>0</td>\n",
       "      <td>308</td>\n",
       "    </tr>\n",
       "    <tr>\n",
       "      <th>1</th>\n",
       "      <td>258.7047</td>\n",
       "      <td>1</td>\n",
       "      <td>308</td>\n",
       "    </tr>\n",
       "    <tr>\n",
       "      <th>2</th>\n",
       "      <td>250.8006</td>\n",
       "      <td>2</td>\n",
       "      <td>308</td>\n",
       "    </tr>\n",
       "    <tr>\n",
       "      <th>3</th>\n",
       "      <td>321.4398</td>\n",
       "      <td>3</td>\n",
       "      <td>308</td>\n",
       "    </tr>\n",
       "    <tr>\n",
       "      <th>4</th>\n",
       "      <td>356.8519</td>\n",
       "      <td>4</td>\n",
       "      <td>308</td>\n",
       "    </tr>\n",
       "    <tr>\n",
       "      <th>5</th>\n",
       "      <td>414.6901</td>\n",
       "      <td>5</td>\n",
       "      <td>308</td>\n",
       "    </tr>\n",
       "    <tr>\n",
       "      <th>6</th>\n",
       "      <td>382.2038</td>\n",
       "      <td>6</td>\n",
       "      <td>308</td>\n",
       "    </tr>\n",
       "    <tr>\n",
       "      <th>7</th>\n",
       "      <td>290.1486</td>\n",
       "      <td>7</td>\n",
       "      <td>308</td>\n",
       "    </tr>\n",
       "    <tr>\n",
       "      <th>8</th>\n",
       "      <td>430.5853</td>\n",
       "      <td>8</td>\n",
       "      <td>308</td>\n",
       "    </tr>\n",
       "    <tr>\n",
       "      <th>9</th>\n",
       "      <td>466.3535</td>\n",
       "      <td>9</td>\n",
       "      <td>308</td>\n",
       "    </tr>\n",
       "  </tbody>\n",
       "</table>\n",
       "</div>"
      ],
      "text/plain": [
       "   Reaction  Days Subject\n",
       "0  249.5600     0     308\n",
       "1  258.7047     1     308\n",
       "2  250.8006     2     308\n",
       "3  321.4398     3     308\n",
       "4  356.8519     4     308\n",
       "5  414.6901     5     308\n",
       "6  382.2038     6     308\n",
       "7  290.1486     7     308\n",
       "8  430.5853     8     308\n",
       "9  466.3535     9     308"
      ]
     },
     "execution_count": 37,
     "metadata": {},
     "output_type": "execute_result"
    }
   ],
   "source": [
    "# Top 10 cells to get an intuition about data.\n",
    "sleepstudy = pd.read_csv(\n",
    "    \"data/first_simulation/sleepstudy.csv\", dtype={\"Subject\": \"str\"}\n",
    ")\n",
    "\n",
    "sleepstudy.head(10)"
   ]
  },
  {
   "cell_type": "code",
   "execution_count": 38,
   "metadata": {},
   "outputs": [
    {
     "data": {
      "text/plain": [
       "<matplotlib.legend.Legend at 0x7fe55c0b18b0>"
      ]
     },
     "execution_count": 38,
     "metadata": {},
     "output_type": "execute_result"
    },
    {
     "data": {
      "image/png": "[encoded data removed]",
      "text/plain": [
       "<Figure size 432x288 with 1 Axes>"
      ]
     },
     "metadata": {
      "needs_background": "light"
     },
     "output_type": "display_data"
    }
   ],
   "source": [
    "## Plotting curve of 18 subjects\n",
    "_ = sns.lineplot(x=\"Days\", y=\"Reaction\", hue=\"Subject\", data=sleepstudy)\n",
    "plt.legend(bbox_to_anchor=(1.05, 1), loc=2, borderaxespad=0.0)"
   ]
  },
  {
   "cell_type": "code",
   "execution_count": 39,
   "metadata": {},
   "outputs": [],
   "source": [
    "# Design Matrix\n",
    "X = dmatrix(\"~ Days\", sleepstudy, return_type=\"dataframe\")\n",
    "\n",
    "# Z specification\n",
    "Z = [mc_id(sleepstudy)] + mc_mixed(formula=\"~ 0 + Subject / Days\", data=sleepstudy)"
   ]
  },
  {
   "cell_type": "code",
   "execution_count": 40,
   "metadata": {},
   "outputs": [],
   "source": [
    "# Model fitting\n",
    "mcglm = MCGLM(endog=sleepstudy[\"Reaction\"], exog=X, z=Z)\n",
    "\n",
    "mcglmresults = mcglm.fit()"
   ]
  },
  {
   "cell_type": "code",
   "execution_count": 41,
   "metadata": {},
   "outputs": [
    {
     "data": {
      "text/html": [
       "<table class=\"simpletable\">\n",
       "<caption>Multivariate Covariance Generalized Linear Model</caption>\n",
       "<tr>\n",
       "  <th>Dep. Variable:</th>     <td>Reaction</td>     <th>  No. Iterations:    </th>    <td>20</td>    \n",
       "</tr>\n",
       "<tr>\n",
       "  <th>Model:</th>               <td>MCGLM</td>      <th>  No. Observations:  </th>    <td>180</td>   \n",
       "</tr>\n",
       "<tr>\n",
       "  <th>link:</th>              <td>identity</td>     <th>  Df Residuals:      </th>    <td>174</td>   \n",
       "</tr>\n",
       "<tr>\n",
       "  <th>variance:</th>          <td>constant</td>     <th>  Df Model:          </th>     <td>6</td>    \n",
       "</tr>\n",
       "<tr>\n",
       "  <th>Method:</th>        <td>Quasi-Likelihood</td> <th>  Power-fixed:       </th>   <td>True</td>   \n",
       "</tr>\n",
       "<tr>\n",
       "  <th>Date:</th>          <td>Thu, 08 Sep 2022</td> <th>  pAIC               </th>  <td>1583.94</td> \n",
       "</tr>\n",
       "<tr>\n",
       "  <th>Time:</th>              <td>20:54:09</td>     <th>  pBIC               </th>  <td>1603.1</td>  \n",
       "</tr>\n",
       "<tr>\n",
       "  <th> </th>                      <td> </td>        <th>  pLogLik            </th> <td>-785.9704</td>\n",
       "</tr>\n",
       "</table>\n",
       "<table class=\"simpletable\">\n",
       "<tr>\n",
       "      <td></td>         <th>coef</th>     <th>std err</th>      <th>z</th>      <th>P>|z|</th>  <th>[0.025</th>    <th>0.975]</th>  \n",
       "</tr>\n",
       "<tr>\n",
       "  <th>Intercept</th> <td>  251.4051</td> <td>    6.632</td> <td>   37.906</td> <td> 0.000</td> <td>  238.406</td> <td>  264.404</td>\n",
       "</tr>\n",
       "<tr>\n",
       "  <th>Days</th>      <td>   10.4673</td> <td>    1.502</td> <td>    6.968</td> <td> 0.000</td> <td>    7.523</td> <td>   13.412</td>\n",
       "</tr>\n",
       "</table>\n",
       "<table class=\"simpletable\">\n",
       "<tr>\n",
       "        <td></td>          <th>coef</th>     <th>std err</th>      <th>z</th>      <th>P>|z|</th>  <th>[0.025</th>    <th>0.975]</th>  \n",
       "</tr>\n",
       "<tr>\n",
       "  <th>dispersion_1</th> <td>  654.9420</td> <td>   70.624</td> <td>    9.274</td> <td> 0.000</td> <td>  516.521</td> <td>  793.363</td>\n",
       "</tr>\n",
       "<tr>\n",
       "  <th>dispersion_2</th> <td>  565.5150</td> <td>  264.679</td> <td>    2.137</td> <td> 0.033</td> <td>   46.753</td> <td> 1084.277</td>\n",
       "</tr>\n",
       "<tr>\n",
       "  <th>dispersion_3</th> <td>   32.6820</td> <td>   13.560</td> <td>    2.410</td> <td> 0.016</td> <td>    6.105</td> <td>   59.259</td>\n",
       "</tr>\n",
       "<tr>\n",
       "  <th>dispersion_4</th> <td>   11.0550</td> <td>   42.948</td> <td>    0.257</td> <td> 0.797</td> <td>  -73.121</td> <td>   95.231</td>\n",
       "</tr>\n",
       "</table>\n",
       "<table class=\"simpletable\">\n",
       "<tr>\n",
       "     <td></td>       <th>coef</th>     <th>std err</th>      <th>z</th>      <th>P>|z|</th>  <th>[0.025</th>    <th>0.975]</th>  \n",
       "</tr>\n",
       "<tr>\n",
       "  <th>power_</th> <td>    1.0000</td> <td>      nan</td> <td>      nan</td> <td>   nan</td> <td>      nan</td> <td>      nan</td>\n",
       "</tr>\n",
       "</table>"
      ],
      "text/plain": [
       "<class 'statsmodels.iolib.summary.Summary'>\n",
       "\"\"\"\n",
       "               Multivariate Covariance Generalized Linear Model               \n",
       "==============================================================================\n",
       "Dep. Variable:               Reaction   No. Iterations:                     20\n",
       "Model:                          MCGLM   No. Observations:                  180\n",
       "link:                        identity   Df Residuals:                      174\n",
       "variance:                    constant   Df Model:                            6\n",
       "Method:              Quasi-Likelihood   Power-fixed:                      True\n",
       "Date:                Thu, 08 Sep 2022   pAIC                           1583.94\n",
       "Time:                        20:54:09   pBIC                            1603.1\n",
       "                                        pLogLik                      -785.9704\n",
       "==============================================================================\n",
       "                 coef    std err          z      P>|z|      [0.025      0.975]\n",
       "------------------------------------------------------------------------------\n",
       "Intercept    251.4051      6.632     37.906      0.000     238.406     264.404\n",
       "Days          10.4673      1.502      6.968      0.000       7.523      13.412\n",
       "================================================================================\n",
       "                   coef    std err          z      P>|z|      [0.025      0.975]\n",
       "--------------------------------------------------------------------------------\n",
       "dispersion_1   654.9420     70.624      9.274      0.000     516.521     793.363\n",
       "dispersion_2   565.5150    264.679      2.137      0.033      46.753    1084.277\n",
       "dispersion_3    32.6820     13.560      2.410      0.016       6.105      59.259\n",
       "dispersion_4    11.0550     42.948      0.257      0.797     -73.121      95.231\n",
       "==============================================================================\n",
       "                 coef    std err          z      P>|z|      [0.025      0.975]\n",
       "------------------------------------------------------------------------------\n",
       "power_         1.0000        nan        nan        nan         nan         nan\n",
       "==============================================================================\n",
       "\"\"\""
      ]
     },
     "execution_count": 41,
     "metadata": {},
     "output_type": "execute_result"
    }
   ],
   "source": [
    "mcglmresults.summary()"
   ]
  },
  {
   "cell_type": "markdown",
   "metadata": {},
   "source": [
    "#### Beta coefficients  \n",
    "The Beta section diagnose the fixed-effects parameters, that is to say, the conclusion overall subjects.  \n",
    "\n",
    "    Intercept set at value 251.40. The straightforward takeaway is: At day 0, the average response time is roughly 251 seconds.\n",
    "    In addition, Days at 10.46 allude to total change to response time by unit changes on Days, for subjects with random effects set to 0.\n",
    "    Furthermore, by the results of the wald test on Days, we might conclude that days are statistically significant in the statistical model.\n",
    "---\n",
    "#### Dispersion parameters   \n",
    "The Dispersion parameters allude to random effects within individuals throughout the days.  \n",
    "\n",
    "    The first dispersion parameter is the variance across all data points. Calculated in 654.94.\n",
    "    The second dispersion parameter is the variance across all intercepts, which is 565.51.\n",
    "    The third dispersion parameter is the variance across all slopes. Calculated in 32.68. \n",
    "    The fourth dispersion parameter is the variance across intercepts and slopes. Calculated in 11.05.\n",
    "\n",
    "* Moreover, the correlation might be calculated through the formula = dispersion_4/(sqrt(dispersion_2) + sqrt(dispersion_3)). Cell below shows the pearson correlation result, 0.37.   "
   ]
  },
  {
   "cell_type": "markdown",
   "metadata": {},
   "source": [
    "##### Multivariate Models\n",
    "-------------\n",
    "\n",
    "Soya\n",
    "\n",
    "`Soya` is a dataset that stores an experiment of Universidade Federal da Grande Dourados in Dourados, Mato Grosso do Sul, Brazil. Description:    \n",
    "https://github.com/walmes/wzRfun/blob/master/R/wzRfun.R#L10   \n",
    "http://ccarevista.ufc.br/seer/index.php/ccarevista/article/view/1454  \n",
    "\n",
    "The experiment collected data about different treatments of `potassium`, `water`, and `blocks` for soil farming on buckets. All of those covariates are categorical. The response traits to be analyzed are: `grain size`, `total seeds`, and `viable peas`, which stands for the weight of hundred grains, total grain per bucket, and percentage of viable peas(green beans). In the following, MCGLM fits onto this data with three unique kinds of answers: continuous, count, and binomial."
   ]
  },
  {
   "cell_type": "code",
   "execution_count": 31,
   "metadata": {},
   "outputs": [],
   "source": [
    "soya = pd.read_csv(\n",
    "    \"data/fourth_simulation/soya.csv\",\n",
    "    dtype={\"block\": \"str\", \"water\": \"str\", \"pot\": \"str\"},\n",
    ")\n",
    "\n",
    "soya[\"viablegrain\"] = soya[\"viablepeas\"] / soya[\"totalpeas\"]"
   ]
  },
  {
   "cell_type": "code",
   "execution_count": 32,
   "metadata": {},
   "outputs": [],
   "source": [
    "# percentual of peas.\n",
    "soya[\"viablePeas\"] = soya[\"viablepeas\"] / soya[\"totalpeas\"]\n",
    "\n",
    "# Design matrix.\n",
    "X = dmatrix(\"~ block + water * pot\", soya, return_type=\"dataframe\")"
   ]
  },
  {
   "cell_type": "code",
   "execution_count": 33,
   "metadata": {},
   "outputs": [],
   "source": [
    "# Model Specification\n",
    "mcglm = MCGLM(\n",
    "    endog=[soya[\"grain\"], soya[\"seeds\"], soya[\"viablePeas\"]],\n",
    "    exog=[X, X, X],\n",
    "    z=[[mc_id(soya)], [mc_id(soya)], [mc_id(soya)]],\n",
    "    link=[\"identity\", \"log\", \"logit\"],\n",
    "    variance=[\"constant\", \"tweedie\", \"binomialP\"],\n",
    "    ntrial=[None, None, soya[\"totalpeas\"].values],\n",
    ")\n",
    "\n",
    "\n",
    "mcglmresults = mcglm.fit()"
   ]
  },
  {
   "cell_type": "code",
   "execution_count": 34,
   "metadata": {},
   "outputs": [
    {
     "data": {
      "text/html": [
       "<table class=\"simpletable\">\n",
       "<caption>Multivariate Covariance Generalized Linear Model</caption>\n",
       "<tr>\n",
       "  <th>Dep. Variable:</th>       <td>grain</td>      <th>  No. Iterations:    </th>     <td>3</td>    \n",
       "</tr>\n",
       "<tr>\n",
       "  <th>Model:</th>               <td>MCGLM</td>      <th>  No. Observations:  </th>    <td>75</td>    \n",
       "</tr>\n",
       "<tr>\n",
       "  <th>link:</th>              <td>identity</td>     <th>  Df Residuals:      </th>    <td>55</td>    \n",
       "</tr>\n",
       "<tr>\n",
       "  <th>variance:</th>          <td>constant</td>     <th>  Df Model:          </th>    <td>20</td>    \n",
       "</tr>\n",
       "<tr>\n",
       "  <th>Method:</th>        <td>Quasi-Likelihood</td> <th>  Power-fixed:       </th>   <td>True</td>   \n",
       "</tr>\n",
       "<tr>\n",
       "  <th>Date:</th>          <td>Sun, 27 Nov 2022</td> <th>  pAIC               </th>  <td>448.02</td>  \n",
       "</tr>\n",
       "<tr>\n",
       "  <th>Time:</th>              <td>19:24:26</td>     <th>  pBIC               </th>  <td>516.34</td>  \n",
       "</tr>\n",
       "<tr>\n",
       "  <th> </th>                      <td> </td>        <th>  pLogLik            </th> <td>-204.0085</td>\n",
       "</tr>\n",
       "</table>\n",
       "<table class=\"simpletable\">\n",
       "<tr>\n",
       "              <td></td>                <th>coef</th>     <th>std err</th>      <th>z</th>      <th>P>|z|</th>  <th>[0.025</th>    <th>0.975]</th>  \n",
       "</tr>\n",
       "<tr>\n",
       "  <th>Intercept</th>                <td>   14.2455</td> <td>    1.217</td> <td>   11.701</td> <td> 0.000</td> <td>   11.859</td> <td>   16.632</td>\n",
       "</tr>\n",
       "<tr>\n",
       "  <th>block[T.II]</th>              <td>    1.1326</td> <td>    0.880</td> <td>    1.287</td> <td> 0.198</td> <td>   -0.593</td> <td>    2.858</td>\n",
       "</tr>\n",
       "<tr>\n",
       "  <th>block[T.III]</th>             <td>   -0.7797</td> <td>    0.880</td> <td>   -0.886</td> <td> 0.376</td> <td>   -2.505</td> <td>    0.946</td>\n",
       "</tr>\n",
       "<tr>\n",
       "  <th>block[T.IV]</th>              <td>   -1.5495</td> <td>    0.880</td> <td>   -1.760</td> <td> 0.078</td> <td>   -3.275</td> <td>    0.176</td>\n",
       "</tr>\n",
       "<tr>\n",
       "  <th>block[T.V]</th>               <td>   -2.3866</td> <td>    0.880</td> <td>   -2.711</td> <td> 0.007</td> <td>   -4.112</td> <td>   -0.661</td>\n",
       "</tr>\n",
       "<tr>\n",
       "  <th>water[T.50]</th>              <td>    2.1660</td> <td>    1.531</td> <td>    1.415</td> <td> 0.157</td> <td>   -0.834</td> <td>    5.166</td>\n",
       "</tr>\n",
       "<tr>\n",
       "  <th>water[T.62.5]</th>            <td>    2.5404</td> <td>    1.531</td> <td>    1.660</td> <td> 0.097</td> <td>   -0.460</td> <td>    5.541</td>\n",
       "</tr>\n",
       "<tr>\n",
       "  <th>pot[T.120]</th>               <td>   11.7898</td> <td>    1.531</td> <td>    7.702</td> <td> 0.000</td> <td>    8.790</td> <td>   14.790</td>\n",
       "</tr>\n",
       "<tr>\n",
       "  <th>pot[T.180]</th>               <td>   11.8633</td> <td>    1.531</td> <td>    7.750</td> <td> 0.000</td> <td>    8.863</td> <td>   14.864</td>\n",
       "</tr>\n",
       "<tr>\n",
       "  <th>pot[T.30]</th>                <td>    6.7894</td> <td>    1.531</td> <td>    4.435</td> <td> 0.000</td> <td>    3.789</td> <td>    9.790</td>\n",
       "</tr>\n",
       "<tr>\n",
       "  <th>pot[T.60]</th>                <td>   10.3978</td> <td>    1.531</td> <td>    6.793</td> <td> 0.000</td> <td>    7.398</td> <td>   13.398</td>\n",
       "</tr>\n",
       "<tr>\n",
       "  <th>water[T.50]:pot[T.120]</th>   <td>    2.2541</td> <td>    2.165</td> <td>    1.041</td> <td> 0.298</td> <td>   -1.989</td> <td>    6.497</td>\n",
       "</tr>\n",
       "<tr>\n",
       "  <th>water[T.62.5]:pot[T.120]</th> <td>    5.5826</td> <td>    2.165</td> <td>    2.579</td> <td> 0.010</td> <td>    1.340</td> <td>    9.826</td>\n",
       "</tr>\n",
       "<tr>\n",
       "  <th>water[T.50]:pot[T.180]</th>   <td>    1.2097</td> <td>    2.165</td> <td>    0.559</td> <td> 0.576</td> <td>   -3.033</td> <td>    5.453</td>\n",
       "</tr>\n",
       "<tr>\n",
       "  <th>water[T.62.5]:pot[T.180]</th> <td>    9.2391</td> <td>    2.165</td> <td>    4.268</td> <td> 0.000</td> <td>    4.996</td> <td>   13.482</td>\n",
       "</tr>\n",
       "<tr>\n",
       "  <th>water[T.50]:pot[T.30]</th>    <td>    0.1069</td> <td>    2.165</td> <td>    0.049</td> <td> 0.961</td> <td>   -4.136</td> <td>    4.350</td>\n",
       "</tr>\n",
       "<tr>\n",
       "  <th>water[T.62.5]:pot[T.30]</th>  <td>   -1.8677</td> <td>    2.165</td> <td>   -0.863</td> <td> 0.388</td> <td>   -6.111</td> <td>    2.375</td>\n",
       "</tr>\n",
       "<tr>\n",
       "  <th>water[T.50]:pot[T.60]</th>    <td>    2.6035</td> <td>    2.165</td> <td>    1.203</td> <td> 0.229</td> <td>   -1.640</td> <td>    6.847</td>\n",
       "</tr>\n",
       "<tr>\n",
       "  <th>water[T.62.5]:pot[T.60]</th>  <td>    3.3585</td> <td>    2.165</td> <td>    1.551</td> <td> 0.121</td> <td>   -0.885</td> <td>    7.602</td>\n",
       "</tr>\n",
       "</table>\n",
       "<table class=\"simpletable\">\n",
       "<tr>\n",
       "        <td></td>          <th>coef</th>     <th>std err</th>      <th>z</th>      <th>P>|z|</th>  <th>[0.025</th>    <th>0.975]</th>  \n",
       "</tr>\n",
       "<tr>\n",
       "  <th>dispersion_1</th> <td>    5.8610</td> <td>    1.671</td> <td>    3.507</td> <td> 0.000</td> <td>    2.586</td> <td>    9.136</td>\n",
       "</tr>\n",
       "</table>\n",
       "<table class=\"simpletable\">\n",
       "<tr>\n",
       "     <td></td>       <th>coef</th>     <th>std err</th>      <th>z</th>      <th>P>|z|</th>  <th>[0.025</th>    <th>0.975]</th>  \n",
       "</tr>\n",
       "<tr>\n",
       "  <th>power_</th> <td>    1.0000</td> <td>      nan</td> <td>      nan</td> <td>   nan</td> <td>      nan</td> <td>      nan</td>\n",
       "</tr>\n",
       "</table>\n",
       "<table class=\"simpletable\">\n",
       "<caption>Multivariate Covariance Generalized Linear Model</caption>\n",
       "<tr>\n",
       "  <th>Dep. Variable:</th>       <td>seeds</td>      <th>  No. Iterations:    </th>     <td>3</td>    \n",
       "</tr>\n",
       "<tr>\n",
       "  <th>Model:</th>               <td>MCGLM</td>      <th>  No. Observations:  </th>    <td>75</td>    \n",
       "</tr>\n",
       "<tr>\n",
       "  <th>link:</th>                 <td>log</td>       <th>  Df Residuals:      </th>    <td>55</td>    \n",
       "</tr>\n",
       "<tr>\n",
       "  <th>variance:</th>           <td>tweedie</td>     <th>  Df Model:          </th>    <td>20</td>    \n",
       "</tr>\n",
       "<tr>\n",
       "  <th>Method:</th>        <td>Quasi-Likelihood</td> <th>  Power-fixed:       </th>   <td>True</td>   \n",
       "</tr>\n",
       "<tr>\n",
       "  <th>Date:</th>          <td>Sun, 27 Nov 2022</td> <th>  pAIC               </th>  <td>448.02</td>  \n",
       "</tr>\n",
       "<tr>\n",
       "  <th>Time:</th>              <td>19:24:26</td>     <th>  pBIC               </th>  <td>516.34</td>  \n",
       "</tr>\n",
       "<tr>\n",
       "  <th> </th>                      <td> </td>        <th>  pLogLik            </th> <td>-204.0085</td>\n",
       "</tr>\n",
       "</table>\n",
       "<table class=\"simpletable\">\n",
       "<tr>\n",
       "              <td></td>                <th>coef</th>     <th>std err</th>      <th>z</th>      <th>P>|z|</th>  <th>[0.025</th>    <th>0.975]</th>  \n",
       "</tr>\n",
       "<tr>\n",
       "  <th>Intercept</th>                <td>    4.8074</td> <td>    0.066</td> <td>   73.109</td> <td> 0.000</td> <td>    4.679</td> <td>    4.936</td>\n",
       "</tr>\n",
       "<tr>\n",
       "  <th>block[T.II]</th>              <td>   -0.0182</td> <td>    0.039</td> <td>   -0.469</td> <td> 0.639</td> <td>   -0.094</td> <td>    0.058</td>\n",
       "</tr>\n",
       "<tr>\n",
       "  <th>block[T.III]</th>             <td>   -0.0330</td> <td>    0.039</td> <td>   -0.845</td> <td> 0.398</td> <td>   -0.110</td> <td>    0.044</td>\n",
       "</tr>\n",
       "<tr>\n",
       "  <th>block[T.IV]</th>              <td>   -0.1066</td> <td>    0.040</td> <td>   -2.679</td> <td> 0.007</td> <td>   -0.185</td> <td>   -0.029</td>\n",
       "</tr>\n",
       "<tr>\n",
       "  <th>block[T.V]</th>               <td>   -0.1261</td> <td>    0.040</td> <td>   -3.154</td> <td> 0.002</td> <td>   -0.205</td> <td>   -0.048</td>\n",
       "</tr>\n",
       "<tr>\n",
       "  <th>water[T.50]</th>              <td>    0.1322</td> <td>    0.084</td> <td>    1.580</td> <td> 0.114</td> <td>   -0.032</td> <td>    0.296</td>\n",
       "</tr>\n",
       "<tr>\n",
       "  <th>water[T.62.5]</th>            <td>    0.1864</td> <td>    0.083</td> <td>    2.255</td> <td> 0.024</td> <td>    0.024</td> <td>    0.348</td>\n",
       "</tr>\n",
       "<tr>\n",
       "  <th>pot[T.120]</th>               <td>    0.3672</td> <td>    0.079</td> <td>    4.620</td> <td> 0.000</td> <td>    0.211</td> <td>    0.523</td>\n",
       "</tr>\n",
       "<tr>\n",
       "  <th>pot[T.180]</th>               <td>    0.2945</td> <td>    0.081</td> <td>    3.649</td> <td> 0.000</td> <td>    0.136</td> <td>    0.453</td>\n",
       "</tr>\n",
       "<tr>\n",
       "  <th>pot[T.30]</th>                <td>    0.2980</td> <td>    0.081</td> <td>    3.696</td> <td> 0.000</td> <td>    0.140</td> <td>    0.456</td>\n",
       "</tr>\n",
       "<tr>\n",
       "  <th>pot[T.60]</th>                <td>    0.3444</td> <td>    0.080</td> <td>    4.313</td> <td> 0.000</td> <td>    0.188</td> <td>    0.501</td>\n",
       "</tr>\n",
       "<tr>\n",
       "  <th>water[T.50]:pot[T.120]</th>   <td>    0.1159</td> <td>    0.108</td> <td>    1.076</td> <td> 0.282</td> <td>   -0.095</td> <td>    0.327</td>\n",
       "</tr>\n",
       "<tr>\n",
       "  <th>water[T.62.5]:pot[T.120]</th> <td>    0.0697</td> <td>    0.107</td> <td>    0.653</td> <td> 0.514</td> <td>   -0.140</td> <td>    0.279</td>\n",
       "</tr>\n",
       "<tr>\n",
       "  <th>water[T.50]:pot[T.180]</th>   <td>    0.2906</td> <td>    0.108</td> <td>    2.697</td> <td> 0.007</td> <td>    0.079</td> <td>    0.502</td>\n",
       "</tr>\n",
       "<tr>\n",
       "  <th>water[T.62.5]:pot[T.180]</th> <td>    0.2166</td> <td>    0.107</td> <td>    2.023</td> <td> 0.043</td> <td>    0.007</td> <td>    0.426</td>\n",
       "</tr>\n",
       "<tr>\n",
       "  <th>water[T.50]:pot[T.30]</th>    <td>    0.0425</td> <td>    0.110</td> <td>    0.386</td> <td> 0.699</td> <td>   -0.173</td> <td>    0.258</td>\n",
       "</tr>\n",
       "<tr>\n",
       "  <th>water[T.62.5]:pot[T.30]</th>  <td>   -0.1372</td> <td>    0.111</td> <td>   -1.241</td> <td> 0.215</td> <td>   -0.354</td> <td>    0.080</td>\n",
       "</tr>\n",
       "<tr>\n",
       "  <th>water[T.50]:pot[T.60]</th>    <td>    0.1161</td> <td>    0.108</td> <td>    1.073</td> <td> 0.283</td> <td>   -0.096</td> <td>    0.328</td>\n",
       "</tr>\n",
       "<tr>\n",
       "  <th>water[T.62.5]:pot[T.60]</th>  <td>    0.0902</td> <td>    0.107</td> <td>    0.842</td> <td> 0.400</td> <td>   -0.120</td> <td>    0.300</td>\n",
       "</tr>\n",
       "</table>\n",
       "<table class=\"simpletable\">\n",
       "<tr>\n",
       "        <td></td>          <th>coef</th>     <th>std err</th>      <th>z</th>      <th>P>|z|</th>  <th>[0.025</th>    <th>0.975]</th>  \n",
       "</tr>\n",
       "<tr>\n",
       "  <th>dispersion_1</th> <td>    2.1620</td> <td>    0.429</td> <td>    5.034</td> <td> 0.000</td> <td>    1.320</td> <td>    3.004</td>\n",
       "</tr>\n",
       "</table>\n",
       "<table class=\"simpletable\">\n",
       "<tr>\n",
       "     <td></td>       <th>coef</th>     <th>std err</th>      <th>z</th>      <th>P>|z|</th>  <th>[0.025</th>    <th>0.975]</th>  \n",
       "</tr>\n",
       "<tr>\n",
       "  <th>power_</th> <td>    1.0000</td> <td>      nan</td> <td>      nan</td> <td>   nan</td> <td>      nan</td> <td>      nan</td>\n",
       "</tr>\n",
       "</table>\n",
       "<table class=\"simpletable\">\n",
       "<caption>Multivariate Covariance Generalized Linear Model</caption>\n",
       "<tr>\n",
       "  <th>Dep. Variable:</th>    <td>viablePeas</td>    <th>  No. Iterations:    </th>     <td>3</td>    \n",
       "</tr>\n",
       "<tr>\n",
       "  <th>Model:</th>               <td>MCGLM</td>      <th>  No. Observations:  </th>    <td>75</td>    \n",
       "</tr>\n",
       "<tr>\n",
       "  <th>link:</th>                <td>logit</td>      <th>  Df Residuals:      </th>    <td>55</td>    \n",
       "</tr>\n",
       "<tr>\n",
       "  <th>variance:</th>          <td>binomialP</td>    <th>  Df Model:          </th>    <td>20</td>    \n",
       "</tr>\n",
       "<tr>\n",
       "  <th>Method:</th>        <td>Quasi-Likelihood</td> <th>  Power-fixed:       </th>   <td>True</td>   \n",
       "</tr>\n",
       "<tr>\n",
       "  <th>Date:</th>          <td>Sun, 27 Nov 2022</td> <th>  pAIC               </th>  <td>448.02</td>  \n",
       "</tr>\n",
       "<tr>\n",
       "  <th>Time:</th>              <td>19:24:26</td>     <th>  pBIC               </th>  <td>516.34</td>  \n",
       "</tr>\n",
       "<tr>\n",
       "  <th> </th>                      <td> </td>        <th>  pLogLik            </th> <td>-204.0085</td>\n",
       "</tr>\n",
       "</table>\n",
       "<table class=\"simpletable\">\n",
       "<tr>\n",
       "              <td></td>                <th>coef</th>     <th>std err</th>      <th>z</th>      <th>P>|z|</th>  <th>[0.025</th>    <th>0.975]</th>  \n",
       "</tr>\n",
       "<tr>\n",
       "  <th>Intercept</th>                <td>   -0.8360</td> <td>    0.197</td> <td>   -4.241</td> <td> 0.000</td> <td>   -1.222</td> <td>   -0.450</td>\n",
       "</tr>\n",
       "<tr>\n",
       "  <th>block[T.II]</th>              <td>   -0.4383</td> <td>    0.188</td> <td>   -2.329</td> <td> 0.020</td> <td>   -0.807</td> <td>   -0.069</td>\n",
       "</tr>\n",
       "<tr>\n",
       "  <th>block[T.III]</th>             <td>   -0.1671</td> <td>    0.183</td> <td>   -0.913</td> <td> 0.361</td> <td>   -0.526</td> <td>    0.191</td>\n",
       "</tr>\n",
       "<tr>\n",
       "  <th>block[T.IV]</th>              <td>   -0.1877</td> <td>    0.183</td> <td>   -1.023</td> <td> 0.306</td> <td>   -0.547</td> <td>    0.172</td>\n",
       "</tr>\n",
       "<tr>\n",
       "  <th>block[T.V]</th>               <td>   -0.2926</td> <td>    0.187</td> <td>   -1.564</td> <td> 0.118</td> <td>   -0.659</td> <td>    0.074</td>\n",
       "</tr>\n",
       "<tr>\n",
       "  <th>water[T.50]</th>              <td>    0.5675</td> <td>    0.218</td> <td>    2.603</td> <td> 0.009</td> <td>    0.140</td> <td>    0.995</td>\n",
       "</tr>\n",
       "<tr>\n",
       "  <th>water[T.62.5]</th>            <td>    0.2414</td> <td>    0.219</td> <td>    1.102</td> <td> 0.271</td> <td>   -0.188</td> <td>    0.671</td>\n",
       "</tr>\n",
       "<tr>\n",
       "  <th>pot[T.120]</th>               <td>   -3.3915</td> <td>    0.597</td> <td>   -5.682</td> <td> 0.000</td> <td>   -4.562</td> <td>   -2.222</td>\n",
       "</tr>\n",
       "<tr>\n",
       "  <th>pot[T.180]</th>               <td>   -3.6309</td> <td>    0.685</td> <td>   -5.299</td> <td> 0.000</td> <td>   -4.974</td> <td>   -2.288</td>\n",
       "</tr>\n",
       "<tr>\n",
       "  <th>pot[T.30]</th>                <td>   -1.8455</td> <td>    0.330</td> <td>   -5.600</td> <td> 0.000</td> <td>   -2.491</td> <td>   -1.200</td>\n",
       "</tr>\n",
       "<tr>\n",
       "  <th>pot[T.60]</th>                <td>   -3.1518</td> <td>    0.541</td> <td>   -5.825</td> <td> 0.000</td> <td>   -4.212</td> <td>   -2.091</td>\n",
       "</tr>\n",
       "<tr>\n",
       "  <th>water[T.50]:pot[T.120]</th>   <td>    0.6881</td> <td>    0.672</td> <td>    1.024</td> <td> 0.306</td> <td>   -0.629</td> <td>    2.005</td>\n",
       "</tr>\n",
       "<tr>\n",
       "  <th>water[T.62.5]:pot[T.120]</th> <td>   -0.8359</td> <td>    0.910</td> <td>   -0.918</td> <td> 0.359</td> <td>   -2.620</td> <td>    0.948</td>\n",
       "</tr>\n",
       "<tr>\n",
       "  <th>water[T.50]:pot[T.180]</th>   <td>    1.2731</td> <td>    0.735</td> <td>    1.732</td> <td> 0.083</td> <td>   -0.167</td> <td>    2.714</td>\n",
       "</tr>\n",
       "<tr>\n",
       "  <th>water[T.62.5]:pot[T.180]</th> <td>    0.0683</td> <td>    0.842</td> <td>    0.081</td> <td> 0.935</td> <td>   -1.582</td> <td>    1.718</td>\n",
       "</tr>\n",
       "<tr>\n",
       "  <th>water[T.50]:pot[T.30]</th>    <td>   -0.2773</td> <td>    0.425</td> <td>   -0.653</td> <td> 0.514</td> <td>   -1.110</td> <td>    0.555</td>\n",
       "</tr>\n",
       "<tr>\n",
       "  <th>water[T.62.5]:pot[T.30]</th>  <td>    0.8046</td> <td>    0.400</td> <td>    2.013</td> <td> 0.044</td> <td>    0.021</td> <td>    1.588</td>\n",
       "</tr>\n",
       "<tr>\n",
       "  <th>water[T.50]:pot[T.60]</th>    <td>    0.4598</td> <td>    0.623</td> <td>    0.739</td> <td> 0.460</td> <td>   -0.760</td> <td>    1.680</td>\n",
       "</tr>\n",
       "<tr>\n",
       "  <th>water[T.62.5]:pot[T.60]</th>  <td>    0.6312</td> <td>    0.630</td> <td>    1.002</td> <td> 0.317</td> <td>   -0.604</td> <td>    1.866</td>\n",
       "</tr>\n",
       "</table>\n",
       "<table class=\"simpletable\">\n",
       "<tr>\n",
       "        <td></td>          <th>coef</th>     <th>std err</th>      <th>z</th>      <th>P>|z|</th>  <th>[0.025</th>    <th>0.975]</th>  \n",
       "</tr>\n",
       "<tr>\n",
       "  <th>dispersion_1</th> <td>    1.2970</td> <td>    0.245</td> <td>    5.294</td> <td> 0.000</td> <td>    0.817</td> <td>    1.777</td>\n",
       "</tr>\n",
       "</table>\n",
       "<table class=\"simpletable\">\n",
       "<tr>\n",
       "     <td></td>       <th>coef</th>     <th>std err</th>      <th>z</th>      <th>P>|z|</th>  <th>[0.025</th>    <th>0.975]</th>  \n",
       "</tr>\n",
       "<tr>\n",
       "  <th>power_</th> <td>    1.0000</td> <td>      nan</td> <td>      nan</td> <td>   nan</td> <td>      nan</td> <td>      nan</td>\n",
       "</tr>\n",
       "</table>\n",
       "<table class=\"simpletable\">\n",
       "<tr>\n",
       "    <td></td>       <th>coef</th>     <th>std err</th>      <th>z</th>      <th>P>|z|</th>  <th>[0.025</th>    <th>0.975]</th>  \n",
       "</tr>\n",
       "<tr>\n",
       "  <th>rho_1</th> <td>    0.6373</td> <td>    0.107</td> <td>    5.930</td> <td> 0.000</td> <td>    0.427</td> <td>    0.848</td>\n",
       "</tr>\n",
       "<tr>\n",
       "  <th>rho_2</th> <td>    0.0696</td> <td>    0.115</td> <td>    0.604</td> <td> 0.546</td> <td>   -0.156</td> <td>    0.295</td>\n",
       "</tr>\n",
       "<tr>\n",
       "  <th>rho_3</th> <td>    0.0878</td> <td>    0.115</td> <td>    0.765</td> <td> 0.444</td> <td>   -0.137</td> <td>    0.313</td>\n",
       "</tr>\n",
       "</table>"
      ],
      "text/plain": [
       "<class 'statsmodels.iolib.summary.Summary'>\n",
       "\"\"\"\n",
       "               Multivariate Covariance Generalized Linear Model               \n",
       "==============================================================================\n",
       "Dep. Variable:                  grain   No. Iterations:                      3\n",
       "Model:                          MCGLM   No. Observations:                   75\n",
       "link:                        identity   Df Residuals:                       55\n",
       "variance:                    constant   Df Model:                           20\n",
       "Method:              Quasi-Likelihood   Power-fixed:                      True\n",
       "Date:                Sun, 27 Nov 2022   pAIC                            448.02\n",
       "Time:                        19:24:26   pBIC                            516.34\n",
       "                                        pLogLik                      -204.0085\n",
       "============================================================================================\n",
       "                               coef    std err          z      P>|z|      [0.025      0.975]\n",
       "--------------------------------------------------------------------------------------------\n",
       "Intercept                   14.2455      1.217     11.701      0.000      11.859      16.632\n",
       "block[T.II]                  1.1326      0.880      1.287      0.198      -0.593       2.858\n",
       "block[T.III]                -0.7797      0.880     -0.886      0.376      -2.505       0.946\n",
       "block[T.IV]                 -1.5495      0.880     -1.760      0.078      -3.275       0.176\n",
       "block[T.V]                  -2.3866      0.880     -2.711      0.007      -4.112      -0.661\n",
       "water[T.50]                  2.1660      1.531      1.415      0.157      -0.834       5.166\n",
       "water[T.62.5]                2.5404      1.531      1.660      0.097      -0.460       5.541\n",
       "pot[T.120]                  11.7898      1.531      7.702      0.000       8.790      14.790\n",
       "pot[T.180]                  11.8633      1.531      7.750      0.000       8.863      14.864\n",
       "pot[T.30]                    6.7894      1.531      4.435      0.000       3.789       9.790\n",
       "pot[T.60]                   10.3978      1.531      6.793      0.000       7.398      13.398\n",
       "water[T.50]:pot[T.120]       2.2541      2.165      1.041      0.298      -1.989       6.497\n",
       "water[T.62.5]:pot[T.120]     5.5826      2.165      2.579      0.010       1.340       9.826\n",
       "water[T.50]:pot[T.180]       1.2097      2.165      0.559      0.576      -3.033       5.453\n",
       "water[T.62.5]:pot[T.180]     9.2391      2.165      4.268      0.000       4.996      13.482\n",
       "water[T.50]:pot[T.30]        0.1069      2.165      0.049      0.961      -4.136       4.350\n",
       "water[T.62.5]:pot[T.30]     -1.8677      2.165     -0.863      0.388      -6.111       2.375\n",
       "water[T.50]:pot[T.60]        2.6035      2.165      1.203      0.229      -1.640       6.847\n",
       "water[T.62.5]:pot[T.60]      3.3585      2.165      1.551      0.121      -0.885       7.602\n",
       "================================================================================\n",
       "                   coef    std err          z      P>|z|      [0.025      0.975]\n",
       "--------------------------------------------------------------------------------\n",
       "dispersion_1     5.8610      1.671      3.507      0.000       2.586       9.136\n",
       "==============================================================================\n",
       "                 coef    std err          z      P>|z|      [0.025      0.975]\n",
       "------------------------------------------------------------------------------\n",
       "power_         1.0000        nan        nan        nan         nan         nan\n",
       "               Multivariate Covariance Generalized Linear Model               \n",
       "==============================================================================\n",
       "Dep. Variable:                  seeds   No. Iterations:                      3\n",
       "Model:                          MCGLM   No. Observations:                   75\n",
       "link:                             log   Df Residuals:                       55\n",
       "variance:                     tweedie   Df Model:                           20\n",
       "Method:              Quasi-Likelihood   Power-fixed:                      True\n",
       "Date:                Sun, 27 Nov 2022   pAIC                            448.02\n",
       "Time:                        19:24:26   pBIC                            516.34\n",
       "                                        pLogLik                      -204.0085\n",
       "============================================================================================\n",
       "                               coef    std err          z      P>|z|      [0.025      0.975]\n",
       "--------------------------------------------------------------------------------------------\n",
       "Intercept                    4.8074      0.066     73.109      0.000       4.679       4.936\n",
       "block[T.II]                 -0.0182      0.039     -0.469      0.639      -0.094       0.058\n",
       "block[T.III]                -0.0330      0.039     -0.845      0.398      -0.110       0.044\n",
       "block[T.IV]                 -0.1066      0.040     -2.679      0.007      -0.185      -0.029\n",
       "block[T.V]                  -0.1261      0.040     -3.154      0.002      -0.205      -0.048\n",
       "water[T.50]                  0.1322      0.084      1.580      0.114      -0.032       0.296\n",
       "water[T.62.5]                0.1864      0.083      2.255      0.024       0.024       0.348\n",
       "pot[T.120]                   0.3672      0.079      4.620      0.000       0.211       0.523\n",
       "pot[T.180]                   0.2945      0.081      3.649      0.000       0.136       0.453\n",
       "pot[T.30]                    0.2980      0.081      3.696      0.000       0.140       0.456\n",
       "pot[T.60]                    0.3444      0.080      4.313      0.000       0.188       0.501\n",
       "water[T.50]:pot[T.120]       0.1159      0.108      1.076      0.282      -0.095       0.327\n",
       "water[T.62.5]:pot[T.120]     0.0697      0.107      0.653      0.514      -0.140       0.279\n",
       "water[T.50]:pot[T.180]       0.2906      0.108      2.697      0.007       0.079       0.502\n",
       "water[T.62.5]:pot[T.180]     0.2166      0.107      2.023      0.043       0.007       0.426\n",
       "water[T.50]:pot[T.30]        0.0425      0.110      0.386      0.699      -0.173       0.258\n",
       "water[T.62.5]:pot[T.30]     -0.1372      0.111     -1.241      0.215      -0.354       0.080\n",
       "water[T.50]:pot[T.60]        0.1161      0.108      1.073      0.283      -0.096       0.328\n",
       "water[T.62.5]:pot[T.60]      0.0902      0.107      0.842      0.400      -0.120       0.300\n",
       "================================================================================\n",
       "                   coef    std err          z      P>|z|      [0.025      0.975]\n",
       "--------------------------------------------------------------------------------\n",
       "dispersion_1     2.1620      0.429      5.034      0.000       1.320       3.004\n",
       "==============================================================================\n",
       "                 coef    std err          z      P>|z|      [0.025      0.975]\n",
       "------------------------------------------------------------------------------\n",
       "power_         1.0000        nan        nan        nan         nan         nan\n",
       "               Multivariate Covariance Generalized Linear Model               \n",
       "==============================================================================\n",
       "Dep. Variable:             viablePeas   No. Iterations:                      3\n",
       "Model:                          MCGLM   No. Observations:                   75\n",
       "link:                           logit   Df Residuals:                       55\n",
       "variance:                   binomialP   Df Model:                           20\n",
       "Method:              Quasi-Likelihood   Power-fixed:                      True\n",
       "Date:                Sun, 27 Nov 2022   pAIC                            448.02\n",
       "Time:                        19:24:26   pBIC                            516.34\n",
       "                                        pLogLik                      -204.0085\n",
       "============================================================================================\n",
       "                               coef    std err          z      P>|z|      [0.025      0.975]\n",
       "--------------------------------------------------------------------------------------------\n",
       "Intercept                   -0.8360      0.197     -4.241      0.000      -1.222      -0.450\n",
       "block[T.II]                 -0.4383      0.188     -2.329      0.020      -0.807      -0.069\n",
       "block[T.III]                -0.1671      0.183     -0.913      0.361      -0.526       0.191\n",
       "block[T.IV]                 -0.1877      0.183     -1.023      0.306      -0.547       0.172\n",
       "block[T.V]                  -0.2926      0.187     -1.564      0.118      -0.659       0.074\n",
       "water[T.50]                  0.5675      0.218      2.603      0.009       0.140       0.995\n",
       "water[T.62.5]                0.2414      0.219      1.102      0.271      -0.188       0.671\n",
       "pot[T.120]                  -3.3915      0.597     -5.682      0.000      -4.562      -2.222\n",
       "pot[T.180]                  -3.6309      0.685     -5.299      0.000      -4.974      -2.288\n",
       "pot[T.30]                   -1.8455      0.330     -5.600      0.000      -2.491      -1.200\n",
       "pot[T.60]                   -3.1518      0.541     -5.825      0.000      -4.212      -2.091\n",
       "water[T.50]:pot[T.120]       0.6881      0.672      1.024      0.306      -0.629       2.005\n",
       "water[T.62.5]:pot[T.120]    -0.8359      0.910     -0.918      0.359      -2.620       0.948\n",
       "water[T.50]:pot[T.180]       1.2731      0.735      1.732      0.083      -0.167       2.714\n",
       "water[T.62.5]:pot[T.180]     0.0683      0.842      0.081      0.935      -1.582       1.718\n",
       "water[T.50]:pot[T.30]       -0.2773      0.425     -0.653      0.514      -1.110       0.555\n",
       "water[T.62.5]:pot[T.30]      0.8046      0.400      2.013      0.044       0.021       1.588\n",
       "water[T.50]:pot[T.60]        0.4598      0.623      0.739      0.460      -0.760       1.680\n",
       "water[T.62.5]:pot[T.60]      0.6312      0.630      1.002      0.317      -0.604       1.866\n",
       "================================================================================\n",
       "                   coef    std err          z      P>|z|      [0.025      0.975]\n",
       "--------------------------------------------------------------------------------\n",
       "dispersion_1     1.2970      0.245      5.294      0.000       0.817       1.777\n",
       "==============================================================================\n",
       "                 coef    std err          z      P>|z|      [0.025      0.975]\n",
       "------------------------------------------------------------------------------\n",
       "power_         1.0000        nan        nan        nan         nan         nan\n",
       "==============================================================================\n",
       "                 coef    std err          z      P>|z|      [0.025      0.975]\n",
       "------------------------------------------------------------------------------\n",
       "rho_1          0.6373      0.107      5.930      0.000       0.427       0.848\n",
       "rho_2          0.0696      0.115      0.604      0.546      -0.156       0.295\n",
       "rho_3          0.0878      0.115      0.765      0.444      -0.137       0.313\n",
       "==============================================================================\n",
       "\"\"\""
      ]
     },
     "execution_count": 34,
     "metadata": {},
     "output_type": "execute_result"
    }
   ],
   "source": [
    "mcglmresults.summary()"
   ]
  },
  {
   "cell_type": "markdown",
   "metadata": {},
   "source": [
    "The three responses have generated a three-section report. As it follows, a analysis per response.\n",
    "\n",
    "---\n",
    "`grain` size.\n",
    "\n",
    "The grain response was fitted with default parameters, `identity` and `constant`, generating a near homoscedastic linear model. Among covariates `block`, `water` and `potassium`, by Wald test, potassium levels are statistically significant for the model; the higher potassium level, bigger grain size. Variance constant on 5.862.   \n",
    "\n",
    "Residual analysis:"
   ]
  },
  {
   "cell_type": "code",
   "execution_count": 35,
   "metadata": {},
   "outputs": [
    {
     "data": {
      "text/plain": [
       "Text(0, 0.5, 'pearson residual')"
      ]
     },
     "execution_count": 35,
     "metadata": {},
     "output_type": "execute_result"
    },
    {
     "data": {
      "image/png": "[encoded data removed]",
      "text/plain": [
       "<Figure size 432x288 with 1 Axes>"
      ]
     },
     "metadata": {
      "needs_background": "light"
     },
     "output_type": "display_data"
    }
   ],
   "source": [
    "# grain. residual analysis\n",
    "plt.scatter(mcglmresults.mu[0], mcglmresults.pearson_residuals[0])\n",
    "plt.xlabel(\"mu\")\n",
    "plt.ylabel(\"pearson residual\")"
   ]
  },
  {
   "cell_type": "markdown",
   "metadata": {},
   "source": [
    "Despite the outlier, the fit seems pretty good."
   ]
  },
  {
   "cell_type": "markdown",
   "metadata": {},
   "source": [
    "---\n",
    "`seed` count.\n",
    "\n",
    "As long as seed is a count variable, a straightforward and canonical way to model it is Poisson. Two out of three covariates are statistically significant on `seed`: potassium, for every level; and black for level V.\n",
    "\n",
    "Residual analysis:"
   ]
  },
  {
   "cell_type": "code",
   "execution_count": 36,
   "metadata": {},
   "outputs": [
    {
     "data": {
      "text/plain": [
       "Text(0, 0.5, 'pearson residual')"
      ]
     },
     "execution_count": 36,
     "metadata": {},
     "output_type": "execute_result"
    },
    {
     "data": {
      "image/png": "[encoded data removed]",
      "text/plain": [
       "<Figure size 432x288 with 1 Axes>"
      ]
     },
     "metadata": {
      "needs_background": "light"
     },
     "output_type": "display_data"
    }
   ],
   "source": [
    "# seeds. residual analysis\n",
    "plt.scatter(mcglmresults.mu[1], mcglmresults.pearson_residuals[1])\n",
    "plt.xlabel(\"mu\")\n",
    "plt.ylabel(\"pearson residual\")"
   ]
  },
  {
   "cell_type": "markdown",
   "metadata": {},
   "source": [
    "Notwithstanding the outlier, the fit is good.\n",
    "\n",
    "---\n",
    "Percentage of `viable peas`.\n",
    "\n",
    "Binomial N trials is the adequate model for bounded data. Perhaps, the most popular solution to fit is the `Logit` link, the one used. Among covariates, only potassium level 30, and water level 50 are statistically significant with Viable Peas.\n",
    "\n",
    "Residual Analysis:"
   ]
  },
  {
   "cell_type": "code",
   "execution_count": 37,
   "metadata": {},
   "outputs": [
    {
     "data": {
      "text/plain": [
       "Text(0, 0.5, 'pearson residual')"
      ]
     },
     "execution_count": 37,
     "metadata": {},
     "output_type": "execute_result"
    },
    {
     "data": {
      "image/png": "[encoded data removed]",
      "text/plain": [
       "<Figure size 432x288 with 1 Axes>"
      ]
     },
     "metadata": {
      "needs_background": "light"
     },
     "output_type": "display_data"
    }
   ],
   "source": [
    "# viablepeasP. residual analysis\n",
    "plt.scatter(mcglmresults.mu[2], mcglmresults.pearson_residuals[2])\n",
    "plt.xlabel(\"mu\")\n",
    "plt.ylabel(\"pearson residual\")"
   ]
  },
  {
   "cell_type": "markdown",
   "metadata": {},
   "source": [
    "The model has not fitted well. It is possible to try out different values for link and variance functions. Suppose it does not improve the model fit. In that case, it will let us conclude a non-assessment for the percentage of viable peas from current covariates.   \n",
    "\n",
    "The last three components rhos allude to the correlation coefficient among responses. \n",
    " * rho_1 stands for grain size and whole seeds, with a considerable Pearson correlation of 0.63.\n",
    " * rho_2 and rho_3 stand for correlation between grain size and viable peas, seed count, and viable peas, respectively. Both correlations are low. "
   ]
  }
 ],
 "metadata": {
  "kernelspec": {
   "display_name": "Python 3.9.5 64-bit ('master_thesis': venv)",
   "language": "python",
   "name": "python3"
  },
  "language_info": {
   "codemirror_mode": {
    "name": "ipython",
    "version": 3
   },
   "file_extension": ".py",
   "mimetype": "text/x-python",
   "name": "python",
   "nbconvert_exporter": "python",
   "pygments_lexer": "ipython3",
   "version": "3.9.5"
  },
  "orig_nbformat": 4,
  "vscode": {
   "interpreter": {
    "hash": "292a92f942c44310edbaf6ce4db4e4ccb458e054a9c180d41d409955ea285efe"
   }
  }
 },
 "nbformat": 4,
 "nbformat_minor": 2
}
