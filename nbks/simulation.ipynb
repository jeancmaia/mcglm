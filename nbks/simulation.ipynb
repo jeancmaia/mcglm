{
 "cells": [
  {
   "cell_type": "code",
   "execution_count": 6,
   "metadata": {},
   "outputs": [],
   "source": [
    "import sys\n",
    "import os\n",
    "import numpy as np\n",
    "import pandas as pd\n",
    "import tweedie\n",
    "import matplotlib.pyplot as plt\n",
    "import warnings\n",
    "warnings.filterwarnings(\"ignore\")\n",
    "\n",
    "from statsmodels.genmod.families.links import Log\n",
    "from patsy import dmatrix\n",
    "\n",
    "sys.path.append(os.path.join(sys.path[0], \"..\"))\n",
    "\n",
    "from mcglm import MCGLM, mc_id"
   ]
  },
  {
   "cell_type": "markdown",
   "metadata": {},
   "source": [
    "This notebook conducts some simulations to prove the overall convergence of the library. "
   ]
  },
  {
   "cell_type": "markdown",
   "metadata": {},
   "source": [
    "##### 1 - Tweedie convergence\n",
    "\n",
    "This section presents a simulation study which validates Tweedie regressions. It produces a outcome vector $Y$ as indepedent Tweedie realizations, with the vector $\\mu$ as the mean parameters and a constant dispersion parameter $\\phi$. To establish a mathematical notation, $Y_i \\sim Tw_p(\\mu_i, \\phi)$ and $g(\\mu_i) = \\eta_i = x_i\\beta$. Moreover, we set three parameters(regression): $\\beta_0$, $\\beta_1$ and $\\beta_2$ defined as (2, 0.8, -1.5), and two covariates: a sequence within -1 to 1 and a categorical two-level randomly chosen. The vector $\\mu$ is calculated by means of the linear operation between covariates and regression parameters. Finally, the parameter `power` is vital to emulate the distribution as some EDM - Exponential Dispersion Family; we benchmark thre values for power (1.1, 1.5, 1.9).\n",
    "\n",
    "By some Tweedie simulations, with the aid of the package {tweedie}, we aim to validate whether the scale parameter from tweedie simulations and the scale from the model match. \n",
    "\n",
    "The method below helps us to craft simulation by parameters `n_sim` as number of simulations; `sample_size` as sample size; `dispersion` as the scale parameter; `power` as the power parameter. "
   ]
  },
  {
   "cell_type": "code",
   "execution_count": 7,
   "metadata": {},
   "outputs": [],
   "source": [
    "def generate_tweedie_simulation(n_sim: int, sample_size: int, dispersion: float, power: float):\n",
    "    historical_scale_from_simulation = []\n",
    "    for _ in range(n_sim):\n",
    "        cov1 = np.arange(-1.0, 1.0, 1/(sample_size/2))  #np.random.uniform(-1, 1, SAMPLE_SIZE)\n",
    "        cov2 = np.random.choice([0, 1], size=sample_size)\n",
    "\n",
    "        beta_0 = 2\n",
    "        beta_1 = 0.8\n",
    "        beta_2 = -1.5\n",
    "\n",
    "        eta = beta_0 + beta_1*cov1 + beta_2*cov2\n",
    "        mu = Log().inverse(eta)\n",
    "\n",
    "        y = tweedie.tweedie(mu=mu, p=power, phi=dispersion).rvs(sample_size)\n",
    "\n",
    "        data = pd.DataFrame({'y': y, 'cov1': cov1, 'cov2': cov2})\n",
    "\n",
    "        data['cov2'] = data['cov2'].astype('str')\n",
    "        X = dmatrix(\"~ cov1 + cov2\", data, return_type=\"dataframe\")\n",
    "\n",
    "        # Z specification\n",
    "        Z = [mc_id(data)] \n",
    "\n",
    "        # Model fitting\n",
    "        mcglm = MCGLM(endog=data['y'], exog=X, z=Z, link='log', variance='tweedie', power=power, power_fixed=True)\n",
    "\n",
    "        mcglmresults = mcglm.fit()\n",
    "\n",
    "        historical_scale_from_simulation.append(mcglmresults._dispersion[0]['scalelist'][0])\n",
    "        \n",
    "    return historical_scale_from_simulation"
   ]
  },
  {
   "cell_type": "markdown",
   "metadata": {},
   "source": [
    "Simulation for power set as `1.1`."
   ]
  },
  {
   "cell_type": "code",
   "execution_count": 14,
   "metadata": {},
   "outputs": [],
   "source": [
    "simulation_1 = {'n_sim':50, 'sample_size':300, 'dispersion':1.5, 'power':1.1}\n",
    "scale_simulation_1 = generate_tweedie_simulation(**simulation_1)\n",
    "\n",
    "simulation_2 = {'n_sim':50, 'sample_size':300, 'dispersion':15, 'power':1.1}\n",
    "scale_simulation_2 = generate_tweedie_simulation(**simulation_2)\n",
    "\n",
    "simulation_3 = {'n_sim':50, 'sample_size':300, 'dispersion':40, 'power':1.1}\n",
    "scale_simulation_3 = generate_tweedie_simulation(**simulation_3)"
   ]
  },
  {
   "cell_type": "code",
   "execution_count": 21,
   "metadata": {},
   "outputs": [
    {
     "data": {
      "image/png": "[encoded data removed]",
      "text/plain": [
       "<Figure size 432x288 with 3 Axes>"
      ]
     },
     "metadata": {
      "needs_background": "light"
     },
     "output_type": "display_data"
    }
   ],
   "source": [
    "figure, axis = plt.subplots(1, 3,  constrained_layout=True)\n",
    "  \n",
    "figure.suptitle('Simulations for Tweedie power set as 1.1', fontsize=16)\n",
    "# Dispersion as 1.5\n",
    "axis[0].boxplot(scale_simulation_1, vert=False)\n",
    "axis[0].set_title(\"Dispersion as 1.5\")\n",
    "  \n",
    "# Dispersion as 15\n",
    "axis[1].boxplot(scale_simulation_2, vert=False)\n",
    "axis[1].set_title(\"Dispersion as 15\")\n",
    "  \n",
    "# Dispersion as 40\n",
    "axis[2].boxplot(scale_simulation_3, vert=False)\n",
    "axis[2].set_title(\"Dispersion as 40\")\n",
    "  \n",
    "# Plot\n",
    "plt.show()"
   ]
  },
  {
   "cell_type": "markdown",
   "metadata": {},
   "source": [
    "Simulation for power set as `1.5`."
   ]
  },
  {
   "cell_type": "code",
   "execution_count": 23,
   "metadata": {},
   "outputs": [],
   "source": [
    "simulation_1 = {'n_sim':50, 'sample_size':300, 'dispersion':2, 'power':1.5}\n",
    "scale_simulation_1 = generate_tweedie_simulation(**simulation_1)\n",
    "\n",
    "simulation_2 = {'n_sim':50, 'sample_size':300, 'dispersion':18, 'power':1.5}\n",
    "scale_simulation_2 = generate_tweedie_simulation(**simulation_2)\n",
    "\n",
    "simulation_3 = {'n_sim':50, 'sample_size':300, 'dispersion':45, 'power':1.5}\n",
    "scale_simulation_3 = generate_tweedie_simulation(**simulation_3)"
   ]
  },
  {
   "cell_type": "code",
   "execution_count": 24,
   "metadata": {},
   "outputs": [
    {
     "data": {
      "image/png": "[encoded data removed]",
      "text/plain": [
       "<Figure size 432x288 with 3 Axes>"
      ]
     },
     "metadata": {
      "needs_background": "light"
     },
     "output_type": "display_data"
    }
   ],
   "source": [
    "figure, axis = plt.subplots(1, 3,  constrained_layout=True)\n",
    "  \n",
    "figure.suptitle('Simulations for Tweedie power set as 1.5', fontsize=16)\n",
    "# Dispersion as 2\n",
    "axis[0].boxplot(scale_simulation_1, vert=False)\n",
    "axis[0].set_title(\"Dispersion as 2\")\n",
    "  \n",
    "# Dispersion as 18\n",
    "axis[1].boxplot(scale_simulation_2, vert=False)\n",
    "axis[1].set_title(\"Dispersion as 18\")\n",
    "  \n",
    "# Dispersion as 45\n",
    "axis[2].boxplot(scale_simulation_3, vert=False)\n",
    "axis[2].set_title(\"Dispersion as 45\")\n",
    "  \n",
    "# Combine all the operations and display\n",
    "plt.show()"
   ]
  },
  {
   "cell_type": "markdown",
   "metadata": {},
   "source": [
    "Simulation for power set as `1.9`."
   ]
  },
  {
   "cell_type": "code",
   "execution_count": 27,
   "metadata": {},
   "outputs": [],
   "source": [
    "simulation_1 = {'n_sim':50, 'sample_size':300, 'dispersion':2, 'power':1.9}\n",
    "scale_simulation_1 = generate_tweedie_simulation(**simulation_1)\n",
    "\n",
    "simulation_2 = {'n_sim':50, 'sample_size':300, 'dispersion':8, 'power':1.9}\n",
    "scale_simulation_2 = generate_tweedie_simulation(**simulation_2)\n",
    "\n",
    "simulation_3 = {'n_sim':50, 'sample_size':300, 'dispersion':15, 'power':1.9}\n",
    "scale_simulation_3 = generate_tweedie_simulation(**simulation_3)"
   ]
  },
  {
   "cell_type": "code",
   "execution_count": 28,
   "metadata": {},
   "outputs": [
    {
     "data": {
      "image/png": "[encoded data removed]",
      "text/plain": [
       "<Figure size 432x288 with 3 Axes>"
      ]
     },
     "metadata": {
      "needs_background": "light"
     },
     "output_type": "display_data"
    }
   ],
   "source": [
    "figure, axis = plt.subplots(1, 3,  constrained_layout=True)\n",
    "  \n",
    "figure.suptitle('Simulations for Tweedie power set as 1.9', fontsize=16)\n",
    "# Dispersion as 2\n",
    "axis[0].boxplot(scale_simulation_1, vert=False)\n",
    "axis[0].set_title(\"Dispersion as 2\")\n",
    "  \n",
    "# Dispersion as 8\n",
    "axis[1].boxplot(scale_simulation_2, vert=False)\n",
    "axis[1].set_title(\"Dispersion as 8\")\n",
    "  \n",
    "# Dispersion as 15\n",
    "axis[2].boxplot(scale_simulation_3, vert=False)\n",
    "axis[2].set_title(\"Dispersion as 15\")\n",
    "  \n",
    "# Combine all the operations and display\n",
    "plt.show()"
   ]
  }
 ],
 "metadata": {
  "kernelspec": {
   "display_name": "Python 3.9.5 ('master_thesis')",
   "language": "python",
   "name": "python3"
  },
  "language_info": {
   "codemirror_mode": {
    "name": "ipython",
    "version": 3
   },
   "file_extension": ".py",
   "mimetype": "text/x-python",
   "name": "python",
   "nbconvert_exporter": "python",
   "pygments_lexer": "ipython3",
   "version": "3.9.5"
  },
  "orig_nbformat": 4,
  "vscode": {
   "interpreter": {
    "hash": "292a92f942c44310edbaf6ce4db4e4ccb458e054a9c180d41d409955ea285efe"
   }
  }
 },
 "nbformat": 4,
 "nbformat_minor": 2
}
