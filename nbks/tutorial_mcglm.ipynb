{
 "cells": [
  {
   "cell_type": "markdown",
   "metadata": {},
   "source": [
    "This notebook aims to instill the flexibility of MCGLM alongside its comprehensive list of viable analyses."
   ]
  },
  {
   "cell_type": "code",
   "execution_count": 70,
   "metadata": {},
   "outputs": [],
   "source": [
    "import sys, os\n",
    "\n",
    "sys.path.append(os.path.join(sys.path[0], \"..\"))\n",
    "\n",
    "import statsmodels.api as sm\n",
    "import pandas as pd\n",
    "import matplotlib.pyplot as plt\n",
    "import seaborn as sns\n",
    "\n",
    "from mcglm import MCGLM, mc_mixed, mc_id, mc_ma\n",
    "from patsy import dmatrix\n",
    "from statsmodels.tools.tools import add_constant\n",
    "from statsmodels.tsa.seasonal import seasonal_decompose\n",
    "from statsmodels.tsa.stattools import adfuller\n",
    "\n",
    "import warnings\n",
    "\n",
    "warnings.simplefilter(\"ignore\")"
   ]
  },
  {
   "cell_type": "markdown",
   "metadata": {},
   "source": [
    "MCGLM, a one-stop for statistical analysis.   \n",
    "\n",
    "The statistical framework Multivariate Covariance Generalized Linear Models(MCGLM) provides a unified model for fitting in a wide variety of data such as gaussian or non-gaussian, univariate or multivariate, dependent or independent. This pliability comes from the second-moment assumptions and the straightforward yet thorough specification of pivotal model components. The specification of five components tuns the MCGLM framework: linear predictor/design matrix, link function, variance function, covariance function, and dependencies matrices Z. \n",
    "\n",
    "The Python library mcglm provides an easy interface for fitting the MCGLM model, similar to the library statsmodels, providing auxiliary methods to lead a proper specification of each MCGLM component. The library provides a comprehensive report for the model fitting analysis with regression parameters, dispersion parameters, confidence intervals, hypothesis testing, and Pearson residue. As yet, only users of R users have access to the MCGLM algorithm by the package mcglm. \n",
    "\n",
    "Finally, this notebook presents some statistical analysis with the support of Python mcglm.\n",
    "\n",
    "Refs: \n",
    "\n",
    "https://www.jstor.org/stable/44681850    \n",
    "https://www.researchgate.net/publication/324579147_Multiple_Response_Variables_Regression_Models_in_R_The_mcglm_Package    "
   ]
  },
  {
   "cell_type": "code",
   "execution_count": 2,
   "metadata": {},
   "outputs": [
    {
     "name": "stdout",
     "output_type": "stream",
     "text": [
      "\n",
      "        MCGLM class that implements MCGLM algorithm. (Bonat, Jørgensen 2015)\n",
      "        \n",
      "        It extends GLM for multi-responses and dependent components by fitting second-moment adjustment.\n",
      "\n",
      "        Args:\n",
      "            endog : array_like\n",
      "                1d array of endogenous response variable. In case of multiple responses, the user must pass the responses on a list.  \n",
      "            exog : array_like\n",
      "                A dataset with the endogenous matrix in a Numpy fashion. Since the library doesn't set an intercept by default, the user must add it. In the case of multiple responses, the user must pass the design matrices as a python list. \n",
      "            z : array_like\n",
      "                List with matrices components of the linear covariance matrix.\n",
      "            link : array_like, string or None\n",
      "                Specification for the link function. The MCGLM library implements the following options: identity, logit, power, log, probit, cauchy, cloglog, loglog, negativebinomial. In the case of None, the library chooses the identity link. In multiple responses, user must pass values as list.  \n",
      "            variance : array_like, string or None\n",
      "                Specification for the variance function. The MCGLM library implements the following options: constant, tweedie, binomialP, binomialPQ, geom_tweedie, poisson_tweedie. In the case of None, the library chooses the constant link. In multiple responses, user must pass values as list.   \n",
      "            offset : array_like or None\n",
      "                Offset for continuous or count. In multiple responses, user must pass values as list.   \n",
      "            Ntrial : array_like or None\n",
      "                Ntrial for binomial responses. In multiple responses, user must pass values as list.\n",
      "            power_fixed : array_like or None\n",
      "                Parameter that allows estimation of power when variance functions is either tweedie, geom_tweedie or poisson_tweedie. In multiple responses, user must pass values as list. \n",
      "            maxiter : float or None\n",
      "                Number max of iterations. Defaults to 200.\n",
      "            tol : float or None\n",
      "                Threshold of minimum absolute change on paramaters. Defaults to 0.0001.\n",
      "            tuning : float or None\n",
      "                Step size parameter. Defaults to 0.5.\n",
      "            weights : array_like or None\n",
      "                Weight matrix. Defaults to None.\n",
      "    \n"
     ]
    }
   ],
   "source": [
    "print(MCGLM.__doc__)"
   ]
  },
  {
   "cell_type": "markdown",
   "metadata": {},
   "source": [
    "The MCGLM framework behaves conditioned by the link and variance function. As this doc aims to demonstrate some of them. Let's get started with the first one: the ordinary least squares linear regression."
   ]
  },
  {
   "cell_type": "markdown",
   "metadata": {},
   "source": [
    "#### Linear Regression   \n",
    "\n",
    "-------------\n",
    "\n",
    "Perhaps the most popular statistical model, Linear Regression is a great choice when data meets the three assumptions:   \n",
    "\n",
    "1. Linearity.   \n",
    "2. Independence of components Y. a.k.a iid.   \n",
    "3. The distribution of error following a Gaussian with tuple (0, dispersion).    \n",
    "\n",
    "\n",
    "\n",
    "A statistical analysis on the classical Boston dataset."
   ]
  },
  {
   "cell_type": "code",
   "execution_count": 23,
   "metadata": {},
   "outputs": [],
   "source": [
    "from sklearn.datasets import load_boston\n",
    "\n",
    "X, y = load_boston(return_X_y=True)\n",
    "X = pd.DataFrame(X)\n",
    "y = pd.Series(y, name=\"output\")"
   ]
  },
  {
   "cell_type": "code",
   "execution_count": 27,
   "metadata": {},
   "outputs": [
    {
     "data": {
      "text/plain": [
       "Text(0.5, 1.0, 'Histogram of Boston Dataset')"
      ]
     },
     "execution_count": 27,
     "metadata": {},
     "output_type": "execute_result"
    },
    {
     "data": {
      "image/png": "[encoded data removed]",
      "text/plain": [
       "<Figure size 432x288 with 1 Axes>"
      ]
     },
     "metadata": {
      "needs_background": "light"
     },
     "output_type": "display_data"
    }
   ],
   "source": [
    "_ = plt.hist(y)\n",
    "plt.title(\"Histogram of Boston Dataset\")"
   ]
  },
  {
   "cell_type": "markdown",
   "metadata": {},
   "source": [
    "MCGLM can adjust a similar ordinary linear regression as long as link and variance functions are settled with `identity` and `constant`, on top of independent components of $Y$.   "
   ]
  },
  {
   "cell_type": "code",
   "execution_count": 28,
   "metadata": {},
   "outputs": [
    {
     "data": {
      "text/html": [
       "<table class=\"simpletable\">\n",
       "<caption>Multivariate Covariance Generalized Linear Model</caption>\n",
       "<tr>\n",
       "  <th>Dep. Variable:</th>      <td>output</td>      <th>  No. Iterations:    </th>      <td>9</td>    \n",
       "</tr>\n",
       "<tr>\n",
       "  <th>Model:</th>               <td>MCGLM</td>      <th>  No. Observations:  </th>     <td>506</td>   \n",
       "</tr>\n",
       "<tr>\n",
       "  <th>link:</th>              <td>identity</td>     <th>  Df Residuals:      </th>     <td>492</td>   \n",
       "</tr>\n",
       "<tr>\n",
       "  <th>variance:</th>          <td>constant</td>     <th>  Df Model:          </th>     <td>14</td>    \n",
       "</tr>\n",
       "<tr>\n",
       "  <th>Method:</th>        <td>Quasi-Likelihood</td> <th>  Power-fixed:       </th>    <td>True</td>   \n",
       "</tr>\n",
       "<tr>\n",
       "  <th>Date:</th>          <td>Thu, 08 Sep 2022</td> <th>  pAIC               </th>   <td>2569.58</td> \n",
       "</tr>\n",
       "<tr>\n",
       "  <th>Time:</th>              <td>18:44:08</td>     <th>  pBIC               </th>   <td>2628.75</td> \n",
       "</tr>\n",
       "<tr>\n",
       "  <th> </th>                      <td> </td>        <th>  pLogLik            </th> <td>-1270.7905</td>\n",
       "</tr>\n",
       "</table>\n",
       "<table class=\"simpletable\">\n",
       "<tr>\n",
       "   <td></td>     <th>coef</th>     <th>std err</th>      <th>z</th>      <th>P>|z|</th>  <th>[0.025</th>    <th>0.975]</th>  \n",
       "</tr>\n",
       "<tr>\n",
       "  <th>0</th>  <td>   -0.0929</td> <td>    0.034</td> <td>   -2.734</td> <td> 0.006</td> <td>   -0.159</td> <td>   -0.026</td>\n",
       "</tr>\n",
       "<tr>\n",
       "  <th>1</th>  <td>    0.0487</td> <td>    0.014</td> <td>    3.426</td> <td> 0.001</td> <td>    0.021</td> <td>    0.077</td>\n",
       "</tr>\n",
       "<tr>\n",
       "  <th>2</th>  <td>   -0.0041</td> <td>    0.064</td> <td>   -0.064</td> <td> 0.949</td> <td>   -0.129</td> <td>    0.121</td>\n",
       "</tr>\n",
       "<tr>\n",
       "  <th>3</th>  <td>    2.8540</td> <td>    0.892</td> <td>    3.199</td> <td> 0.001</td> <td>    1.105</td> <td>    4.603</td>\n",
       "</tr>\n",
       "<tr>\n",
       "  <th>4</th>  <td>   -2.8684</td> <td>    3.315</td> <td>   -0.865</td> <td> 0.387</td> <td>   -9.366</td> <td>    3.630</td>\n",
       "</tr>\n",
       "<tr>\n",
       "  <th>5</th>  <td>    5.9281</td> <td>    0.305</td> <td>   19.429</td> <td> 0.000</td> <td>    5.330</td> <td>    6.526</td>\n",
       "</tr>\n",
       "<tr>\n",
       "  <th>6</th>  <td>   -0.0073</td> <td>    0.014</td> <td>   -0.533</td> <td> 0.594</td> <td>   -0.034</td> <td>    0.019</td>\n",
       "</tr>\n",
       "<tr>\n",
       "  <th>7</th>  <td>   -0.9685</td> <td>    0.193</td> <td>   -5.015</td> <td> 0.000</td> <td>   -1.347</td> <td>   -0.590</td>\n",
       "</tr>\n",
       "<tr>\n",
       "  <th>8</th>  <td>    0.1712</td> <td>    0.066</td> <td>    2.597</td> <td> 0.009</td> <td>    0.042</td> <td>    0.300</td>\n",
       "</tr>\n",
       "<tr>\n",
       "  <th>9</th>  <td>   -0.0094</td> <td>    0.004</td> <td>   -2.426</td> <td> 0.015</td> <td>   -0.017</td> <td>   -0.002</td>\n",
       "</tr>\n",
       "<tr>\n",
       "  <th>10</th> <td>   -0.3922</td> <td>    0.108</td> <td>   -3.616</td> <td> 0.000</td> <td>   -0.605</td> <td>   -0.180</td>\n",
       "</tr>\n",
       "<tr>\n",
       "  <th>11</th> <td>    0.0149</td> <td>    0.003</td> <td>    5.600</td> <td> 0.000</td> <td>    0.010</td> <td>    0.020</td>\n",
       "</tr>\n",
       "<tr>\n",
       "  <th>12</th> <td>   -0.4163</td> <td>    0.050</td> <td>   -8.304</td> <td> 0.000</td> <td>   -0.515</td> <td>   -0.318</td>\n",
       "</tr>\n",
       "</table>\n",
       "<table class=\"simpletable\">\n",
       "<tr>\n",
       "        <td></td>          <th>coef</th>     <th>std err</th>      <th>z</th>      <th>P>|z|</th>  <th>[0.025</th>    <th>0.975]</th>  \n",
       "</tr>\n",
       "<tr>\n",
       "  <th>dispersion_1</th> <td>   24.1670</td> <td>    3.308</td> <td>    7.305</td> <td> 0.000</td> <td>   17.683</td> <td>   30.651</td>\n",
       "</tr>\n",
       "</table>\n",
       "<table class=\"simpletable\">\n",
       "<tr>\n",
       "     <td></td>       <th>coef</th>     <th>std err</th>      <th>z</th>      <th>P>|z|</th>  <th>[0.025</th>    <th>0.975]</th>  \n",
       "</tr>\n",
       "<tr>\n",
       "  <th>power_</th> <td>    1.0000</td> <td>      nan</td> <td>      nan</td> <td>   nan</td> <td>      nan</td> <td>      nan</td>\n",
       "</tr>\n",
       "</table>"
      ],
      "text/plain": [
       "<class 'statsmodels.iolib.summary.Summary'>\n",
       "\"\"\"\n",
       "               Multivariate Covariance Generalized Linear Model               \n",
       "==============================================================================\n",
       "Dep. Variable:                 output   No. Iterations:                      9\n",
       "Model:                          MCGLM   No. Observations:                  506\n",
       "link:                        identity   Df Residuals:                      492\n",
       "variance:                    constant   Df Model:                           14\n",
       "Method:              Quasi-Likelihood   Power-fixed:                      True\n",
       "Date:                Thu, 08 Sep 2022   pAIC                           2569.58\n",
       "Time:                        18:44:08   pBIC                           2628.75\n",
       "                                        pLogLik                     -1270.7905\n",
       "==============================================================================\n",
       "                 coef    std err          z      P>|z|      [0.025      0.975]\n",
       "------------------------------------------------------------------------------\n",
       "0             -0.0929      0.034     -2.734      0.006      -0.159      -0.026\n",
       "1              0.0487      0.014      3.426      0.001       0.021       0.077\n",
       "2             -0.0041      0.064     -0.064      0.949      -0.129       0.121\n",
       "3              2.8540      0.892      3.199      0.001       1.105       4.603\n",
       "4             -2.8684      3.315     -0.865      0.387      -9.366       3.630\n",
       "5              5.9281      0.305     19.429      0.000       5.330       6.526\n",
       "6             -0.0073      0.014     -0.533      0.594      -0.034       0.019\n",
       "7             -0.9685      0.193     -5.015      0.000      -1.347      -0.590\n",
       "8              0.1712      0.066      2.597      0.009       0.042       0.300\n",
       "9             -0.0094      0.004     -2.426      0.015      -0.017      -0.002\n",
       "10            -0.3922      0.108     -3.616      0.000      -0.605      -0.180\n",
       "11             0.0149      0.003      5.600      0.000       0.010       0.020\n",
       "12            -0.4163      0.050     -8.304      0.000      -0.515      -0.318\n",
       "================================================================================\n",
       "                   coef    std err          z      P>|z|      [0.025      0.975]\n",
       "--------------------------------------------------------------------------------\n",
       "dispersion_1    24.1670      3.308      7.305      0.000      17.683      30.651\n",
       "==============================================================================\n",
       "                 coef    std err          z      P>|z|      [0.025      0.975]\n",
       "------------------------------------------------------------------------------\n",
       "power_         1.0000        nan        nan        nan         nan         nan\n",
       "==============================================================================\n",
       "\"\"\""
      ]
     },
     "execution_count": 28,
     "metadata": {},
     "output_type": "execute_result"
    }
   ],
   "source": [
    "modelresults = MCGLM(endog=y, exog=X, z=[mc_id(X)]).fit()\n",
    "modelresults.summary()"
   ]
  },
  {
   "cell_type": "markdown",
   "metadata": {},
   "source": [
    "The residual analysis is key for assessing the fulfillment of the assumptions."
   ]
  },
  {
   "cell_type": "code",
   "execution_count": 7,
   "metadata": {},
   "outputs": [
    {
     "data": {
      "text/plain": [
       "Text(0, 0.5, 'pearson residuals')"
      ]
     },
     "execution_count": 7,
     "metadata": {},
     "output_type": "execute_result"
    },
    {
     "data": {
      "image/png": "[encoded data removed]",
      "text/plain": [
       "<Figure size 432x288 with 1 Axes>"
      ]
     },
     "metadata": {
      "needs_background": "light"
     },
     "output_type": "display_data"
    }
   ],
   "source": [
    "# Residual Analysis\n",
    "plt.scatter(modelresults.mu, modelresults.pearson_residuals)\n",
    "plt.xlabel(\"mu\")\n",
    "plt.ylabel(\"pearson residuals\")"
   ]
  },
  {
   "cell_type": "markdown",
   "metadata": {},
   "source": [
    "MCGLM allows us to try new link and variance functions quickly, and therefore the gaussianity. With a tweedie variance, the model can fit most GLM cases; with the power_fixed negative, the optimal p value."
   ]
  },
  {
   "cell_type": "code",
   "execution_count": 44,
   "metadata": {},
   "outputs": [
    {
     "data": {
      "text/html": [
       "<table class=\"simpletable\">\n",
       "<caption>Multivariate Covariance Generalized Linear Model</caption>\n",
       "<tr>\n",
       "  <th>Dep. Variable:</th>      <td>output</td>      <th>  No. Iterations:    </th>     <td>49</td>    \n",
       "</tr>\n",
       "<tr>\n",
       "  <th>Model:</th>               <td>MCGLM</td>      <th>  No. Observations:  </th>     <td>506</td>   \n",
       "</tr>\n",
       "<tr>\n",
       "  <th>link:</th>                 <td>log</td>       <th>  Df Residuals:      </th>     <td>492</td>   \n",
       "</tr>\n",
       "<tr>\n",
       "  <th>variance:</th>           <td>tweedie</td>     <th>  Df Model:          </th>     <td>14</td>    \n",
       "</tr>\n",
       "<tr>\n",
       "  <th>Method:</th>        <td>Quasi-Likelihood</td> <th>  Power-fixed:       </th>    <td>False</td>  \n",
       "</tr>\n",
       "<tr>\n",
       "  <th>Date:</th>          <td>Thu, 08 Sep 2022</td> <th>  pAIC               </th>   <td>4288.16</td> \n",
       "</tr>\n",
       "<tr>\n",
       "  <th>Time:</th>              <td>19:05:22</td>     <th>  pBIC               </th>   <td>4347.33</td> \n",
       "</tr>\n",
       "<tr>\n",
       "  <th> </th>                      <td> </td>        <th>  pLogLik            </th> <td>-2130.0805</td>\n",
       "</tr>\n",
       "</table>\n",
       "<table class=\"simpletable\">\n",
       "<tr>\n",
       "   <td></td>     <th>coef</th>     <th>std err</th>      <th>z</th>      <th>P>|z|</th>  <th>[0.025</th>    <th>0.975]</th>  \n",
       "</tr>\n",
       "<tr>\n",
       "  <th>0</th>  <td>   -0.0078</td> <td>    0.009</td> <td>   -0.893</td> <td> 0.372</td> <td>   -0.025</td> <td>    0.009</td>\n",
       "</tr>\n",
       "<tr>\n",
       "  <th>1</th>  <td>    0.0020</td> <td>    0.004</td> <td>    0.539</td> <td> 0.590</td> <td>   -0.005</td> <td>    0.009</td>\n",
       "</tr>\n",
       "<tr>\n",
       "  <th>2</th>  <td>   -0.0013</td> <td>    0.016</td> <td>   -0.080</td> <td> 0.936</td> <td>   -0.033</td> <td>    0.031</td>\n",
       "</tr>\n",
       "<tr>\n",
       "  <th>3</th>  <td>    0.1339</td> <td>    0.228</td> <td>    0.587</td> <td> 0.558</td> <td>   -0.314</td> <td>    0.581</td>\n",
       "</tr>\n",
       "<tr>\n",
       "  <th>4</th>  <td>    0.9172</td> <td>    0.848</td> <td>    1.081</td> <td> 0.280</td> <td>   -0.746</td> <td>    2.580</td>\n",
       "</tr>\n",
       "<tr>\n",
       "  <th>5</th>  <td>    0.3103</td> <td>    0.078</td> <td>    3.973</td> <td> 0.000</td> <td>    0.157</td> <td>    0.463</td>\n",
       "</tr>\n",
       "<tr>\n",
       "  <th>6</th>  <td>   -0.0001</td> <td>    0.003</td> <td>   -0.041</td> <td> 0.968</td> <td>   -0.007</td> <td>    0.007</td>\n",
       "</tr>\n",
       "<tr>\n",
       "  <th>7</th>  <td>    0.0036</td> <td>    0.049</td> <td>    0.072</td> <td> 0.942</td> <td>   -0.093</td> <td>    0.100</td>\n",
       "</tr>\n",
       "<tr>\n",
       "  <th>8</th>  <td>    0.0007</td> <td>    0.017</td> <td>    0.044</td> <td> 0.965</td> <td>   -0.032</td> <td>    0.034</td>\n",
       "</tr>\n",
       "<tr>\n",
       "  <th>9</th>  <td>   -0.0003</td> <td>    0.001</td> <td>   -0.256</td> <td> 0.798</td> <td>   -0.002</td> <td>    0.002</td>\n",
       "</tr>\n",
       "<tr>\n",
       "  <th>10</th> <td>    0.0305</td> <td>    0.028</td> <td>    1.100</td> <td> 0.271</td> <td>   -0.024</td> <td>    0.085</td>\n",
       "</tr>\n",
       "<tr>\n",
       "  <th>11</th> <td>    0.0010</td> <td>    0.001</td> <td>    1.540</td> <td> 0.124</td> <td>   -0.000</td> <td>    0.002</td>\n",
       "</tr>\n",
       "<tr>\n",
       "  <th>12</th> <td>   -0.0183</td> <td>    0.013</td> <td>   -1.426</td> <td> 0.154</td> <td>   -0.043</td> <td>    0.007</td>\n",
       "</tr>\n",
       "</table>\n",
       "<table class=\"simpletable\">\n",
       "<tr>\n",
       "        <td></td>          <th>coef</th>     <th>std err</th>      <th>z</th>      <th>P>|z|</th>  <th>[0.025</th>    <th>0.975]</th>  \n",
       "</tr>\n",
       "<tr>\n",
       "  <th>dispersion_1</th> <td>   -0.4720</td> <td>    0.393</td> <td>   -1.203</td> <td> 0.229</td> <td>   -1.241</td> <td>    0.297</td>\n",
       "</tr>\n",
       "</table>\n",
       "<table class=\"simpletable\">\n",
       "<tr>\n",
       "     <td></td>       <th>coef</th>     <th>std err</th>      <th>z</th>      <th>P>|z|</th>  <th>[0.025</th>    <th>0.975]</th>  \n",
       "</tr>\n",
       "<tr>\n",
       "  <th>power_</th> <td>    1.5733</td> <td>    0.083</td> <td>   18.873</td> <td> 0.000</td> <td>    1.410</td> <td>    1.737</td>\n",
       "</tr>\n",
       "</table>"
      ],
      "text/plain": [
       "<class 'statsmodels.iolib.summary.Summary'>\n",
       "\"\"\"\n",
       "               Multivariate Covariance Generalized Linear Model               \n",
       "==============================================================================\n",
       "Dep. Variable:                 output   No. Iterations:                     49\n",
       "Model:                          MCGLM   No. Observations:                  506\n",
       "link:                             log   Df Residuals:                      492\n",
       "variance:                     tweedie   Df Model:                           14\n",
       "Method:              Quasi-Likelihood   Power-fixed:                     False\n",
       "Date:                Thu, 08 Sep 2022   pAIC                           4288.16\n",
       "Time:                        19:05:22   pBIC                           4347.33\n",
       "                                        pLogLik                     -2130.0805\n",
       "==============================================================================\n",
       "                 coef    std err          z      P>|z|      [0.025      0.975]\n",
       "------------------------------------------------------------------------------\n",
       "0             -0.0078      0.009     -0.893      0.372      -0.025       0.009\n",
       "1              0.0020      0.004      0.539      0.590      -0.005       0.009\n",
       "2             -0.0013      0.016     -0.080      0.936      -0.033       0.031\n",
       "3              0.1339      0.228      0.587      0.558      -0.314       0.581\n",
       "4              0.9172      0.848      1.081      0.280      -0.746       2.580\n",
       "5              0.3103      0.078      3.973      0.000       0.157       0.463\n",
       "6             -0.0001      0.003     -0.041      0.968      -0.007       0.007\n",
       "7              0.0036      0.049      0.072      0.942      -0.093       0.100\n",
       "8              0.0007      0.017      0.044      0.965      -0.032       0.034\n",
       "9             -0.0003      0.001     -0.256      0.798      -0.002       0.002\n",
       "10             0.0305      0.028      1.100      0.271      -0.024       0.085\n",
       "11             0.0010      0.001      1.540      0.124      -0.000       0.002\n",
       "12            -0.0183      0.013     -1.426      0.154      -0.043       0.007\n",
       "================================================================================\n",
       "                   coef    std err          z      P>|z|      [0.025      0.975]\n",
       "--------------------------------------------------------------------------------\n",
       "dispersion_1    -0.4720      0.393     -1.203      0.229      -1.241       0.297\n",
       "==============================================================================\n",
       "                 coef    std err          z      P>|z|      [0.025      0.975]\n",
       "------------------------------------------------------------------------------\n",
       "power_         1.5733      0.083     18.873      0.000       1.410       1.737\n",
       "==============================================================================\n",
       "\"\"\""
      ]
     },
     "execution_count": 44,
     "metadata": {},
     "output_type": "execute_result"
    }
   ],
   "source": [
    "modelresults = MCGLM(\n",
    "    y,\n",
    "    X,\n",
    "    [mc_id(X)],\n",
    "    link=\"log\",\n",
    "    variance=\"tweedie\",\n",
    "    power=2,\n",
    "    power_fixed=False,\n",
    ").fit()\n",
    "\n",
    "modelresults.summary()"
   ]
  },
  {
   "cell_type": "code",
   "execution_count": 45,
   "metadata": {},
   "outputs": [
    {
     "data": {
      "text/plain": [
       "Text(0, 0.5, 'pearson residuals')"
      ]
     },
     "execution_count": 45,
     "metadata": {},
     "output_type": "execute_result"
    },
    {
     "data": {
      "image/png": "[encoded data removed]",
      "text/plain": [
       "<Figure size 432x288 with 1 Axes>"
      ]
     },
     "metadata": {
      "needs_background": "light"
     },
     "output_type": "display_data"
    }
   ],
   "source": [
    "# Residual Analysis\n",
    "plt.scatter(modelresults.mu, modelresults.pearson_residuals)\n",
    "plt.xlabel(\"mu\")\n",
    "plt.ylabel(\"pearson residuals\")"
   ]
  },
  {
   "cell_type": "markdown",
   "metadata": {},
   "source": [
    "OLS has achieved a lower pAIC, which implies on a better fitting. Gaussianity for the win.   \n",
    "\n",
    "It is also easy to adjust a geometric tweedie for variance."
   ]
  },
  {
   "cell_type": "code",
   "execution_count": 50,
   "metadata": {},
   "outputs": [
    {
     "data": {
      "text/html": [
       "<table class=\"simpletable\">\n",
       "<caption>Multivariate Covariance Generalized Linear Model</caption>\n",
       "<tr>\n",
       "  <th>Dep. Variable:</th>      <td>output</td>      <th>  No. Iterations:    </th>    <td>49</td>    \n",
       "</tr>\n",
       "<tr>\n",
       "  <th>Model:</th>               <td>MCGLM</td>      <th>  No. Observations:  </th>    <td>506</td>   \n",
       "</tr>\n",
       "<tr>\n",
       "  <th>link:</th>                 <td>log</td>       <th>  Df Residuals:      </th>    <td>492</td>   \n",
       "</tr>\n",
       "<tr>\n",
       "  <th>variance:</th>        <td>geom_tweedie</td>   <th>  Df Model:          </th>    <td>14</td>    \n",
       "</tr>\n",
       "<tr>\n",
       "  <th>Method:</th>        <td>Quasi-Likelihood</td> <th>  Power-fixed:       </th>   <td>False</td>  \n",
       "</tr>\n",
       "<tr>\n",
       "  <th>Date:</th>          <td>Thu, 08 Sep 2022</td> <th>  pAIC               </th>  <td>4535.92</td> \n",
       "</tr>\n",
       "<tr>\n",
       "  <th>Time:</th>              <td>19:11:45</td>     <th>  pBIC               </th>  <td>4595.1</td>  \n",
       "</tr>\n",
       "<tr>\n",
       "  <th> </th>                      <td> </td>        <th>  pLogLik            </th> <td>-2253.962</td>\n",
       "</tr>\n",
       "</table>\n",
       "<table class=\"simpletable\">\n",
       "<tr>\n",
       "   <td></td>     <th>coef</th>     <th>std err</th>      <th>z</th>      <th>P>|z|</th>  <th>[0.025</th>    <th>0.975]</th>  \n",
       "</tr>\n",
       "<tr>\n",
       "  <th>0</th>  <td>   -0.0078</td> <td>    0.011</td> <td>   -0.699</td> <td> 0.484</td> <td>   -0.030</td> <td>    0.014</td>\n",
       "</tr>\n",
       "<tr>\n",
       "  <th>1</th>  <td>    0.0020</td> <td>    0.005</td> <td>    0.422</td> <td> 0.673</td> <td>   -0.007</td> <td>    0.011</td>\n",
       "</tr>\n",
       "<tr>\n",
       "  <th>2</th>  <td>   -0.0013</td> <td>    0.021</td> <td>   -0.063</td> <td> 0.950</td> <td>   -0.042</td> <td>    0.039</td>\n",
       "</tr>\n",
       "<tr>\n",
       "  <th>3</th>  <td>    0.1339</td> <td>    0.292</td> <td>    0.459</td> <td> 0.646</td> <td>   -0.438</td> <td>    0.706</td>\n",
       "</tr>\n",
       "<tr>\n",
       "  <th>4</th>  <td>    0.9172</td> <td>    1.084</td> <td>    0.846</td> <td> 0.397</td> <td>   -1.207</td> <td>    3.042</td>\n",
       "</tr>\n",
       "<tr>\n",
       "  <th>5</th>  <td>    0.3103</td> <td>    0.100</td> <td>    3.111</td> <td> 0.002</td> <td>    0.115</td> <td>    0.506</td>\n",
       "</tr>\n",
       "<tr>\n",
       "  <th>6</th>  <td>   -0.0001</td> <td>    0.004</td> <td>   -0.032</td> <td> 0.975</td> <td>   -0.009</td> <td>    0.009</td>\n",
       "</tr>\n",
       "<tr>\n",
       "  <th>7</th>  <td>    0.0036</td> <td>    0.063</td> <td>    0.057</td> <td> 0.955</td> <td>   -0.120</td> <td>    0.127</td>\n",
       "</tr>\n",
       "<tr>\n",
       "  <th>8</th>  <td>    0.0007</td> <td>    0.022</td> <td>    0.035</td> <td> 0.972</td> <td>   -0.041</td> <td>    0.043</td>\n",
       "</tr>\n",
       "<tr>\n",
       "  <th>9</th>  <td>   -0.0003</td> <td>    0.001</td> <td>   -0.201</td> <td> 0.841</td> <td>   -0.003</td> <td>    0.002</td>\n",
       "</tr>\n",
       "<tr>\n",
       "  <th>10</th> <td>    0.0305</td> <td>    0.035</td> <td>    0.861</td> <td> 0.389</td> <td>   -0.039</td> <td>    0.100</td>\n",
       "</tr>\n",
       "<tr>\n",
       "  <th>11</th> <td>    0.0010</td> <td>    0.001</td> <td>    1.205</td> <td> 0.228</td> <td>   -0.001</td> <td>    0.003</td>\n",
       "</tr>\n",
       "<tr>\n",
       "  <th>12</th> <td>   -0.0183</td> <td>    0.016</td> <td>   -1.117</td> <td> 0.264</td> <td>   -0.050</td> <td>    0.014</td>\n",
       "</tr>\n",
       "</table>\n",
       "<table class=\"simpletable\">\n",
       "<tr>\n",
       "        <td></td>          <th>coef</th>     <th>std err</th>      <th>z</th>      <th>P>|z|</th>  <th>[0.025</th>    <th>0.975]</th>  \n",
       "</tr>\n",
       "<tr>\n",
       "  <th>dispersion_1</th> <td>   -2.9720</td> <td>    0.873</td> <td>   -3.405</td> <td> 0.001</td> <td>   -4.683</td> <td>   -1.261</td>\n",
       "</tr>\n",
       "</table>\n",
       "<table class=\"simpletable\">\n",
       "<tr>\n",
       "     <td></td>       <th>coef</th>     <th>std err</th>      <th>z</th>      <th>P>|z|</th>  <th>[0.025</th>    <th>0.975]</th>  \n",
       "</tr>\n",
       "<tr>\n",
       "  <th>power_</th> <td>    1.5733</td> <td>    0.180</td> <td>    8.730</td> <td> 0.000</td> <td>    1.220</td> <td>    1.927</td>\n",
       "</tr>\n",
       "</table>"
      ],
      "text/plain": [
       "<class 'statsmodels.iolib.summary.Summary'>\n",
       "\"\"\"\n",
       "               Multivariate Covariance Generalized Linear Model               \n",
       "==============================================================================\n",
       "Dep. Variable:                 output   No. Iterations:                     49\n",
       "Model:                          MCGLM   No. Observations:                  506\n",
       "link:                             log   Df Residuals:                      492\n",
       "variance:                geom_tweedie   Df Model:                           14\n",
       "Method:              Quasi-Likelihood   Power-fixed:                     False\n",
       "Date:                Thu, 08 Sep 2022   pAIC                           4535.92\n",
       "Time:                        19:11:45   pBIC                            4595.1\n",
       "                                        pLogLik                      -2253.962\n",
       "==============================================================================\n",
       "                 coef    std err          z      P>|z|      [0.025      0.975]\n",
       "------------------------------------------------------------------------------\n",
       "0             -0.0078      0.011     -0.699      0.484      -0.030       0.014\n",
       "1              0.0020      0.005      0.422      0.673      -0.007       0.011\n",
       "2             -0.0013      0.021     -0.063      0.950      -0.042       0.039\n",
       "3              0.1339      0.292      0.459      0.646      -0.438       0.706\n",
       "4              0.9172      1.084      0.846      0.397      -1.207       3.042\n",
       "5              0.3103      0.100      3.111      0.002       0.115       0.506\n",
       "6             -0.0001      0.004     -0.032      0.975      -0.009       0.009\n",
       "7              0.0036      0.063      0.057      0.955      -0.120       0.127\n",
       "8              0.0007      0.022      0.035      0.972      -0.041       0.043\n",
       "9             -0.0003      0.001     -0.201      0.841      -0.003       0.002\n",
       "10             0.0305      0.035      0.861      0.389      -0.039       0.100\n",
       "11             0.0010      0.001      1.205      0.228      -0.001       0.003\n",
       "12            -0.0183      0.016     -1.117      0.264      -0.050       0.014\n",
       "================================================================================\n",
       "                   coef    std err          z      P>|z|      [0.025      0.975]\n",
       "--------------------------------------------------------------------------------\n",
       "dispersion_1    -2.9720      0.873     -3.405      0.001      -4.683      -1.261\n",
       "==============================================================================\n",
       "                 coef    std err          z      P>|z|      [0.025      0.975]\n",
       "------------------------------------------------------------------------------\n",
       "power_         1.5733      0.180      8.730      0.000       1.220       1.927\n",
       "==============================================================================\n",
       "\"\"\""
      ]
     },
     "execution_count": 50,
     "metadata": {},
     "output_type": "execute_result"
    }
   ],
   "source": [
    "modelresults = MCGLM(\n",
    "    y,\n",
    "    X,\n",
    "    [mc_id(X)],\n",
    "    link=\"log\",\n",
    "    variance=\"geom_tweedie\",\n",
    "    power=2,\n",
    "    power_fixed=False,\n",
    ").fit()\n",
    "\n",
    "modelresults.summary()"
   ]
  },
  {
   "cell_type": "markdown",
   "metadata": {},
   "source": [
    "The variance function geom_tweedie hasn't improved the model."
   ]
  },
  {
   "cell_type": "markdown",
   "metadata": {},
   "source": [
    "##### A Count Model  \n",
    "\n",
    "-------------\n",
    "This dataset has information from a Canadian study of mortality by age and smoking status.  https://data.princeton.edu/wws509/datasets/#smoking. The four-column dataset establishes features: `age`, `smoking status`, `population`, and the outcome `deaths`.  "
   ]
  },
  {
   "cell_type": "code",
   "execution_count": 40,
   "metadata": {},
   "outputs": [],
   "source": [
    "smoking_data = pd.read_csv(\"data/smoking_data.csv\")\n",
    "\n",
    "## exog and endog\n",
    "X = dmatrix(\"~ pop + age + smoke\", smoking_data, return_type=\"dataframe\")\n",
    "y = smoking_data[\"dead\"]"
   ]
  },
  {
   "cell_type": "code",
   "execution_count": 41,
   "metadata": {},
   "outputs": [
    {
     "data": {
      "text/plain": [
       "Text(0.5, 1.0, 'Histogram of absolute count of deads')"
      ]
     },
     "execution_count": 41,
     "metadata": {},
     "output_type": "execute_result"
    },
    {
     "data": {
      "image/png": "[encoded data removed]",
      "text/plain": [
       "<Figure size 432x288 with 1 Axes>"
      ]
     },
     "metadata": {
      "needs_background": "light"
     },
     "output_type": "display_data"
    }
   ],
   "source": [
    "_ = plt.hist(y, bins=30)\n",
    "plt.title(\"Histogram of absolute count of deads\")"
   ]
  },
  {
   "cell_type": "markdown",
   "metadata": {},
   "source": [
    "That is a long-tail distribution."
   ]
  },
  {
   "cell_type": "code",
   "execution_count": 42,
   "metadata": {},
   "outputs": [
    {
     "data": {
      "text/html": [
       "<table class=\"simpletable\">\n",
       "<caption>Multivariate Covariance Generalized Linear Model</caption>\n",
       "<tr>\n",
       "  <th>Dep. Variable:</th>       <td>dead</td>       <th>  No. Iterations:    </th>    <td>22</td>   \n",
       "</tr>\n",
       "<tr>\n",
       "  <th>Model:</th>               <td>MCGLM</td>      <th>  No. Observations:  </th>    <td>36</td>   \n",
       "</tr>\n",
       "<tr>\n",
       "  <th>link:</th>              <td>identity</td>     <th>  Df Residuals:      </th>    <td>22</td>   \n",
       "</tr>\n",
       "<tr>\n",
       "  <th>variance:</th>          <td>constant</td>     <th>  Df Model:          </th>    <td>14</td>   \n",
       "</tr>\n",
       "<tr>\n",
       "  <th>Method:</th>        <td>Quasi-Likelihood</td> <th>  Power-fixed:       </th>   <td>True</td>  \n",
       "</tr>\n",
       "<tr>\n",
       "  <th>Date:</th>          <td>Mon, 24 Oct 2022</td> <th>  pAIC               </th>  <td>429.44</td> \n",
       "</tr>\n",
       "<tr>\n",
       "  <th>Time:</th>              <td>08:18:49</td>     <th>  pBIC               </th>  <td>451.61</td> \n",
       "</tr>\n",
       "<tr>\n",
       "  <th> </th>                      <td> </td>        <th>  pLogLik            </th> <td>-200.719</td>\n",
       "</tr>\n",
       "</table>\n",
       "<table class=\"simpletable\">\n",
       "<tr>\n",
       "              <td></td>                 <th>coef</th>     <th>std err</th>      <th>z</th>      <th>P>|z|</th>  <th>[0.025</th>    <th>0.975]</th>  \n",
       "</tr>\n",
       "<tr>\n",
       "  <th>Intercept</th>                 <td> -224.6373</td> <td>   66.931</td> <td>   -3.356</td> <td> 0.001</td> <td> -355.820</td> <td>  -93.455</td>\n",
       "</tr>\n",
       "<tr>\n",
       "  <th>age[T.45-59]</th>              <td>   95.3834</td> <td>   76.446</td> <td>    1.248</td> <td> 0.212</td> <td>  -54.448</td> <td>  245.215</td>\n",
       "</tr>\n",
       "<tr>\n",
       "  <th>age[T.50-54]</th>              <td>  147.8634</td> <td>   78.491</td> <td>    1.884</td> <td> 0.060</td> <td>   -5.977</td> <td>  301.703</td>\n",
       "</tr>\n",
       "<tr>\n",
       "  <th>age[T.55-59]</th>              <td>  216.4651</td> <td>   74.395</td> <td>    2.910</td> <td> 0.004</td> <td>   70.654</td> <td>  362.276</td>\n",
       "</tr>\n",
       "<tr>\n",
       "  <th>age[T.60-64]</th>              <td>  344.0038</td> <td>   76.451</td> <td>    4.500</td> <td> 0.000</td> <td>  194.162</td> <td>  493.846</td>\n",
       "</tr>\n",
       "<tr>\n",
       "  <th>age[T.65-69]</th>              <td>  426.7793</td> <td>   74.466</td> <td>    5.731</td> <td> 0.000</td> <td>  280.829</td> <td>  572.730</td>\n",
       "</tr>\n",
       "<tr>\n",
       "  <th>age[T.70-74]</th>              <td>  399.1722</td> <td>   78.027</td> <td>    5.116</td> <td> 0.000</td> <td>  246.242</td> <td>  552.103</td>\n",
       "</tr>\n",
       "<tr>\n",
       "  <th>age[T.75-79]</th>              <td>  335.9303</td> <td>   83.318</td> <td>    4.032</td> <td> 0.000</td> <td>  172.629</td> <td>  499.231</td>\n",
       "</tr>\n",
       "<tr>\n",
       "  <th>age[T.80+]</th>                <td>  293.7420</td> <td>   86.312</td> <td>    3.403</td> <td> 0.001</td> <td>  124.573</td> <td>  462.911</td>\n",
       "</tr>\n",
       "<tr>\n",
       "  <th>smoke[T.2.cigarPipeOnly]</th>  <td>   32.3389</td> <td>   49.616</td> <td>    0.652</td> <td> 0.515</td> <td>  -64.906</td> <td>  129.584</td>\n",
       "</tr>\n",
       "<tr>\n",
       "  <th>smoke[T.3.cigarrettePlus]</th> <td>   85.2001</td> <td>   76.811</td> <td>    1.109</td> <td> 0.267</td> <td>  -65.347</td> <td>  235.747</td>\n",
       "</tr>\n",
       "<tr>\n",
       "  <th>smoke[T.4.cigarretteOnly]</th> <td>   87.8965</td> <td>   60.879</td> <td>    1.444</td> <td> 0.149</td> <td>  -31.425</td> <td>  207.218</td>\n",
       "</tr>\n",
       "<tr>\n",
       "  <th>pop</th>                       <td>    0.1128</td> <td>    0.023</td> <td>    4.814</td> <td> 0.000</td> <td>    0.067</td> <td>    0.159</td>\n",
       "</tr>\n",
       "</table>\n",
       "<table class=\"simpletable\">\n",
       "<tr>\n",
       "        <td></td>          <th>coef</th>     <th>std err</th>      <th>z</th>      <th>P>|z|</th>  <th>[0.025</th>    <th>0.975]</th>  \n",
       "</tr>\n",
       "<tr>\n",
       "  <th>dispersion_1</th> <td> 1.107e+04</td> <td> 1899.729</td> <td>    5.825</td> <td> 0.000</td> <td> 7342.640</td> <td> 1.48e+04</td>\n",
       "</tr>\n",
       "</table>\n",
       "<table class=\"simpletable\">\n",
       "<tr>\n",
       "     <td></td>       <th>coef</th>     <th>std err</th>      <th>z</th>      <th>P>|z|</th>  <th>[0.025</th>    <th>0.975]</th>  \n",
       "</tr>\n",
       "<tr>\n",
       "  <th>power_</th> <td>    1.0000</td> <td>      nan</td> <td>      nan</td> <td>   nan</td> <td>      nan</td> <td>      nan</td>\n",
       "</tr>\n",
       "</table>"
      ],
      "text/plain": [
       "<class 'statsmodels.iolib.summary.Summary'>\n",
       "\"\"\"\n",
       "               Multivariate Covariance Generalized Linear Model               \n",
       "==============================================================================\n",
       "Dep. Variable:                   dead   No. Iterations:                     22\n",
       "Model:                          MCGLM   No. Observations:                   36\n",
       "link:                        identity   Df Residuals:                       22\n",
       "variance:                    constant   Df Model:                           14\n",
       "Method:              Quasi-Likelihood   Power-fixed:                      True\n",
       "Date:                Mon, 24 Oct 2022   pAIC                            429.44\n",
       "Time:                        08:18:49   pBIC                            451.61\n",
       "                                        pLogLik                       -200.719\n",
       "=============================================================================================\n",
       "                                coef    std err          z      P>|z|      [0.025      0.975]\n",
       "---------------------------------------------------------------------------------------------\n",
       "Intercept                  -224.6373     66.931     -3.356      0.001    -355.820     -93.455\n",
       "age[T.45-59]                 95.3834     76.446      1.248      0.212     -54.448     245.215\n",
       "age[T.50-54]                147.8634     78.491      1.884      0.060      -5.977     301.703\n",
       "age[T.55-59]                216.4651     74.395      2.910      0.004      70.654     362.276\n",
       "age[T.60-64]                344.0038     76.451      4.500      0.000     194.162     493.846\n",
       "age[T.65-69]                426.7793     74.466      5.731      0.000     280.829     572.730\n",
       "age[T.70-74]                399.1722     78.027      5.116      0.000     246.242     552.103\n",
       "age[T.75-79]                335.9303     83.318      4.032      0.000     172.629     499.231\n",
       "age[T.80+]                  293.7420     86.312      3.403      0.001     124.573     462.911\n",
       "smoke[T.2.cigarPipeOnly]     32.3389     49.616      0.652      0.515     -64.906     129.584\n",
       "smoke[T.3.cigarrettePlus]    85.2001     76.811      1.109      0.267     -65.347     235.747\n",
       "smoke[T.4.cigarretteOnly]    87.8965     60.879      1.444      0.149     -31.425     207.218\n",
       "pop                           0.1128      0.023      4.814      0.000       0.067       0.159\n",
       "================================================================================\n",
       "                   coef    std err          z      P>|z|      [0.025      0.975]\n",
       "--------------------------------------------------------------------------------\n",
       "dispersion_1  1.107e+04   1899.729      5.825      0.000    7342.640    1.48e+04\n",
       "==============================================================================\n",
       "                 coef    std err          z      P>|z|      [0.025      0.975]\n",
       "------------------------------------------------------------------------------\n",
       "power_         1.0000        nan        nan        nan         nan         nan\n",
       "==============================================================================\n",
       "\"\"\""
      ]
     },
     "execution_count": 42,
     "metadata": {},
     "output_type": "execute_result"
    }
   ],
   "source": [
    "modelresults = MCGLM(\n",
    "    y,\n",
    "    X,\n",
    "    [mc_id(X)],\n",
    ").fit()\n",
    "\n",
    "modelresults.summary()"
   ]
  },
  {
   "cell_type": "markdown",
   "metadata": {},
   "source": [
    "Let's try a \"tweedie adjustment\" with power set as one, the Poisson one."
   ]
  },
  {
   "cell_type": "code",
   "execution_count": 44,
   "metadata": {},
   "outputs": [
    {
     "data": {
      "text/html": [
       "<table class=\"simpletable\">\n",
       "<caption>Multivariate Covariance Generalized Linear Model</caption>\n",
       "<tr>\n",
       "  <th>Dep. Variable:</th>       <td>dead</td>       <th>  No. Iterations:    </th>    <td>12</td>    \n",
       "</tr>\n",
       "<tr>\n",
       "  <th>Model:</th>               <td>MCGLM</td>      <th>  No. Observations:  </th>    <td>36</td>    \n",
       "</tr>\n",
       "<tr>\n",
       "  <th>link:</th>                 <td>log</td>       <th>  Df Residuals:      </th>    <td>22</td>    \n",
       "</tr>\n",
       "<tr>\n",
       "  <th>variance:</th>           <td>tweedie</td>     <th>  Df Model:          </th>    <td>14</td>    \n",
       "</tr>\n",
       "<tr>\n",
       "  <th>Method:</th>        <td>Quasi-Likelihood</td> <th>  Power-fixed:       </th>   <td>True</td>   \n",
       "</tr>\n",
       "<tr>\n",
       "  <th>Date:</th>          <td>Mon, 24 Oct 2022</td> <th>  pAIC               </th>  <td>371.22</td>  \n",
       "</tr>\n",
       "<tr>\n",
       "  <th>Time:</th>              <td>08:19:13</td>     <th>  pBIC               </th>  <td>393.39</td>  \n",
       "</tr>\n",
       "<tr>\n",
       "  <th> </th>                      <td> </td>        <th>  pLogLik            </th> <td>-171.6112</td>\n",
       "</tr>\n",
       "</table>\n",
       "<table class=\"simpletable\">\n",
       "<tr>\n",
       "              <td></td>                 <th>coef</th>     <th>std err</th>      <th>z</th>      <th>P>|z|</th>  <th>[0.025</th>    <th>0.975]</th>  \n",
       "</tr>\n",
       "<tr>\n",
       "  <th>Intercept</th>                 <td>    2.5604</td> <td>    0.283</td> <td>    9.055</td> <td> 0.000</td> <td>    2.006</td> <td>    3.115</td>\n",
       "</tr>\n",
       "<tr>\n",
       "  <th>age[T.45-59]</th>              <td>    0.6242</td> <td>    0.310</td> <td>    2.011</td> <td> 0.044</td> <td>    0.016</td> <td>    1.233</td>\n",
       "</tr>\n",
       "<tr>\n",
       "  <th>age[T.50-54]</th>              <td>    1.0038</td> <td>    0.308</td> <td>    3.261</td> <td> 0.001</td> <td>    0.401</td> <td>    1.607</td>\n",
       "</tr>\n",
       "<tr>\n",
       "  <th>age[T.55-59]</th>              <td>    1.3818</td> <td>    0.245</td> <td>    5.635</td> <td> 0.000</td> <td>    0.901</td> <td>    1.862</td>\n",
       "</tr>\n",
       "<tr>\n",
       "  <th>age[T.60-64]</th>              <td>    1.5012</td> <td>    0.245</td> <td>    6.132</td> <td> 0.000</td> <td>    1.021</td> <td>    1.981</td>\n",
       "</tr>\n",
       "<tr>\n",
       "  <th>age[T.65-69]</th>              <td>    2.1366</td> <td>    0.240</td> <td>    8.919</td> <td> 0.000</td> <td>    1.667</td> <td>    2.606</td>\n",
       "</tr>\n",
       "<tr>\n",
       "  <th>age[T.70-74]</th>              <td>    2.3557</td> <td>    0.269</td> <td>    8.765</td> <td> 0.000</td> <td>    1.829</td> <td>    2.882</td>\n",
       "</tr>\n",
       "<tr>\n",
       "  <th>age[T.75-79]</th>              <td>    2.2041</td> <td>    0.298</td> <td>    7.402</td> <td> 0.000</td> <td>    1.621</td> <td>    2.788</td>\n",
       "</tr>\n",
       "<tr>\n",
       "  <th>age[T.80+]</th>                <td>    1.9506</td> <td>    0.318</td> <td>    6.143</td> <td> 0.000</td> <td>    1.328</td> <td>    2.573</td>\n",
       "</tr>\n",
       "<tr>\n",
       "  <th>smoke[T.2.cigarPipeOnly]</th>  <td>    0.2114</td> <td>    0.176</td> <td>    1.203</td> <td> 0.229</td> <td>   -0.133</td> <td>    0.556</td>\n",
       "</tr>\n",
       "<tr>\n",
       "  <th>smoke[T.3.cigarrettePlus]</th> <td>    0.5030</td> <td>    0.214</td> <td>    2.347</td> <td> 0.019</td> <td>    0.083</td> <td>    0.923</td>\n",
       "</tr>\n",
       "<tr>\n",
       "  <th>smoke[T.4.cigarretteOnly]</th> <td>    0.7818</td> <td>    0.164</td> <td>    4.755</td> <td> 0.000</td> <td>    0.460</td> <td>    1.104</td>\n",
       "</tr>\n",
       "<tr>\n",
       "  <th>pop</th>                       <td>    0.0004</td> <td> 6.25e-05</td> <td>    6.679</td> <td> 0.000</td> <td>    0.000</td> <td>    0.001</td>\n",
       "</tr>\n",
       "</table>\n",
       "<table class=\"simpletable\">\n",
       "<tr>\n",
       "        <td></td>          <th>coef</th>     <th>std err</th>      <th>z</th>      <th>P>|z|</th>  <th>[0.025</th>    <th>0.975]</th>  \n",
       "</tr>\n",
       "<tr>\n",
       "  <th>dispersion_1</th> <td>   14.1210</td> <td>    3.786</td> <td>    3.730</td> <td> 0.000</td> <td>    6.701</td> <td>   21.541</td>\n",
       "</tr>\n",
       "</table>\n",
       "<table class=\"simpletable\">\n",
       "<tr>\n",
       "     <td></td>       <th>coef</th>     <th>std err</th>      <th>z</th>      <th>P>|z|</th>  <th>[0.025</th>    <th>0.975]</th>  \n",
       "</tr>\n",
       "<tr>\n",
       "  <th>power_</th> <td>    1.0000</td> <td>      nan</td> <td>      nan</td> <td>   nan</td> <td>      nan</td> <td>      nan</td>\n",
       "</tr>\n",
       "</table>"
      ],
      "text/plain": [
       "<class 'statsmodels.iolib.summary.Summary'>\n",
       "\"\"\"\n",
       "               Multivariate Covariance Generalized Linear Model               \n",
       "==============================================================================\n",
       "Dep. Variable:                   dead   No. Iterations:                     12\n",
       "Model:                          MCGLM   No. Observations:                   36\n",
       "link:                             log   Df Residuals:                       22\n",
       "variance:                     tweedie   Df Model:                           14\n",
       "Method:              Quasi-Likelihood   Power-fixed:                      True\n",
       "Date:                Mon, 24 Oct 2022   pAIC                            371.22\n",
       "Time:                        08:19:13   pBIC                            393.39\n",
       "                                        pLogLik                      -171.6112\n",
       "=============================================================================================\n",
       "                                coef    std err          z      P>|z|      [0.025      0.975]\n",
       "---------------------------------------------------------------------------------------------\n",
       "Intercept                     2.5604      0.283      9.055      0.000       2.006       3.115\n",
       "age[T.45-59]                  0.6242      0.310      2.011      0.044       0.016       1.233\n",
       "age[T.50-54]                  1.0038      0.308      3.261      0.001       0.401       1.607\n",
       "age[T.55-59]                  1.3818      0.245      5.635      0.000       0.901       1.862\n",
       "age[T.60-64]                  1.5012      0.245      6.132      0.000       1.021       1.981\n",
       "age[T.65-69]                  2.1366      0.240      8.919      0.000       1.667       2.606\n",
       "age[T.70-74]                  2.3557      0.269      8.765      0.000       1.829       2.882\n",
       "age[T.75-79]                  2.2041      0.298      7.402      0.000       1.621       2.788\n",
       "age[T.80+]                    1.9506      0.318      6.143      0.000       1.328       2.573\n",
       "smoke[T.2.cigarPipeOnly]      0.2114      0.176      1.203      0.229      -0.133       0.556\n",
       "smoke[T.3.cigarrettePlus]     0.5030      0.214      2.347      0.019       0.083       0.923\n",
       "smoke[T.4.cigarretteOnly]     0.7818      0.164      4.755      0.000       0.460       1.104\n",
       "pop                           0.0004   6.25e-05      6.679      0.000       0.000       0.001\n",
       "================================================================================\n",
       "                   coef    std err          z      P>|z|      [0.025      0.975]\n",
       "--------------------------------------------------------------------------------\n",
       "dispersion_1    14.1210      3.786      3.730      0.000       6.701      21.541\n",
       "==============================================================================\n",
       "                 coef    std err          z      P>|z|      [0.025      0.975]\n",
       "------------------------------------------------------------------------------\n",
       "power_         1.0000        nan        nan        nan         nan         nan\n",
       "==============================================================================\n",
       "\"\"\""
      ]
     },
     "execution_count": 44,
     "metadata": {},
     "output_type": "execute_result"
    }
   ],
   "source": [
    "modelresults = MCGLM(\n",
    "    y,\n",
    "    X,\n",
    "    [mc_id(X)],\n",
    "    link=\"log\",\n",
    "    variance=\"tweedie\",\n",
    "    power=1,\n",
    "    power_fixed=True,\n",
    ").fit()\n",
    "\n",
    "modelresults.summary()"
   ]
  },
  {
   "cell_type": "code",
   "execution_count": 45,
   "metadata": {},
   "outputs": [
    {
     "data": {
      "text/plain": [
       "Text(0, 0.5, 'pearson residuals')"
      ]
     },
     "execution_count": 45,
     "metadata": {},
     "output_type": "execute_result"
    },
    {
     "data": {
      "image/png": "[encoded data removed]",
      "text/plain": [
       "<Figure size 432x288 with 1 Axes>"
      ]
     },
     "metadata": {
      "needs_background": "light"
     },
     "output_type": "display_data"
    }
   ],
   "source": [
    "# Residual Analysis\n",
    "plt.scatter(modelresults.mu, modelresults.pearson_residuals)\n",
    "plt.xlabel(\"mu\")\n",
    "plt.ylabel(\"pearson residuals\")"
   ]
  },
  {
   "cell_type": "markdown",
   "metadata": {},
   "source": [
    "The usual Tweedie variance function is a suitable pick."
   ]
  },
  {
   "cell_type": "markdown",
   "metadata": {},
   "source": [
    "##### Bounded data\n",
    "-------------\n",
    "\n",
    "The titanic dataset."
   ]
  },
  {
   "cell_type": "code",
   "execution_count": 46,
   "metadata": {},
   "outputs": [],
   "source": [
    "titanic = pd.read_csv(\"data/titanic.csv\")"
   ]
  },
  {
   "cell_type": "code",
   "execution_count": 47,
   "metadata": {},
   "outputs": [],
   "source": [
    "y = titanic[\"Survived\"]\n",
    "\n",
    "X = titanic[[\"Fare\", \"SibSp\", \"Embarked\", \"Parch\", \"Pclass\"]]\n",
    "X = X.fillna(\"S\")\n",
    "\n",
    "X = dmatrix(\"~ Fare + SibSp + Embarked + Parch + Pclass\", X, return_type=\"dataframe\")"
   ]
  },
  {
   "cell_type": "code",
   "execution_count": 49,
   "metadata": {},
   "outputs": [
    {
     "data": {
      "text/html": [
       "<table class=\"simpletable\">\n",
       "<caption>Multivariate Covariance Generalized Linear Model</caption>\n",
       "<tr>\n",
       "  <th>Dep. Variable:</th>     <td>Survived</td>     <th>  No. Iterations:    </th>     <td>0</td>   \n",
       "</tr>\n",
       "<tr>\n",
       "  <th>Model:</th>               <td>MCGLM</td>      <th>  No. Observations:  </th>    <td>891</td>  \n",
       "</tr>\n",
       "<tr>\n",
       "  <th>link:</th>                <td>logit</td>      <th>  Df Residuals:      </th>    <td>883</td>  \n",
       "</tr>\n",
       "<tr>\n",
       "  <th>variance:</th>          <td>binomialP</td>    <th>  Df Model:          </th>     <td>8</td>   \n",
       "</tr>\n",
       "<tr>\n",
       "  <th>Method:</th>        <td>Quasi-Likelihood</td> <th>  Power-fixed:       </th>   <td>True</td>  \n",
       "</tr>\n",
       "<tr>\n",
       "  <th>Date:</th>          <td>Mon, 24 Oct 2022</td> <th>  pAIC               </th>   <td>213.8</td> \n",
       "</tr>\n",
       "<tr>\n",
       "  <th>Time:</th>              <td>19:28:36</td>     <th>  pBIC               </th>  <td>252.14</td> \n",
       "</tr>\n",
       "<tr>\n",
       "  <th> </th>                      <td> </td>        <th>  pLogLik            </th> <td>-98.9013</td>\n",
       "</tr>\n",
       "</table>\n",
       "<table class=\"simpletable\">\n",
       "<tr>\n",
       "        <td></td>           <th>coef</th>     <th>std err</th>      <th>z</th>      <th>P>|z|</th>  <th>[0.025</th>    <th>0.975]</th>  \n",
       "</tr>\n",
       "<tr>\n",
       "  <th>Intercept</th>     <td>    1.4120</td> <td>    0.343</td> <td>    4.119</td> <td> 0.000</td> <td>    0.740</td> <td>    2.084</td>\n",
       "</tr>\n",
       "<tr>\n",
       "  <th>Embarked[T.Q]</th> <td>    0.2911</td> <td>    0.307</td> <td>    0.948</td> <td> 0.343</td> <td>   -0.311</td> <td>    0.893</td>\n",
       "</tr>\n",
       "<tr>\n",
       "  <th>Embarked[T.S]</th> <td>   -0.5179</td> <td>    0.197</td> <td>   -2.635</td> <td> 0.008</td> <td>   -0.903</td> <td>   -0.133</td>\n",
       "</tr>\n",
       "<tr>\n",
       "  <th>Fare</th>          <td>    0.0037</td> <td>    0.002</td> <td>    1.553</td> <td> 0.120</td> <td>   -0.001</td> <td>    0.008</td>\n",
       "</tr>\n",
       "<tr>\n",
       "  <th>SibSp</th>         <td>   -0.1274</td> <td>    0.082</td> <td>   -1.560</td> <td> 0.119</td> <td>   -0.288</td> <td>    0.033</td>\n",
       "</tr>\n",
       "<tr>\n",
       "  <th>Parch</th>         <td>    0.2920</td> <td>    0.101</td> <td>    2.904</td> <td> 0.004</td> <td>    0.095</td> <td>    0.489</td>\n",
       "</tr>\n",
       "<tr>\n",
       "  <th>Pclass</th>        <td>   -0.7556</td> <td>    0.116</td> <td>   -6.503</td> <td> 0.000</td> <td>   -0.983</td> <td>   -0.528</td>\n",
       "</tr>\n",
       "</table>\n",
       "<table class=\"simpletable\">\n",
       "<tr>\n",
       "        <td></td>          <th>coef</th>     <th>std err</th>      <th>z</th>      <th>P>|z|</th>  <th>[0.025</th>    <th>0.975]</th>  \n",
       "</tr>\n",
       "<tr>\n",
       "  <th>dispersion_1</th> <td>    0.9990</td> <td>    0.036</td> <td>   27.996</td> <td> 0.000</td> <td>    0.929</td> <td>    1.069</td>\n",
       "</tr>\n",
       "</table>\n",
       "<table class=\"simpletable\">\n",
       "<tr>\n",
       "     <td></td>       <th>coef</th>     <th>std err</th>      <th>z</th>      <th>P>|z|</th>  <th>[0.025</th>    <th>0.975]</th>  \n",
       "</tr>\n",
       "<tr>\n",
       "  <th>power_</th> <td>    1.0000</td> <td>      nan</td> <td>      nan</td> <td>   nan</td> <td>      nan</td> <td>      nan</td>\n",
       "</tr>\n",
       "</table>"
      ],
      "text/plain": [
       "<class 'statsmodels.iolib.summary.Summary'>\n",
       "\"\"\"\n",
       "               Multivariate Covariance Generalized Linear Model               \n",
       "==============================================================================\n",
       "Dep. Variable:               Survived   No. Iterations:                      0\n",
       "Model:                          MCGLM   No. Observations:                  891\n",
       "link:                           logit   Df Residuals:                      883\n",
       "variance:                   binomialP   Df Model:                            8\n",
       "Method:              Quasi-Likelihood   Power-fixed:                      True\n",
       "Date:                Mon, 24 Oct 2022   pAIC                             213.8\n",
       "Time:                        19:28:36   pBIC                            252.14\n",
       "                                        pLogLik                       -98.9013\n",
       "=================================================================================\n",
       "                    coef    std err          z      P>|z|      [0.025      0.975]\n",
       "---------------------------------------------------------------------------------\n",
       "Intercept         1.4120      0.343      4.119      0.000       0.740       2.084\n",
       "Embarked[T.Q]     0.2911      0.307      0.948      0.343      -0.311       0.893\n",
       "Embarked[T.S]    -0.5179      0.197     -2.635      0.008      -0.903      -0.133\n",
       "Fare              0.0037      0.002      1.553      0.120      -0.001       0.008\n",
       "SibSp            -0.1274      0.082     -1.560      0.119      -0.288       0.033\n",
       "Parch             0.2920      0.101      2.904      0.004       0.095       0.489\n",
       "Pclass           -0.7556      0.116     -6.503      0.000      -0.983      -0.528\n",
       "================================================================================\n",
       "                   coef    std err          z      P>|z|      [0.025      0.975]\n",
       "--------------------------------------------------------------------------------\n",
       "dispersion_1     0.9990      0.036     27.996      0.000       0.929       1.069\n",
       "==============================================================================\n",
       "                 coef    std err          z      P>|z|      [0.025      0.975]\n",
       "------------------------------------------------------------------------------\n",
       "power_         1.0000        nan        nan        nan         nan         nan\n",
       "==============================================================================\n",
       "\"\"\""
      ]
     },
     "execution_count": 49,
     "metadata": {},
     "output_type": "execute_result"
    }
   ],
   "source": [
    "modelresults = MCGLM(\n",
    "    y,\n",
    "    X,\n",
    "    [mc_id(X)],\n",
    "    link=\"logit\",\n",
    "    variance=\"binomialP\",\n",
    "    ntrial=1,\n",
    ").fit()\n",
    "modelresults.summary()"
   ]
  },
  {
   "cell_type": "markdown",
   "metadata": {},
   "source": [
    "For a bounded scenario, we have four different link functions on the mcglm library."
   ]
  },
  {
   "cell_type": "code",
   "execution_count": 50,
   "metadata": {},
   "outputs": [],
   "source": [
    "## Evaluating multiple links\n",
    "modelresults_logit = MCGLM(\n",
    "    y, X, [mc_id(X)], link=\"logit\", variance=\"binomialP\", ntrial=1\n",
    ").fit()\n",
    "\n",
    "modelresults_loglog = MCGLM(\n",
    "    y, X, [mc_id(X)], link=\"loglog\", variance=\"binomialP\", ntrial=1\n",
    ").fit()\n",
    "\n",
    "modelresults_cloglog = MCGLM(\n",
    "    y, X, [mc_id(X)], link=\"cloglog\", variance=\"binomialP\", ntrial=1\n",
    ").fit()\n",
    "\n",
    "modelresults_cauchy = MCGLM(\n",
    "    y, X, [mc_id(X)], link=\"cauchy\", variance=\"binomialP\", ntrial=1\n",
    ").fit()"
   ]
  },
  {
   "cell_type": "code",
   "execution_count": 51,
   "metadata": {},
   "outputs": [
    {
     "name": "stdout",
     "output_type": "stream",
     "text": [
      "logit_aic:  213.8 , loglog_aic:  200.75 , cloglog_aic:  223.56 , cauchy_aic:  218.02\n"
     ]
    }
   ],
   "source": [
    "print(\n",
    "    \"logit_aic: \",\n",
    "    modelresults_logit.aic,\n",
    "    \", loglog_aic: \",\n",
    "    modelresults_loglog.aic,\n",
    "    \", cloglog_aic: \",\n",
    "    modelresults_cloglog.aic,\n",
    "    \", cauchy_aic: \",\n",
    "    modelresults_cauchy.aic,\n",
    ")"
   ]
  },
  {
   "cell_type": "markdown",
   "metadata": {},
   "source": [
    "The loglog link is the best pick for this analysis."
   ]
  },
  {
   "cell_type": "markdown",
   "metadata": {},
   "source": [
    "In addition to it, the mcglm can fit data when components are not independent.\n",
    "\n",
    "------------------\n",
    "\n",
    "### Dependence section"
   ]
  },
  {
   "cell_type": "markdown",
   "metadata": {},
   "source": [
    "Moving Average model. \n",
    "\n",
    "The library `statmodels` has an amazing API to craft Arma process. Let's use it to generate data, and then adjust a model."
   ]
  },
  {
   "cell_type": "code",
   "execution_count": 113,
   "metadata": {},
   "outputs": [],
   "source": [
    "from statsmodels.tsa.arima_process import ArmaProcess\n",
    "\n",
    "arma_obj = ArmaProcess(ar=[1], ma=[1, 2])\n",
    "arma_sample = arma_obj.generate_sample(nsample=300)\n",
    "\n",
    "data = pd.DataFrame()\n",
    "data[\"arma_sample\"] = arma_sample\n",
    "data[\"index\"] = list(range(0, 300))\n",
    "data = add_constant(data)\n",
    "\n",
    "X = data[[\"const\"]]\n",
    "y = data[\"arma_sample\"]"
   ]
  },
  {
   "cell_type": "code",
   "execution_count": 114,
   "metadata": {},
   "outputs": [
    {
     "data": {
      "text/plain": [
       "<AxesSubplot:xlabel='index', ylabel='arma_sample'>"
      ]
     },
     "execution_count": 114,
     "metadata": {},
     "output_type": "execute_result"
    },
    {
     "data": {
      "image/png": "[encoded data removed]",
      "text/plain": [
       "<Figure size 432x288 with 1 Axes>"
      ]
     },
     "metadata": {
      "needs_background": "light"
     },
     "output_type": "display_data"
    }
   ],
   "source": [
    "sns.lineplot(data[\"index\"], data[\"arma_sample\"])"
   ]
  },
  {
   "cell_type": "markdown",
   "metadata": {},
   "source": [
    "By default, time-series analysis starts with the usual decomposition on trend, seasonal and residual(shock). In this analysis, as long as we have crafted from ARMA process, we can adjust a model MA straight off the bat."
   ]
  },
  {
   "cell_type": "markdown",
   "metadata": {},
   "source": [
    "The measure of goodness-of-fit pAIC is crucial to point the best pick."
   ]
  },
  {
   "cell_type": "code",
   "execution_count": 115,
   "metadata": {},
   "outputs": [],
   "source": [
    "one_order = [mc_id(X), mc_ma(id=\"const\", time=\"index\", data=data, order=1)]\n",
    "two_order = [*one_order, mc_ma(id=\"const\", time=\"index\", data=data, order=2)]\n",
    "three_order = [*two_order, mc_ma(id=\"const\", time=\"index\", data=data, order=3)]\n",
    "four_order = [*three_order, mc_ma(id=\"const\", time=\"index\", data=data, order=4)]\n",
    "five_order = [*four_order, mc_ma(id=\"const\", time=\"index\", data=data, order=5)]\n",
    "six_order = [*five_order, mc_ma(id=\"const\", time=\"index\", data=data, order=6)]\n",
    "seven_order = [*six_order, mc_ma(id=\"const\", time=\"index\", data=data, order=7)]"
   ]
  },
  {
   "cell_type": "code",
   "execution_count": 116,
   "metadata": {},
   "outputs": [
    {
     "name": "stdout",
     "output_type": "stream",
     "text": [
      "q value:  1 , paic:  998.91\n",
      "q value:  2 , paic:  999.91\n",
      "q value:  3 , paic:  1000.99\n",
      "q value:  4 , paic:  1002.83\n",
      "q value:  5 , paic:  1004.2\n",
      "q value:  6 , paic:  1005.36\n",
      "q value:  7 , paic:  1006.65\n"
     ]
    }
   ],
   "source": [
    "for index, order in enumerate(\n",
    "    [one_order, two_order, three_order, four_order, five_order, six_order, seven_order]\n",
    "):\n",
    "    modelresults = MCGLM(y, X, order).fit()\n",
    "\n",
    "    print(\"q value: \", str(index + 1), \", paic: \", modelresults.aic)"
   ]
  },
  {
   "cell_type": "markdown",
   "metadata": {},
   "source": [
    "Lag size q as 1 as the best fit."
   ]
  },
  {
   "cell_type": "code",
   "execution_count": 117,
   "metadata": {},
   "outputs": [
    {
     "data": {
      "text/html": [
       "<table class=\"simpletable\">\n",
       "<caption>Multivariate Covariance Generalized Linear Model</caption>\n",
       "<tr>\n",
       "  <th>Dep. Variable:</th>    <td>arma_sample</td>   <th>  No. Iterations:    </th>    <td>10</td>    \n",
       "</tr>\n",
       "<tr>\n",
       "  <th>Model:</th>               <td>MCGLM</td>      <th>  No. Observations:  </th>    <td>300</td>   \n",
       "</tr>\n",
       "<tr>\n",
       "  <th>link:</th>              <td>identity</td>     <th>  Df Residuals:      </th>    <td>297</td>   \n",
       "</tr>\n",
       "<tr>\n",
       "  <th>variance:</th>          <td>constant</td>     <th>  Df Model:          </th>     <td>3</td>    \n",
       "</tr>\n",
       "<tr>\n",
       "  <th>Method:</th>        <td>Quasi-Likelihood</td> <th>  Power-fixed:       </th>   <td>True</td>   \n",
       "</tr>\n",
       "<tr>\n",
       "  <th>Date:</th>          <td>Mon, 24 Oct 2022</td> <th>  pAIC               </th>  <td>998.91</td>  \n",
       "</tr>\n",
       "<tr>\n",
       "  <th>Time:</th>              <td>20:46:32</td>     <th>  pBIC               </th>  <td>1010.02</td> \n",
       "</tr>\n",
       "<tr>\n",
       "  <th> </th>                      <td> </td>        <th>  pLogLik            </th> <td>-496.4536</td>\n",
       "</tr>\n",
       "</table>\n",
       "<table class=\"simpletable\">\n",
       "<tr>\n",
       "    <td></td>       <th>coef</th>     <th>std err</th>      <th>z</th>      <th>P>|z|</th>  <th>[0.025</th>    <th>0.975]</th>  \n",
       "</tr>\n",
       "<tr>\n",
       "  <th>const</th> <td>   -0.0119</td> <td>    0.178</td> <td>   -0.067</td> <td> 0.947</td> <td>   -0.361</td> <td>    0.337</td>\n",
       "</tr>\n",
       "</table>\n",
       "<table class=\"simpletable\">\n",
       "<tr>\n",
       "        <td></td>          <th>coef</th>     <th>std err</th>      <th>z</th>      <th>P>|z|</th>  <th>[0.025</th>    <th>0.975]</th>  \n",
       "</tr>\n",
       "<tr>\n",
       "  <th>dispersion_1</th> <td>    5.3560</td> <td>    0.514</td> <td>   10.411</td> <td> 0.000</td> <td>    4.348</td> <td>    6.364</td>\n",
       "</tr>\n",
       "<tr>\n",
       "  <th>dispersion_2</th> <td>    2.0900</td> <td>    0.278</td> <td>    7.508</td> <td> 0.000</td> <td>    1.544</td> <td>    2.636</td>\n",
       "</tr>\n",
       "</table>\n",
       "<table class=\"simpletable\">\n",
       "<tr>\n",
       "     <td></td>       <th>coef</th>     <th>std err</th>      <th>z</th>      <th>P>|z|</th>  <th>[0.025</th>    <th>0.975]</th>  \n",
       "</tr>\n",
       "<tr>\n",
       "  <th>power_</th> <td>    1.0000</td> <td>      nan</td> <td>      nan</td> <td>   nan</td> <td>      nan</td> <td>      nan</td>\n",
       "</tr>\n",
       "</table>"
      ],
      "text/plain": [
       "<class 'statsmodels.iolib.summary.Summary'>\n",
       "\"\"\"\n",
       "               Multivariate Covariance Generalized Linear Model               \n",
       "==============================================================================\n",
       "Dep. Variable:            arma_sample   No. Iterations:                     10\n",
       "Model:                          MCGLM   No. Observations:                  300\n",
       "link:                        identity   Df Residuals:                      297\n",
       "variance:                    constant   Df Model:                            3\n",
       "Method:              Quasi-Likelihood   Power-fixed:                      True\n",
       "Date:                Mon, 24 Oct 2022   pAIC                            998.91\n",
       "Time:                        20:46:32   pBIC                           1010.02\n",
       "                                        pLogLik                      -496.4536\n",
       "==============================================================================\n",
       "                 coef    std err          z      P>|z|      [0.025      0.975]\n",
       "------------------------------------------------------------------------------\n",
       "const         -0.0119      0.178     -0.067      0.947      -0.361       0.337\n",
       "================================================================================\n",
       "                   coef    std err          z      P>|z|      [0.025      0.975]\n",
       "--------------------------------------------------------------------------------\n",
       "dispersion_1     5.3560      0.514     10.411      0.000       4.348       6.364\n",
       "dispersion_2     2.0900      0.278      7.508      0.000       1.544       2.636\n",
       "==============================================================================\n",
       "                 coef    std err          z      P>|z|      [0.025      0.975]\n",
       "------------------------------------------------------------------------------\n",
       "power_         1.0000        nan        nan        nan         nan         nan\n",
       "==============================================================================\n",
       "\"\"\""
      ]
     },
     "execution_count": 117,
     "metadata": {},
     "output_type": "execute_result"
    }
   ],
   "source": [
    "modelresults = MCGLM(y, X, one_order).fit()\n",
    "modelresults.summary()"
   ]
  },
  {
   "cell_type": "markdown",
   "metadata": {},
   "source": [
    "The summary report drills down the $\\theta$ parameters that linearly operates the white noise."
   ]
  },
  {
   "cell_type": "markdown",
   "metadata": {},
   "source": [
    "##### Random Effect models.\n",
    "-------------\n",
    "\n",
    "MCGLM can also approach the notorious random effect models, with random slope and intercept."
   ]
  },
  {
   "cell_type": "code",
   "execution_count": 37,
   "metadata": {},
   "outputs": [
    {
     "data": {
      "text/html": [
       "<div>\n",
       "<style scoped>\n",
       "    .dataframe tbody tr th:only-of-type {\n",
       "        vertical-align: middle;\n",
       "    }\n",
       "\n",
       "    .dataframe tbody tr th {\n",
       "        vertical-align: top;\n",
       "    }\n",
       "\n",
       "    .dataframe thead th {\n",
       "        text-align: right;\n",
       "    }\n",
       "</style>\n",
       "<table border=\"1\" class=\"dataframe\">\n",
       "  <thead>\n",
       "    <tr style=\"text-align: right;\">\n",
       "      <th></th>\n",
       "      <th>Reaction</th>\n",
       "      <th>Days</th>\n",
       "      <th>Subject</th>\n",
       "    </tr>\n",
       "  </thead>\n",
       "  <tbody>\n",
       "    <tr>\n",
       "      <th>0</th>\n",
       "      <td>249.5600</td>\n",
       "      <td>0</td>\n",
       "      <td>308</td>\n",
       "    </tr>\n",
       "    <tr>\n",
       "      <th>1</th>\n",
       "      <td>258.7047</td>\n",
       "      <td>1</td>\n",
       "      <td>308</td>\n",
       "    </tr>\n",
       "    <tr>\n",
       "      <th>2</th>\n",
       "      <td>250.8006</td>\n",
       "      <td>2</td>\n",
       "      <td>308</td>\n",
       "    </tr>\n",
       "    <tr>\n",
       "      <th>3</th>\n",
       "      <td>321.4398</td>\n",
       "      <td>3</td>\n",
       "      <td>308</td>\n",
       "    </tr>\n",
       "    <tr>\n",
       "      <th>4</th>\n",
       "      <td>356.8519</td>\n",
       "      <td>4</td>\n",
       "      <td>308</td>\n",
       "    </tr>\n",
       "    <tr>\n",
       "      <th>5</th>\n",
       "      <td>414.6901</td>\n",
       "      <td>5</td>\n",
       "      <td>308</td>\n",
       "    </tr>\n",
       "    <tr>\n",
       "      <th>6</th>\n",
       "      <td>382.2038</td>\n",
       "      <td>6</td>\n",
       "      <td>308</td>\n",
       "    </tr>\n",
       "    <tr>\n",
       "      <th>7</th>\n",
       "      <td>290.1486</td>\n",
       "      <td>7</td>\n",
       "      <td>308</td>\n",
       "    </tr>\n",
       "    <tr>\n",
       "      <th>8</th>\n",
       "      <td>430.5853</td>\n",
       "      <td>8</td>\n",
       "      <td>308</td>\n",
       "    </tr>\n",
       "    <tr>\n",
       "      <th>9</th>\n",
       "      <td>466.3535</td>\n",
       "      <td>9</td>\n",
       "      <td>308</td>\n",
       "    </tr>\n",
       "  </tbody>\n",
       "</table>\n",
       "</div>"
      ],
      "text/plain": [
       "   Reaction  Days Subject\n",
       "0  249.5600     0     308\n",
       "1  258.7047     1     308\n",
       "2  250.8006     2     308\n",
       "3  321.4398     3     308\n",
       "4  356.8519     4     308\n",
       "5  414.6901     5     308\n",
       "6  382.2038     6     308\n",
       "7  290.1486     7     308\n",
       "8  430.5853     8     308\n",
       "9  466.3535     9     308"
      ]
     },
     "execution_count": 37,
     "metadata": {},
     "output_type": "execute_result"
    }
   ],
   "source": [
    "# Top 10 cells to get an intuition about data.\n",
    "sleepstudy = pd.read_csv(\n",
    "    \"data/first_simulation/sleepstudy.csv\", dtype={\"Subject\": \"str\"}\n",
    ")\n",
    "\n",
    "sleepstudy.head(10)"
   ]
  },
  {
   "cell_type": "code",
   "execution_count": 38,
   "metadata": {},
   "outputs": [
    {
     "data": {
      "text/plain": [
       "<matplotlib.legend.Legend at 0x7fe55c0b18b0>"
      ]
     },
     "execution_count": 38,
     "metadata": {},
     "output_type": "execute_result"
    },
    {
     "data": {
      "image/png": "[encoded data removed]",
      "text/plain": [
       "<Figure size 432x288 with 1 Axes>"
      ]
     },
     "metadata": {
      "needs_background": "light"
     },
     "output_type": "display_data"
    }
   ],
   "source": [
    "## Plotting curve of 18 subjects\n",
    "_ = sns.lineplot(x=\"Days\", y=\"Reaction\", hue=\"Subject\", data=sleepstudy)\n",
    "plt.legend(bbox_to_anchor=(1.05, 1), loc=2, borderaxespad=0.0)"
   ]
  },
  {
   "cell_type": "code",
   "execution_count": 39,
   "metadata": {},
   "outputs": [],
   "source": [
    "# Design Matrix\n",
    "X = dmatrix(\"~ Days\", sleepstudy, return_type=\"dataframe\")\n",
    "\n",
    "# Z specification\n",
    "Z = [mc_id(sleepstudy)] + mc_mixed(formula=\"~ 0 + Subject / Days\", data=sleepstudy)"
   ]
  },
  {
   "cell_type": "code",
   "execution_count": 40,
   "metadata": {},
   "outputs": [],
   "source": [
    "# Model fitting\n",
    "mcglm = MCGLM(endog=sleepstudy[\"Reaction\"], exog=X, z=Z)\n",
    "\n",
    "mcglmresults = mcglm.fit()"
   ]
  },
  {
   "cell_type": "code",
   "execution_count": 41,
   "metadata": {},
   "outputs": [
    {
     "data": {
      "text/html": [
       "<table class=\"simpletable\">\n",
       "<caption>Multivariate Covariance Generalized Linear Model</caption>\n",
       "<tr>\n",
       "  <th>Dep. Variable:</th>     <td>Reaction</td>     <th>  No. Iterations:    </th>    <td>20</td>    \n",
       "</tr>\n",
       "<tr>\n",
       "  <th>Model:</th>               <td>MCGLM</td>      <th>  No. Observations:  </th>    <td>180</td>   \n",
       "</tr>\n",
       "<tr>\n",
       "  <th>link:</th>              <td>identity</td>     <th>  Df Residuals:      </th>    <td>174</td>   \n",
       "</tr>\n",
       "<tr>\n",
       "  <th>variance:</th>          <td>constant</td>     <th>  Df Model:          </th>     <td>6</td>    \n",
       "</tr>\n",
       "<tr>\n",
       "  <th>Method:</th>        <td>Quasi-Likelihood</td> <th>  Power-fixed:       </th>   <td>True</td>   \n",
       "</tr>\n",
       "<tr>\n",
       "  <th>Date:</th>          <td>Thu, 08 Sep 2022</td> <th>  pAIC               </th>  <td>1583.94</td> \n",
       "</tr>\n",
       "<tr>\n",
       "  <th>Time:</th>              <td>20:54:09</td>     <th>  pBIC               </th>  <td>1603.1</td>  \n",
       "</tr>\n",
       "<tr>\n",
       "  <th> </th>                      <td> </td>        <th>  pLogLik            </th> <td>-785.9704</td>\n",
       "</tr>\n",
       "</table>\n",
       "<table class=\"simpletable\">\n",
       "<tr>\n",
       "      <td></td>         <th>coef</th>     <th>std err</th>      <th>z</th>      <th>P>|z|</th>  <th>[0.025</th>    <th>0.975]</th>  \n",
       "</tr>\n",
       "<tr>\n",
       "  <th>Intercept</th> <td>  251.4051</td> <td>    6.632</td> <td>   37.906</td> <td> 0.000</td> <td>  238.406</td> <td>  264.404</td>\n",
       "</tr>\n",
       "<tr>\n",
       "  <th>Days</th>      <td>   10.4673</td> <td>    1.502</td> <td>    6.968</td> <td> 0.000</td> <td>    7.523</td> <td>   13.412</td>\n",
       "</tr>\n",
       "</table>\n",
       "<table class=\"simpletable\">\n",
       "<tr>\n",
       "        <td></td>          <th>coef</th>     <th>std err</th>      <th>z</th>      <th>P>|z|</th>  <th>[0.025</th>    <th>0.975]</th>  \n",
       "</tr>\n",
       "<tr>\n",
       "  <th>dispersion_1</th> <td>  654.9420</td> <td>   70.624</td> <td>    9.274</td> <td> 0.000</td> <td>  516.521</td> <td>  793.363</td>\n",
       "</tr>\n",
       "<tr>\n",
       "  <th>dispersion_2</th> <td>  565.5150</td> <td>  264.679</td> <td>    2.137</td> <td> 0.033</td> <td>   46.753</td> <td> 1084.277</td>\n",
       "</tr>\n",
       "<tr>\n",
       "  <th>dispersion_3</th> <td>   32.6820</td> <td>   13.560</td> <td>    2.410</td> <td> 0.016</td> <td>    6.105</td> <td>   59.259</td>\n",
       "</tr>\n",
       "<tr>\n",
       "  <th>dispersion_4</th> <td>   11.0550</td> <td>   42.948</td> <td>    0.257</td> <td> 0.797</td> <td>  -73.121</td> <td>   95.231</td>\n",
       "</tr>\n",
       "</table>\n",
       "<table class=\"simpletable\">\n",
       "<tr>\n",
       "     <td></td>       <th>coef</th>     <th>std err</th>      <th>z</th>      <th>P>|z|</th>  <th>[0.025</th>    <th>0.975]</th>  \n",
       "</tr>\n",
       "<tr>\n",
       "  <th>power_</th> <td>    1.0000</td> <td>      nan</td> <td>      nan</td> <td>   nan</td> <td>      nan</td> <td>      nan</td>\n",
       "</tr>\n",
       "</table>"
      ],
      "text/plain": [
       "<class 'statsmodels.iolib.summary.Summary'>\n",
       "\"\"\"\n",
       "               Multivariate Covariance Generalized Linear Model               \n",
       "==============================================================================\n",
       "Dep. Variable:               Reaction   No. Iterations:                     20\n",
       "Model:                          MCGLM   No. Observations:                  180\n",
       "link:                        identity   Df Residuals:                      174\n",
       "variance:                    constant   Df Model:                            6\n",
       "Method:              Quasi-Likelihood   Power-fixed:                      True\n",
       "Date:                Thu, 08 Sep 2022   pAIC                           1583.94\n",
       "Time:                        20:54:09   pBIC                            1603.1\n",
       "                                        pLogLik                      -785.9704\n",
       "==============================================================================\n",
       "                 coef    std err          z      P>|z|      [0.025      0.975]\n",
       "------------------------------------------------------------------------------\n",
       "Intercept    251.4051      6.632     37.906      0.000     238.406     264.404\n",
       "Days          10.4673      1.502      6.968      0.000       7.523      13.412\n",
       "================================================================================\n",
       "                   coef    std err          z      P>|z|      [0.025      0.975]\n",
       "--------------------------------------------------------------------------------\n",
       "dispersion_1   654.9420     70.624      9.274      0.000     516.521     793.363\n",
       "dispersion_2   565.5150    264.679      2.137      0.033      46.753    1084.277\n",
       "dispersion_3    32.6820     13.560      2.410      0.016       6.105      59.259\n",
       "dispersion_4    11.0550     42.948      0.257      0.797     -73.121      95.231\n",
       "==============================================================================\n",
       "                 coef    std err          z      P>|z|      [0.025      0.975]\n",
       "------------------------------------------------------------------------------\n",
       "power_         1.0000        nan        nan        nan         nan         nan\n",
       "==============================================================================\n",
       "\"\"\""
      ]
     },
     "execution_count": 41,
     "metadata": {},
     "output_type": "execute_result"
    }
   ],
   "source": [
    "mcglmresults.summary()"
   ]
  },
  {
   "cell_type": "markdown",
   "metadata": {},
   "source": [
    "#### Beta coefficients  \n",
    "The Beta section diagnose the fixed-effects parameters, that is to say, the conclusion overall subjects.  \n",
    "\n",
    "    Intercept set at value 251.40. The straightforward takeaway is: At day 0, the average response time is roughly 251 seconds.\n",
    "    In addition, Days at 10.46 allude to total change to response time by unit changes on Days, for subjects with random effects set to 0.\n",
    "    Furthermore, by the results of the wald test on Days, we might conclude that days are statistically significant in the statistical model.\n",
    "---\n",
    "#### Dispersion parameters   \n",
    "The Dispersion parameters allude to random effects within individuals throughout the days.  \n",
    "\n",
    "    The first dispersion parameter is the variance across all data points. Calculated in 654.94.\n",
    "    The second dispersion parameter is the variance across all intercepts, which is 565.51.\n",
    "    The third dispersion parameter is the variance across all slopes. Calculated in 32.68. \n",
    "    The fourth dispersion parameter is the variance across intercepts and slopes. Calculated in 11.05.\n",
    "\n",
    "* Moreover, the correlation might be calculated through the formula = dispersion_4/(sqrt(dispersion_2) + sqrt(dispersion_3)). Cell below shows the pearson correlation result, 0.37.   "
   ]
  },
  {
   "cell_type": "markdown",
   "metadata": {},
   "source": [
    "##### Multivariate Models\n",
    "-------------\n",
    "\n",
    "Soya\n",
    "\n",
    "`Soya` is a dataset that stores an experiment of Universidade Federal da Grande Dourados in Dourados, Mato Grosso do Sul, Brazil. Description:    \n",
    "https://github.com/walmes/wzRfun/blob/master/R/wzRfun.R#L10   \n",
    "http://ccarevista.ufc.br/seer/index.php/ccarevista/article/view/1454  \n",
    "\n",
    "The experiment collected data about different treatments of `potassium`, `water`, and `blocks` for soil farming on buckets. All of those covariates are categorical. The response traits to be analyzed are: `grain size`, `total seeds`, and `viable peas`, which stands for the weight of hundred grains, total grain per bucket, and percentage of viable peas(green beans). In the following, MCGLM fits onto this data with three unique kinds of answers: continuous, count, and binomial."
   ]
  },
  {
   "cell_type": "code",
   "execution_count": 42,
   "metadata": {},
   "outputs": [],
   "source": [
    "soya = pd.read_csv(\n",
    "    \"data/fourth_simulation/soya.csv\",\n",
    "    dtype={\"block\": \"str\", \"water\": \"str\", \"pot\": \"str\"},\n",
    ")\n",
    "\n",
    "soya[\"viablegrain\"] = soya[\"viablepeas\"] / soya[\"totalpeas\"]"
   ]
  },
  {
   "cell_type": "code",
   "execution_count": 43,
   "metadata": {},
   "outputs": [],
   "source": [
    "# percentual of peas.\n",
    "soya[\"viablePeas\"] = soya[\"viablepeas\"] / soya[\"totalpeas\"]\n",
    "\n",
    "# Design matrix.\n",
    "X = dmatrix(\"~ block + water * pot\", soya, return_type=\"dataframe\")"
   ]
  },
  {
   "cell_type": "code",
   "execution_count": 44,
   "metadata": {},
   "outputs": [],
   "source": [
    "# Model Specification\n",
    "mcglm = MCGLM(\n",
    "    endog=[soya[\"grain\"], soya[\"seeds\"], soya[\"viablePeas\"]],\n",
    "    exog=[X, X, X],\n",
    "    z=[[mc_id(soya)], [mc_id(soya)], [mc_id(soya)]],\n",
    "    link=[\"identity\", \"log\", \"logit\"],\n",
    "    variance=[\"constant\", \"tweedie\", \"binomialP\"],\n",
    "    ntrial=[None, None, soya[\"totalpeas\"].values],\n",
    ")\n",
    "\n",
    "\n",
    "mcglmresults = mcglm.fit()"
   ]
  },
  {
   "cell_type": "code",
   "execution_count": 45,
   "metadata": {},
   "outputs": [
    {
     "data": {
      "text/html": [
       "<table class=\"simpletable\">\n",
       "<caption>Multivariate Covariance Generalized Linear Model</caption>\n",
       "<tr>\n",
       "  <th>Dep. Variable:</th>       <td>grain</td>      <th>  No. Iterations:    </th>    <td>10</td>    \n",
       "</tr>\n",
       "<tr>\n",
       "  <th>Model:</th>               <td>MCGLM</td>      <th>  No. Observations:  </th>    <td>75</td>    \n",
       "</tr>\n",
       "<tr>\n",
       "  <th>link:</th>              <td>identity</td>     <th>  Df Residuals:      </th>    <td>55</td>    \n",
       "</tr>\n",
       "<tr>\n",
       "  <th>variance:</th>          <td>constant</td>     <th>  Df Model:          </th>    <td>20</td>    \n",
       "</tr>\n",
       "<tr>\n",
       "  <th>Method:</th>        <td>Quasi-Likelihood</td> <th>  Power-fixed:       </th>   <td>True</td>   \n",
       "</tr>\n",
       "<tr>\n",
       "  <th>Date:</th>          <td>Thu, 08 Sep 2022</td> <th>  pAIC               </th>  <td>448.21</td>  \n",
       "</tr>\n",
       "<tr>\n",
       "  <th>Time:</th>              <td>20:56:33</td>     <th>  pBIC               </th>  <td>516.53</td>  \n",
       "</tr>\n",
       "<tr>\n",
       "  <th> </th>                      <td> </td>        <th>  pLogLik            </th> <td>-204.1064</td>\n",
       "</tr>\n",
       "</table>\n",
       "<table class=\"simpletable\">\n",
       "<tr>\n",
       "              <td></td>                <th>coef</th>     <th>std err</th>      <th>z</th>      <th>P>|z|</th>  <th>[0.025</th>    <th>0.975]</th>  \n",
       "</tr>\n",
       "<tr>\n",
       "  <th>Intercept</th>                <td>   14.2456</td> <td>    1.218</td> <td>   11.699</td> <td> 0.000</td> <td>   11.859</td> <td>   16.632</td>\n",
       "</tr>\n",
       "<tr>\n",
       "  <th>block[T.II]</th>              <td>    1.1324</td> <td>    0.880</td> <td>    1.286</td> <td> 0.198</td> <td>   -0.593</td> <td>    2.858</td>\n",
       "</tr>\n",
       "<tr>\n",
       "  <th>block[T.III]</th>             <td>   -0.7801</td> <td>    0.880</td> <td>   -0.886</td> <td> 0.376</td> <td>   -2.506</td> <td>    0.946</td>\n",
       "</tr>\n",
       "<tr>\n",
       "  <th>block[T.IV]</th>              <td>   -1.5492</td> <td>    0.880</td> <td>   -1.760</td> <td> 0.078</td> <td>   -3.275</td> <td>    0.176</td>\n",
       "</tr>\n",
       "<tr>\n",
       "  <th>block[T.V]</th>               <td>   -2.3871</td> <td>    0.880</td> <td>   -2.711</td> <td> 0.007</td> <td>   -4.113</td> <td>   -0.661</td>\n",
       "</tr>\n",
       "<tr>\n",
       "  <th>water[T.50]</th>              <td>    2.1661</td> <td>    1.531</td> <td>    1.415</td> <td> 0.157</td> <td>   -0.835</td> <td>    5.167</td>\n",
       "</tr>\n",
       "<tr>\n",
       "  <th>water[T.62.5]</th>            <td>    2.5404</td> <td>    1.531</td> <td>    1.659</td> <td> 0.097</td> <td>   -0.460</td> <td>    5.541</td>\n",
       "</tr>\n",
       "<tr>\n",
       "  <th>pot[T.120]</th>               <td>   11.7898</td> <td>    1.531</td> <td>    7.701</td> <td> 0.000</td> <td>    8.789</td> <td>   14.790</td>\n",
       "</tr>\n",
       "<tr>\n",
       "  <th>pot[T.180]</th>               <td>   11.8633</td> <td>    1.531</td> <td>    7.749</td> <td> 0.000</td> <td>    8.863</td> <td>   14.864</td>\n",
       "</tr>\n",
       "<tr>\n",
       "  <th>pot[T.30]</th>                <td>    6.7895</td> <td>    1.531</td> <td>    4.435</td> <td> 0.000</td> <td>    3.789</td> <td>    9.790</td>\n",
       "</tr>\n",
       "<tr>\n",
       "  <th>pot[T.60]</th>                <td>   10.3978</td> <td>    1.531</td> <td>    6.792</td> <td> 0.000</td> <td>    7.397</td> <td>   13.399</td>\n",
       "</tr>\n",
       "<tr>\n",
       "  <th>water[T.50]:pot[T.120]</th>   <td>    2.2543</td> <td>    2.165</td> <td>    1.041</td> <td> 0.298</td> <td>   -1.989</td> <td>    6.498</td>\n",
       "</tr>\n",
       "<tr>\n",
       "  <th>water[T.62.5]:pot[T.120]</th> <td>    5.5828</td> <td>    2.165</td> <td>    2.578</td> <td> 0.010</td> <td>    1.339</td> <td>    9.826</td>\n",
       "</tr>\n",
       "<tr>\n",
       "  <th>water[T.50]:pot[T.180]</th>   <td>    1.2096</td> <td>    2.165</td> <td>    0.559</td> <td> 0.576</td> <td>   -3.034</td> <td>    5.453</td>\n",
       "</tr>\n",
       "<tr>\n",
       "  <th>water[T.62.5]:pot[T.180]</th> <td>    9.2389</td> <td>    2.165</td> <td>    4.267</td> <td> 0.000</td> <td>    4.995</td> <td>   13.483</td>\n",
       "</tr>\n",
       "<tr>\n",
       "  <th>water[T.50]:pot[T.30]</th>    <td>    0.1067</td> <td>    2.165</td> <td>    0.049</td> <td> 0.961</td> <td>   -4.137</td> <td>    4.350</td>\n",
       "</tr>\n",
       "<tr>\n",
       "  <th>water[T.62.5]:pot[T.30]</th>  <td>   -1.8678</td> <td>    2.165</td> <td>   -0.863</td> <td> 0.388</td> <td>   -6.112</td> <td>    2.376</td>\n",
       "</tr>\n",
       "<tr>\n",
       "  <th>water[T.50]:pot[T.60]</th>    <td>    2.6034</td> <td>    2.165</td> <td>    1.202</td> <td> 0.229</td> <td>   -1.640</td> <td>    6.847</td>\n",
       "</tr>\n",
       "<tr>\n",
       "  <th>water[T.62.5]:pot[T.60]</th>  <td>    3.3586</td> <td>    2.165</td> <td>    1.551</td> <td> 0.121</td> <td>   -0.885</td> <td>    7.602</td>\n",
       "</tr>\n",
       "</table>\n",
       "<table class=\"simpletable\">\n",
       "<tr>\n",
       "        <td></td>          <th>coef</th>     <th>std err</th>      <th>z</th>      <th>P>|z|</th>  <th>[0.025</th>    <th>0.975]</th>  \n",
       "</tr>\n",
       "<tr>\n",
       "  <th>dispersion_1</th> <td>    5.8620</td> <td>    1.671</td> <td>    3.508</td> <td> 0.000</td> <td>    2.587</td> <td>    9.137</td>\n",
       "</tr>\n",
       "</table>\n",
       "<table class=\"simpletable\">\n",
       "<tr>\n",
       "     <td></td>       <th>coef</th>     <th>std err</th>      <th>z</th>      <th>P>|z|</th>  <th>[0.025</th>    <th>0.975]</th>  \n",
       "</tr>\n",
       "<tr>\n",
       "  <th>power_</th> <td>    1.0000</td> <td>      nan</td> <td>      nan</td> <td>   nan</td> <td>      nan</td> <td>      nan</td>\n",
       "</tr>\n",
       "</table>\n",
       "<table class=\"simpletable\">\n",
       "<caption>Multivariate Covariance Generalized Linear Model</caption>\n",
       "<tr>\n",
       "  <th>Dep. Variable:</th>       <td>seeds</td>      <th>  No. Iterations:    </th>    <td>10</td>    \n",
       "</tr>\n",
       "<tr>\n",
       "  <th>Model:</th>               <td>MCGLM</td>      <th>  No. Observations:  </th>    <td>75</td>    \n",
       "</tr>\n",
       "<tr>\n",
       "  <th>link:</th>                 <td>log</td>       <th>  Df Residuals:      </th>    <td>55</td>    \n",
       "</tr>\n",
       "<tr>\n",
       "  <th>variance:</th>           <td>tweedie</td>     <th>  Df Model:          </th>    <td>20</td>    \n",
       "</tr>\n",
       "<tr>\n",
       "  <th>Method:</th>        <td>Quasi-Likelihood</td> <th>  Power-fixed:       </th>   <td>True</td>   \n",
       "</tr>\n",
       "<tr>\n",
       "  <th>Date:</th>          <td>Thu, 08 Sep 2022</td> <th>  pAIC               </th>  <td>448.21</td>  \n",
       "</tr>\n",
       "<tr>\n",
       "  <th>Time:</th>              <td>20:56:33</td>     <th>  pBIC               </th>  <td>516.53</td>  \n",
       "</tr>\n",
       "<tr>\n",
       "  <th> </th>                      <td> </td>        <th>  pLogLik            </th> <td>-204.1064</td>\n",
       "</tr>\n",
       "</table>\n",
       "<table class=\"simpletable\">\n",
       "<tr>\n",
       "              <td></td>                <th>coef</th>     <th>std err</th>      <th>z</th>      <th>P>|z|</th>  <th>[0.025</th>    <th>0.975]</th>  \n",
       "</tr>\n",
       "<tr>\n",
       "  <th>Intercept</th>                <td>    4.8074</td> <td>    0.066</td> <td>   73.099</td> <td> 0.000</td> <td>    4.679</td> <td>    4.936</td>\n",
       "</tr>\n",
       "<tr>\n",
       "  <th>block[T.II]</th>              <td>   -0.0182</td> <td>    0.039</td> <td>   -0.469</td> <td> 0.639</td> <td>   -0.094</td> <td>    0.058</td>\n",
       "</tr>\n",
       "<tr>\n",
       "  <th>block[T.III]</th>             <td>   -0.0330</td> <td>    0.039</td> <td>   -0.845</td> <td> 0.398</td> <td>   -0.110</td> <td>    0.044</td>\n",
       "</tr>\n",
       "<tr>\n",
       "  <th>block[T.IV]</th>              <td>   -0.1066</td> <td>    0.040</td> <td>   -2.678</td> <td> 0.007</td> <td>   -0.185</td> <td>   -0.029</td>\n",
       "</tr>\n",
       "<tr>\n",
       "  <th>block[T.V]</th>               <td>   -0.1262</td> <td>    0.040</td> <td>   -3.154</td> <td> 0.002</td> <td>   -0.205</td> <td>   -0.048</td>\n",
       "</tr>\n",
       "<tr>\n",
       "  <th>water[T.50]</th>              <td>    0.1322</td> <td>    0.084</td> <td>    1.579</td> <td> 0.114</td> <td>   -0.032</td> <td>    0.296</td>\n",
       "</tr>\n",
       "<tr>\n",
       "  <th>water[T.62.5]</th>            <td>    0.1864</td> <td>    0.083</td> <td>    2.255</td> <td> 0.024</td> <td>    0.024</td> <td>    0.348</td>\n",
       "</tr>\n",
       "<tr>\n",
       "  <th>pot[T.120]</th>               <td>    0.3672</td> <td>    0.079</td> <td>    4.620</td> <td> 0.000</td> <td>    0.211</td> <td>    0.523</td>\n",
       "</tr>\n",
       "<tr>\n",
       "  <th>pot[T.180]</th>               <td>    0.2945</td> <td>    0.081</td> <td>    3.649</td> <td> 0.000</td> <td>    0.136</td> <td>    0.453</td>\n",
       "</tr>\n",
       "<tr>\n",
       "  <th>pot[T.30]</th>                <td>    0.2980</td> <td>    0.081</td> <td>    3.695</td> <td> 0.000</td> <td>    0.140</td> <td>    0.456</td>\n",
       "</tr>\n",
       "<tr>\n",
       "  <th>pot[T.60]</th>                <td>    0.3444</td> <td>    0.080</td> <td>    4.312</td> <td> 0.000</td> <td>    0.188</td> <td>    0.501</td>\n",
       "</tr>\n",
       "<tr>\n",
       "  <th>water[T.50]:pot[T.120]</th>   <td>    0.1159</td> <td>    0.108</td> <td>    1.076</td> <td> 0.282</td> <td>   -0.095</td> <td>    0.327</td>\n",
       "</tr>\n",
       "<tr>\n",
       "  <th>water[T.62.5]:pot[T.120]</th> <td>    0.0698</td> <td>    0.107</td> <td>    0.653</td> <td> 0.514</td> <td>   -0.140</td> <td>    0.279</td>\n",
       "</tr>\n",
       "<tr>\n",
       "  <th>water[T.50]:pot[T.180]</th>   <td>    0.2905</td> <td>    0.108</td> <td>    2.697</td> <td> 0.007</td> <td>    0.079</td> <td>    0.502</td>\n",
       "</tr>\n",
       "<tr>\n",
       "  <th>water[T.62.5]:pot[T.180]</th> <td>    0.2166</td> <td>    0.107</td> <td>    2.022</td> <td> 0.043</td> <td>    0.007</td> <td>    0.426</td>\n",
       "</tr>\n",
       "<tr>\n",
       "  <th>water[T.50]:pot[T.30]</th>    <td>    0.0425</td> <td>    0.110</td> <td>    0.386</td> <td> 0.699</td> <td>   -0.173</td> <td>    0.258</td>\n",
       "</tr>\n",
       "<tr>\n",
       "  <th>water[T.62.5]:pot[T.30]</th>  <td>   -0.1372</td> <td>    0.111</td> <td>   -1.241</td> <td> 0.215</td> <td>   -0.354</td> <td>    0.080</td>\n",
       "</tr>\n",
       "<tr>\n",
       "  <th>water[T.50]:pot[T.60]</th>    <td>    0.1161</td> <td>    0.108</td> <td>    1.073</td> <td> 0.283</td> <td>   -0.096</td> <td>    0.328</td>\n",
       "</tr>\n",
       "<tr>\n",
       "  <th>water[T.62.5]:pot[T.60]</th>  <td>    0.0902</td> <td>    0.107</td> <td>    0.842</td> <td> 0.400</td> <td>   -0.120</td> <td>    0.300</td>\n",
       "</tr>\n",
       "</table>\n",
       "<table class=\"simpletable\">\n",
       "<tr>\n",
       "        <td></td>          <th>coef</th>     <th>std err</th>      <th>z</th>      <th>P>|z|</th>  <th>[0.025</th>    <th>0.975]</th>  \n",
       "</tr>\n",
       "<tr>\n",
       "  <th>dispersion_1</th> <td>    2.1620</td> <td>    0.429</td> <td>    5.035</td> <td> 0.000</td> <td>    1.320</td> <td>    3.004</td>\n",
       "</tr>\n",
       "</table>\n",
       "<table class=\"simpletable\">\n",
       "<tr>\n",
       "     <td></td>       <th>coef</th>     <th>std err</th>      <th>z</th>      <th>P>|z|</th>  <th>[0.025</th>    <th>0.975]</th>  \n",
       "</tr>\n",
       "<tr>\n",
       "  <th>power_</th> <td>    1.0000</td> <td>      nan</td> <td>      nan</td> <td>   nan</td> <td>      nan</td> <td>      nan</td>\n",
       "</tr>\n",
       "</table>\n",
       "<table class=\"simpletable\">\n",
       "<caption>Multivariate Covariance Generalized Linear Model</caption>\n",
       "<tr>\n",
       "  <th>Dep. Variable:</th>    <td>viablePeas</td>    <th>  No. Iterations:    </th>    <td>10</td>    \n",
       "</tr>\n",
       "<tr>\n",
       "  <th>Model:</th>               <td>MCGLM</td>      <th>  No. Observations:  </th>    <td>75</td>    \n",
       "</tr>\n",
       "<tr>\n",
       "  <th>link:</th>                <td>logit</td>      <th>  Df Residuals:      </th>    <td>55</td>    \n",
       "</tr>\n",
       "<tr>\n",
       "  <th>variance:</th>          <td>binomialP</td>    <th>  Df Model:          </th>    <td>20</td>    \n",
       "</tr>\n",
       "<tr>\n",
       "  <th>Method:</th>        <td>Quasi-Likelihood</td> <th>  Power-fixed:       </th>   <td>True</td>   \n",
       "</tr>\n",
       "<tr>\n",
       "  <th>Date:</th>          <td>Thu, 08 Sep 2022</td> <th>  pAIC               </th>  <td>448.21</td>  \n",
       "</tr>\n",
       "<tr>\n",
       "  <th>Time:</th>              <td>20:56:33</td>     <th>  pBIC               </th>  <td>516.53</td>  \n",
       "</tr>\n",
       "<tr>\n",
       "  <th> </th>                      <td> </td>        <th>  pLogLik            </th> <td>-204.1064</td>\n",
       "</tr>\n",
       "</table>\n",
       "<table class=\"simpletable\">\n",
       "<tr>\n",
       "              <td></td>                <th>coef</th>     <th>std err</th>      <th>z</th>      <th>P>|z|</th>  <th>[0.025</th>    <th>0.975]</th>  \n",
       "</tr>\n",
       "<tr>\n",
       "  <th>Intercept</th>                <td>   -0.8360</td> <td>    0.197</td> <td>   -4.242</td> <td> 0.000</td> <td>   -1.222</td> <td>   -0.450</td>\n",
       "</tr>\n",
       "<tr>\n",
       "  <th>block[T.II]</th>              <td>   -0.4383</td> <td>    0.188</td> <td>   -2.329</td> <td> 0.020</td> <td>   -0.807</td> <td>   -0.070</td>\n",
       "</tr>\n",
       "<tr>\n",
       "  <th>block[T.III]</th>             <td>   -0.1671</td> <td>    0.183</td> <td>   -0.914</td> <td> 0.361</td> <td>   -0.525</td> <td>    0.191</td>\n",
       "</tr>\n",
       "<tr>\n",
       "  <th>block[T.IV]</th>              <td>   -0.1877</td> <td>    0.183</td> <td>   -1.023</td> <td> 0.306</td> <td>   -0.547</td> <td>    0.172</td>\n",
       "</tr>\n",
       "<tr>\n",
       "  <th>block[T.V]</th>               <td>   -0.2926</td> <td>    0.187</td> <td>   -1.564</td> <td> 0.118</td> <td>   -0.659</td> <td>    0.074</td>\n",
       "</tr>\n",
       "<tr>\n",
       "  <th>water[T.50]</th>              <td>    0.5675</td> <td>    0.218</td> <td>    2.604</td> <td> 0.009</td> <td>    0.140</td> <td>    0.995</td>\n",
       "</tr>\n",
       "<tr>\n",
       "  <th>water[T.62.5]</th>            <td>    0.2414</td> <td>    0.219</td> <td>    1.102</td> <td> 0.271</td> <td>   -0.188</td> <td>    0.671</td>\n",
       "</tr>\n",
       "<tr>\n",
       "  <th>pot[T.120]</th>               <td>   -3.3915</td> <td>    0.597</td> <td>   -5.682</td> <td> 0.000</td> <td>   -4.561</td> <td>   -2.222</td>\n",
       "</tr>\n",
       "<tr>\n",
       "  <th>pot[T.180]</th>               <td>   -3.6309</td> <td>    0.685</td> <td>   -5.300</td> <td> 0.000</td> <td>   -4.974</td> <td>   -2.288</td>\n",
       "</tr>\n",
       "<tr>\n",
       "  <th>pot[T.30]</th>                <td>   -1.8455</td> <td>    0.329</td> <td>   -5.601</td> <td> 0.000</td> <td>   -2.491</td> <td>   -1.200</td>\n",
       "</tr>\n",
       "<tr>\n",
       "  <th>pot[T.60]</th>                <td>   -3.1518</td> <td>    0.541</td> <td>   -5.826</td> <td> 0.000</td> <td>   -4.212</td> <td>   -2.091</td>\n",
       "</tr>\n",
       "<tr>\n",
       "  <th>water[T.50]:pot[T.120]</th>   <td>    0.6881</td> <td>    0.672</td> <td>    1.024</td> <td> 0.306</td> <td>   -0.629</td> <td>    2.005</td>\n",
       "</tr>\n",
       "<tr>\n",
       "  <th>water[T.62.5]:pot[T.120]</th> <td>   -0.8358</td> <td>    0.910</td> <td>   -0.918</td> <td> 0.358</td> <td>   -2.620</td> <td>    0.948</td>\n",
       "</tr>\n",
       "<tr>\n",
       "  <th>water[T.50]:pot[T.180]</th>   <td>    1.2730</td> <td>    0.735</td> <td>    1.732</td> <td> 0.083</td> <td>   -0.167</td> <td>    2.713</td>\n",
       "</tr>\n",
       "<tr>\n",
       "  <th>water[T.62.5]:pot[T.180]</th> <td>    0.0683</td> <td>    0.842</td> <td>    0.081</td> <td> 0.935</td> <td>   -1.581</td> <td>    1.718</td>\n",
       "</tr>\n",
       "<tr>\n",
       "  <th>water[T.50]:pot[T.30]</th>    <td>   -0.2773</td> <td>    0.425</td> <td>   -0.653</td> <td> 0.514</td> <td>   -1.110</td> <td>    0.555</td>\n",
       "</tr>\n",
       "<tr>\n",
       "  <th>water[T.62.5]:pot[T.30]</th>  <td>    0.8046</td> <td>    0.400</td> <td>    2.013</td> <td> 0.044</td> <td>    0.021</td> <td>    1.588</td>\n",
       "</tr>\n",
       "<tr>\n",
       "  <th>water[T.50]:pot[T.60]</th>    <td>    0.4598</td> <td>    0.622</td> <td>    0.739</td> <td> 0.460</td> <td>   -0.760</td> <td>    1.680</td>\n",
       "</tr>\n",
       "<tr>\n",
       "  <th>water[T.62.5]:pot[T.60]</th>  <td>    0.6312</td> <td>    0.630</td> <td>    1.002</td> <td> 0.316</td> <td>   -0.604</td> <td>    1.866</td>\n",
       "</tr>\n",
       "</table>\n",
       "<table class=\"simpletable\">\n",
       "<tr>\n",
       "        <td></td>          <th>coef</th>     <th>std err</th>      <th>z</th>      <th>P>|z|</th>  <th>[0.025</th>    <th>0.975]</th>  \n",
       "</tr>\n",
       "<tr>\n",
       "  <th>dispersion_1</th> <td>    1.2970</td> <td>    0.245</td> <td>    5.293</td> <td> 0.000</td> <td>    0.817</td> <td>    1.777</td>\n",
       "</tr>\n",
       "</table>\n",
       "<table class=\"simpletable\">\n",
       "<tr>\n",
       "     <td></td>       <th>coef</th>     <th>std err</th>      <th>z</th>      <th>P>|z|</th>  <th>[0.025</th>    <th>0.975]</th>  \n",
       "</tr>\n",
       "<tr>\n",
       "  <th>power_</th> <td>    1.0000</td> <td>      nan</td> <td>      nan</td> <td>   nan</td> <td>      nan</td> <td>      nan</td>\n",
       "</tr>\n",
       "</table>\n",
       "<table class=\"simpletable\">\n",
       "<tr>\n",
       "    <td></td>       <th>coef</th>     <th>std err</th>      <th>z</th>      <th>P>|z|</th>  <th>[0.025</th>    <th>0.975]</th>  \n",
       "</tr>\n",
       "<tr>\n",
       "  <th>rho_1</th> <td>    0.6368</td> <td>    0.107</td> <td>    5.928</td> <td> 0.000</td> <td>    0.426</td> <td>    0.847</td>\n",
       "</tr>\n",
       "<tr>\n",
       "  <th>rho_2</th> <td>    0.0695</td> <td>    0.115</td> <td>    0.603</td> <td> 0.546</td> <td>   -0.156</td> <td>    0.295</td>\n",
       "</tr>\n",
       "<tr>\n",
       "  <th>rho_3</th> <td>    0.0878</td> <td>    0.115</td> <td>    0.765</td> <td> 0.444</td> <td>   -0.137</td> <td>    0.313</td>\n",
       "</tr>\n",
       "</table>"
      ],
      "text/plain": [
       "<class 'statsmodels.iolib.summary.Summary'>\n",
       "\"\"\"\n",
       "               Multivariate Covariance Generalized Linear Model               \n",
       "==============================================================================\n",
       "Dep. Variable:                  grain   No. Iterations:                     10\n",
       "Model:                          MCGLM   No. Observations:                   75\n",
       "link:                        identity   Df Residuals:                       55\n",
       "variance:                    constant   Df Model:                           20\n",
       "Method:              Quasi-Likelihood   Power-fixed:                      True\n",
       "Date:                Thu, 08 Sep 2022   pAIC                            448.21\n",
       "Time:                        20:56:33   pBIC                            516.53\n",
       "                                        pLogLik                      -204.1064\n",
       "============================================================================================\n",
       "                               coef    std err          z      P>|z|      [0.025      0.975]\n",
       "--------------------------------------------------------------------------------------------\n",
       "Intercept                   14.2456      1.218     11.699      0.000      11.859      16.632\n",
       "block[T.II]                  1.1324      0.880      1.286      0.198      -0.593       2.858\n",
       "block[T.III]                -0.7801      0.880     -0.886      0.376      -2.506       0.946\n",
       "block[T.IV]                 -1.5492      0.880     -1.760      0.078      -3.275       0.176\n",
       "block[T.V]                  -2.3871      0.880     -2.711      0.007      -4.113      -0.661\n",
       "water[T.50]                  2.1661      1.531      1.415      0.157      -0.835       5.167\n",
       "water[T.62.5]                2.5404      1.531      1.659      0.097      -0.460       5.541\n",
       "pot[T.120]                  11.7898      1.531      7.701      0.000       8.789      14.790\n",
       "pot[T.180]                  11.8633      1.531      7.749      0.000       8.863      14.864\n",
       "pot[T.30]                    6.7895      1.531      4.435      0.000       3.789       9.790\n",
       "pot[T.60]                   10.3978      1.531      6.792      0.000       7.397      13.399\n",
       "water[T.50]:pot[T.120]       2.2543      2.165      1.041      0.298      -1.989       6.498\n",
       "water[T.62.5]:pot[T.120]     5.5828      2.165      2.578      0.010       1.339       9.826\n",
       "water[T.50]:pot[T.180]       1.2096      2.165      0.559      0.576      -3.034       5.453\n",
       "water[T.62.5]:pot[T.180]     9.2389      2.165      4.267      0.000       4.995      13.483\n",
       "water[T.50]:pot[T.30]        0.1067      2.165      0.049      0.961      -4.137       4.350\n",
       "water[T.62.5]:pot[T.30]     -1.8678      2.165     -0.863      0.388      -6.112       2.376\n",
       "water[T.50]:pot[T.60]        2.6034      2.165      1.202      0.229      -1.640       6.847\n",
       "water[T.62.5]:pot[T.60]      3.3586      2.165      1.551      0.121      -0.885       7.602\n",
       "================================================================================\n",
       "                   coef    std err          z      P>|z|      [0.025      0.975]\n",
       "--------------------------------------------------------------------------------\n",
       "dispersion_1     5.8620      1.671      3.508      0.000       2.587       9.137\n",
       "==============================================================================\n",
       "                 coef    std err          z      P>|z|      [0.025      0.975]\n",
       "------------------------------------------------------------------------------\n",
       "power_         1.0000        nan        nan        nan         nan         nan\n",
       "               Multivariate Covariance Generalized Linear Model               \n",
       "==============================================================================\n",
       "Dep. Variable:                  seeds   No. Iterations:                     10\n",
       "Model:                          MCGLM   No. Observations:                   75\n",
       "link:                             log   Df Residuals:                       55\n",
       "variance:                     tweedie   Df Model:                           20\n",
       "Method:              Quasi-Likelihood   Power-fixed:                      True\n",
       "Date:                Thu, 08 Sep 2022   pAIC                            448.21\n",
       "Time:                        20:56:33   pBIC                            516.53\n",
       "                                        pLogLik                      -204.1064\n",
       "============================================================================================\n",
       "                               coef    std err          z      P>|z|      [0.025      0.975]\n",
       "--------------------------------------------------------------------------------------------\n",
       "Intercept                    4.8074      0.066     73.099      0.000       4.679       4.936\n",
       "block[T.II]                 -0.0182      0.039     -0.469      0.639      -0.094       0.058\n",
       "block[T.III]                -0.0330      0.039     -0.845      0.398      -0.110       0.044\n",
       "block[T.IV]                 -0.1066      0.040     -2.678      0.007      -0.185      -0.029\n",
       "block[T.V]                  -0.1262      0.040     -3.154      0.002      -0.205      -0.048\n",
       "water[T.50]                  0.1322      0.084      1.579      0.114      -0.032       0.296\n",
       "water[T.62.5]                0.1864      0.083      2.255      0.024       0.024       0.348\n",
       "pot[T.120]                   0.3672      0.079      4.620      0.000       0.211       0.523\n",
       "pot[T.180]                   0.2945      0.081      3.649      0.000       0.136       0.453\n",
       "pot[T.30]                    0.2980      0.081      3.695      0.000       0.140       0.456\n",
       "pot[T.60]                    0.3444      0.080      4.312      0.000       0.188       0.501\n",
       "water[T.50]:pot[T.120]       0.1159      0.108      1.076      0.282      -0.095       0.327\n",
       "water[T.62.5]:pot[T.120]     0.0698      0.107      0.653      0.514      -0.140       0.279\n",
       "water[T.50]:pot[T.180]       0.2905      0.108      2.697      0.007       0.079       0.502\n",
       "water[T.62.5]:pot[T.180]     0.2166      0.107      2.022      0.043       0.007       0.426\n",
       "water[T.50]:pot[T.30]        0.0425      0.110      0.386      0.699      -0.173       0.258\n",
       "water[T.62.5]:pot[T.30]     -0.1372      0.111     -1.241      0.215      -0.354       0.080\n",
       "water[T.50]:pot[T.60]        0.1161      0.108      1.073      0.283      -0.096       0.328\n",
       "water[T.62.5]:pot[T.60]      0.0902      0.107      0.842      0.400      -0.120       0.300\n",
       "================================================================================\n",
       "                   coef    std err          z      P>|z|      [0.025      0.975]\n",
       "--------------------------------------------------------------------------------\n",
       "dispersion_1     2.1620      0.429      5.035      0.000       1.320       3.004\n",
       "==============================================================================\n",
       "                 coef    std err          z      P>|z|      [0.025      0.975]\n",
       "------------------------------------------------------------------------------\n",
       "power_         1.0000        nan        nan        nan         nan         nan\n",
       "               Multivariate Covariance Generalized Linear Model               \n",
       "==============================================================================\n",
       "Dep. Variable:             viablePeas   No. Iterations:                     10\n",
       "Model:                          MCGLM   No. Observations:                   75\n",
       "link:                           logit   Df Residuals:                       55\n",
       "variance:                   binomialP   Df Model:                           20\n",
       "Method:              Quasi-Likelihood   Power-fixed:                      True\n",
       "Date:                Thu, 08 Sep 2022   pAIC                            448.21\n",
       "Time:                        20:56:33   pBIC                            516.53\n",
       "                                        pLogLik                      -204.1064\n",
       "============================================================================================\n",
       "                               coef    std err          z      P>|z|      [0.025      0.975]\n",
       "--------------------------------------------------------------------------------------------\n",
       "Intercept                   -0.8360      0.197     -4.242      0.000      -1.222      -0.450\n",
       "block[T.II]                 -0.4383      0.188     -2.329      0.020      -0.807      -0.070\n",
       "block[T.III]                -0.1671      0.183     -0.914      0.361      -0.525       0.191\n",
       "block[T.IV]                 -0.1877      0.183     -1.023      0.306      -0.547       0.172\n",
       "block[T.V]                  -0.2926      0.187     -1.564      0.118      -0.659       0.074\n",
       "water[T.50]                  0.5675      0.218      2.604      0.009       0.140       0.995\n",
       "water[T.62.5]                0.2414      0.219      1.102      0.271      -0.188       0.671\n",
       "pot[T.120]                  -3.3915      0.597     -5.682      0.000      -4.561      -2.222\n",
       "pot[T.180]                  -3.6309      0.685     -5.300      0.000      -4.974      -2.288\n",
       "pot[T.30]                   -1.8455      0.329     -5.601      0.000      -2.491      -1.200\n",
       "pot[T.60]                   -3.1518      0.541     -5.826      0.000      -4.212      -2.091\n",
       "water[T.50]:pot[T.120]       0.6881      0.672      1.024      0.306      -0.629       2.005\n",
       "water[T.62.5]:pot[T.120]    -0.8358      0.910     -0.918      0.358      -2.620       0.948\n",
       "water[T.50]:pot[T.180]       1.2730      0.735      1.732      0.083      -0.167       2.713\n",
       "water[T.62.5]:pot[T.180]     0.0683      0.842      0.081      0.935      -1.581       1.718\n",
       "water[T.50]:pot[T.30]       -0.2773      0.425     -0.653      0.514      -1.110       0.555\n",
       "water[T.62.5]:pot[T.30]      0.8046      0.400      2.013      0.044       0.021       1.588\n",
       "water[T.50]:pot[T.60]        0.4598      0.622      0.739      0.460      -0.760       1.680\n",
       "water[T.62.5]:pot[T.60]      0.6312      0.630      1.002      0.316      -0.604       1.866\n",
       "================================================================================\n",
       "                   coef    std err          z      P>|z|      [0.025      0.975]\n",
       "--------------------------------------------------------------------------------\n",
       "dispersion_1     1.2970      0.245      5.293      0.000       0.817       1.777\n",
       "==============================================================================\n",
       "                 coef    std err          z      P>|z|      [0.025      0.975]\n",
       "------------------------------------------------------------------------------\n",
       "power_         1.0000        nan        nan        nan         nan         nan\n",
       "==============================================================================\n",
       "                 coef    std err          z      P>|z|      [0.025      0.975]\n",
       "------------------------------------------------------------------------------\n",
       "rho_1          0.6368      0.107      5.928      0.000       0.426       0.847\n",
       "rho_2          0.0695      0.115      0.603      0.546      -0.156       0.295\n",
       "rho_3          0.0878      0.115      0.765      0.444      -0.137       0.313\n",
       "==============================================================================\n",
       "\"\"\""
      ]
     },
     "execution_count": 45,
     "metadata": {},
     "output_type": "execute_result"
    }
   ],
   "source": [
    "mcglmresults.summary()"
   ]
  },
  {
   "cell_type": "markdown",
   "metadata": {},
   "source": [
    "The three responses have generated a three-section report. As it follows, a analysis per response.\n",
    "\n",
    "---\n",
    "`grain` size.\n",
    "\n",
    "The grain response was fitted with default parameters, `identity` and `constant`, generating a near homoscedastic linear model. Among covariates `block`, `water` and `potassium`, by Wald test, potassium levels are statistically significant for the model; the higher potassium level, bigger grain size. Variance constant on 5.862.   \n",
    "\n",
    "Residual analysis:"
   ]
  },
  {
   "cell_type": "code",
   "execution_count": 46,
   "metadata": {},
   "outputs": [
    {
     "data": {
      "text/plain": [
       "Text(0, 0.5, 'pearson residual')"
      ]
     },
     "execution_count": 46,
     "metadata": {},
     "output_type": "execute_result"
    },
    {
     "data": {
      "image/png": "[encoded data removed]",
      "text/plain": [
       "<Figure size 432x288 with 1 Axes>"
      ]
     },
     "metadata": {
      "needs_background": "light"
     },
     "output_type": "display_data"
    }
   ],
   "source": [
    "# grain. residual analysis\n",
    "plt.scatter(mcglmresults.mu[0], mcglmresults.pearson_residuals[0])\n",
    "plt.xlabel(\"mu\")\n",
    "plt.ylabel(\"pearson residual\")"
   ]
  },
  {
   "cell_type": "markdown",
   "metadata": {},
   "source": [
    "Despite the outlier, the fit seems pretty good."
   ]
  },
  {
   "cell_type": "markdown",
   "metadata": {},
   "source": [
    "---\n",
    "`seed` count.\n",
    "\n",
    "As long as seed is a count variable, a straightforward and canonical way to model it is Poisson. Two out of three covariates are statistically significant on `seed`: potassium, for every level; and black for level V.\n",
    "\n",
    "Residual analysis:"
   ]
  },
  {
   "cell_type": "code",
   "execution_count": 47,
   "metadata": {},
   "outputs": [
    {
     "data": {
      "text/plain": [
       "Text(0, 0.5, 'pearson residual')"
      ]
     },
     "execution_count": 47,
     "metadata": {},
     "output_type": "execute_result"
    },
    {
     "data": {
      "image/png": "[encoded data removed]",
      "text/plain": [
       "<Figure size 432x288 with 1 Axes>"
      ]
     },
     "metadata": {
      "needs_background": "light"
     },
     "output_type": "display_data"
    }
   ],
   "source": [
    "# seeds. residual analysis\n",
    "plt.scatter(mcglmresults.mu[1], mcglmresults.pearson_residuals[1])\n",
    "plt.xlabel(\"mu\")\n",
    "plt.ylabel(\"pearson residual\")"
   ]
  },
  {
   "cell_type": "markdown",
   "metadata": {},
   "source": [
    "Notwithstanding the outlier, the fit seems pretty good.\n",
    "\n",
    "---\n",
    "Percentage of `viable peas`.\n",
    "\n",
    "Binomial N trials is the adequate model for bounded data. Perhaps, the most popular solution to fit is the `Logit` link, the one used. Among covariates, only potassium level 30, and water level 50 are statistically significant with Viable Peas.\n",
    "\n",
    "Residual Analysis:"
   ]
  },
  {
   "cell_type": "code",
   "execution_count": 48,
   "metadata": {},
   "outputs": [
    {
     "data": {
      "text/plain": [
       "Text(0, 0.5, 'pearson residual')"
      ]
     },
     "execution_count": 48,
     "metadata": {},
     "output_type": "execute_result"
    },
    {
     "data": {
      "image/png": "[encoded data removed]",
      "text/plain": [
       "<Figure size 432x288 with 1 Axes>"
      ]
     },
     "metadata": {
      "needs_background": "light"
     },
     "output_type": "display_data"
    }
   ],
   "source": [
    "# viablepeasP. residual analysis\n",
    "plt.scatter(mcglmresults.mu[2], mcglmresults.pearson_residuals[2])\n",
    "plt.xlabel(\"mu\")\n",
    "plt.ylabel(\"pearson residual\")"
   ]
  },
  {
   "cell_type": "markdown",
   "metadata": {},
   "source": [
    "The model has not fitted well. It is possible to try out different values for link and variance functions. Suppose it does not improve the model fit. In that case, it will let us conclude a non-assessment for the percentage of viable peas from current covariates.   \n",
    "\n",
    "The last three components rhos allude to the correlation coefficient among responses. \n",
    " * rho_1 stands for grain size and whole seeds, with a considerable Pearson correlation of 0.63.\n",
    " * rho_2 and rho_3 stand for correlation between grain size and viable peas, seed count, and viable peas, respectively. Both correlations are low. "
   ]
  }
 ],
 "metadata": {
  "kernelspec": {
   "display_name": "Python 3.9.5 64-bit ('master_thesis': venv)",
   "language": "python",
   "name": "python3"
  },
  "language_info": {
   "codemirror_mode": {
    "name": "ipython",
    "version": 3
   },
   "file_extension": ".py",
   "mimetype": "text/x-python",
   "name": "python",
   "nbconvert_exporter": "python",
   "pygments_lexer": "ipython3",
   "version": "3.9.5"
  },
  "orig_nbformat": 4,
  "vscode": {
   "interpreter": {
    "hash": "292a92f942c44310edbaf6ce4db4e4ccb458e054a9c180d41d409955ea285efe"
   }
  }
 },
 "nbformat": 4,
 "nbformat_minor": 2
}
