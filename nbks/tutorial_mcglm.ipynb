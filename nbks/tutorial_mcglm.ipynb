{
 "cells": [
  {
   "cell_type": "markdown",
   "metadata": {},
   "source": [
    "This notebook aims to instill the flexibility of MCGLM alongside its comprehensive list of viable analyses."
   ]
  },
  {
   "cell_type": "code",
   "execution_count": 173,
   "metadata": {},
   "outputs": [],
   "source": [
    "import sys, os\n",
    "sys.path.append(os.path.join(sys.path[0],'..'))\n",
    "\n",
    "import pandas as pd\n",
    "import matplotlib.pyplot as plt\n",
    "import seaborn as sns\n",
    "\n",
    "from mcglm import MCGLM, mc_mixed, mc_id, mc_ma\n",
    "from patsy import dmatrix\n",
    "from statsmodels.tools.tools import add_constant\n",
    "\n",
    "import warnings\n",
    "warnings.simplefilter(\"ignore\")"
   ]
  },
  {
   "cell_type": "markdown",
   "metadata": {},
   "source": [
    "The statistical framework Multivariate Covariance Generalized Linear Models(MCGLM) provides a unified model for fitting in a wide variety of data such as gaussian or non-gaussian, univariate or multivariate, dependent or independent. This pliability comes from the second-moment assumptions and the straightforward yet thorough specification of pivotal model components. The specification of five components tuns the MCGLM framework: linear predictor/design matrix, link function, variance function, covariance function, and dependencies matrices Z. \n",
    "\n",
    "The Python library mcglm provides an easy interface for fitting the MCGLM model, similar to the library statsmodels, providing auxiliary methods to lead a proper specification of each MCGLM component. The library provides a comprehensive report for the model fitting analysis with regression parameters, dispersion parameters, confidence intervals, hypothesis testing, and Pearson residue. As yet, only users of R users have access to the MCGLM algorithm by the package mcglm. \n",
    "\n",
    "Finally, this notebook presents some statistical analysis with the support of Python mcglm.\n",
    "\n",
    "Refs: \n",
    "\n",
    "https://www.jstor.org/stable/44681850    \n",
    "https://www.researchgate.net/publication/324579147_Multiple_Response_Variables_Regression_Models_in_R_The_mcglm_Package    "
   ]
  },
  {
   "cell_type": "code",
   "execution_count": 2,
   "metadata": {},
   "outputs": [
    {
     "name": "stdout",
     "output_type": "stream",
     "text": [
      "\n",
      "        MCGLM class that implements MCGLM algorithm. (Bonat, Jørgensen 2015)\n",
      "        \n",
      "        It extends GLM for multi-responses and dependent components by fitting second-moment adjustment.\n",
      "\n",
      "        Args:\n",
      "            endog : array_like\n",
      "                1d array of endogenous response variable. In case of multiple responses, the user must pass the responses on a list.  \n",
      "            exog : array_like\n",
      "                A dataset with the endogenous matrix in a Numpy fashion. Since the library doesn't set an intercept by default, the user must add it. In the case of multiple responses, the user must pass the design matrices as a python list. \n",
      "            z : array_like\n",
      "                List with matrices components of the linear covariance matrix.\n",
      "            link : array_like, string or None\n",
      "                Specification for the link function. The MCGLM library implements the following options: identity, logit, power, log, probit, cauchy, cloglog, loglog, negativebinomial. In the case of None, the library chooses the identity link. In multiple responses, user must pass values as list.  \n",
      "            variance : array_like, string or None\n",
      "                Specification for the variance function. The MCGLM library implements the following options: constant, tweedie, binomialP, binomialPQ, geom_tweedie, poisson_tweedie. In the case of None, the library chooses the constant link. In multiple responses, user must pass values as list.   \n",
      "            offset : array_like or None\n",
      "                Offset for continuous or count. In multiple responses, user must pass values as list.   \n",
      "            Ntrial : array_like or None\n",
      "                Ntrial for binomial responses. In multiple responses, user must pass values as list.\n",
      "            power_fixed : array_like or None\n",
      "                Parameter that allows estimation of power when variance functions is either tweedie, geom_tweedie or poisson_tweedie. In multiple responses, user must pass values as list. \n",
      "            maxiter : float or None\n",
      "                Number max of iterations. Defaults to 200.\n",
      "            tol : float or None\n",
      "                Threshold of minimum absolute change on paramaters. Defaults to 0.0001.\n",
      "            tuning : float or None\n",
      "                Step size parameter. Defaults to 0.5.\n",
      "            weights : array_like or None\n",
      "                Weight matrix. Defaults to None.\n",
      "    \n"
     ]
    }
   ],
   "source": [
    "print(MCGLM.__doc__)"
   ]
  },
  {
   "cell_type": "markdown",
   "metadata": {},
   "source": [
    "The MCGLM framework behaves conditioned by the link and variance function. As this doc aims to demonstrate some of them. Let's get started with the first one: the ordinary least squares linear regression."
   ]
  },
  {
   "cell_type": "markdown",
   "metadata": {},
   "source": [
    "#### Linear Regression   \n",
    "\n",
    "-------------\n",
    "\n",
    "Perhaps the most popular statistical model, Linear Regression is a great choice when data meets the three assumptions:   \n",
    "\n",
    "1. Linearity.   \n",
    "2. Independence of components Y. a.k.a iid.   \n",
    "3. The distribution of error following a Gaussian with tuple (0, dispersion).    \n",
    "\n",
    "\n",
    " \n",
    "Boston dataset will set the basis for this analysis."
   ]
  },
  {
   "cell_type": "code",
   "execution_count": 28,
   "metadata": {},
   "outputs": [],
   "source": [
    "from sklearn.datasets import load_boston\n",
    "\n",
    "X, y = load_boston(return_X_y=True)\n",
    "X = pd.DataFrame(X)\n",
    "y = pd.Series(y, name='output')"
   ]
  },
  {
   "cell_type": "code",
   "execution_count": 29,
   "metadata": {},
   "outputs": [
    {
     "data": {
      "text/plain": [
       "count    506.000000\n",
       "mean      22.532806\n",
       "std        9.197104\n",
       "min        5.000000\n",
       "25%       17.025000\n",
       "50%       21.200000\n",
       "75%       25.000000\n",
       "max       50.000000\n",
       "Name: output, dtype: float64"
      ]
     },
     "execution_count": 29,
     "metadata": {},
     "output_type": "execute_result"
    }
   ],
   "source": [
    "y.describe()"
   ]
  },
  {
   "cell_type": "code",
   "execution_count": 30,
   "metadata": {},
   "outputs": [
    {
     "data": {
      "text/html": [
       "<table class=\"simpletable\">\n",
       "<caption>Multivariate Covariance Generalized Linear Model</caption>\n",
       "<tr>\n",
       "  <th>Dep. Variable:</th>      <td>output</td>      <th>  No. Iterations:    </th>      <td>9</td>    \n",
       "</tr>\n",
       "<tr>\n",
       "  <th>Model:</th>               <td>MCGLM</td>      <th>  No. Observations:  </th>     <td>506</td>   \n",
       "</tr>\n",
       "<tr>\n",
       "  <th>link:</th>              <td>identity</td>     <th>  Df Residuals:      </th>     <td>492</td>   \n",
       "</tr>\n",
       "<tr>\n",
       "  <th>variance:</th>          <td>constant</td>     <th>  Df Model:          </th>     <td>14</td>    \n",
       "</tr>\n",
       "<tr>\n",
       "  <th>Method:</th>        <td>Quasi-Likelihood</td> <th>  Power-fixed:       </th>    <td>True</td>   \n",
       "</tr>\n",
       "<tr>\n",
       "  <th>Date:</th>          <td>Thu, 04 Aug 2022</td> <th>  pAIC               </th>   <td>2569.58</td> \n",
       "</tr>\n",
       "<tr>\n",
       "  <th>Time:</th>              <td>07:56:30</td>     <th>  pBIC               </th>   <td>2628.75</td> \n",
       "</tr>\n",
       "<tr>\n",
       "  <th> </th>                      <td> </td>        <th>  pLogLik            </th> <td>-1270.7905</td>\n",
       "</tr>\n",
       "</table>\n",
       "<table class=\"simpletable\">\n",
       "<tr>\n",
       "   <td></td>     <th>coef</th>     <th>std err</th>      <th>z</th>      <th>P>|z|</th>  <th>[0.025</th>    <th>0.975]</th>  \n",
       "</tr>\n",
       "<tr>\n",
       "  <th>0</th>  <td>   -0.0929</td> <td>    0.034</td> <td>   -2.734</td> <td> 0.006</td> <td>   -0.159</td> <td>   -0.026</td>\n",
       "</tr>\n",
       "<tr>\n",
       "  <th>1</th>  <td>    0.0487</td> <td>    0.014</td> <td>    3.426</td> <td> 0.001</td> <td>    0.021</td> <td>    0.077</td>\n",
       "</tr>\n",
       "<tr>\n",
       "  <th>2</th>  <td>   -0.0041</td> <td>    0.064</td> <td>   -0.064</td> <td> 0.949</td> <td>   -0.129</td> <td>    0.121</td>\n",
       "</tr>\n",
       "<tr>\n",
       "  <th>3</th>  <td>    2.8540</td> <td>    0.892</td> <td>    3.199</td> <td> 0.001</td> <td>    1.105</td> <td>    4.603</td>\n",
       "</tr>\n",
       "<tr>\n",
       "  <th>4</th>  <td>   -2.8684</td> <td>    3.315</td> <td>   -0.865</td> <td> 0.387</td> <td>   -9.366</td> <td>    3.630</td>\n",
       "</tr>\n",
       "<tr>\n",
       "  <th>5</th>  <td>    5.9281</td> <td>    0.305</td> <td>   19.429</td> <td> 0.000</td> <td>    5.330</td> <td>    6.526</td>\n",
       "</tr>\n",
       "<tr>\n",
       "  <th>6</th>  <td>   -0.0073</td> <td>    0.014</td> <td>   -0.533</td> <td> 0.594</td> <td>   -0.034</td> <td>    0.019</td>\n",
       "</tr>\n",
       "<tr>\n",
       "  <th>7</th>  <td>   -0.9685</td> <td>    0.193</td> <td>   -5.015</td> <td> 0.000</td> <td>   -1.347</td> <td>   -0.590</td>\n",
       "</tr>\n",
       "<tr>\n",
       "  <th>8</th>  <td>    0.1712</td> <td>    0.066</td> <td>    2.597</td> <td> 0.009</td> <td>    0.042</td> <td>    0.300</td>\n",
       "</tr>\n",
       "<tr>\n",
       "  <th>9</th>  <td>   -0.0094</td> <td>    0.004</td> <td>   -2.426</td> <td> 0.015</td> <td>   -0.017</td> <td>   -0.002</td>\n",
       "</tr>\n",
       "<tr>\n",
       "  <th>10</th> <td>   -0.3922</td> <td>    0.108</td> <td>   -3.616</td> <td> 0.000</td> <td>   -0.605</td> <td>   -0.180</td>\n",
       "</tr>\n",
       "<tr>\n",
       "  <th>11</th> <td>    0.0149</td> <td>    0.003</td> <td>    5.600</td> <td> 0.000</td> <td>    0.010</td> <td>    0.020</td>\n",
       "</tr>\n",
       "<tr>\n",
       "  <th>12</th> <td>   -0.4163</td> <td>    0.050</td> <td>   -8.304</td> <td> 0.000</td> <td>   -0.515</td> <td>   -0.318</td>\n",
       "</tr>\n",
       "</table>\n",
       "<table class=\"simpletable\">\n",
       "<tr>\n",
       "        <td></td>          <th>coef</th>     <th>std err</th>      <th>z</th>      <th>P>|z|</th>  <th>[0.025</th>    <th>0.975]</th>  \n",
       "</tr>\n",
       "<tr>\n",
       "  <th>dispersion_1</th> <td>   24.1670</td> <td>    3.308</td> <td>    7.305</td> <td> 0.000</td> <td>   17.683</td> <td>   30.651</td>\n",
       "</tr>\n",
       "</table>\n",
       "<table class=\"simpletable\">\n",
       "<tr>\n",
       "     <td></td>       <th>coef</th>     <th>std err</th>      <th>z</th>      <th>P>|z|</th>  <th>[0.025</th>    <th>0.975]</th>  \n",
       "</tr>\n",
       "<tr>\n",
       "  <th>power_</th> <td>    1.0000</td> <td>      nan</td> <td>      nan</td> <td>   nan</td> <td>      nan</td> <td>      nan</td>\n",
       "</tr>\n",
       "</table>"
      ],
      "text/plain": [
       "<class 'statsmodels.iolib.summary.Summary'>\n",
       "\"\"\"\n",
       "               Multivariate Covariance Generalized Linear Model               \n",
       "==============================================================================\n",
       "Dep. Variable:                 output   No. Iterations:                      9\n",
       "Model:                          MCGLM   No. Observations:                  506\n",
       "link:                        identity   Df Residuals:                      492\n",
       "variance:                    constant   Df Model:                           14\n",
       "Method:              Quasi-Likelihood   Power-fixed:                      True\n",
       "Date:                Thu, 04 Aug 2022   pAIC                           2569.58\n",
       "Time:                        07:56:30   pBIC                           2628.75\n",
       "                                        pLogLik                     -1270.7905\n",
       "==============================================================================\n",
       "                 coef    std err          z      P>|z|      [0.025      0.975]\n",
       "------------------------------------------------------------------------------\n",
       "0             -0.0929      0.034     -2.734      0.006      -0.159      -0.026\n",
       "1              0.0487      0.014      3.426      0.001       0.021       0.077\n",
       "2             -0.0041      0.064     -0.064      0.949      -0.129       0.121\n",
       "3              2.8540      0.892      3.199      0.001       1.105       4.603\n",
       "4             -2.8684      3.315     -0.865      0.387      -9.366       3.630\n",
       "5              5.9281      0.305     19.429      0.000       5.330       6.526\n",
       "6             -0.0073      0.014     -0.533      0.594      -0.034       0.019\n",
       "7             -0.9685      0.193     -5.015      0.000      -1.347      -0.590\n",
       "8              0.1712      0.066      2.597      0.009       0.042       0.300\n",
       "9             -0.0094      0.004     -2.426      0.015      -0.017      -0.002\n",
       "10            -0.3922      0.108     -3.616      0.000      -0.605      -0.180\n",
       "11             0.0149      0.003      5.600      0.000       0.010       0.020\n",
       "12            -0.4163      0.050     -8.304      0.000      -0.515      -0.318\n",
       "================================================================================\n",
       "                   coef    std err          z      P>|z|      [0.025      0.975]\n",
       "--------------------------------------------------------------------------------\n",
       "dispersion_1    24.1670      3.308      7.305      0.000      17.683      30.651\n",
       "==============================================================================\n",
       "                 coef    std err          z      P>|z|      [0.025      0.975]\n",
       "------------------------------------------------------------------------------\n",
       "power_         1.0000        nan        nan        nan         nan         nan\n",
       "==============================================================================\n",
       "\"\"\""
      ]
     },
     "execution_count": 30,
     "metadata": {},
     "output_type": "execute_result"
    }
   ],
   "source": [
    "modelresults = MCGLM(endog=y,\n",
    "                     exog=X,\n",
    "                     z=[mc_id(X)]).fit()\n",
    "modelresults.summary()"
   ]
  },
  {
   "cell_type": "code",
   "execution_count": 31,
   "metadata": {},
   "outputs": [
    {
     "data": {
      "text/plain": [
       "Text(0, 0.5, 'pearson residue')"
      ]
     },
     "execution_count": 31,
     "metadata": {},
     "output_type": "execute_result"
    },
    {
     "data": {
      "image/png": "[encoded data removed]",
      "text/plain": [
       "<Figure size 432x288 with 1 Axes>"
      ]
     },
     "metadata": {
      "needs_background": "light"
     },
     "output_type": "display_data"
    }
   ],
   "source": [
    "# Residual Analysis\n",
    "plt.scatter(modelresults.mu, modelresults.pearson_residuals)\n",
    "plt.xlabel(\"mu\")\n",
    "plt.ylabel(\"pearson residuals\")"
   ]
  },
  {
   "cell_type": "code",
   "execution_count": 32,
   "metadata": {},
   "outputs": [
    {
     "data": {
      "text/plain": [
       "<matplotlib.collections.PathCollection at 0x7fba7f66c7f0>"
      ]
     },
     "execution_count": 32,
     "metadata": {},
     "output_type": "execute_result"
    },
    {
     "data": {
      "image/png": "[encoded data removed]",
      "text/plain": [
       "<Figure size 432x288 with 1 Axes>"
      ]
     },
     "metadata": {
      "needs_background": "light"
     },
     "output_type": "display_data"
    }
   ],
   "source": [
    "plt.scatter(modelresults.mu, y)"
   ]
  },
  {
   "cell_type": "markdown",
   "metadata": {},
   "source": [
    "#### Generalized Linear Model   \n",
    "---\n",
    "Gamma Linear Model"
   ]
  },
  {
   "cell_type": "code",
   "execution_count": 49,
   "metadata": {},
   "outputs": [
    {
     "data": {
      "text/html": [
       "<table class=\"simpletable\">\n",
       "<caption>Multivariate Covariance Generalized Linear Model</caption>\n",
       "<tr>\n",
       "  <th>Dep. Variable:</th>      <td>output</td>      <th>  No. Iterations:    </th>     <td>49</td>    \n",
       "</tr>\n",
       "<tr>\n",
       "  <th>Model:</th>               <td>MCGLM</td>      <th>  No. Observations:  </th>     <td>506</td>   \n",
       "</tr>\n",
       "<tr>\n",
       "  <th>link:</th>                 <td>log</td>       <th>  Df Residuals:      </th>     <td>492</td>   \n",
       "</tr>\n",
       "<tr>\n",
       "  <th>variance:</th>           <td>tweedie</td>     <th>  Df Model:          </th>     <td>14</td>    \n",
       "</tr>\n",
       "<tr>\n",
       "  <th>Method:</th>        <td>Quasi-Likelihood</td> <th>  Power-fixed:       </th>    <td>True</td>   \n",
       "</tr>\n",
       "<tr>\n",
       "  <th>Date:</th>          <td>Thu, 04 Aug 2022</td> <th>  pAIC               </th>   <td>3235.15</td> \n",
       "</tr>\n",
       "<tr>\n",
       "  <th>Time:</th>              <td>08:07:47</td>     <th>  pBIC               </th>   <td>3294.32</td> \n",
       "</tr>\n",
       "<tr>\n",
       "  <th> </th>                      <td> </td>        <th>  pLogLik            </th> <td>-1603.5758</td>\n",
       "</tr>\n",
       "</table>\n",
       "<table class=\"simpletable\">\n",
       "<tr>\n",
       "   <td></td>     <th>coef</th>     <th>std err</th>      <th>z</th>      <th>P>|z|</th>  <th>[0.025</th>    <th>0.975]</th>  \n",
       "</tr>\n",
       "<tr>\n",
       "  <th>0</th>  <td>   -0.0078</td> <td>    0.003</td> <td>   -2.529</td> <td> 0.011</td> <td>   -0.014</td> <td>   -0.002</td>\n",
       "</tr>\n",
       "<tr>\n",
       "  <th>1</th>  <td>    0.0020</td> <td>    0.001</td> <td>    1.526</td> <td> 0.127</td> <td>   -0.001</td> <td>    0.004</td>\n",
       "</tr>\n",
       "<tr>\n",
       "  <th>2</th>  <td>   -0.0013</td> <td>    0.006</td> <td>   -0.227</td> <td> 0.820</td> <td>   -0.013</td> <td>    0.010</td>\n",
       "</tr>\n",
       "<tr>\n",
       "  <th>3</th>  <td>    0.1339</td> <td>    0.081</td> <td>    1.660</td> <td> 0.097</td> <td>   -0.024</td> <td>    0.292</td>\n",
       "</tr>\n",
       "<tr>\n",
       "  <th>4</th>  <td>    0.9172</td> <td>    0.300</td> <td>    3.060</td> <td> 0.002</td> <td>    0.330</td> <td>    1.505</td>\n",
       "</tr>\n",
       "<tr>\n",
       "  <th>5</th>  <td>    0.3103</td> <td>    0.028</td> <td>   11.247</td> <td> 0.000</td> <td>    0.256</td> <td>    0.364</td>\n",
       "</tr>\n",
       "<tr>\n",
       "  <th>6</th>  <td>   -0.0001</td> <td>    0.001</td> <td>   -0.115</td> <td> 0.908</td> <td>   -0.003</td> <td>    0.002</td>\n",
       "</tr>\n",
       "<tr>\n",
       "  <th>7</th>  <td>    0.0036</td> <td>    0.017</td> <td>    0.205</td> <td> 0.838</td> <td>   -0.031</td> <td>    0.038</td>\n",
       "</tr>\n",
       "<tr>\n",
       "  <th>8</th>  <td>    0.0007</td> <td>    0.006</td> <td>    0.125</td> <td> 0.901</td> <td>   -0.011</td> <td>    0.012</td>\n",
       "</tr>\n",
       "<tr>\n",
       "  <th>9</th>  <td>   -0.0003</td> <td>    0.000</td> <td>   -0.725</td> <td> 0.468</td> <td>   -0.001</td> <td>    0.000</td>\n",
       "</tr>\n",
       "<tr>\n",
       "  <th>10</th> <td>    0.0305</td> <td>    0.010</td> <td>    3.114</td> <td> 0.002</td> <td>    0.011</td> <td>    0.050</td>\n",
       "</tr>\n",
       "<tr>\n",
       "  <th>11</th> <td>    0.0010</td> <td>    0.000</td> <td>    4.358</td> <td> 0.000</td> <td>    0.001</td> <td>    0.002</td>\n",
       "</tr>\n",
       "<tr>\n",
       "  <th>12</th> <td>   -0.0183</td> <td>    0.005</td> <td>   -4.038</td> <td> 0.000</td> <td>   -0.027</td> <td>   -0.009</td>\n",
       "</tr>\n",
       "</table>\n",
       "<table class=\"simpletable\">\n",
       "<tr>\n",
       "        <td></td>          <th>coef</th>     <th>std err</th>      <th>z</th>      <th>P>|z|</th>  <th>[0.025</th>    <th>0.975]</th>  \n",
       "</tr>\n",
       "<tr>\n",
       "  <th>dispersion_1</th> <td>    0.1920</td> <td>    0.015</td> <td>   12.456</td> <td> 0.000</td> <td>    0.162</td> <td>    0.222</td>\n",
       "</tr>\n",
       "</table>\n",
       "<table class=\"simpletable\">\n",
       "<tr>\n",
       "     <td></td>       <th>coef</th>     <th>std err</th>      <th>z</th>      <th>P>|z|</th>  <th>[0.025</th>    <th>0.975]</th>  \n",
       "</tr>\n",
       "<tr>\n",
       "  <th>power_</th> <td>    2.0000</td> <td>      nan</td> <td>      nan</td> <td>   nan</td> <td>      nan</td> <td>      nan</td>\n",
       "</tr>\n",
       "</table>"
      ],
      "text/plain": [
       "<class 'statsmodels.iolib.summary.Summary'>\n",
       "\"\"\"\n",
       "               Multivariate Covariance Generalized Linear Model               \n",
       "==============================================================================\n",
       "Dep. Variable:                 output   No. Iterations:                     49\n",
       "Model:                          MCGLM   No. Observations:                  506\n",
       "link:                             log   Df Residuals:                      492\n",
       "variance:                     tweedie   Df Model:                           14\n",
       "Method:              Quasi-Likelihood   Power-fixed:                      True\n",
       "Date:                Thu, 04 Aug 2022   pAIC                           3235.15\n",
       "Time:                        08:07:47   pBIC                           3294.32\n",
       "                                        pLogLik                     -1603.5758\n",
       "==============================================================================\n",
       "                 coef    std err          z      P>|z|      [0.025      0.975]\n",
       "------------------------------------------------------------------------------\n",
       "0             -0.0078      0.003     -2.529      0.011      -0.014      -0.002\n",
       "1              0.0020      0.001      1.526      0.127      -0.001       0.004\n",
       "2             -0.0013      0.006     -0.227      0.820      -0.013       0.010\n",
       "3              0.1339      0.081      1.660      0.097      -0.024       0.292\n",
       "4              0.9172      0.300      3.060      0.002       0.330       1.505\n",
       "5              0.3103      0.028     11.247      0.000       0.256       0.364\n",
       "6             -0.0001      0.001     -0.115      0.908      -0.003       0.002\n",
       "7              0.0036      0.017      0.205      0.838      -0.031       0.038\n",
       "8              0.0007      0.006      0.125      0.901      -0.011       0.012\n",
       "9             -0.0003      0.000     -0.725      0.468      -0.001       0.000\n",
       "10             0.0305      0.010      3.114      0.002       0.011       0.050\n",
       "11             0.0010      0.000      4.358      0.000       0.001       0.002\n",
       "12            -0.0183      0.005     -4.038      0.000      -0.027      -0.009\n",
       "================================================================================\n",
       "                   coef    std err          z      P>|z|      [0.025      0.975]\n",
       "--------------------------------------------------------------------------------\n",
       "dispersion_1     0.1920      0.015     12.456      0.000       0.162       0.222\n",
       "==============================================================================\n",
       "                 coef    std err          z      P>|z|      [0.025      0.975]\n",
       "------------------------------------------------------------------------------\n",
       "power_         2.0000        nan        nan        nan         nan         nan\n",
       "==============================================================================\n",
       "\"\"\""
      ]
     },
     "execution_count": 49,
     "metadata": {},
     "output_type": "execute_result"
    }
   ],
   "source": [
    "modelresults = MCGLM(y, \n",
    "                     X, \n",
    "                     [mc_id(X)], \n",
    "                     link='log', \n",
    "                     variance='tweedie', \n",
    "                     power=2, \n",
    "                     power_fixed=True, \n",
    "                     tuning=0.05\n",
    "                     ).fit()\n",
    "\n",
    "modelresults.summary()"
   ]
  },
  {
   "cell_type": "code",
   "execution_count": 50,
   "metadata": {},
   "outputs": [
    {
     "data": {
      "text/plain": [
       "Text(0, 0.5, 'pearson residuals')"
      ]
     },
     "execution_count": 50,
     "metadata": {},
     "output_type": "execute_result"
    },
    {
     "data": {
      "image/png": "[encoded data removed]",
      "text/plain": [
       "<Figure size 432x288 with 1 Axes>"
      ]
     },
     "metadata": {
      "needs_background": "light"
     },
     "output_type": "display_data"
    }
   ],
   "source": [
    "# Residual Analysis\n",
    "plt.scatter(modelresults.mu, modelresults.pearson_residuals)\n",
    "plt.xlabel(\"mu\")\n",
    "plt.ylabel(\"pearson residuals\")"
   ]
  },
  {
   "cell_type": "code",
   "execution_count": 59,
   "metadata": {},
   "outputs": [
    {
     "data": {
      "text/html": [
       "<table class=\"simpletable\">\n",
       "<caption>Multivariate Covariance Generalized Linear Model</caption>\n",
       "<tr>\n",
       "  <th>Dep. Variable:</th>      <td>output</td>      <th>  No. Iterations:    </th>     <td>49</td>    \n",
       "</tr>\n",
       "<tr>\n",
       "  <th>Model:</th>               <td>MCGLM</td>      <th>  No. Observations:  </th>     <td>506</td>   \n",
       "</tr>\n",
       "<tr>\n",
       "  <th>link:</th>                 <td>log</td>       <th>  Df Residuals:      </th>     <td>492</td>   \n",
       "</tr>\n",
       "<tr>\n",
       "  <th>variance:</th>           <td>tweedie</td>     <th>  Df Model:          </th>     <td>14</td>    \n",
       "</tr>\n",
       "<tr>\n",
       "  <th>Method:</th>        <td>Quasi-Likelihood</td> <th>  Power-fixed:       </th>    <td>False</td>  \n",
       "</tr>\n",
       "<tr>\n",
       "  <th>Date:</th>          <td>Thu, 04 Aug 2022</td> <th>  pAIC               </th>   <td>4288.16</td> \n",
       "</tr>\n",
       "<tr>\n",
       "  <th>Time:</th>              <td>08:09:52</td>     <th>  pBIC               </th>   <td>4347.33</td> \n",
       "</tr>\n",
       "<tr>\n",
       "  <th> </th>                      <td> </td>        <th>  pLogLik            </th> <td>-2130.0805</td>\n",
       "</tr>\n",
       "</table>\n",
       "<table class=\"simpletable\">\n",
       "<tr>\n",
       "   <td></td>     <th>coef</th>     <th>std err</th>      <th>z</th>      <th>P>|z|</th>  <th>[0.025</th>    <th>0.975]</th>  \n",
       "</tr>\n",
       "<tr>\n",
       "  <th>0</th>  <td>   -0.0078</td> <td>    0.009</td> <td>   -0.893</td> <td> 0.372</td> <td>   -0.025</td> <td>    0.009</td>\n",
       "</tr>\n",
       "<tr>\n",
       "  <th>1</th>  <td>    0.0020</td> <td>    0.004</td> <td>    0.539</td> <td> 0.590</td> <td>   -0.005</td> <td>    0.009</td>\n",
       "</tr>\n",
       "<tr>\n",
       "  <th>2</th>  <td>   -0.0013</td> <td>    0.016</td> <td>   -0.080</td> <td> 0.936</td> <td>   -0.033</td> <td>    0.031</td>\n",
       "</tr>\n",
       "<tr>\n",
       "  <th>3</th>  <td>    0.1339</td> <td>    0.228</td> <td>    0.587</td> <td> 0.558</td> <td>   -0.314</td> <td>    0.581</td>\n",
       "</tr>\n",
       "<tr>\n",
       "  <th>4</th>  <td>    0.9172</td> <td>    0.848</td> <td>    1.081</td> <td> 0.280</td> <td>   -0.746</td> <td>    2.580</td>\n",
       "</tr>\n",
       "<tr>\n",
       "  <th>5</th>  <td>    0.3103</td> <td>    0.078</td> <td>    3.973</td> <td> 0.000</td> <td>    0.157</td> <td>    0.463</td>\n",
       "</tr>\n",
       "<tr>\n",
       "  <th>6</th>  <td>   -0.0001</td> <td>    0.003</td> <td>   -0.041</td> <td> 0.968</td> <td>   -0.007</td> <td>    0.007</td>\n",
       "</tr>\n",
       "<tr>\n",
       "  <th>7</th>  <td>    0.0036</td> <td>    0.049</td> <td>    0.072</td> <td> 0.942</td> <td>   -0.093</td> <td>    0.100</td>\n",
       "</tr>\n",
       "<tr>\n",
       "  <th>8</th>  <td>    0.0007</td> <td>    0.017</td> <td>    0.044</td> <td> 0.965</td> <td>   -0.032</td> <td>    0.034</td>\n",
       "</tr>\n",
       "<tr>\n",
       "  <th>9</th>  <td>   -0.0003</td> <td>    0.001</td> <td>   -0.256</td> <td> 0.798</td> <td>   -0.002</td> <td>    0.002</td>\n",
       "</tr>\n",
       "<tr>\n",
       "  <th>10</th> <td>    0.0305</td> <td>    0.028</td> <td>    1.100</td> <td> 0.271</td> <td>   -0.024</td> <td>    0.085</td>\n",
       "</tr>\n",
       "<tr>\n",
       "  <th>11</th> <td>    0.0010</td> <td>    0.001</td> <td>    1.540</td> <td> 0.124</td> <td>   -0.000</td> <td>    0.002</td>\n",
       "</tr>\n",
       "<tr>\n",
       "  <th>12</th> <td>   -0.0183</td> <td>    0.013</td> <td>   -1.426</td> <td> 0.154</td> <td>   -0.043</td> <td>    0.007</td>\n",
       "</tr>\n",
       "</table>\n",
       "<table class=\"simpletable\">\n",
       "<tr>\n",
       "        <td></td>          <th>coef</th>     <th>std err</th>      <th>z</th>      <th>P>|z|</th>  <th>[0.025</th>    <th>0.975]</th>  \n",
       "</tr>\n",
       "<tr>\n",
       "  <th>dispersion_1</th> <td>   -0.4720</td> <td>    0.393</td> <td>   -1.203</td> <td> 0.229</td> <td>   -1.241</td> <td>    0.297</td>\n",
       "</tr>\n",
       "</table>\n",
       "<table class=\"simpletable\">\n",
       "<tr>\n",
       "     <td></td>       <th>coef</th>     <th>std err</th>      <th>z</th>      <th>P>|z|</th>  <th>[0.025</th>    <th>0.975]</th>  \n",
       "</tr>\n",
       "<tr>\n",
       "  <th>power_</th> <td>    1.5733</td> <td>    0.083</td> <td>   18.873</td> <td> 0.000</td> <td>    1.410</td> <td>    1.737</td>\n",
       "</tr>\n",
       "</table>"
      ],
      "text/plain": [
       "<class 'statsmodels.iolib.summary.Summary'>\n",
       "\"\"\"\n",
       "               Multivariate Covariance Generalized Linear Model               \n",
       "==============================================================================\n",
       "Dep. Variable:                 output   No. Iterations:                     49\n",
       "Model:                          MCGLM   No. Observations:                  506\n",
       "link:                             log   Df Residuals:                      492\n",
       "variance:                     tweedie   Df Model:                           14\n",
       "Method:              Quasi-Likelihood   Power-fixed:                     False\n",
       "Date:                Thu, 04 Aug 2022   pAIC                           4288.16\n",
       "Time:                        08:09:52   pBIC                           4347.33\n",
       "                                        pLogLik                     -2130.0805\n",
       "==============================================================================\n",
       "                 coef    std err          z      P>|z|      [0.025      0.975]\n",
       "------------------------------------------------------------------------------\n",
       "0             -0.0078      0.009     -0.893      0.372      -0.025       0.009\n",
       "1              0.0020      0.004      0.539      0.590      -0.005       0.009\n",
       "2             -0.0013      0.016     -0.080      0.936      -0.033       0.031\n",
       "3              0.1339      0.228      0.587      0.558      -0.314       0.581\n",
       "4              0.9172      0.848      1.081      0.280      -0.746       2.580\n",
       "5              0.3103      0.078      3.973      0.000       0.157       0.463\n",
       "6             -0.0001      0.003     -0.041      0.968      -0.007       0.007\n",
       "7              0.0036      0.049      0.072      0.942      -0.093       0.100\n",
       "8              0.0007      0.017      0.044      0.965      -0.032       0.034\n",
       "9             -0.0003      0.001     -0.256      0.798      -0.002       0.002\n",
       "10             0.0305      0.028      1.100      0.271      -0.024       0.085\n",
       "11             0.0010      0.001      1.540      0.124      -0.000       0.002\n",
       "12            -0.0183      0.013     -1.426      0.154      -0.043       0.007\n",
       "================================================================================\n",
       "                   coef    std err          z      P>|z|      [0.025      0.975]\n",
       "--------------------------------------------------------------------------------\n",
       "dispersion_1    -0.4720      0.393     -1.203      0.229      -1.241       0.297\n",
       "==============================================================================\n",
       "                 coef    std err          z      P>|z|      [0.025      0.975]\n",
       "------------------------------------------------------------------------------\n",
       "power_         1.5733      0.083     18.873      0.000       1.410       1.737\n",
       "==============================================================================\n",
       "\"\"\""
      ]
     },
     "execution_count": 59,
     "metadata": {},
     "output_type": "execute_result"
    }
   ],
   "source": [
    "modelresults = MCGLM(y, \n",
    "                     X, \n",
    "                     [mc_id(X)], \n",
    "                     link='log', \n",
    "                     variance='tweedie', \n",
    "                     power=2, \n",
    "                     power_fixed=False, \n",
    "                     tuning=0.05\n",
    "                     ).fit()\n",
    "\n",
    "modelresults.summary()"
   ]
  },
  {
   "cell_type": "code",
   "execution_count": 60,
   "metadata": {},
   "outputs": [
    {
     "data": {
      "text/plain": [
       "Text(0, 0.5, 'pearson residuals')"
      ]
     },
     "execution_count": 60,
     "metadata": {},
     "output_type": "execute_result"
    },
    {
     "data": {
      "image/png": "[encoded data removed]",
      "text/plain": [
       "<Figure size 432x288 with 1 Axes>"
      ]
     },
     "metadata": {
      "needs_background": "light"
     },
     "output_type": "display_data"
    }
   ],
   "source": [
    "# Residual Analysis\n",
    "plt.scatter(modelresults.mu, modelresults.pearson_residuals)\n",
    "plt.xlabel(\"mu\")\n",
    "plt.ylabel(\"pearson residuals\")"
   ]
  },
  {
   "cell_type": "markdown",
   "metadata": {},
   "source": [
    "#### Generalized Linear Model   \n",
    "---\n",
    "Poisson Linear Model"
   ]
  },
  {
   "cell_type": "code",
   "execution_count": 56,
   "metadata": {},
   "outputs": [],
   "source": [
    "# https://www.kaggle.com/datasets/gregorut/videogamesales\n",
    "## Game Sales in millions\n",
    "\n",
    "vgdata = pd.read_csv('data/vgsales.csv')\n",
    "vgdata = vgdata[['Publisher', 'Genre', 'Year', 'Global_Sales']] # keeping the valuable columns\n",
    "vgdata = vgdata[~vgdata.isnull()] # filtering out nulls\n",
    "vgdata = vgdata[vgdata.Publisher.isin(['Electronic Arts', 'Activision', 'Namco Bandai Games', 'Ubisoft', 'Konami Digital Entertainment', 'THQ', 'Nintendo'])].reset_index(drop=True)# Keeping the meaninfull publishers\n",
    "\n",
    "### Setting type\n",
    "vgdata['Publisher'] = vgdata['Publisher'].astype('str')\n",
    "vgdata['Genre'] = vgdata['Genre'].astype('str')\n",
    "\n",
    "vgdata = vgdata[vgdata.Year > 1980]\n",
    "vgdata = vgdata.sample(1000).reset_index(drop=True)\n",
    "\n",
    "## exog and endog\n",
    "X = vgdata[['Publisher', 'Year', 'Genre']]\n",
    "y = vgdata['Global_Sales']\n",
    "\n",
    "X = pd.get_dummies(X)"
   ]
  },
  {
   "cell_type": "code",
   "execution_count": 63,
   "metadata": {},
   "outputs": [
    {
     "data": {
      "text/html": [
       "<table class=\"simpletable\">\n",
       "<caption>Multivariate Covariance Generalized Linear Model</caption>\n",
       "<tr>\n",
       "  <th>Dep. Variable:</th>   <td>Global_Sales</td>   <th>  No. Iterations:    </th>     <td>13</td>    \n",
       "</tr>\n",
       "<tr>\n",
       "  <th>Model:</th>               <td>MCGLM</td>      <th>  No. Observations:  </th>    <td>1000</td>   \n",
       "</tr>\n",
       "<tr>\n",
       "  <th>link:</th>              <td>identity</td>     <th>  Df Residuals:      </th>     <td>979</td>   \n",
       "</tr>\n",
       "<tr>\n",
       "  <th>variance:</th>          <td>constant</td>     <th>  Df Model:          </th>     <td>21</td>    \n",
       "</tr>\n",
       "<tr>\n",
       "  <th>Method:</th>        <td>Quasi-Likelihood</td> <th>  Power-fixed:       </th>    <td>True</td>   \n",
       "</tr>\n",
       "<tr>\n",
       "  <th>Date:</th>          <td>Thu, 04 Aug 2022</td> <th>  pAIC               </th>   <td>3011.6</td>  \n",
       "</tr>\n",
       "<tr>\n",
       "  <th>Time:</th>              <td>12:44:02</td>     <th>  pBIC               </th>   <td>3114.67</td> \n",
       "</tr>\n",
       "<tr>\n",
       "  <th> </th>                      <td> </td>        <th>  pLogLik            </th> <td>-1484.8018</td>\n",
       "</tr>\n",
       "</table>\n",
       "<table class=\"simpletable\">\n",
       "<tr>\n",
       "                     <td></td>                       <th>coef</th>     <th>std err</th>      <th>z</th>      <th>P>|z|</th>  <th>[0.025</th>    <th>0.975]</th>  \n",
       "</tr>\n",
       "<tr>\n",
       "  <th>Year</th>                                   <td>   -0.0090</td> <td>    0.014</td> <td>   -0.629</td> <td> 0.530</td> <td>   -0.037</td> <td>    0.019</td>\n",
       "</tr>\n",
       "<tr>\n",
       "  <th>Publisher_Activision</th>                   <td>   11.6002</td> <td> 1.95e+06</td> <td> 5.95e-06</td> <td> 1.000</td> <td>-3.82e+06</td> <td> 3.82e+06</td>\n",
       "</tr>\n",
       "<tr>\n",
       "  <th>Publisher_Electronic Arts</th>              <td>   11.8099</td> <td> 2.05e+06</td> <td> 5.76e-06</td> <td> 1.000</td> <td>-4.02e+06</td> <td> 4.02e+06</td>\n",
       "</tr>\n",
       "<tr>\n",
       "  <th>Publisher_Konami Digital Entertainment</th> <td>   11.3344</td> <td> 2.03e+06</td> <td> 5.59e-06</td> <td> 1.000</td> <td>-3.97e+06</td> <td> 3.97e+06</td>\n",
       "</tr>\n",
       "<tr>\n",
       "  <th>Publisher_Namco Bandai Games</th>           <td>   11.3986</td> <td> 1.95e+06</td> <td> 5.84e-06</td> <td> 1.000</td> <td>-3.82e+06</td> <td> 3.82e+06</td>\n",
       "</tr>\n",
       "<tr>\n",
       "  <th>Publisher_Nintendo</th>                     <td>   13.7296</td> <td> 1.97e+06</td> <td> 6.96e-06</td> <td> 1.000</td> <td>-3.87e+06</td> <td> 3.87e+06</td>\n",
       "</tr>\n",
       "<tr>\n",
       "  <th>Publisher_THQ</th>                          <td>   11.6849</td> <td> 1.96e+06</td> <td> 5.96e-06</td> <td> 1.000</td> <td>-3.84e+06</td> <td> 3.84e+06</td>\n",
       "</tr>\n",
       "<tr>\n",
       "  <th>Publisher_Ubisoft</th>                      <td>   11.8090</td> <td> 2.05e+06</td> <td> 5.76e-06</td> <td> 1.000</td> <td>-4.02e+06</td> <td> 4.02e+06</td>\n",
       "</tr>\n",
       "<tr>\n",
       "  <th>Genre_Action</th>                           <td>    6.8781</td> <td> 1.94e+06</td> <td> 3.54e-06</td> <td> 1.000</td> <td> -3.8e+06</td> <td>  3.8e+06</td>\n",
       "</tr>\n",
       "<tr>\n",
       "  <th>Genre_Adventure</th>                        <td>    6.7147</td> <td> 1.95e+06</td> <td> 3.44e-06</td> <td> 1.000</td> <td>-3.83e+06</td> <td> 3.83e+06</td>\n",
       "</tr>\n",
       "<tr>\n",
       "  <th>Genre_Fighting</th>                         <td>    7.0634</td> <td> 1.99e+06</td> <td> 3.55e-06</td> <td> 1.000</td> <td> -3.9e+06</td> <td>  3.9e+06</td>\n",
       "</tr>\n",
       "<tr>\n",
       "  <th>Genre_Misc</th>                             <td>    7.2270</td> <td> 2.03e+06</td> <td> 3.56e-06</td> <td> 1.000</td> <td>-3.98e+06</td> <td> 3.98e+06</td>\n",
       "</tr>\n",
       "<tr>\n",
       "  <th>Genre_Platform</th>                         <td>    7.1722</td> <td> 2.14e+06</td> <td> 3.35e-06</td> <td> 1.000</td> <td>-4.19e+06</td> <td> 4.19e+06</td>\n",
       "</tr>\n",
       "<tr>\n",
       "  <th>Genre_Puzzle</th>                           <td>    5.9755</td> <td> 2.02e+06</td> <td> 2.96e-06</td> <td> 1.000</td> <td>-3.96e+06</td> <td> 3.96e+06</td>\n",
       "</tr>\n",
       "<tr>\n",
       "  <th>Genre_Racing</th>                           <td>    6.9142</td> <td> 2.03e+06</td> <td>  3.4e-06</td> <td> 1.000</td> <td>-3.99e+06</td> <td> 3.99e+06</td>\n",
       "</tr>\n",
       "<tr>\n",
       "  <th>Genre_Role-Playing</th>                     <td>    6.9669</td> <td> 2.14e+06</td> <td> 3.26e-06</td> <td> 1.000</td> <td>-4.19e+06</td> <td> 4.19e+06</td>\n",
       "</tr>\n",
       "<tr>\n",
       "  <th>Genre_Shooter</th>                          <td>    7.5295</td> <td> 1.99e+06</td> <td> 3.79e-06</td> <td> 1.000</td> <td> -3.9e+06</td> <td>  3.9e+06</td>\n",
       "</tr>\n",
       "<tr>\n",
       "  <th>Genre_Simulation</th>                       <td>    6.8664</td> <td> 1.99e+06</td> <td> 3.45e-06</td> <td> 1.000</td> <td>-3.91e+06</td> <td> 3.91e+06</td>\n",
       "</tr>\n",
       "<tr>\n",
       "  <th>Genre_Sports</th>                           <td>    7.3109</td> <td> 2.01e+06</td> <td> 3.64e-06</td> <td> 1.000</td> <td>-3.93e+06</td> <td> 3.93e+06</td>\n",
       "</tr>\n",
       "<tr>\n",
       "  <th>Genre_Strategy</th>                         <td>    6.7795</td> <td>  2.1e+06</td> <td> 3.22e-06</td> <td> 1.000</td> <td>-4.12e+06</td> <td> 4.12e+06</td>\n",
       "</tr>\n",
       "</table>\n",
       "<table class=\"simpletable\">\n",
       "<tr>\n",
       "        <td></td>          <th>coef</th>     <th>std err</th>      <th>z</th>      <th>P>|z|</th>  <th>[0.025</th>    <th>0.975]</th>  \n",
       "</tr>\n",
       "<tr>\n",
       "  <th>dispersion_1</th> <td>    3.1010</td> <td>    0.754</td> <td>    4.115</td> <td> 0.000</td> <td>    1.624</td> <td>    4.578</td>\n",
       "</tr>\n",
       "</table>\n",
       "<table class=\"simpletable\">\n",
       "<tr>\n",
       "     <td></td>       <th>coef</th>     <th>std err</th>      <th>z</th>      <th>P>|z|</th>  <th>[0.025</th>    <th>0.975]</th>  \n",
       "</tr>\n",
       "<tr>\n",
       "  <th>power_</th> <td>    1.0000</td> <td>      nan</td> <td>      nan</td> <td>   nan</td> <td>      nan</td> <td>      nan</td>\n",
       "</tr>\n",
       "</table>"
      ],
      "text/plain": [
       "<class 'statsmodels.iolib.summary.Summary'>\n",
       "\"\"\"\n",
       "               Multivariate Covariance Generalized Linear Model               \n",
       "==============================================================================\n",
       "Dep. Variable:           Global_Sales   No. Iterations:                     13\n",
       "Model:                          MCGLM   No. Observations:                 1000\n",
       "link:                        identity   Df Residuals:                      979\n",
       "variance:                    constant   Df Model:                           21\n",
       "Method:              Quasi-Likelihood   Power-fixed:                      True\n",
       "Date:                Thu, 04 Aug 2022   pAIC                            3011.6\n",
       "Time:                        12:44:02   pBIC                           3114.67\n",
       "                                        pLogLik                     -1484.8018\n",
       "==========================================================================================================\n",
       "                                             coef    std err          z      P>|z|      [0.025      0.975]\n",
       "----------------------------------------------------------------------------------------------------------\n",
       "Year                                      -0.0090      0.014     -0.629      0.530      -0.037       0.019\n",
       "Publisher_Activision                      11.6002   1.95e+06   5.95e-06      1.000   -3.82e+06    3.82e+06\n",
       "Publisher_Electronic Arts                 11.8099   2.05e+06   5.76e-06      1.000   -4.02e+06    4.02e+06\n",
       "Publisher_Konami Digital Entertainment    11.3344   2.03e+06   5.59e-06      1.000   -3.97e+06    3.97e+06\n",
       "Publisher_Namco Bandai Games              11.3986   1.95e+06   5.84e-06      1.000   -3.82e+06    3.82e+06\n",
       "Publisher_Nintendo                        13.7296   1.97e+06   6.96e-06      1.000   -3.87e+06    3.87e+06\n",
       "Publisher_THQ                             11.6849   1.96e+06   5.96e-06      1.000   -3.84e+06    3.84e+06\n",
       "Publisher_Ubisoft                         11.8090   2.05e+06   5.76e-06      1.000   -4.02e+06    4.02e+06\n",
       "Genre_Action                               6.8781   1.94e+06   3.54e-06      1.000    -3.8e+06     3.8e+06\n",
       "Genre_Adventure                            6.7147   1.95e+06   3.44e-06      1.000   -3.83e+06    3.83e+06\n",
       "Genre_Fighting                             7.0634   1.99e+06   3.55e-06      1.000    -3.9e+06     3.9e+06\n",
       "Genre_Misc                                 7.2270   2.03e+06   3.56e-06      1.000   -3.98e+06    3.98e+06\n",
       "Genre_Platform                             7.1722   2.14e+06   3.35e-06      1.000   -4.19e+06    4.19e+06\n",
       "Genre_Puzzle                               5.9755   2.02e+06   2.96e-06      1.000   -3.96e+06    3.96e+06\n",
       "Genre_Racing                               6.9142   2.03e+06    3.4e-06      1.000   -3.99e+06    3.99e+06\n",
       "Genre_Role-Playing                         6.9669   2.14e+06   3.26e-06      1.000   -4.19e+06    4.19e+06\n",
       "Genre_Shooter                              7.5295   1.99e+06   3.79e-06      1.000    -3.9e+06     3.9e+06\n",
       "Genre_Simulation                           6.8664   1.99e+06   3.45e-06      1.000   -3.91e+06    3.91e+06\n",
       "Genre_Sports                               7.3109   2.01e+06   3.64e-06      1.000   -3.93e+06    3.93e+06\n",
       "Genre_Strategy                             6.7795    2.1e+06   3.22e-06      1.000   -4.12e+06    4.12e+06\n",
       "================================================================================\n",
       "                   coef    std err          z      P>|z|      [0.025      0.975]\n",
       "--------------------------------------------------------------------------------\n",
       "dispersion_1     3.1010      0.754      4.115      0.000       1.624       4.578\n",
       "==============================================================================\n",
       "                 coef    std err          z      P>|z|      [0.025      0.975]\n",
       "------------------------------------------------------------------------------\n",
       "power_         1.0000        nan        nan        nan         nan         nan\n",
       "==============================================================================\n",
       "\"\"\""
      ]
     },
     "execution_count": 63,
     "metadata": {},
     "output_type": "execute_result"
    }
   ],
   "source": [
    "modelresults = MCGLM(y, \n",
    "                     X, \n",
    "                     [mc_id(X)], \n",
    "                     ).fit()\n",
    "\n",
    "modelresults.summary()"
   ]
  },
  {
   "cell_type": "code",
   "execution_count": 64,
   "metadata": {},
   "outputs": [
    {
     "data": {
      "text/plain": [
       "Text(0, 0.5, 'pearson residue')"
      ]
     },
     "execution_count": 64,
     "metadata": {},
     "output_type": "execute_result"
    },
    {
     "data": {
      "image/png": "[encoded data removed]",
      "text/plain": [
       "<Figure size 432x288 with 1 Axes>"
      ]
     },
     "metadata": {
      "needs_background": "light"
     },
     "output_type": "display_data"
    }
   ],
   "source": [
    "# Residual Analysis\n",
    "plt.scatter(modelresults.mu, modelresults.pearson_residuals)\n",
    "plt.xlabel(\"mu\")\n",
    "plt.ylabel(\"pearson residue\")"
   ]
  },
  {
   "cell_type": "code",
   "execution_count": 65,
   "metadata": {},
   "outputs": [
    {
     "data": {
      "text/html": [
       "<table class=\"simpletable\">\n",
       "<caption>Multivariate Covariance Generalized Linear Model</caption>\n",
       "<tr>\n",
       "  <th>Dep. Variable:</th>   <td>Global_Sales</td>   <th>  No. Iterations:    </th>    <td>49</td>   \n",
       "</tr>\n",
       "<tr>\n",
       "  <th>Model:</th>               <td>MCGLM</td>      <th>  No. Observations:  </th>   <td>1000</td>  \n",
       "</tr>\n",
       "<tr>\n",
       "  <th>link:</th>                 <td>log</td>       <th>  Df Residuals:      </th>    <td>979</td>  \n",
       "</tr>\n",
       "<tr>\n",
       "  <th>variance:</th>           <td>tweedie</td>     <th>  Df Model:          </th>    <td>21</td>   \n",
       "</tr>\n",
       "<tr>\n",
       "  <th>Method:</th>        <td>Quasi-Likelihood</td> <th>  Power-fixed:       </th>   <td>False</td> \n",
       "</tr>\n",
       "<tr>\n",
       "  <th>Date:</th>          <td>Thu, 04 Aug 2022</td> <th>  pAIC               </th>  <td>1696.13</td>\n",
       "</tr>\n",
       "<tr>\n",
       "  <th>Time:</th>              <td>12:48:35</td>     <th>  pBIC               </th>  <td>1799.19</td>\n",
       "</tr>\n",
       "<tr>\n",
       "  <th> </th>                      <td> </td>        <th>  pLogLik            </th> <td>-827.065</td>\n",
       "</tr>\n",
       "</table>\n",
       "<table class=\"simpletable\">\n",
       "<tr>\n",
       "                     <td></td>                       <th>coef</th>     <th>std err</th>      <th>z</th>      <th>P>|z|</th>  <th>[0.025</th>    <th>0.975]</th>  \n",
       "</tr>\n",
       "<tr>\n",
       "  <th>Year</th>                                   <td>   -0.0168</td> <td>    0.045</td> <td>   -0.374</td> <td> 0.709</td> <td>   -0.105</td> <td>    0.071</td>\n",
       "</tr>\n",
       "<tr>\n",
       "  <th>Publisher_Activision</th>                   <td>   18.9656</td> <td> 7.89e+06</td> <td>  2.4e-06</td> <td> 1.000</td> <td>-1.55e+07</td> <td> 1.55e+07</td>\n",
       "</tr>\n",
       "<tr>\n",
       "  <th>Publisher_Electronic Arts</th>              <td>   19.3968</td> <td>  3.3e+06</td> <td> 5.88e-06</td> <td> 1.000</td> <td>-6.46e+06</td> <td> 6.46e+06</td>\n",
       "</tr>\n",
       "<tr>\n",
       "  <th>Publisher_Konami Digital Entertainment</th> <td>   18.4784</td> <td> 5.41e+06</td> <td> 3.42e-06</td> <td> 1.000</td> <td>-1.06e+07</td> <td> 1.06e+07</td>\n",
       "</tr>\n",
       "<tr>\n",
       "  <th>Publisher_Namco Bandai Games</th>           <td>   18.2468</td> <td> 5.14e+06</td> <td> 3.55e-06</td> <td> 1.000</td> <td>-1.01e+07</td> <td> 1.01e+07</td>\n",
       "</tr>\n",
       "<tr>\n",
       "  <th>Publisher_Nintendo</th>                     <td>   20.5703</td> <td>  7.3e+06</td> <td> 2.82e-06</td> <td> 1.000</td> <td>-1.43e+07</td> <td> 1.43e+07</td>\n",
       "</tr>\n",
       "<tr>\n",
       "  <th>Publisher_THQ</th>                          <td>   19.0984</td> <td> 7.44e+06</td> <td> 2.57e-06</td> <td> 1.000</td> <td>-1.46e+07</td> <td> 1.46e+07</td>\n",
       "</tr>\n",
       "<tr>\n",
       "  <th>Publisher_Ubisoft</th>                      <td>   19.3827</td> <td> 6.52e+06</td> <td> 2.97e-06</td> <td> 1.000</td> <td>-1.28e+07</td> <td> 1.28e+07</td>\n",
       "</tr>\n",
       "<tr>\n",
       "  <th>Genre_Action</th>                           <td>   13.9379</td> <td> 8.93e+06</td> <td> 1.56e-06</td> <td> 1.000</td> <td>-1.75e+07</td> <td> 1.75e+07</td>\n",
       "</tr>\n",
       "<tr>\n",
       "  <th>Genre_Adventure</th>                        <td>   13.5300</td> <td> 7.59e+06</td> <td> 1.78e-06</td> <td> 1.000</td> <td>-1.49e+07</td> <td> 1.49e+07</td>\n",
       "</tr>\n",
       "<tr>\n",
       "  <th>Genre_Fighting</th>                         <td>   14.4637</td> <td> 6.12e+06</td> <td> 2.36e-06</td> <td> 1.000</td> <td> -1.2e+07</td> <td>  1.2e+07</td>\n",
       "</tr>\n",
       "<tr>\n",
       "  <th>Genre_Misc</th>                             <td>   14.3009</td> <td> 7.24e+06</td> <td> 1.98e-06</td> <td> 1.000</td> <td>-1.42e+07</td> <td> 1.42e+07</td>\n",
       "</tr>\n",
       "<tr>\n",
       "  <th>Genre_Platform</th>                         <td>   13.9890</td> <td> 7.66e+06</td> <td> 1.83e-06</td> <td> 1.000</td> <td> -1.5e+07</td> <td>  1.5e+07</td>\n",
       "</tr>\n",
       "<tr>\n",
       "  <th>Genre_Puzzle</th>                           <td>   13.2127</td> <td> 6.01e+06</td> <td>  2.2e-06</td> <td> 1.000</td> <td>-1.18e+07</td> <td> 1.18e+07</td>\n",
       "</tr>\n",
       "<tr>\n",
       "  <th>Genre_Racing</th>                           <td>   13.9939</td> <td> 5.19e+06</td> <td>  2.7e-06</td> <td> 1.000</td> <td>-1.02e+07</td> <td> 1.02e+07</td>\n",
       "</tr>\n",
       "<tr>\n",
       "  <th>Genre_Role-Playing</th>                     <td>   14.3604</td> <td> 7.15e+06</td> <td> 2.01e-06</td> <td> 1.000</td> <td> -1.4e+07</td> <td>  1.4e+07</td>\n",
       "</tr>\n",
       "<tr>\n",
       "  <th>Genre_Shooter</th>                          <td>   14.7638</td> <td>  4.3e+06</td> <td> 3.44e-06</td> <td> 1.000</td> <td>-8.42e+06</td> <td> 8.42e+06</td>\n",
       "</tr>\n",
       "<tr>\n",
       "  <th>Genre_Simulation</th>                       <td>   13.8659</td> <td> 6.75e+06</td> <td> 2.05e-06</td> <td> 1.000</td> <td>-1.32e+07</td> <td> 1.32e+07</td>\n",
       "</tr>\n",
       "<tr>\n",
       "  <th>Genre_Sports</th>                           <td>   14.3919</td> <td> 4.41e+06</td> <td> 3.26e-06</td> <td> 1.000</td> <td>-8.64e+06</td> <td> 8.64e+06</td>\n",
       "</tr>\n",
       "<tr>\n",
       "  <th>Genre_Strategy</th>                         <td>   13.8607</td> <td>  7.9e+06</td> <td> 1.75e-06</td> <td> 1.000</td> <td>-1.55e+07</td> <td> 1.55e+07</td>\n",
       "</tr>\n",
       "</table>\n",
       "<table class=\"simpletable\">\n",
       "<tr>\n",
       "        <td></td>          <th>coef</th>     <th>std err</th>      <th>z</th>      <th>P>|z|</th>  <th>[0.025</th>    <th>0.975]</th>  \n",
       "</tr>\n",
       "<tr>\n",
       "  <th>dispersion_1</th> <td>    2.5250</td> <td>    0.356</td> <td>    7.100</td> <td> 0.000</td> <td>    1.828</td> <td>    3.222</td>\n",
       "</tr>\n",
       "</table>\n",
       "<table class=\"simpletable\">\n",
       "<tr>\n",
       "     <td></td>       <th>coef</th>     <th>std err</th>      <th>z</th>      <th>P>|z|</th>  <th>[0.025</th>    <th>0.975]</th>  \n",
       "</tr>\n",
       "<tr>\n",
       "  <th>power_</th> <td>    2.3617</td> <td>    0.138</td> <td>   17.063</td> <td> 0.000</td> <td>    2.090</td> <td>    2.633</td>\n",
       "</tr>\n",
       "</table>"
      ],
      "text/plain": [
       "<class 'statsmodels.iolib.summary.Summary'>\n",
       "\"\"\"\n",
       "               Multivariate Covariance Generalized Linear Model               \n",
       "==============================================================================\n",
       "Dep. Variable:           Global_Sales   No. Iterations:                     49\n",
       "Model:                          MCGLM   No. Observations:                 1000\n",
       "link:                             log   Df Residuals:                      979\n",
       "variance:                     tweedie   Df Model:                           21\n",
       "Method:              Quasi-Likelihood   Power-fixed:                     False\n",
       "Date:                Thu, 04 Aug 2022   pAIC                           1696.13\n",
       "Time:                        12:48:35   pBIC                           1799.19\n",
       "                                        pLogLik                       -827.065\n",
       "==========================================================================================================\n",
       "                                             coef    std err          z      P>|z|      [0.025      0.975]\n",
       "----------------------------------------------------------------------------------------------------------\n",
       "Year                                      -0.0168      0.045     -0.374      0.709      -0.105       0.071\n",
       "Publisher_Activision                      18.9656   7.89e+06    2.4e-06      1.000   -1.55e+07    1.55e+07\n",
       "Publisher_Electronic Arts                 19.3968    3.3e+06   5.88e-06      1.000   -6.46e+06    6.46e+06\n",
       "Publisher_Konami Digital Entertainment    18.4784   5.41e+06   3.42e-06      1.000   -1.06e+07    1.06e+07\n",
       "Publisher_Namco Bandai Games              18.2468   5.14e+06   3.55e-06      1.000   -1.01e+07    1.01e+07\n",
       "Publisher_Nintendo                        20.5703    7.3e+06   2.82e-06      1.000   -1.43e+07    1.43e+07\n",
       "Publisher_THQ                             19.0984   7.44e+06   2.57e-06      1.000   -1.46e+07    1.46e+07\n",
       "Publisher_Ubisoft                         19.3827   6.52e+06   2.97e-06      1.000   -1.28e+07    1.28e+07\n",
       "Genre_Action                              13.9379   8.93e+06   1.56e-06      1.000   -1.75e+07    1.75e+07\n",
       "Genre_Adventure                           13.5300   7.59e+06   1.78e-06      1.000   -1.49e+07    1.49e+07\n",
       "Genre_Fighting                            14.4637   6.12e+06   2.36e-06      1.000    -1.2e+07     1.2e+07\n",
       "Genre_Misc                                14.3009   7.24e+06   1.98e-06      1.000   -1.42e+07    1.42e+07\n",
       "Genre_Platform                            13.9890   7.66e+06   1.83e-06      1.000    -1.5e+07     1.5e+07\n",
       "Genre_Puzzle                              13.2127   6.01e+06    2.2e-06      1.000   -1.18e+07    1.18e+07\n",
       "Genre_Racing                              13.9939   5.19e+06    2.7e-06      1.000   -1.02e+07    1.02e+07\n",
       "Genre_Role-Playing                        14.3604   7.15e+06   2.01e-06      1.000    -1.4e+07     1.4e+07\n",
       "Genre_Shooter                             14.7638    4.3e+06   3.44e-06      1.000   -8.42e+06    8.42e+06\n",
       "Genre_Simulation                          13.8659   6.75e+06   2.05e-06      1.000   -1.32e+07    1.32e+07\n",
       "Genre_Sports                              14.3919   4.41e+06   3.26e-06      1.000   -8.64e+06    8.64e+06\n",
       "Genre_Strategy                            13.8607    7.9e+06   1.75e-06      1.000   -1.55e+07    1.55e+07\n",
       "================================================================================\n",
       "                   coef    std err          z      P>|z|      [0.025      0.975]\n",
       "--------------------------------------------------------------------------------\n",
       "dispersion_1     2.5250      0.356      7.100      0.000       1.828       3.222\n",
       "==============================================================================\n",
       "                 coef    std err          z      P>|z|      [0.025      0.975]\n",
       "------------------------------------------------------------------------------\n",
       "power_         2.3617      0.138     17.063      0.000       2.090       2.633\n",
       "==============================================================================\n",
       "\"\"\""
      ]
     },
     "execution_count": 65,
     "metadata": {},
     "output_type": "execute_result"
    }
   ],
   "source": [
    "modelresults = MCGLM(y, \n",
    "                     X, \n",
    "                     [mc_id(X)], \n",
    "                     link='log', \n",
    "                     variance='tweedie', \n",
    "                     power=2, \n",
    "                     power_fixed=False, \n",
    "                     tuning=0.05\n",
    "                     ).fit()\n",
    "\n",
    "modelresults.summary()"
   ]
  },
  {
   "cell_type": "code",
   "execution_count": 66,
   "metadata": {},
   "outputs": [
    {
     "data": {
      "text/plain": [
       "Text(0, 0.5, 'pearson residue')"
      ]
     },
     "execution_count": 66,
     "metadata": {},
     "output_type": "execute_result"
    },
    {
     "data": {
      "image/png": "[encoded data removed]",
      "text/plain": [
       "<Figure size 432x288 with 1 Axes>"
      ]
     },
     "metadata": {
      "needs_background": "light"
     },
     "output_type": "display_data"
    }
   ],
   "source": [
    "# Residual Analysis\n",
    "plt.scatter(modelresults.mu, modelresults.pearson_residuals)\n",
    "plt.xlabel(\"mu\")\n",
    "plt.ylabel(\"pearson residue\")"
   ]
  },
  {
   "cell_type": "markdown",
   "metadata": {},
   "source": [
    "#### Generalized Linear Model   \n",
    "---\n",
    "Binomial Linear Model"
   ]
  },
  {
   "cell_type": "code",
   "execution_count": 91,
   "metadata": {},
   "outputs": [],
   "source": [
    "titanic = pd.read_csv('data/titanic.csv')"
   ]
  },
  {
   "cell_type": "code",
   "execution_count": 130,
   "metadata": {},
   "outputs": [],
   "source": [
    "y = titanic['Survived']\n",
    "\n",
    "#X = titanic[['Fare', 'SibSp',  'Embarked', 'Parch', 'Pclass', 'Sex']]\n",
    "X = titanic[['Fare', 'SibSp',  'Embarked', 'Parch', 'Pclass']]\n",
    "X = X.fillna('S')\n",
    "           \n",
    "\n",
    "X = pd.get_dummies(X)"
   ]
  },
  {
   "cell_type": "code",
   "execution_count": 132,
   "metadata": {},
   "outputs": [
    {
     "data": {
      "text/html": [
       "<table class=\"simpletable\">\n",
       "<caption>Multivariate Covariance Generalized Linear Model</caption>\n",
       "<tr>\n",
       "  <th>Dep. Variable:</th>     <td>Survived</td>     <th>  No. Iterations:    </th>     <td>0</td>    \n",
       "</tr>\n",
       "<tr>\n",
       "  <th>Model:</th>               <td>MCGLM</td>      <th>  No. Observations:  </th>    <td>891</td>   \n",
       "</tr>\n",
       "<tr>\n",
       "  <th>link:</th>               <td>cloglog</td>     <th>  Df Residuals:      </th>    <td>883</td>   \n",
       "</tr>\n",
       "<tr>\n",
       "  <th>variance:</th>          <td>binomialP</td>    <th>  Df Model:          </th>     <td>8</td>    \n",
       "</tr>\n",
       "<tr>\n",
       "  <th>Method:</th>        <td>Quasi-Likelihood</td> <th>  Power-fixed:       </th>   <td>True</td>   \n",
       "</tr>\n",
       "<tr>\n",
       "  <th>Date:</th>          <td>Thu, 04 Aug 2022</td> <th>  pAIC               </th>  <td>230.34</td>  \n",
       "</tr>\n",
       "<tr>\n",
       "  <th>Time:</th>              <td>14:39:26</td>     <th>  pBIC               </th>  <td>268.68</td>  \n",
       "</tr>\n",
       "<tr>\n",
       "  <th> </th>                      <td> </td>        <th>  pLogLik            </th> <td>-107.1682</td>\n",
       "</tr>\n",
       "</table>\n",
       "<table class=\"simpletable\">\n",
       "<tr>\n",
       "       <td></td>         <th>coef</th>     <th>std err</th>      <th>z</th>      <th>P>|z|</th>  <th>[0.025</th>    <th>0.975]</th>  \n",
       "</tr>\n",
       "<tr>\n",
       "  <th>Fare</th>       <td>    0.0015</td> <td>    0.001</td> <td>    1.311</td> <td> 0.190</td> <td>   -0.001</td> <td>    0.004</td>\n",
       "</tr>\n",
       "<tr>\n",
       "  <th>SibSp</th>      <td>   -0.0615</td> <td>    0.063</td> <td>   -0.973</td> <td> 0.330</td> <td>   -0.185</td> <td>    0.062</td>\n",
       "</tr>\n",
       "<tr>\n",
       "  <th>Parch</th>      <td>    0.1802</td> <td>    0.071</td> <td>    2.547</td> <td> 0.011</td> <td>    0.042</td> <td>    0.319</td>\n",
       "</tr>\n",
       "<tr>\n",
       "  <th>Pclass</th>     <td>   -0.5829</td> <td>    0.080</td> <td>   -7.293</td> <td> 0.000</td> <td>   -0.740</td> <td>   -0.426</td>\n",
       "</tr>\n",
       "<tr>\n",
       "  <th>Embarked_C</th> <td>    0.6777</td> <td>    0.211</td> <td>    3.206</td> <td> 0.001</td> <td>    0.263</td> <td>    1.092</td>\n",
       "</tr>\n",
       "<tr>\n",
       "  <th>Embarked_Q</th> <td>    0.9306</td> <td>    0.299</td> <td>    3.115</td> <td> 0.002</td> <td>    0.345</td> <td>    1.516</td>\n",
       "</tr>\n",
       "<tr>\n",
       "  <th>Embarked_S</th> <td>    0.3405</td> <td>    0.195</td> <td>    1.749</td> <td> 0.080</td> <td>   -0.041</td> <td>    0.722</td>\n",
       "</tr>\n",
       "</table>\n",
       "<table class=\"simpletable\">\n",
       "<tr>\n",
       "        <td></td>          <th>coef</th>     <th>std err</th>      <th>z</th>      <th>P>|z|</th>  <th>[0.025</th>    <th>0.975]</th>  \n",
       "</tr>\n",
       "<tr>\n",
       "  <th>dispersion_1</th> <td>    1.0000</td> <td>    0.034</td> <td>   29.731</td> <td> 0.000</td> <td>    0.934</td> <td>    1.066</td>\n",
       "</tr>\n",
       "</table>\n",
       "<table class=\"simpletable\">\n",
       "<tr>\n",
       "     <td></td>       <th>coef</th>     <th>std err</th>      <th>z</th>      <th>P>|z|</th>  <th>[0.025</th>    <th>0.975]</th>  \n",
       "</tr>\n",
       "<tr>\n",
       "  <th>power_</th> <td>    1.0000</td> <td>      nan</td> <td>      nan</td> <td>   nan</td> <td>      nan</td> <td>      nan</td>\n",
       "</tr>\n",
       "</table>"
      ],
      "text/plain": [
       "<class 'statsmodels.iolib.summary.Summary'>\n",
       "\"\"\"\n",
       "               Multivariate Covariance Generalized Linear Model               \n",
       "==============================================================================\n",
       "Dep. Variable:               Survived   No. Iterations:                      0\n",
       "Model:                          MCGLM   No. Observations:                  891\n",
       "link:                         cloglog   Df Residuals:                      883\n",
       "variance:                   binomialP   Df Model:                            8\n",
       "Method:              Quasi-Likelihood   Power-fixed:                      True\n",
       "Date:                Thu, 04 Aug 2022   pAIC                            230.34\n",
       "Time:                        14:39:26   pBIC                            268.68\n",
       "                                        pLogLik                      -107.1682\n",
       "==============================================================================\n",
       "                 coef    std err          z      P>|z|      [0.025      0.975]\n",
       "------------------------------------------------------------------------------\n",
       "Fare           0.0015      0.001      1.311      0.190      -0.001       0.004\n",
       "SibSp         -0.0615      0.063     -0.973      0.330      -0.185       0.062\n",
       "Parch          0.1802      0.071      2.547      0.011       0.042       0.319\n",
       "Pclass        -0.5829      0.080     -7.293      0.000      -0.740      -0.426\n",
       "Embarked_C     0.6777      0.211      3.206      0.001       0.263       1.092\n",
       "Embarked_Q     0.9306      0.299      3.115      0.002       0.345       1.516\n",
       "Embarked_S     0.3405      0.195      1.749      0.080      -0.041       0.722\n",
       "================================================================================\n",
       "                   coef    std err          z      P>|z|      [0.025      0.975]\n",
       "--------------------------------------------------------------------------------\n",
       "dispersion_1     1.0000      0.034     29.731      0.000       0.934       1.066\n",
       "==============================================================================\n",
       "                 coef    std err          z      P>|z|      [0.025      0.975]\n",
       "------------------------------------------------------------------------------\n",
       "power_         1.0000        nan        nan        nan         nan         nan\n",
       "==============================================================================\n",
       "\"\"\""
      ]
     },
     "execution_count": 132,
     "metadata": {},
     "output_type": "execute_result"
    }
   ],
   "source": [
    "modelresults = MCGLM(y, \n",
    "                     X, \n",
    "                     [mc_id(X)],\n",
    "                     link='cloglog',\n",
    "                     variance='binomialP',\n",
    "                     ntrial=1,\n",
    "                     tuning=0.05\n",
    "                     ).fit()\n",
    "modelresults.summary()"
   ]
  },
  {
   "cell_type": "code",
   "execution_count": 120,
   "metadata": {},
   "outputs": [
    {
     "data": {
      "text/plain": [
       "Text(0, 0.5, 'pearson residue')"
      ]
     },
     "execution_count": 120,
     "metadata": {},
     "output_type": "execute_result"
    },
    {
     "data": {
      "image/png": "[encoded data removed]",
      "text/plain": [
       "<Figure size 432x288 with 1 Axes>"
      ]
     },
     "metadata": {
      "needs_background": "light"
     },
     "output_type": "display_data"
    }
   ],
   "source": [
    "# Residual Analysis\n",
    "plt.scatter(modelresults.mu, modelresults.pearson_residuals)\n",
    "plt.xlabel(\"mu\")\n",
    "plt.ylabel(\"pearson residue\")"
   ]
  },
  {
   "cell_type": "code",
   "execution_count": 137,
   "metadata": {},
   "outputs": [],
   "source": [
    "## Evaluating multiple links\n",
    "modelresults_logit = MCGLM(y, X, [mc_id(X)], link='logit', variance='binomialP', ntrial=1, tuning=0.05).fit()\n",
    "\n",
    "modelresults_loglog = MCGLM(y, X, [mc_id(X)], link='loglog', variance='binomialP', ntrial=1, tuning=0.05).fit()\n",
    "\n",
    "modelresults_cloglog = MCGLM(y, X, [mc_id(X)], link='cloglog', variance='binomialP', ntrial=1, tuning=0.15).fit()\n",
    "\n",
    "modelresults_cauchy = MCGLM(y, X, [mc_id(X)], link='cauchy', variance='binomialP', ntrial=1, tuning=0.15).fit()"
   ]
  },
  {
   "cell_type": "code",
   "execution_count": 138,
   "metadata": {},
   "outputs": [
    {
     "name": "stdout",
     "output_type": "stream",
     "text": [
      "logit_aic:  213.8 , loglog_aic:  196.88 , cloglog_aic:  228.19 , cauchy_aic:  221.24\n"
     ]
    }
   ],
   "source": [
    "print('logit_aic: ', modelresults_logit.aic, \n",
    "      ', loglog_aic: ', modelresults_loglog.aic,\n",
    "      ', cloglog_aic: ', modelresults_cloglog.aic,\n",
    "      ', cauchy_aic: ', modelresults_cauchy.aic)"
   ]
  },
  {
   "cell_type": "code",
   "execution_count": 139,
   "metadata": {},
   "outputs": [
    {
     "data": {
      "text/plain": [
       "Text(0, 0.5, 'pearson residue')"
      ]
     },
     "execution_count": 139,
     "metadata": {},
     "output_type": "execute_result"
    },
    {
     "data": {
      "image/png": "[encoded data removed]",
      "text/plain": [
       "<Figure size 432x288 with 1 Axes>"
      ]
     },
     "metadata": {
      "needs_background": "light"
     },
     "output_type": "display_data"
    }
   ],
   "source": [
    "# Residual Analysis\n",
    "plt.scatter(modelresults_loglog.mu, modelresults_loglog.pearson_residuals)\n",
    "plt.xlabel(\"mu\")\n",
    "plt.ylabel(\"pearson residue\")"
   ]
  },
  {
   "cell_type": "markdown",
   "metadata": {},
   "source": [
    "### Dependence section"
   ]
  },
  {
   "cell_type": "markdown",
   "metadata": {},
   "source": [
    "Moving Averages model"
   ]
  },
  {
   "cell_type": "code",
   "execution_count": 148,
   "metadata": {},
   "outputs": [],
   "source": [
    "import statsmodels.api as sm\n",
    "\n",
    "dta = sm.datasets.sunspots.load_pandas().data\n",
    "\n",
    "X = add_constant(dta[['YEAR']])\n",
    "y = dta['SUNACTIVITY']"
   ]
  },
  {
   "cell_type": "code",
   "execution_count": 168,
   "metadata": {},
   "outputs": [
    {
     "data": {
      "text/plain": [
       "<AxesSubplot:xlabel='YEAR', ylabel='SUNACTIVITY'>"
      ]
     },
     "execution_count": 168,
     "metadata": {},
     "output_type": "execute_result"
    },
    {
     "data": {
      "image/png": "[encoded data removed]",
      "text/plain": [
       "<Figure size 432x288 with 1 Axes>"
      ]
     },
     "metadata": {
      "needs_background": "light"
     },
     "output_type": "display_data"
    }
   ],
   "source": [
    "sns.lineplot(dta['YEAR'], dta['SUNACTIVITY'])"
   ]
  },
  {
   "cell_type": "markdown",
   "metadata": {},
   "source": [
    "A great way to define the MA is by the ACF graph. Points outside the CI interval."
   ]
  },
  {
   "cell_type": "code",
   "execution_count": 165,
   "metadata": {},
   "outputs": [
    {
     "data": {
      "image/png": "[encoded data removed]",
      "text/plain": [
       "<Figure size 432x288 with 1 Axes>"
      ]
     },
     "metadata": {
      "needs_background": "light"
     },
     "output_type": "display_data"
    }
   ],
   "source": [
    "sm.graphics.tsa.plot_acf(dta['SUNACTIVITY'].squeeze(), lags=40)\n",
    "plt.show()"
   ]
  },
  {
   "cell_type": "markdown",
   "metadata": {},
   "source": [
    "We might add moving averages: 1, 2, 4, 5 e 6."
   ]
  },
  {
   "cell_type": "code",
   "execution_count": 169,
   "metadata": {},
   "outputs": [
    {
     "data": {
      "text/html": [
       "<table class=\"simpletable\">\n",
       "<caption>Multivariate Covariance Generalized Linear Model</caption>\n",
       "<tr>\n",
       "  <th>Dep. Variable:</th>    <td>SUNACTIVITY</td>   <th>  No. Iterations:    </th>     <td>29</td>    \n",
       "</tr>\n",
       "<tr>\n",
       "  <th>Model:</th>               <td>MCGLM</td>      <th>  No. Observations:  </th>     <td>309</td>   \n",
       "</tr>\n",
       "<tr>\n",
       "  <th>link:</th>              <td>identity</td>     <th>  Df Residuals:      </th>     <td>301</td>   \n",
       "</tr>\n",
       "<tr>\n",
       "  <th>variance:</th>          <td>constant</td>     <th>  Df Model:          </th>      <td>8</td>    \n",
       "</tr>\n",
       "<tr>\n",
       "  <th>Method:</th>        <td>Quasi-Likelihood</td> <th>  Power-fixed:       </th>    <td>True</td>   \n",
       "</tr>\n",
       "<tr>\n",
       "  <th>Date:</th>          <td>Mon, 08 Aug 2022</td> <th>  pAIC               </th>   <td>2338.73</td> \n",
       "</tr>\n",
       "<tr>\n",
       "  <th>Time:</th>              <td>19:34:18</td>     <th>  pBIC               </th>   <td>2368.6</td>  \n",
       "</tr>\n",
       "<tr>\n",
       "  <th> </th>                      <td> </td>        <th>  pLogLik            </th> <td>-1161.3656</td>\n",
       "</tr>\n",
       "</table>\n",
       "<table class=\"simpletable\">\n",
       "<tr>\n",
       "    <td></td>       <th>coef</th>     <th>std err</th>      <th>z</th>      <th>P>|z|</th>  <th>[0.025</th>    <th>0.975]</th>  \n",
       "</tr>\n",
       "<tr>\n",
       "  <th>const</th> <td> -131.8554</td> <td>   67.762</td> <td>   -1.946</td> <td> 0.052</td> <td> -264.667</td> <td>    0.956</td>\n",
       "</tr>\n",
       "<tr>\n",
       "  <th>YEAR</th>  <td>    0.0978</td> <td>    0.037</td> <td>    2.680</td> <td> 0.007</td> <td>    0.026</td> <td>    0.169</td>\n",
       "</tr>\n",
       "</table>\n",
       "<table class=\"simpletable\">\n",
       "<tr>\n",
       "        <td></td>          <th>coef</th>     <th>std err</th>      <th>z</th>      <th>P>|z|</th>  <th>[0.025</th>    <th>0.975]</th>  \n",
       "</tr>\n",
       "<tr>\n",
       "  <th>dispersion_1</th> <td> 1280.5530</td> <td>  161.496</td> <td>    7.929</td> <td> 0.000</td> <td>  964.027</td> <td> 1597.079</td>\n",
       "</tr>\n",
       "<tr>\n",
       "  <th>dispersion_2</th> <td>  997.4170</td> <td>  119.756</td> <td>    8.329</td> <td> 0.000</td> <td>  762.699</td> <td> 1232.135</td>\n",
       "</tr>\n",
       "<tr>\n",
       "  <th>dispersion_3</th> <td>  465.2660</td> <td>   56.893</td> <td>    8.178</td> <td> 0.000</td> <td>  353.757</td> <td>  576.775</td>\n",
       "</tr>\n",
       "<tr>\n",
       "  <th>dispersion_4</th> <td> -201.9190</td> <td>   26.457</td> <td>   -7.632</td> <td> 0.000</td> <td> -253.773</td> <td> -150.065</td>\n",
       "</tr>\n",
       "<tr>\n",
       "  <th>dispersion_5</th> <td> -177.6790</td> <td>   22.804</td> <td>   -7.792</td> <td> 0.000</td> <td> -222.373</td> <td> -132.985</td>\n",
       "</tr>\n",
       "<tr>\n",
       "  <th>dispersion_6</th> <td>  -65.7750</td> <td>    9.820</td> <td>   -6.698</td> <td> 0.000</td> <td>  -85.023</td> <td>  -46.527</td>\n",
       "</tr>\n",
       "</table>\n",
       "<table class=\"simpletable\">\n",
       "<tr>\n",
       "     <td></td>       <th>coef</th>     <th>std err</th>      <th>z</th>      <th>P>|z|</th>  <th>[0.025</th>    <th>0.975]</th>  \n",
       "</tr>\n",
       "<tr>\n",
       "  <th>power_</th> <td>    1.0000</td> <td>      nan</td> <td>      nan</td> <td>   nan</td> <td>      nan</td> <td>      nan</td>\n",
       "</tr>\n",
       "</table>"
      ],
      "text/plain": [
       "<class 'statsmodels.iolib.summary.Summary'>\n",
       "\"\"\"\n",
       "               Multivariate Covariance Generalized Linear Model               \n",
       "==============================================================================\n",
       "Dep. Variable:            SUNACTIVITY   No. Iterations:                     29\n",
       "Model:                          MCGLM   No. Observations:                  309\n",
       "link:                        identity   Df Residuals:                      301\n",
       "variance:                    constant   Df Model:                            8\n",
       "Method:              Quasi-Likelihood   Power-fixed:                      True\n",
       "Date:                Mon, 08 Aug 2022   pAIC                           2338.73\n",
       "Time:                        19:34:18   pBIC                            2368.6\n",
       "                                        pLogLik                     -1161.3656\n",
       "==============================================================================\n",
       "                 coef    std err          z      P>|z|      [0.025      0.975]\n",
       "------------------------------------------------------------------------------\n",
       "const       -131.8554     67.762     -1.946      0.052    -264.667       0.956\n",
       "YEAR           0.0978      0.037      2.680      0.007       0.026       0.169\n",
       "================================================================================\n",
       "                   coef    std err          z      P>|z|      [0.025      0.975]\n",
       "--------------------------------------------------------------------------------\n",
       "dispersion_1  1280.5530    161.496      7.929      0.000     964.027    1597.079\n",
       "dispersion_2   997.4170    119.756      8.329      0.000     762.699    1232.135\n",
       "dispersion_3   465.2660     56.893      8.178      0.000     353.757     576.775\n",
       "dispersion_4  -201.9190     26.457     -7.632      0.000    -253.773    -150.065\n",
       "dispersion_5  -177.6790     22.804     -7.792      0.000    -222.373    -132.985\n",
       "dispersion_6   -65.7750      9.820     -6.698      0.000     -85.023     -46.527\n",
       "==============================================================================\n",
       "                 coef    std err          z      P>|z|      [0.025      0.975]\n",
       "------------------------------------------------------------------------------\n",
       "power_         1.0000        nan        nan        nan         nan         nan\n",
       "==============================================================================\n",
       "\"\"\""
      ]
     },
     "execution_count": 169,
     "metadata": {},
     "output_type": "execute_result"
    }
   ],
   "source": [
    "modelresults = MCGLM(y, \n",
    "                     X, \n",
    "                     [mc_id(X), \n",
    "                      mc_ma(id='const', time='YEAR', data=X, order=1), \n",
    "                      mc_ma(id='const', time='YEAR', data=X, order=2), \n",
    "                      mc_ma(id='const', time='YEAR', data=X, order=4),\n",
    "                      mc_ma(id='const', time='YEAR', data=X, order=5),\n",
    "                      mc_ma(id='const', time='YEAR', data=X, order=6)\n",
    "                      ]\n",
    "                     ).fit()\n",
    "\n",
    "modelresults.summary()"
   ]
  },
  {
   "cell_type": "markdown",
   "metadata": {},
   "source": [
    "The dispersion parameters show the error correction values specified on the model parameter."
   ]
  },
  {
   "cell_type": "markdown",
   "metadata": {},
   "source": [
    "#### Mixed Models\n",
    "\n",
    "---------"
   ]
  },
  {
   "cell_type": "code",
   "execution_count": 170,
   "metadata": {},
   "outputs": [
    {
     "data": {
      "text/html": [
       "<div>\n",
       "<style scoped>\n",
       "    .dataframe tbody tr th:only-of-type {\n",
       "        vertical-align: middle;\n",
       "    }\n",
       "\n",
       "    .dataframe tbody tr th {\n",
       "        vertical-align: top;\n",
       "    }\n",
       "\n",
       "    .dataframe thead th {\n",
       "        text-align: right;\n",
       "    }\n",
       "</style>\n",
       "<table border=\"1\" class=\"dataframe\">\n",
       "  <thead>\n",
       "    <tr style=\"text-align: right;\">\n",
       "      <th></th>\n",
       "      <th>Reaction</th>\n",
       "      <th>Days</th>\n",
       "      <th>Subject</th>\n",
       "    </tr>\n",
       "  </thead>\n",
       "  <tbody>\n",
       "    <tr>\n",
       "      <th>0</th>\n",
       "      <td>249.5600</td>\n",
       "      <td>0</td>\n",
       "      <td>308</td>\n",
       "    </tr>\n",
       "    <tr>\n",
       "      <th>1</th>\n",
       "      <td>258.7047</td>\n",
       "      <td>1</td>\n",
       "      <td>308</td>\n",
       "    </tr>\n",
       "    <tr>\n",
       "      <th>2</th>\n",
       "      <td>250.8006</td>\n",
       "      <td>2</td>\n",
       "      <td>308</td>\n",
       "    </tr>\n",
       "    <tr>\n",
       "      <th>3</th>\n",
       "      <td>321.4398</td>\n",
       "      <td>3</td>\n",
       "      <td>308</td>\n",
       "    </tr>\n",
       "    <tr>\n",
       "      <th>4</th>\n",
       "      <td>356.8519</td>\n",
       "      <td>4</td>\n",
       "      <td>308</td>\n",
       "    </tr>\n",
       "    <tr>\n",
       "      <th>5</th>\n",
       "      <td>414.6901</td>\n",
       "      <td>5</td>\n",
       "      <td>308</td>\n",
       "    </tr>\n",
       "    <tr>\n",
       "      <th>6</th>\n",
       "      <td>382.2038</td>\n",
       "      <td>6</td>\n",
       "      <td>308</td>\n",
       "    </tr>\n",
       "    <tr>\n",
       "      <th>7</th>\n",
       "      <td>290.1486</td>\n",
       "      <td>7</td>\n",
       "      <td>308</td>\n",
       "    </tr>\n",
       "    <tr>\n",
       "      <th>8</th>\n",
       "      <td>430.5853</td>\n",
       "      <td>8</td>\n",
       "      <td>308</td>\n",
       "    </tr>\n",
       "    <tr>\n",
       "      <th>9</th>\n",
       "      <td>466.3535</td>\n",
       "      <td>9</td>\n",
       "      <td>308</td>\n",
       "    </tr>\n",
       "  </tbody>\n",
       "</table>\n",
       "</div>"
      ],
      "text/plain": [
       "   Reaction  Days Subject\n",
       "0  249.5600     0     308\n",
       "1  258.7047     1     308\n",
       "2  250.8006     2     308\n",
       "3  321.4398     3     308\n",
       "4  356.8519     4     308\n",
       "5  414.6901     5     308\n",
       "6  382.2038     6     308\n",
       "7  290.1486     7     308\n",
       "8  430.5853     8     308\n",
       "9  466.3535     9     308"
      ]
     },
     "execution_count": 170,
     "metadata": {},
     "output_type": "execute_result"
    }
   ],
   "source": [
    "# Top 10 cells to get an intuition about data.\n",
    "sleepstudy = pd.read_csv(\"data/first_simulation/sleepstudy.csv\", dtype={\"Subject\": \"str\"})\n",
    "\n",
    "sleepstudy.head(10)"
   ]
  },
  {
   "cell_type": "code",
   "execution_count": 171,
   "metadata": {},
   "outputs": [
    {
     "data": {
      "text/plain": [
       "<matplotlib.legend.Legend at 0x7f2cf0b93fd0>"
      ]
     },
     "execution_count": 171,
     "metadata": {},
     "output_type": "execute_result"
    },
    {
     "data": {
      "image/png": "[encoded data removed]",
      "text/plain": [
       "<Figure size 432x288 with 1 Axes>"
      ]
     },
     "metadata": {
      "needs_background": "light"
     },
     "output_type": "display_data"
    }
   ],
   "source": [
    "## Plotting curve of 18 subjects\n",
    "_ = sns.lineplot(x=\"Days\", y=\"Reaction\", hue=\"Subject\", data=sleepstudy)\n",
    "plt.legend(bbox_to_anchor=(1.05, 1), loc=2, borderaxespad=0.0)"
   ]
  },
  {
   "cell_type": "code",
   "execution_count": 174,
   "metadata": {},
   "outputs": [],
   "source": [
    "# Design Matrix\n",
    "X = dmatrix(\"~ Days\", sleepstudy, return_type=\"dataframe\")\n",
    "\n",
    "# Z specification\n",
    "Z = [mc_id(sleepstudy)] + mc_mixed(formula=\"~ 0 + Subject / Days\", data=sleepstudy)"
   ]
  },
  {
   "cell_type": "code",
   "execution_count": 175,
   "metadata": {},
   "outputs": [],
   "source": [
    "# Model fitting\n",
    "mcglm = MCGLM(endog=sleepstudy[\"Reaction\"], exog=X, z=Z)\n",
    "\n",
    "mcglmresults = mcglm.fit()"
   ]
  },
  {
   "cell_type": "code",
   "execution_count": 176,
   "metadata": {},
   "outputs": [
    {
     "data": {
      "text/html": [
       "<table class=\"simpletable\">\n",
       "<caption>Multivariate Covariance Generalized Linear Model</caption>\n",
       "<tr>\n",
       "  <th>Dep. Variable:</th>     <td>Reaction</td>     <th>  No. Iterations:    </th>    <td>20</td>    \n",
       "</tr>\n",
       "<tr>\n",
       "  <th>Model:</th>               <td>MCGLM</td>      <th>  No. Observations:  </th>    <td>180</td>   \n",
       "</tr>\n",
       "<tr>\n",
       "  <th>link:</th>              <td>identity</td>     <th>  Df Residuals:      </th>    <td>174</td>   \n",
       "</tr>\n",
       "<tr>\n",
       "  <th>variance:</th>          <td>constant</td>     <th>  Df Model:          </th>     <td>6</td>    \n",
       "</tr>\n",
       "<tr>\n",
       "  <th>Method:</th>        <td>Quasi-Likelihood</td> <th>  Power-fixed:       </th>   <td>True</td>   \n",
       "</tr>\n",
       "<tr>\n",
       "  <th>Date:</th>          <td>Mon, 08 Aug 2022</td> <th>  pAIC               </th>  <td>1583.94</td> \n",
       "</tr>\n",
       "<tr>\n",
       "  <th>Time:</th>              <td>19:45:56</td>     <th>  pBIC               </th>  <td>1603.1</td>  \n",
       "</tr>\n",
       "<tr>\n",
       "  <th> </th>                      <td> </td>        <th>  pLogLik            </th> <td>-785.9704</td>\n",
       "</tr>\n",
       "</table>\n",
       "<table class=\"simpletable\">\n",
       "<tr>\n",
       "      <td></td>         <th>coef</th>     <th>std err</th>      <th>z</th>      <th>P>|z|</th>  <th>[0.025</th>    <th>0.975]</th>  \n",
       "</tr>\n",
       "<tr>\n",
       "  <th>Intercept</th> <td>  251.4051</td> <td>    6.632</td> <td>   37.906</td> <td> 0.000</td> <td>  238.406</td> <td>  264.404</td>\n",
       "</tr>\n",
       "<tr>\n",
       "  <th>Days</th>      <td>   10.4673</td> <td>    1.502</td> <td>    6.968</td> <td> 0.000</td> <td>    7.523</td> <td>   13.412</td>\n",
       "</tr>\n",
       "</table>\n",
       "<table class=\"simpletable\">\n",
       "<tr>\n",
       "        <td></td>          <th>coef</th>     <th>std err</th>      <th>z</th>      <th>P>|z|</th>  <th>[0.025</th>    <th>0.975]</th>  \n",
       "</tr>\n",
       "<tr>\n",
       "  <th>dispersion_1</th> <td>  654.9420</td> <td>   70.624</td> <td>    9.274</td> <td> 0.000</td> <td>  516.521</td> <td>  793.363</td>\n",
       "</tr>\n",
       "<tr>\n",
       "  <th>dispersion_2</th> <td>  565.5150</td> <td>  264.679</td> <td>    2.137</td> <td> 0.033</td> <td>   46.753</td> <td> 1084.277</td>\n",
       "</tr>\n",
       "<tr>\n",
       "  <th>dispersion_3</th> <td>   32.6820</td> <td>   13.560</td> <td>    2.410</td> <td> 0.016</td> <td>    6.105</td> <td>   59.259</td>\n",
       "</tr>\n",
       "<tr>\n",
       "  <th>dispersion_4</th> <td>   11.0550</td> <td>   42.948</td> <td>    0.257</td> <td> 0.797</td> <td>  -73.121</td> <td>   95.231</td>\n",
       "</tr>\n",
       "</table>\n",
       "<table class=\"simpletable\">\n",
       "<tr>\n",
       "     <td></td>       <th>coef</th>     <th>std err</th>      <th>z</th>      <th>P>|z|</th>  <th>[0.025</th>    <th>0.975]</th>  \n",
       "</tr>\n",
       "<tr>\n",
       "  <th>power_</th> <td>    1.0000</td> <td>      nan</td> <td>      nan</td> <td>   nan</td> <td>      nan</td> <td>      nan</td>\n",
       "</tr>\n",
       "</table>"
      ],
      "text/plain": [
       "<class 'statsmodels.iolib.summary.Summary'>\n",
       "\"\"\"\n",
       "               Multivariate Covariance Generalized Linear Model               \n",
       "==============================================================================\n",
       "Dep. Variable:               Reaction   No. Iterations:                     20\n",
       "Model:                          MCGLM   No. Observations:                  180\n",
       "link:                        identity   Df Residuals:                      174\n",
       "variance:                    constant   Df Model:                            6\n",
       "Method:              Quasi-Likelihood   Power-fixed:                      True\n",
       "Date:                Mon, 08 Aug 2022   pAIC                           1583.94\n",
       "Time:                        19:45:56   pBIC                            1603.1\n",
       "                                        pLogLik                      -785.9704\n",
       "==============================================================================\n",
       "                 coef    std err          z      P>|z|      [0.025      0.975]\n",
       "------------------------------------------------------------------------------\n",
       "Intercept    251.4051      6.632     37.906      0.000     238.406     264.404\n",
       "Days          10.4673      1.502      6.968      0.000       7.523      13.412\n",
       "================================================================================\n",
       "                   coef    std err          z      P>|z|      [0.025      0.975]\n",
       "--------------------------------------------------------------------------------\n",
       "dispersion_1   654.9420     70.624      9.274      0.000     516.521     793.363\n",
       "dispersion_2   565.5150    264.679      2.137      0.033      46.753    1084.277\n",
       "dispersion_3    32.6820     13.560      2.410      0.016       6.105      59.259\n",
       "dispersion_4    11.0550     42.948      0.257      0.797     -73.121      95.231\n",
       "==============================================================================\n",
       "                 coef    std err          z      P>|z|      [0.025      0.975]\n",
       "------------------------------------------------------------------------------\n",
       "power_         1.0000        nan        nan        nan         nan         nan\n",
       "==============================================================================\n",
       "\"\"\""
      ]
     },
     "execution_count": 176,
     "metadata": {},
     "output_type": "execute_result"
    }
   ],
   "source": [
    "mcglmresults.summary()"
   ]
  },
  {
   "cell_type": "markdown",
   "metadata": {},
   "source": [
    "#### Beta coefficients  \n",
    "The Beta section diagnose the fixed-effects parameters, that is to say, the conclusion overall subjects.  \n",
    "\n",
    "    Intercept set at value 251.40. The straightforward takeaway is: At day 0, the average response time is roughly 251 seconds.\n",
    "    In addition, Days at 10.46 allude to total change to response time by unit changes on Days, for subjects with random effects set to 0.\n",
    "    Furthermore, by the results of the wald test on Days, we might conclude that days are statistically significant in the statistical model.\n",
    "---\n",
    "#### Dispersion parameters   \n",
    "The Dispersion parameters allude to random effects within individuals throughout the days.  \n",
    "\n",
    "    The first dispersion parameter is the variance across all data points. Calculated in 654.94.\n",
    "    The second dispersion parameter is the variance across all intercepts, which is 565.51.\n",
    "    The third dispersion parameter is the variance across all slopes. Calculated in 32.68. \n",
    "    The fourth dispersion parameter is the variance across intercepts and slopes. Calculated in 11.05.\n",
    "\n",
    "* Moreover, the correlation might be calculated through the formula = dispersion_4/(sqrt(dispersion_2) + sqrt(dispersion_3)). Cell below shows the pearson correlation result, 0.37.   "
   ]
  },
  {
   "cell_type": "markdown",
   "metadata": {},
   "source": [
    "### Soya\n",
    "\n",
    "`Soya` is a dataset that stores an experiment of Universidade Federal da Grande Dourados in Dourados, Mato Grosso do Sul, Brazil. Description:    \n",
    "https://github.com/walmes/wzRfun/blob/master/R/wzRfun.R#L10   \n",
    "http://ccarevista.ufc.br/seer/index.php/ccarevista/article/view/1454  \n",
    "\n",
    "The experiment collected data about different treatments of `potassium`, `water`, and `blocks` for soil farming on buckets. All of those covariates are categorical. The response traits to be analyzed are: `grain size`, `total seeds`, and `viable peas`, which stands for the weight of hundred grains, total grain per bucket, and percentage of viable peas(green beans). In the following, MCGLM fits onto this data with three unique kinds of answers: continuous, count, and binomial."
   ]
  },
  {
   "cell_type": "code",
   "execution_count": 177,
   "metadata": {},
   "outputs": [],
   "source": [
    "soya = pd.read_csv(\n",
    "    \"data/fourth_simulation/soya.csv\", dtype={\"block\": \"str\", \"water\": \"str\", \"pot\": \"str\"}\n",
    ")\n",
    "\n",
    "soya[\"viablegrain\"] = soya[\"viablepeas\"] / soya[\"totalpeas\"]"
   ]
  },
  {
   "cell_type": "code",
   "execution_count": 178,
   "metadata": {},
   "outputs": [],
   "source": [
    "# percentual of peas.\n",
    "soya[\"viablePeas\"] = soya[\"viablepeas\"] / soya[\"totalpeas\"]\n",
    "\n",
    "# Design matrix.\n",
    "X = dmatrix(\"~ block + water * pot\", soya, return_type=\"dataframe\")"
   ]
  },
  {
   "cell_type": "code",
   "execution_count": 179,
   "metadata": {},
   "outputs": [],
   "source": [
    "# Model Specification\n",
    "mcglm = MCGLM(\n",
    "    endog=[soya[\"grain\"], soya[\"seeds\"], soya[\"viablePeas\"]],\n",
    "    exog=[X, X, X],\n",
    "    z=[[mc_id(soya)], [mc_id(soya)], [mc_id(soya)]],\n",
    "    link=[\"identity\", \"log\", \"logit\"],\n",
    "    variance=[\"constant\", \"tweedie\", \"binomialP\"],\n",
    "    ntrial=[None, None, soya[\"totalpeas\"].values],\n",
    ")\n",
    "\n",
    "\n",
    "mcglmresults = mcglm.fit()"
   ]
  },
  {
   "cell_type": "code",
   "execution_count": 180,
   "metadata": {},
   "outputs": [
    {
     "data": {
      "text/html": [
       "<table class=\"simpletable\">\n",
       "<caption>Multivariate Covariance Generalized Linear Model</caption>\n",
       "<tr>\n",
       "  <th>Dep. Variable:</th>       <td>grain</td>      <th>  No. Iterations:    </th>    <td>10</td>    \n",
       "</tr>\n",
       "<tr>\n",
       "  <th>Model:</th>               <td>MCGLM</td>      <th>  No. Observations:  </th>    <td>75</td>    \n",
       "</tr>\n",
       "<tr>\n",
       "  <th>link:</th>              <td>identity</td>     <th>  Df Residuals:      </th>    <td>55</td>    \n",
       "</tr>\n",
       "<tr>\n",
       "  <th>variance:</th>          <td>constant</td>     <th>  Df Model:          </th>    <td>20</td>    \n",
       "</tr>\n",
       "<tr>\n",
       "  <th>Method:</th>        <td>Quasi-Likelihood</td> <th>  Power-fixed:       </th>   <td>True</td>   \n",
       "</tr>\n",
       "<tr>\n",
       "  <th>Date:</th>          <td>Mon, 08 Aug 2022</td> <th>  pAIC               </th>  <td>448.21</td>  \n",
       "</tr>\n",
       "<tr>\n",
       "  <th>Time:</th>              <td>19:54:33</td>     <th>  pBIC               </th>  <td>516.53</td>  \n",
       "</tr>\n",
       "<tr>\n",
       "  <th> </th>                      <td> </td>        <th>  pLogLik            </th> <td>-204.1064</td>\n",
       "</tr>\n",
       "</table>\n",
       "<table class=\"simpletable\">\n",
       "<tr>\n",
       "              <td></td>                <th>coef</th>     <th>std err</th>      <th>z</th>      <th>P>|z|</th>  <th>[0.025</th>    <th>0.975]</th>  \n",
       "</tr>\n",
       "<tr>\n",
       "  <th>Intercept</th>                <td>   14.2456</td> <td>    1.218</td> <td>   11.699</td> <td> 0.000</td> <td>   11.859</td> <td>   16.632</td>\n",
       "</tr>\n",
       "<tr>\n",
       "  <th>block[T.II]</th>              <td>    1.1324</td> <td>    0.880</td> <td>    1.286</td> <td> 0.198</td> <td>   -0.593</td> <td>    2.858</td>\n",
       "</tr>\n",
       "<tr>\n",
       "  <th>block[T.III]</th>             <td>   -0.7801</td> <td>    0.880</td> <td>   -0.886</td> <td> 0.376</td> <td>   -2.506</td> <td>    0.946</td>\n",
       "</tr>\n",
       "<tr>\n",
       "  <th>block[T.IV]</th>              <td>   -1.5492</td> <td>    0.880</td> <td>   -1.760</td> <td> 0.078</td> <td>   -3.275</td> <td>    0.176</td>\n",
       "</tr>\n",
       "<tr>\n",
       "  <th>block[T.V]</th>               <td>   -2.3871</td> <td>    0.880</td> <td>   -2.711</td> <td> 0.007</td> <td>   -4.113</td> <td>   -0.661</td>\n",
       "</tr>\n",
       "<tr>\n",
       "  <th>water[T.50]</th>              <td>    2.1661</td> <td>    1.531</td> <td>    1.415</td> <td> 0.157</td> <td>   -0.835</td> <td>    5.167</td>\n",
       "</tr>\n",
       "<tr>\n",
       "  <th>water[T.62.5]</th>            <td>    2.5404</td> <td>    1.531</td> <td>    1.659</td> <td> 0.097</td> <td>   -0.460</td> <td>    5.541</td>\n",
       "</tr>\n",
       "<tr>\n",
       "  <th>pot[T.120]</th>               <td>   11.7898</td> <td>    1.531</td> <td>    7.701</td> <td> 0.000</td> <td>    8.789</td> <td>   14.790</td>\n",
       "</tr>\n",
       "<tr>\n",
       "  <th>pot[T.180]</th>               <td>   11.8633</td> <td>    1.531</td> <td>    7.749</td> <td> 0.000</td> <td>    8.863</td> <td>   14.864</td>\n",
       "</tr>\n",
       "<tr>\n",
       "  <th>pot[T.30]</th>                <td>    6.7895</td> <td>    1.531</td> <td>    4.435</td> <td> 0.000</td> <td>    3.789</td> <td>    9.790</td>\n",
       "</tr>\n",
       "<tr>\n",
       "  <th>pot[T.60]</th>                <td>   10.3978</td> <td>    1.531</td> <td>    6.792</td> <td> 0.000</td> <td>    7.397</td> <td>   13.399</td>\n",
       "</tr>\n",
       "<tr>\n",
       "  <th>water[T.50]:pot[T.120]</th>   <td>    2.2543</td> <td>    2.165</td> <td>    1.041</td> <td> 0.298</td> <td>   -1.989</td> <td>    6.498</td>\n",
       "</tr>\n",
       "<tr>\n",
       "  <th>water[T.62.5]:pot[T.120]</th> <td>    5.5828</td> <td>    2.165</td> <td>    2.578</td> <td> 0.010</td> <td>    1.339</td> <td>    9.826</td>\n",
       "</tr>\n",
       "<tr>\n",
       "  <th>water[T.50]:pot[T.180]</th>   <td>    1.2096</td> <td>    2.165</td> <td>    0.559</td> <td> 0.576</td> <td>   -3.034</td> <td>    5.453</td>\n",
       "</tr>\n",
       "<tr>\n",
       "  <th>water[T.62.5]:pot[T.180]</th> <td>    9.2389</td> <td>    2.165</td> <td>    4.267</td> <td> 0.000</td> <td>    4.995</td> <td>   13.483</td>\n",
       "</tr>\n",
       "<tr>\n",
       "  <th>water[T.50]:pot[T.30]</th>    <td>    0.1067</td> <td>    2.165</td> <td>    0.049</td> <td> 0.961</td> <td>   -4.137</td> <td>    4.350</td>\n",
       "</tr>\n",
       "<tr>\n",
       "  <th>water[T.62.5]:pot[T.30]</th>  <td>   -1.8678</td> <td>    2.165</td> <td>   -0.863</td> <td> 0.388</td> <td>   -6.112</td> <td>    2.376</td>\n",
       "</tr>\n",
       "<tr>\n",
       "  <th>water[T.50]:pot[T.60]</th>    <td>    2.6034</td> <td>    2.165</td> <td>    1.202</td> <td> 0.229</td> <td>   -1.640</td> <td>    6.847</td>\n",
       "</tr>\n",
       "<tr>\n",
       "  <th>water[T.62.5]:pot[T.60]</th>  <td>    3.3586</td> <td>    2.165</td> <td>    1.551</td> <td> 0.121</td> <td>   -0.885</td> <td>    7.602</td>\n",
       "</tr>\n",
       "</table>\n",
       "<table class=\"simpletable\">\n",
       "<tr>\n",
       "        <td></td>          <th>coef</th>     <th>std err</th>      <th>z</th>      <th>P>|z|</th>  <th>[0.025</th>    <th>0.975]</th>  \n",
       "</tr>\n",
       "<tr>\n",
       "  <th>dispersion_1</th> <td>    5.8620</td> <td>    1.671</td> <td>    3.508</td> <td> 0.000</td> <td>    2.587</td> <td>    9.137</td>\n",
       "</tr>\n",
       "</table>\n",
       "<table class=\"simpletable\">\n",
       "<tr>\n",
       "     <td></td>       <th>coef</th>     <th>std err</th>      <th>z</th>      <th>P>|z|</th>  <th>[0.025</th>    <th>0.975]</th>  \n",
       "</tr>\n",
       "<tr>\n",
       "  <th>power_</th> <td>    1.0000</td> <td>      nan</td> <td>      nan</td> <td>   nan</td> <td>      nan</td> <td>      nan</td>\n",
       "</tr>\n",
       "</table>\n",
       "<table class=\"simpletable\">\n",
       "<caption>Multivariate Covariance Generalized Linear Model</caption>\n",
       "<tr>\n",
       "  <th>Dep. Variable:</th>       <td>seeds</td>      <th>  No. Iterations:    </th>    <td>10</td>    \n",
       "</tr>\n",
       "<tr>\n",
       "  <th>Model:</th>               <td>MCGLM</td>      <th>  No. Observations:  </th>    <td>75</td>    \n",
       "</tr>\n",
       "<tr>\n",
       "  <th>link:</th>                 <td>log</td>       <th>  Df Residuals:      </th>    <td>55</td>    \n",
       "</tr>\n",
       "<tr>\n",
       "  <th>variance:</th>           <td>tweedie</td>     <th>  Df Model:          </th>    <td>20</td>    \n",
       "</tr>\n",
       "<tr>\n",
       "  <th>Method:</th>        <td>Quasi-Likelihood</td> <th>  Power-fixed:       </th>   <td>True</td>   \n",
       "</tr>\n",
       "<tr>\n",
       "  <th>Date:</th>          <td>Mon, 08 Aug 2022</td> <th>  pAIC               </th>  <td>448.21</td>  \n",
       "</tr>\n",
       "<tr>\n",
       "  <th>Time:</th>              <td>19:54:33</td>     <th>  pBIC               </th>  <td>516.53</td>  \n",
       "</tr>\n",
       "<tr>\n",
       "  <th> </th>                      <td> </td>        <th>  pLogLik            </th> <td>-204.1064</td>\n",
       "</tr>\n",
       "</table>\n",
       "<table class=\"simpletable\">\n",
       "<tr>\n",
       "              <td></td>                <th>coef</th>     <th>std err</th>      <th>z</th>      <th>P>|z|</th>  <th>[0.025</th>    <th>0.975]</th>  \n",
       "</tr>\n",
       "<tr>\n",
       "  <th>Intercept</th>                <td>    4.8074</td> <td>    0.066</td> <td>   73.099</td> <td> 0.000</td> <td>    4.679</td> <td>    4.936</td>\n",
       "</tr>\n",
       "<tr>\n",
       "  <th>block[T.II]</th>              <td>   -0.0182</td> <td>    0.039</td> <td>   -0.469</td> <td> 0.639</td> <td>   -0.094</td> <td>    0.058</td>\n",
       "</tr>\n",
       "<tr>\n",
       "  <th>block[T.III]</th>             <td>   -0.0330</td> <td>    0.039</td> <td>   -0.845</td> <td> 0.398</td> <td>   -0.110</td> <td>    0.044</td>\n",
       "</tr>\n",
       "<tr>\n",
       "  <th>block[T.IV]</th>              <td>   -0.1066</td> <td>    0.040</td> <td>   -2.678</td> <td> 0.007</td> <td>   -0.185</td> <td>   -0.029</td>\n",
       "</tr>\n",
       "<tr>\n",
       "  <th>block[T.V]</th>               <td>   -0.1262</td> <td>    0.040</td> <td>   -3.154</td> <td> 0.002</td> <td>   -0.205</td> <td>   -0.048</td>\n",
       "</tr>\n",
       "<tr>\n",
       "  <th>water[T.50]</th>              <td>    0.1322</td> <td>    0.084</td> <td>    1.579</td> <td> 0.114</td> <td>   -0.032</td> <td>    0.296</td>\n",
       "</tr>\n",
       "<tr>\n",
       "  <th>water[T.62.5]</th>            <td>    0.1864</td> <td>    0.083</td> <td>    2.255</td> <td> 0.024</td> <td>    0.024</td> <td>    0.348</td>\n",
       "</tr>\n",
       "<tr>\n",
       "  <th>pot[T.120]</th>               <td>    0.3672</td> <td>    0.079</td> <td>    4.620</td> <td> 0.000</td> <td>    0.211</td> <td>    0.523</td>\n",
       "</tr>\n",
       "<tr>\n",
       "  <th>pot[T.180]</th>               <td>    0.2945</td> <td>    0.081</td> <td>    3.649</td> <td> 0.000</td> <td>    0.136</td> <td>    0.453</td>\n",
       "</tr>\n",
       "<tr>\n",
       "  <th>pot[T.30]</th>                <td>    0.2980</td> <td>    0.081</td> <td>    3.695</td> <td> 0.000</td> <td>    0.140</td> <td>    0.456</td>\n",
       "</tr>\n",
       "<tr>\n",
       "  <th>pot[T.60]</th>                <td>    0.3444</td> <td>    0.080</td> <td>    4.312</td> <td> 0.000</td> <td>    0.188</td> <td>    0.501</td>\n",
       "</tr>\n",
       "<tr>\n",
       "  <th>water[T.50]:pot[T.120]</th>   <td>    0.1159</td> <td>    0.108</td> <td>    1.076</td> <td> 0.282</td> <td>   -0.095</td> <td>    0.327</td>\n",
       "</tr>\n",
       "<tr>\n",
       "  <th>water[T.62.5]:pot[T.120]</th> <td>    0.0698</td> <td>    0.107</td> <td>    0.653</td> <td> 0.514</td> <td>   -0.140</td> <td>    0.279</td>\n",
       "</tr>\n",
       "<tr>\n",
       "  <th>water[T.50]:pot[T.180]</th>   <td>    0.2905</td> <td>    0.108</td> <td>    2.697</td> <td> 0.007</td> <td>    0.079</td> <td>    0.502</td>\n",
       "</tr>\n",
       "<tr>\n",
       "  <th>water[T.62.5]:pot[T.180]</th> <td>    0.2166</td> <td>    0.107</td> <td>    2.022</td> <td> 0.043</td> <td>    0.007</td> <td>    0.426</td>\n",
       "</tr>\n",
       "<tr>\n",
       "  <th>water[T.50]:pot[T.30]</th>    <td>    0.0425</td> <td>    0.110</td> <td>    0.386</td> <td> 0.699</td> <td>   -0.173</td> <td>    0.258</td>\n",
       "</tr>\n",
       "<tr>\n",
       "  <th>water[T.62.5]:pot[T.30]</th>  <td>   -0.1372</td> <td>    0.111</td> <td>   -1.241</td> <td> 0.215</td> <td>   -0.354</td> <td>    0.080</td>\n",
       "</tr>\n",
       "<tr>\n",
       "  <th>water[T.50]:pot[T.60]</th>    <td>    0.1161</td> <td>    0.108</td> <td>    1.073</td> <td> 0.283</td> <td>   -0.096</td> <td>    0.328</td>\n",
       "</tr>\n",
       "<tr>\n",
       "  <th>water[T.62.5]:pot[T.60]</th>  <td>    0.0902</td> <td>    0.107</td> <td>    0.842</td> <td> 0.400</td> <td>   -0.120</td> <td>    0.300</td>\n",
       "</tr>\n",
       "</table>\n",
       "<table class=\"simpletable\">\n",
       "<tr>\n",
       "        <td></td>          <th>coef</th>     <th>std err</th>      <th>z</th>      <th>P>|z|</th>  <th>[0.025</th>    <th>0.975]</th>  \n",
       "</tr>\n",
       "<tr>\n",
       "  <th>dispersion_1</th> <td>    2.1620</td> <td>    0.429</td> <td>    5.035</td> <td> 0.000</td> <td>    1.320</td> <td>    3.004</td>\n",
       "</tr>\n",
       "</table>\n",
       "<table class=\"simpletable\">\n",
       "<tr>\n",
       "     <td></td>       <th>coef</th>     <th>std err</th>      <th>z</th>      <th>P>|z|</th>  <th>[0.025</th>    <th>0.975]</th>  \n",
       "</tr>\n",
       "<tr>\n",
       "  <th>power_</th> <td>    1.0000</td> <td>      nan</td> <td>      nan</td> <td>   nan</td> <td>      nan</td> <td>      nan</td>\n",
       "</tr>\n",
       "</table>\n",
       "<table class=\"simpletable\">\n",
       "<caption>Multivariate Covariance Generalized Linear Model</caption>\n",
       "<tr>\n",
       "  <th>Dep. Variable:</th>    <td>viablePeas</td>    <th>  No. Iterations:    </th>    <td>10</td>    \n",
       "</tr>\n",
       "<tr>\n",
       "  <th>Model:</th>               <td>MCGLM</td>      <th>  No. Observations:  </th>    <td>75</td>    \n",
       "</tr>\n",
       "<tr>\n",
       "  <th>link:</th>                <td>logit</td>      <th>  Df Residuals:      </th>    <td>55</td>    \n",
       "</tr>\n",
       "<tr>\n",
       "  <th>variance:</th>          <td>binomialP</td>    <th>  Df Model:          </th>    <td>20</td>    \n",
       "</tr>\n",
       "<tr>\n",
       "  <th>Method:</th>        <td>Quasi-Likelihood</td> <th>  Power-fixed:       </th>   <td>True</td>   \n",
       "</tr>\n",
       "<tr>\n",
       "  <th>Date:</th>          <td>Mon, 08 Aug 2022</td> <th>  pAIC               </th>  <td>448.21</td>  \n",
       "</tr>\n",
       "<tr>\n",
       "  <th>Time:</th>              <td>19:54:33</td>     <th>  pBIC               </th>  <td>516.53</td>  \n",
       "</tr>\n",
       "<tr>\n",
       "  <th> </th>                      <td> </td>        <th>  pLogLik            </th> <td>-204.1064</td>\n",
       "</tr>\n",
       "</table>\n",
       "<table class=\"simpletable\">\n",
       "<tr>\n",
       "              <td></td>                <th>coef</th>     <th>std err</th>      <th>z</th>      <th>P>|z|</th>  <th>[0.025</th>    <th>0.975]</th>  \n",
       "</tr>\n",
       "<tr>\n",
       "  <th>Intercept</th>                <td>   -0.8360</td> <td>    0.197</td> <td>   -4.242</td> <td> 0.000</td> <td>   -1.222</td> <td>   -0.450</td>\n",
       "</tr>\n",
       "<tr>\n",
       "  <th>block[T.II]</th>              <td>   -0.4383</td> <td>    0.188</td> <td>   -2.329</td> <td> 0.020</td> <td>   -0.807</td> <td>   -0.070</td>\n",
       "</tr>\n",
       "<tr>\n",
       "  <th>block[T.III]</th>             <td>   -0.1671</td> <td>    0.183</td> <td>   -0.914</td> <td> 0.361</td> <td>   -0.525</td> <td>    0.191</td>\n",
       "</tr>\n",
       "<tr>\n",
       "  <th>block[T.IV]</th>              <td>   -0.1877</td> <td>    0.183</td> <td>   -1.023</td> <td> 0.306</td> <td>   -0.547</td> <td>    0.172</td>\n",
       "</tr>\n",
       "<tr>\n",
       "  <th>block[T.V]</th>               <td>   -0.2926</td> <td>    0.187</td> <td>   -1.564</td> <td> 0.118</td> <td>   -0.659</td> <td>    0.074</td>\n",
       "</tr>\n",
       "<tr>\n",
       "  <th>water[T.50]</th>              <td>    0.5675</td> <td>    0.218</td> <td>    2.604</td> <td> 0.009</td> <td>    0.140</td> <td>    0.995</td>\n",
       "</tr>\n",
       "<tr>\n",
       "  <th>water[T.62.5]</th>            <td>    0.2414</td> <td>    0.219</td> <td>    1.102</td> <td> 0.271</td> <td>   -0.188</td> <td>    0.671</td>\n",
       "</tr>\n",
       "<tr>\n",
       "  <th>pot[T.120]</th>               <td>   -3.3915</td> <td>    0.597</td> <td>   -5.682</td> <td> 0.000</td> <td>   -4.561</td> <td>   -2.222</td>\n",
       "</tr>\n",
       "<tr>\n",
       "  <th>pot[T.180]</th>               <td>   -3.6309</td> <td>    0.685</td> <td>   -5.300</td> <td> 0.000</td> <td>   -4.974</td> <td>   -2.288</td>\n",
       "</tr>\n",
       "<tr>\n",
       "  <th>pot[T.30]</th>                <td>   -1.8455</td> <td>    0.329</td> <td>   -5.601</td> <td> 0.000</td> <td>   -2.491</td> <td>   -1.200</td>\n",
       "</tr>\n",
       "<tr>\n",
       "  <th>pot[T.60]</th>                <td>   -3.1518</td> <td>    0.541</td> <td>   -5.826</td> <td> 0.000</td> <td>   -4.212</td> <td>   -2.091</td>\n",
       "</tr>\n",
       "<tr>\n",
       "  <th>water[T.50]:pot[T.120]</th>   <td>    0.6881</td> <td>    0.672</td> <td>    1.024</td> <td> 0.306</td> <td>   -0.629</td> <td>    2.005</td>\n",
       "</tr>\n",
       "<tr>\n",
       "  <th>water[T.62.5]:pot[T.120]</th> <td>   -0.8358</td> <td>    0.910</td> <td>   -0.918</td> <td> 0.358</td> <td>   -2.620</td> <td>    0.948</td>\n",
       "</tr>\n",
       "<tr>\n",
       "  <th>water[T.50]:pot[T.180]</th>   <td>    1.2730</td> <td>    0.735</td> <td>    1.732</td> <td> 0.083</td> <td>   -0.167</td> <td>    2.713</td>\n",
       "</tr>\n",
       "<tr>\n",
       "  <th>water[T.62.5]:pot[T.180]</th> <td>    0.0683</td> <td>    0.842</td> <td>    0.081</td> <td> 0.935</td> <td>   -1.581</td> <td>    1.718</td>\n",
       "</tr>\n",
       "<tr>\n",
       "  <th>water[T.50]:pot[T.30]</th>    <td>   -0.2773</td> <td>    0.425</td> <td>   -0.653</td> <td> 0.514</td> <td>   -1.110</td> <td>    0.555</td>\n",
       "</tr>\n",
       "<tr>\n",
       "  <th>water[T.62.5]:pot[T.30]</th>  <td>    0.8046</td> <td>    0.400</td> <td>    2.013</td> <td> 0.044</td> <td>    0.021</td> <td>    1.588</td>\n",
       "</tr>\n",
       "<tr>\n",
       "  <th>water[T.50]:pot[T.60]</th>    <td>    0.4598</td> <td>    0.622</td> <td>    0.739</td> <td> 0.460</td> <td>   -0.760</td> <td>    1.680</td>\n",
       "</tr>\n",
       "<tr>\n",
       "  <th>water[T.62.5]:pot[T.60]</th>  <td>    0.6312</td> <td>    0.630</td> <td>    1.002</td> <td> 0.316</td> <td>   -0.604</td> <td>    1.866</td>\n",
       "</tr>\n",
       "</table>\n",
       "<table class=\"simpletable\">\n",
       "<tr>\n",
       "        <td></td>          <th>coef</th>     <th>std err</th>      <th>z</th>      <th>P>|z|</th>  <th>[0.025</th>    <th>0.975]</th>  \n",
       "</tr>\n",
       "<tr>\n",
       "  <th>dispersion_1</th> <td>    1.2970</td> <td>    0.245</td> <td>    5.293</td> <td> 0.000</td> <td>    0.817</td> <td>    1.777</td>\n",
       "</tr>\n",
       "</table>\n",
       "<table class=\"simpletable\">\n",
       "<tr>\n",
       "     <td></td>       <th>coef</th>     <th>std err</th>      <th>z</th>      <th>P>|z|</th>  <th>[0.025</th>    <th>0.975]</th>  \n",
       "</tr>\n",
       "<tr>\n",
       "  <th>power_</th> <td>    1.0000</td> <td>      nan</td> <td>      nan</td> <td>   nan</td> <td>      nan</td> <td>      nan</td>\n",
       "</tr>\n",
       "</table>\n",
       "<table class=\"simpletable\">\n",
       "<tr>\n",
       "    <td></td>       <th>coef</th>     <th>std err</th>      <th>z</th>      <th>P>|z|</th>  <th>[0.025</th>    <th>0.975]</th>  \n",
       "</tr>\n",
       "<tr>\n",
       "  <th>rho_1</th> <td>    0.6368</td> <td>    0.107</td> <td>    5.928</td> <td> 0.000</td> <td>    0.426</td> <td>    0.847</td>\n",
       "</tr>\n",
       "<tr>\n",
       "  <th>rho_2</th> <td>    0.0695</td> <td>    0.115</td> <td>    0.603</td> <td> 0.546</td> <td>   -0.156</td> <td>    0.295</td>\n",
       "</tr>\n",
       "<tr>\n",
       "  <th>rho_3</th> <td>    0.0878</td> <td>    0.115</td> <td>    0.765</td> <td> 0.444</td> <td>   -0.137</td> <td>    0.313</td>\n",
       "</tr>\n",
       "</table>"
      ],
      "text/plain": [
       "<class 'statsmodels.iolib.summary.Summary'>\n",
       "\"\"\"\n",
       "               Multivariate Covariance Generalized Linear Model               \n",
       "==============================================================================\n",
       "Dep. Variable:                  grain   No. Iterations:                     10\n",
       "Model:                          MCGLM   No. Observations:                   75\n",
       "link:                        identity   Df Residuals:                       55\n",
       "variance:                    constant   Df Model:                           20\n",
       "Method:              Quasi-Likelihood   Power-fixed:                      True\n",
       "Date:                Mon, 08 Aug 2022   pAIC                            448.21\n",
       "Time:                        19:54:33   pBIC                            516.53\n",
       "                                        pLogLik                      -204.1064\n",
       "============================================================================================\n",
       "                               coef    std err          z      P>|z|      [0.025      0.975]\n",
       "--------------------------------------------------------------------------------------------\n",
       "Intercept                   14.2456      1.218     11.699      0.000      11.859      16.632\n",
       "block[T.II]                  1.1324      0.880      1.286      0.198      -0.593       2.858\n",
       "block[T.III]                -0.7801      0.880     -0.886      0.376      -2.506       0.946\n",
       "block[T.IV]                 -1.5492      0.880     -1.760      0.078      -3.275       0.176\n",
       "block[T.V]                  -2.3871      0.880     -2.711      0.007      -4.113      -0.661\n",
       "water[T.50]                  2.1661      1.531      1.415      0.157      -0.835       5.167\n",
       "water[T.62.5]                2.5404      1.531      1.659      0.097      -0.460       5.541\n",
       "pot[T.120]                  11.7898      1.531      7.701      0.000       8.789      14.790\n",
       "pot[T.180]                  11.8633      1.531      7.749      0.000       8.863      14.864\n",
       "pot[T.30]                    6.7895      1.531      4.435      0.000       3.789       9.790\n",
       "pot[T.60]                   10.3978      1.531      6.792      0.000       7.397      13.399\n",
       "water[T.50]:pot[T.120]       2.2543      2.165      1.041      0.298      -1.989       6.498\n",
       "water[T.62.5]:pot[T.120]     5.5828      2.165      2.578      0.010       1.339       9.826\n",
       "water[T.50]:pot[T.180]       1.2096      2.165      0.559      0.576      -3.034       5.453\n",
       "water[T.62.5]:pot[T.180]     9.2389      2.165      4.267      0.000       4.995      13.483\n",
       "water[T.50]:pot[T.30]        0.1067      2.165      0.049      0.961      -4.137       4.350\n",
       "water[T.62.5]:pot[T.30]     -1.8678      2.165     -0.863      0.388      -6.112       2.376\n",
       "water[T.50]:pot[T.60]        2.6034      2.165      1.202      0.229      -1.640       6.847\n",
       "water[T.62.5]:pot[T.60]      3.3586      2.165      1.551      0.121      -0.885       7.602\n",
       "================================================================================\n",
       "                   coef    std err          z      P>|z|      [0.025      0.975]\n",
       "--------------------------------------------------------------------------------\n",
       "dispersion_1     5.8620      1.671      3.508      0.000       2.587       9.137\n",
       "==============================================================================\n",
       "                 coef    std err          z      P>|z|      [0.025      0.975]\n",
       "------------------------------------------------------------------------------\n",
       "power_         1.0000        nan        nan        nan         nan         nan\n",
       "               Multivariate Covariance Generalized Linear Model               \n",
       "==============================================================================\n",
       "Dep. Variable:                  seeds   No. Iterations:                     10\n",
       "Model:                          MCGLM   No. Observations:                   75\n",
       "link:                             log   Df Residuals:                       55\n",
       "variance:                     tweedie   Df Model:                           20\n",
       "Method:              Quasi-Likelihood   Power-fixed:                      True\n",
       "Date:                Mon, 08 Aug 2022   pAIC                            448.21\n",
       "Time:                        19:54:33   pBIC                            516.53\n",
       "                                        pLogLik                      -204.1064\n",
       "============================================================================================\n",
       "                               coef    std err          z      P>|z|      [0.025      0.975]\n",
       "--------------------------------------------------------------------------------------------\n",
       "Intercept                    4.8074      0.066     73.099      0.000       4.679       4.936\n",
       "block[T.II]                 -0.0182      0.039     -0.469      0.639      -0.094       0.058\n",
       "block[T.III]                -0.0330      0.039     -0.845      0.398      -0.110       0.044\n",
       "block[T.IV]                 -0.1066      0.040     -2.678      0.007      -0.185      -0.029\n",
       "block[T.V]                  -0.1262      0.040     -3.154      0.002      -0.205      -0.048\n",
       "water[T.50]                  0.1322      0.084      1.579      0.114      -0.032       0.296\n",
       "water[T.62.5]                0.1864      0.083      2.255      0.024       0.024       0.348\n",
       "pot[T.120]                   0.3672      0.079      4.620      0.000       0.211       0.523\n",
       "pot[T.180]                   0.2945      0.081      3.649      0.000       0.136       0.453\n",
       "pot[T.30]                    0.2980      0.081      3.695      0.000       0.140       0.456\n",
       "pot[T.60]                    0.3444      0.080      4.312      0.000       0.188       0.501\n",
       "water[T.50]:pot[T.120]       0.1159      0.108      1.076      0.282      -0.095       0.327\n",
       "water[T.62.5]:pot[T.120]     0.0698      0.107      0.653      0.514      -0.140       0.279\n",
       "water[T.50]:pot[T.180]       0.2905      0.108      2.697      0.007       0.079       0.502\n",
       "water[T.62.5]:pot[T.180]     0.2166      0.107      2.022      0.043       0.007       0.426\n",
       "water[T.50]:pot[T.30]        0.0425      0.110      0.386      0.699      -0.173       0.258\n",
       "water[T.62.5]:pot[T.30]     -0.1372      0.111     -1.241      0.215      -0.354       0.080\n",
       "water[T.50]:pot[T.60]        0.1161      0.108      1.073      0.283      -0.096       0.328\n",
       "water[T.62.5]:pot[T.60]      0.0902      0.107      0.842      0.400      -0.120       0.300\n",
       "================================================================================\n",
       "                   coef    std err          z      P>|z|      [0.025      0.975]\n",
       "--------------------------------------------------------------------------------\n",
       "dispersion_1     2.1620      0.429      5.035      0.000       1.320       3.004\n",
       "==============================================================================\n",
       "                 coef    std err          z      P>|z|      [0.025      0.975]\n",
       "------------------------------------------------------------------------------\n",
       "power_         1.0000        nan        nan        nan         nan         nan\n",
       "               Multivariate Covariance Generalized Linear Model               \n",
       "==============================================================================\n",
       "Dep. Variable:             viablePeas   No. Iterations:                     10\n",
       "Model:                          MCGLM   No. Observations:                   75\n",
       "link:                           logit   Df Residuals:                       55\n",
       "variance:                   binomialP   Df Model:                           20\n",
       "Method:              Quasi-Likelihood   Power-fixed:                      True\n",
       "Date:                Mon, 08 Aug 2022   pAIC                            448.21\n",
       "Time:                        19:54:33   pBIC                            516.53\n",
       "                                        pLogLik                      -204.1064\n",
       "============================================================================================\n",
       "                               coef    std err          z      P>|z|      [0.025      0.975]\n",
       "--------------------------------------------------------------------------------------------\n",
       "Intercept                   -0.8360      0.197     -4.242      0.000      -1.222      -0.450\n",
       "block[T.II]                 -0.4383      0.188     -2.329      0.020      -0.807      -0.070\n",
       "block[T.III]                -0.1671      0.183     -0.914      0.361      -0.525       0.191\n",
       "block[T.IV]                 -0.1877      0.183     -1.023      0.306      -0.547       0.172\n",
       "block[T.V]                  -0.2926      0.187     -1.564      0.118      -0.659       0.074\n",
       "water[T.50]                  0.5675      0.218      2.604      0.009       0.140       0.995\n",
       "water[T.62.5]                0.2414      0.219      1.102      0.271      -0.188       0.671\n",
       "pot[T.120]                  -3.3915      0.597     -5.682      0.000      -4.561      -2.222\n",
       "pot[T.180]                  -3.6309      0.685     -5.300      0.000      -4.974      -2.288\n",
       "pot[T.30]                   -1.8455      0.329     -5.601      0.000      -2.491      -1.200\n",
       "pot[T.60]                   -3.1518      0.541     -5.826      0.000      -4.212      -2.091\n",
       "water[T.50]:pot[T.120]       0.6881      0.672      1.024      0.306      -0.629       2.005\n",
       "water[T.62.5]:pot[T.120]    -0.8358      0.910     -0.918      0.358      -2.620       0.948\n",
       "water[T.50]:pot[T.180]       1.2730      0.735      1.732      0.083      -0.167       2.713\n",
       "water[T.62.5]:pot[T.180]     0.0683      0.842      0.081      0.935      -1.581       1.718\n",
       "water[T.50]:pot[T.30]       -0.2773      0.425     -0.653      0.514      -1.110       0.555\n",
       "water[T.62.5]:pot[T.30]      0.8046      0.400      2.013      0.044       0.021       1.588\n",
       "water[T.50]:pot[T.60]        0.4598      0.622      0.739      0.460      -0.760       1.680\n",
       "water[T.62.5]:pot[T.60]      0.6312      0.630      1.002      0.316      -0.604       1.866\n",
       "================================================================================\n",
       "                   coef    std err          z      P>|z|      [0.025      0.975]\n",
       "--------------------------------------------------------------------------------\n",
       "dispersion_1     1.2970      0.245      5.293      0.000       0.817       1.777\n",
       "==============================================================================\n",
       "                 coef    std err          z      P>|z|      [0.025      0.975]\n",
       "------------------------------------------------------------------------------\n",
       "power_         1.0000        nan        nan        nan         nan         nan\n",
       "==============================================================================\n",
       "                 coef    std err          z      P>|z|      [0.025      0.975]\n",
       "------------------------------------------------------------------------------\n",
       "rho_1          0.6368      0.107      5.928      0.000       0.426       0.847\n",
       "rho_2          0.0695      0.115      0.603      0.546      -0.156       0.295\n",
       "rho_3          0.0878      0.115      0.765      0.444      -0.137       0.313\n",
       "==============================================================================\n",
       "\"\"\""
      ]
     },
     "execution_count": 180,
     "metadata": {},
     "output_type": "execute_result"
    }
   ],
   "source": [
    "mcglmresults.summary()"
   ]
  },
  {
   "cell_type": "markdown",
   "metadata": {},
   "source": [
    "The three responses have generated a three-section report. As it follows, a analysis per response.\n",
    "\n",
    "---\n",
    "`grain` size.\n",
    "\n",
    "The grain response was fitted with default parameters, `identity` and `constant`, generating a near homoscedastic linear model. Among covariates `block`, `water` and `potassium`, by Wald test, potassium levels are statistically significant for the model; the higher potassium level, bigger grain size. Variance constant on 5.862.   \n",
    "\n",
    "Residual analysis:"
   ]
  },
  {
   "cell_type": "code",
   "execution_count": 181,
   "metadata": {},
   "outputs": [
    {
     "data": {
      "text/plain": [
       "Text(0, 0.5, 'pearson residual')"
      ]
     },
     "execution_count": 181,
     "metadata": {},
     "output_type": "execute_result"
    },
    {
     "data": {
      "image/png": "[encoded data removed]",
      "text/plain": [
       "<Figure size 432x288 with 1 Axes>"
      ]
     },
     "metadata": {
      "needs_background": "light"
     },
     "output_type": "display_data"
    }
   ],
   "source": [
    "# grain. residual analysis\n",
    "plt.scatter(mcglmresults.mu[0], mcglmresults.pearson_residuals[0])\n",
    "plt.xlabel(\"mu\")\n",
    "plt.ylabel(\"pearson residual\")"
   ]
  },
  {
   "cell_type": "markdown",
   "metadata": {},
   "source": [
    "Despite the outlier, the fit seems pretty good."
   ]
  },
  {
   "cell_type": "markdown",
   "metadata": {},
   "source": [
    "---\n",
    "`seed` count.\n",
    "\n",
    "As long as seed is a count variable, a straightforward and canonical way to model it is Poisson. Two out of three covariates are statistically significant on `seed`: potassium, for every level; and black for level V.\n",
    "\n",
    "Residual analysis:"
   ]
  },
  {
   "cell_type": "code",
   "execution_count": 182,
   "metadata": {},
   "outputs": [
    {
     "data": {
      "text/plain": [
       "Text(0, 0.5, 'pearson residual')"
      ]
     },
     "execution_count": 182,
     "metadata": {},
     "output_type": "execute_result"
    },
    {
     "data": {
      "image/png": "[encoded data removed]",
      "text/plain": [
       "<Figure size 432x288 with 1 Axes>"
      ]
     },
     "metadata": {
      "needs_background": "light"
     },
     "output_type": "display_data"
    }
   ],
   "source": [
    "# seeds. residual analysis\n",
    "plt.scatter(mcglmresults.mu[1], mcglmresults.pearson_residuals[1])\n",
    "plt.xlabel(\"mu\")\n",
    "plt.ylabel(\"pearson residual\")"
   ]
  },
  {
   "cell_type": "markdown",
   "metadata": {},
   "source": [
    "Notwithstanding the outlier, the fit seems pretty good.\n",
    "\n",
    "---\n",
    "Percentage of `viable peas`.\n",
    "\n",
    "Binomial N trials is the adequate model for bounded data. Perhaps, the most popular solution to fit is the `Logit` link, the one used. Among covariates, only potassium level 30, and water level 50 are statistically significant with Viable Peas.\n",
    "\n",
    "Residual Analysis:"
   ]
  },
  {
   "cell_type": "code",
   "execution_count": 183,
   "metadata": {},
   "outputs": [
    {
     "data": {
      "text/plain": [
       "Text(0, 0.5, 'pearson residual')"
      ]
     },
     "execution_count": 183,
     "metadata": {},
     "output_type": "execute_result"
    },
    {
     "data": {
      "image/png": "[encoded data removed]",
      "text/plain": [
       "<Figure size 432x288 with 1 Axes>"
      ]
     },
     "metadata": {
      "needs_background": "light"
     },
     "output_type": "display_data"
    }
   ],
   "source": [
    "# viablepeasP. residual analysis\n",
    "plt.scatter(mcglmresults.mu[2], mcglmresults.pearson_residuals[2])\n",
    "plt.xlabel(\"mu\")\n",
    "plt.ylabel(\"pearson residual\")"
   ]
  },
  {
   "cell_type": "markdown",
   "metadata": {},
   "source": [
    "The model has not fitted well. It is possible to try out different values for link and variance functions. Suppose it does not improve the model fit. In that case, it will let us conclude a non-assessment for the percentage of viable peas from current covariates.   \n",
    "\n",
    "The last three components rhos allude to the correlation coefficient among responses. \n",
    " * rho_1 stands for grain size and whole seeds, with a considerable Pearson correlation of 0.63.\n",
    " * rho_2 and rho_3 stand for correlation between grain size and viable peas, seed count, and viable peas, respectively. Both correlations are low. "
   ]
  }
 ],
 "metadata": {
  "kernelspec": {
   "display_name": "Python 3.9.5 64-bit ('master_thesis': venv)",
   "language": "python",
   "name": "python3"
  },
  "language_info": {
   "codemirror_mode": {
    "name": "ipython",
    "version": 3
   },
   "file_extension": ".py",
   "mimetype": "text/x-python",
   "name": "python",
   "nbconvert_exporter": "python",
   "pygments_lexer": "ipython3",
   "version": "3.9.5"
  },
  "orig_nbformat": 4,
  "vscode": {
   "interpreter": {
    "hash": "292a92f942c44310edbaf6ce4db4e4ccb458e054a9c180d41d409955ea285efe"
   }
  }
 },
 "nbformat": 4,
 "nbformat_minor": 2
}
